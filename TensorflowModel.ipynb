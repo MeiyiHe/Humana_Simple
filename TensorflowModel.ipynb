{
 "cells": [
  {
   "cell_type": "code",
   "execution_count": 1,
   "metadata": {},
   "outputs": [
    {
     "name": "stderr",
     "output_type": "stream",
     "text": [
      "/anaconda3/lib/python3.6/site-packages/h5py/__init__.py:36: FutureWarning: Conversion of the second argument of issubdtype from `float` to `np.floating` is deprecated. In future, it will be treated as `np.float64 == np.dtype(float).type`.\n",
      "  from ._conv import register_converters as _register_converters\n"
     ]
    }
   ],
   "source": [
    "from sklearn.linear_model import *\n",
    "from sklearn.model_selection import train_test_split\n",
    "from sklearn.metrics import accuracy_score\n",
    "\n",
    "import numpy as np\n",
    "import pandas as pd\n",
    "\n",
    "\n",
    "import tensorflow as tf"
   ]
  },
  {
   "cell_type": "code",
   "execution_count": 23,
   "metadata": {},
   "outputs": [],
   "source": [
    "data_file = pd.read_csv(\"../TAMU_FINAL_DATASET_2018.csv\")"
   ]
  },
  {
   "cell_type": "code",
   "execution_count": 144,
   "metadata": {},
   "outputs": [],
   "source": [
    "# only select the numeric data\n",
    "df = data_file.select_dtypes(include=['float64','int64'])\n",
    "categorical_data = data_file.select_dtypes(exclude=['float64','int64'])\n",
    "categorical_df = pd.DataFrame()\n",
    "for column in categorical_data.columns:\n",
    "    dummies = pd.get_dummies(categorical_data[column], prefix=column)\n",
    "    categorical_df = pd.concat([categorical_df, dummies], axis=1)\n",
    "#df = pd.concat([df['AMI_FLAG'], categorical_df], axis=1)\n",
    "df = pd.concat([df, categorical_df], axis=1)"
   ]
  },
  {
   "cell_type": "code",
   "execution_count": 145,
   "metadata": {},
   "outputs": [
    {
     "data": {
      "text/plain": [
       "(100000, 469)"
      ]
     },
     "execution_count": 145,
     "metadata": {},
     "output_type": "execute_result"
    }
   ],
   "source": [
    "df.shape"
   ]
  },
  {
   "cell_type": "code",
   "execution_count": 142,
   "metadata": {},
   "outputs": [
    {
     "name": "stdout",
     "output_type": "stream",
     "text": [
      "(2726, 469)\n",
      "(2726, 469)\n",
      "\n",
      "(5452, 469)\n",
      "(4044, 469)\n",
      "(4044, 468)\n",
      "(4044,)\n"
     ]
    }
   ],
   "source": [
    "sum(df['AMI_FLAG'] == 1)\n",
    "df_AMI = df[df['AMI_FLAG'] == 1]\n",
    "df_NOAMI = df[df['AMI_FLAG'] == 0]\n",
    "df_NOAMI_sample = df_NOAMI.sample(2726)\n",
    "print(df_AMI.shape)\n",
    "print(df_NOAMI_sample.shape)\n",
    "\n",
    "print()\n",
    "df = pd.concat([df_AMI, df_NOAMI_sample], axis = 0)\n",
    "# drop the null value \n",
    "\n",
    "print(df.shape)\n",
    "df = df.dropna()\n",
    "print(df.shape)\n",
    "\n",
    "# define the target we would like to predict \n",
    "y = df['AMI_FLAG']\n",
    "\n",
    "X = df.loc[:, df.columns != 'AMI_FLAG']\n",
    "\n",
    "# sanity check on X, y dimensions \n",
    "print(X.shape)\n",
    "print(y.shape)\n",
    "\n",
    "# split training and testing data\n",
    "\n",
    "X_train, X_test, y_train, y_test = train_test_split(X, y, test_size = 0.33, random_state=42)"
   ]
  },
  {
   "cell_type": "code",
   "execution_count": 6,
   "metadata": {},
   "outputs": [
    {
     "name": "stdout",
     "output_type": "stream",
     "text": [
      "x:  Tensor(\"Placeholder:0\", shape=(?, 468), dtype=float32)\n",
      "logits:  Tensor(\"fully_connected/Elu:0\", shape=(?, 128), dtype=float32)\n",
      "loss:  Tensor(\"Mean:0\", shape=(), dtype=float32)\n",
      "predicted_labels:  Tensor(\"ArgMax:0\", shape=(?,), dtype=int64)\n"
     ]
    }
   ],
   "source": [
    "# modeling \n",
    "\n",
    "x = tf.placeholder(dtype = tf.float32, shape = [None, 468])\n",
    "y = tf.placeholder(dtype = tf.int32, shape = [None])\n",
    "\n",
    "\n",
    "# tanh, elu, selu, softplus, and softsign\n",
    "\n",
    "#logits = tf.contrib.layers.fully_connected(x, 128, tf.nn.relu)\n",
    "#logits = tf.contrib.layers.fully_connected(x, 128, tf.nn.tanh)\n",
    "#logits = tf.contrib.layers.fully_connected(x, 128, tf.nn.selu)\n",
    "\n",
    "\n",
    "#logits = tf.contrib.layers.fully_connected(x, 128, tf.nn.softplus)\n",
    "logits = tf.contrib.layers.fully_connected(x, 128, tf.nn.elu)\n",
    "\n",
    "\n",
    "loss = tf.reduce_mean(tf.nn.sparse_softmax_cross_entropy_with_logits(labels = y, logits = logits))\n",
    "train_op = tf.train.AdamOptimizer(learning_rate=0.001).minimize(loss)\n",
    "correct_pred = tf.argmax(logits, 1)\n",
    "accuracy = tf.reduce_mean(tf.cast(correct_pred, tf.float32))\n",
    "\n",
    "print(\"x: \", x)\n",
    "print(\"logits: \", logits)\n",
    "print(\"loss: \", loss)\n",
    "print(\"predicted_labels: \", correct_pred)"
   ]
  },
  {
   "cell_type": "code",
   "execution_count": 7,
   "metadata": {},
   "outputs": [
    {
     "name": "stdout",
     "output_type": "stream",
     "text": [
      "Loss:  Tensor(\"Mean:0\", shape=(), dtype=float32)\n",
      "Loss:  Tensor(\"Mean:0\", shape=(), dtype=float32)\n",
      "Loss:  Tensor(\"Mean:0\", shape=(), dtype=float32)\n",
      "Loss:  Tensor(\"Mean:0\", shape=(), dtype=float32)\n",
      "Loss:  Tensor(\"Mean:0\", shape=(), dtype=float32)\n"
     ]
    }
   ],
   "source": [
    "sess = tf.Session()\n",
    "\n",
    "sess.run(tf.global_variables_initializer())\n",
    "\n",
    "for i in range(201):\n",
    "        #print('EPOCH', i)\n",
    "        _, accuracy_val = sess.run([train_op, accuracy], feed_dict={x: X_train, y: y_train})\n",
    "        if i % 50 == 0:\n",
    "            print(\"Loss: \", loss)\n",
    "        #print('DONE WITH EPOCH')"
   ]
  },
  {
   "cell_type": "code",
   "execution_count": 8,
   "metadata": {},
   "outputs": [
    {
     "name": "stdout",
     "output_type": "stream",
     "text": [
      "Accuracy: 0.485\n"
     ]
    }
   ],
   "source": [
    "\n",
    "predicted = sess.run([correct_pred], feed_dict={x: X_train})[0]\n",
    "\n",
    "# Calculate correct matches \n",
    "match_count = sum([int(y == y_) for y, y_ in zip(y_train, predicted)])\n",
    "\n",
    "# Calculate the accuracy\n",
    "accuracy = match_count / len(X_train)\n",
    "\n",
    "# Print the accuracy\n",
    "print(\"Accuracy: {:.3f}\".format(accuracy))\n"
   ]
  },
  {
   "cell_type": "code",
   "execution_count": 9,
   "metadata": {},
   "outputs": [
    {
     "name": "stdout",
     "output_type": "stream",
     "text": [
      "Accuracy: 0.515\n"
     ]
    }
   ],
   "source": [
    "\n",
    "\n",
    "predicted = sess.run([correct_pred], feed_dict={x: X_test})[0]\n",
    "\n",
    "# Calculate correct matches \n",
    "match_count = sum([int(y == y_) for y, y_ in zip(y_test, predicted)])\n",
    "\n",
    "# Calculate the accuracy\n",
    "accuracy = match_count / len(y_test)\n",
    "\n",
    "# Print the accuracy\n",
    "print(\"Accuracy: {:.3f}\".format(accuracy))"
   ]
  },
  {
   "cell_type": "code",
   "execution_count": 10,
   "metadata": {},
   "outputs": [
    {
     "name": "stdout",
     "output_type": "stream",
     "text": [
      "1.0\n",
      "0.5834586466165413\n"
     ]
    }
   ],
   "source": [
    "# try some other sklearn model here\n",
    "\n",
    "from sklearn.tree import DecisionTreeClassifier\n",
    "\n",
    "clf = DecisionTreeClassifier(random_state=0)\n",
    "clf.fit(X_train, y_train)\n",
    "\n",
    "\n",
    "\n",
    "pred_train = clf.predict(X_train)\n",
    "pred_test = clf.predict(X_test)\n",
    "print(accuracy_score(y_train, pred_train))\n",
    "print(accuracy_score(y_test, pred_test))\n"
   ]
  },
  {
   "cell_type": "code",
   "execution_count": 11,
   "metadata": {},
   "outputs": [
    {
     "name": "stdout",
     "output_type": "stream",
     "text": [
      "finish fitting data\n",
      "1.0\n",
      "0.4857142857142857\n"
     ]
    }
   ],
   "source": [
    "\n",
    "from sklearn.svm import SVC\n",
    "\n",
    "clf = SVC(kernel='rbf', gamma='auto')\n",
    "clf.fit(X_train, y_train)\n",
    "\n",
    "print('finish fitting data')\n",
    "\n",
    "\n",
    "pred_train = clf.predict(X_train)\n",
    "\n",
    "pred_test = clf.predict(X_test)\n",
    "print(accuracy_score(y_train, pred_train))\n",
    "print(accuracy_score(y_test, pred_test))\n",
    "\n"
   ]
  },
  {
   "cell_type": "code",
   "execution_count": 27,
   "metadata": {},
   "outputs": [
    {
     "name": "stdout",
     "output_type": "stream",
     "text": [
      "[0.00374554 0.00859602 0.         0.0339105  0.05324008 0.\n",
      " 0.         0.         0.0014445  0.         0.         0.\n",
      " 0.00292562 0.00081044 0.00426018 0.         0.         0.\n",
      " 0.         0.         0.         0.         0.         0.\n",
      " 0.00071658 0.00255474 0.00098884 0.         0.00077617 0.\n",
      " 0.         0.00169805 0.         0.         0.         0.00141262\n",
      " 0.01717393 0.00461231 0.00300986 0.00567186 0.         0.\n",
      " 0.         0.         0.         0.         0.         0.\n",
      " 0.         0.         0.0008785  0.00309341 0.         0.\n",
      " 0.         0.         0.         0.0096721  0.01314899 0.\n",
      " 0.         0.00362936 0.00085036 0.         0.00724292 0.00070613\n",
      " 0.         0.         0.00782428 0.         0.         0.\n",
      " 0.00314188 0.         0.         0.         0.00569966 0.\n",
      " 0.         0.00893961 0.         0.         0.00073345 0.\n",
      " 0.         0.         0.         0.         0.         0.\n",
      " 0.         0.         0.         0.         0.         0.\n",
      " 0.         0.00060753 0.00227425 0.         0.         0.\n",
      " 0.         0.00058763 0.         0.00548327 0.         0.\n",
      " 0.         0.         0.         0.         0.         0.\n",
      " 0.         0.         0.         0.         0.         0.\n",
      " 0.         0.         0.         0.         0.         0.\n",
      " 0.         0.         0.         0.         0.         0.\n",
      " 0.         0.         0.00211297 0.         0.         0.\n",
      " 0.         0.00500119 0.         0.         0.00452565 0.00434532\n",
      " 0.         0.0017711  0.00140029 0.         0.         0.01647434\n",
      " 0.         0.         0.00690451 0.         0.03842401 0.\n",
      " 0.         0.         0.0081228  0.00108248 0.         0.\n",
      " 0.         0.         0.         0.00097973 0.         0.\n",
      " 0.         0.00108929 0.00496043 0.         0.         0.\n",
      " 0.00381436 0.00382546 0.00359758 0.         0.         0.\n",
      " 0.         0.         0.         0.         0.         0.\n",
      " 0.         0.         0.         0.         0.         0.\n",
      " 0.         0.         0.         0.         0.         0.\n",
      " 0.         0.         0.         0.         0.         0.\n",
      " 0.         0.         0.         0.         0.00076398 0.\n",
      " 0.         0.         0.         0.         0.         0.\n",
      " 0.         0.         0.         0.         0.0017835  0.00515892\n",
      " 0.         0.00336772 0.         0.         0.         0.\n",
      " 0.         0.         0.         0.         0.         0.\n",
      " 0.         0.         0.         0.         0.         0.\n",
      " 0.         0.         0.         0.         0.         0.\n",
      " 0.         0.         0.         0.         0.         0.\n",
      " 0.         0.         0.         0.         0.         0.\n",
      " 0.         0.         0.         0.         0.         0.\n",
      " 0.         0.         0.         0.         0.         0.\n",
      " 0.         0.         0.         0.         0.         0.\n",
      " 0.         0.         0.         0.         0.         0.\n",
      " 0.         0.         0.         0.         0.         0.\n",
      " 0.00096112 0.00035643 0.         0.00894257 0.         0.00109246\n",
      " 0.00037858 0.         0.         0.00459471 0.00210336 0.00076865\n",
      " 0.00427615 0.00162392 0.         0.00051444 0.00084598 0.02200376\n",
      " 0.00193316 0.00095185 0.         0.         0.         0.\n",
      " 0.00073873 0.         0.         0.         0.         0.\n",
      " 0.         0.0075779  0.         0.00105053 0.02472283 0.02371049\n",
      " 0.         0.         0.         0.         0.00081507 0.\n",
      " 0.         0.         0.01245885 0.         0.         0.\n",
      " 0.         0.00033183 0.         0.         0.         0.00032539\n",
      " 0.         0.         0.         0.         0.         0.00155323\n",
      " 0.         0.         0.         0.         0.         0.\n",
      " 0.         0.         0.         0.         0.00170743 0.\n",
      " 0.         0.         0.         0.         0.         0.\n",
      " 0.         0.         0.         0.         0.         0.\n",
      " 0.         0.         0.         0.         0.         0.\n",
      " 0.05897053 0.07004753 0.03767672 0.00892688 0.07027447 0.04852253\n",
      " 0.02878626 0.         0.         0.03856036 0.0017493  0.\n",
      " 0.02308863 0.046452   0.         0.00942282 0.         0.0154402\n",
      " 0.01416631 0.00089569 0.         0.         0.00101281 0.\n",
      " 0.         0.00513796 0.00094392 0.         0.         0.\n",
      " 0.         0.         0.         0.         0.         0.\n",
      " 0.00090264 0.         0.         0.         0.         0.\n",
      " 0.00165873 0.         0.         0.         0.00078064 0.\n",
      " 0.00504217 0.         0.00047406 0.         0.         0.\n",
      " 0.         0.         0.         0.         0.02128473 0.007955\n",
      " 0.         0.         0.         0.         0.00126571 0.\n",
      " 0.         0.         0.         0.         0.         0.\n",
      " 0.         0.         0.         0.         0.         0.\n",
      " 0.         0.         0.01265518 0.         0.         0.\n",
      " 0.         0.         0.         0.         0.         0.        ]\n",
      "0.6827458256029685\n",
      "0.6400602409638554\n"
     ]
    }
   ],
   "source": [
    "from sklearn.ensemble import RandomForestClassifier\n",
    "from sklearn.datasets import make_classification\n",
    "\n",
    "\n",
    "clf = RandomForestClassifier(n_estimators=100, max_depth=2, criterion='entropy', random_state=0)\n",
    "clf.fit(X_train, y_train)\n",
    "\n",
    "\n",
    "\n",
    "print(clf.feature_importances_)\n",
    "\n",
    "\n",
    "pred_train = clf.predict(X_train)\n",
    "pred_test = clf.predict(X_test)\n",
    "print(accuracy_score(y_train, pred_train))\n",
    "print(accuracy_score(y_test, pred_test))"
   ]
  },
  {
   "cell_type": "code",
   "execution_count": 28,
   "metadata": {},
   "outputs": [],
   "source": [
    "important = clf.feature_importances_\n",
    "extractedIdx = np.nonzero(important)"
   ]
  },
  {
   "cell_type": "code",
   "execution_count": 29,
   "metadata": {},
   "outputs": [
    {
     "name": "stdout",
     "output_type": "stream",
     "text": [
      "109\n"
     ]
    },
    {
     "data": {
      "text/plain": [
       "(array([  0,   1,   3,   4,   8,  12,  13,  14,  24,  25,  26,  28,  31,\n",
       "         35,  36,  37,  38,  39,  50,  51,  57,  58,  61,  62,  64,  65,\n",
       "         68,  72,  76,  79,  82,  97,  98, 103, 105, 134, 139, 142, 143,\n",
       "        145, 146, 149, 152, 154, 158, 159, 165, 169, 170, 174, 175, 176,\n",
       "        208, 220, 221, 223, 288, 289, 291, 293, 294, 297, 298, 299, 300,\n",
       "        301, 303, 304, 305, 306, 307, 312, 319, 321, 322, 323, 328, 332,\n",
       "        337, 341, 347, 358, 378, 379, 380, 381, 382, 383, 384, 387, 388,\n",
       "        390, 391, 393, 395, 396, 397, 400, 403, 404, 414, 420, 424, 426,\n",
       "        428, 436, 437, 442, 458]),)"
      ]
     },
     "execution_count": 29,
     "metadata": {},
     "output_type": "execute_result"
    }
   ],
   "source": [
    "print(len(extractedIdx[0]))\n",
    "extractedIdx"
   ]
  },
  {
   "cell_type": "code",
   "execution_count": 21,
   "metadata": {},
   "outputs": [
    {
     "name": "stdout",
     "output_type": "stream",
     "text": [
      "107\n"
     ]
    },
    {
     "data": {
      "text/plain": [
       "(array([  0,   1,   2,   3,   4,   7,   8,  10,  12,  15,  25,  26,  35,\n",
       "         36,  37,  39,  40,  46,  55,  56,  57,  58,  62,  63,  64,  65,\n",
       "         66,  67,  68,  69,  79,  82,  93,  97,  98, 100, 105, 118, 134,\n",
       "        139, 142, 143, 145, 146, 148, 149, 151, 152, 154, 158, 159, 161,\n",
       "        170, 174, 175, 219, 221, 291, 296, 297, 298, 299, 300, 301, 304,\n",
       "        305, 306, 307, 310, 312, 313, 319, 322, 323, 332, 334, 336, 346,\n",
       "        378, 379, 380, 381, 382, 383, 387, 388, 390, 391, 393, 395, 396,\n",
       "        397, 403, 409, 410, 412, 414, 416, 417, 419, 423, 424, 426, 434,\n",
       "        436, 437, 458]),)"
      ]
     },
     "execution_count": 21,
     "metadata": {},
     "output_type": "execute_result"
    }
   ],
   "source": [
    "# previously\n",
    "print(len(extractedIdx[0]))\n",
    "extractedIdx"
   ]
  },
  {
   "cell_type": "code",
   "execution_count": 56,
   "metadata": {},
   "outputs": [
    {
     "name": "stdout",
     "output_type": "stream",
     "text": [
      "ID\n",
      "109\n"
     ]
    }
   ],
   "source": [
    "print(df.columns[0])\n",
    "extracted_name = []\n",
    "for idx in extractedIdx:\n",
    "    extracted_name.append(df.columns[idx])\n",
    "\n",
    "print(len(extracted_name[0]))\n",
    "lst = list(extracted_name[0])\n",
    "newDF = df[lst].copy()"
   ]
  },
  {
   "cell_type": "code",
   "execution_count": 57,
   "metadata": {},
   "outputs": [
    {
     "name": "stdout",
     "output_type": "stream",
     "text": [
      "Index(['ID', 'AGE', 'ORIG_REAS_ENTITLE_CD', 'RECON_MA_RISK_SCORE_NBR',\n",
      "       'CON_VISIT_04_Q03', 'CON_VISIT_21_Q03', 'CON_VISIT_03_Q02',\n",
      "       'CON_VISIT_03_Q04', 'CON_VISIT_30_Q02', 'CON_VISIT_30_Q04',\n",
      "       ...\n",
      "       'Length_residence', 'Est_Net_worth', 'CDC', 'CDC_EYE_GAP', 'BCS_GAP',\n",
      "       'COL_GAP', 'STATIN_ELIG', 'SEX_CD_F', 'HOSPICE_IND_Y',\n",
      "       'Diab_Type_Diabetes Type I'],\n",
      "      dtype='object', length=109)\n"
     ]
    }
   ],
   "source": [
    "print(newDF.columns)"
   ]
  },
  {
   "cell_type": "code",
   "execution_count": null,
   "metadata": {},
   "outputs": [],
   "source": [
    "# CON_VISIT 11, 22; POT_VISIT_65_Q02 - Q03; \n",
    "# Population_density_centile_US; RENAL; Diab_Type_Diabetes Type I; \n",
    "# DIABETES\n",
    "newDF['']"
   ]
  },
  {
   "cell_type": "code",
   "execution_count": null,
   "metadata": {},
   "outputs": [],
   "source": []
  },
  {
   "cell_type": "code",
   "execution_count": 58,
   "metadata": {},
   "outputs": [
    {
     "data": {
      "text/html": [
       "<div>\n",
       "<style scoped>\n",
       "    .dataframe tbody tr th:only-of-type {\n",
       "        vertical-align: middle;\n",
       "    }\n",
       "\n",
       "    .dataframe tbody tr th {\n",
       "        vertical-align: top;\n",
       "    }\n",
       "\n",
       "    .dataframe thead th {\n",
       "        text-align: right;\n",
       "    }\n",
       "</style>\n",
       "<table border=\"1\" class=\"dataframe\">\n",
       "  <thead>\n",
       "    <tr style=\"text-align: right;\">\n",
       "      <th></th>\n",
       "      <th>ID</th>\n",
       "      <th>AGE</th>\n",
       "      <th>ORIG_REAS_ENTITLE_CD</th>\n",
       "      <th>RECON_MA_RISK_SCORE_NBR</th>\n",
       "      <th>CON_VISIT_04_Q03</th>\n",
       "      <th>CON_VISIT_21_Q03</th>\n",
       "      <th>CON_VISIT_03_Q02</th>\n",
       "      <th>CON_VISIT_03_Q04</th>\n",
       "      <th>CON_VISIT_30_Q02</th>\n",
       "      <th>CON_VISIT_30_Q04</th>\n",
       "      <th>...</th>\n",
       "      <th>Length_residence</th>\n",
       "      <th>Est_Net_worth</th>\n",
       "      <th>CDC</th>\n",
       "      <th>CDC_EYE_GAP</th>\n",
       "      <th>BCS_GAP</th>\n",
       "      <th>COL_GAP</th>\n",
       "      <th>STATIN_ELIG</th>\n",
       "      <th>SEX_CD_F</th>\n",
       "      <th>HOSPICE_IND_Y</th>\n",
       "      <th>Diab_Type_Diabetes Type I</th>\n",
       "    </tr>\n",
       "  </thead>\n",
       "  <tbody>\n",
       "    <tr>\n",
       "      <th>count</th>\n",
       "      <td>4023.000000</td>\n",
       "      <td>4023.000000</td>\n",
       "      <td>4023.000000</td>\n",
       "      <td>4023.000000</td>\n",
       "      <td>4023.000000</td>\n",
       "      <td>4023.000000</td>\n",
       "      <td>4023.000000</td>\n",
       "      <td>4023.000000</td>\n",
       "      <td>4023.000000</td>\n",
       "      <td>4023.000000</td>\n",
       "      <td>...</td>\n",
       "      <td>4023.000000</td>\n",
       "      <td>4023.000000</td>\n",
       "      <td>4023.000000</td>\n",
       "      <td>4023.000000</td>\n",
       "      <td>4023.000000</td>\n",
       "      <td>4023.000000</td>\n",
       "      <td>4023.000000</td>\n",
       "      <td>4023.00000</td>\n",
       "      <td>4023.000000</td>\n",
       "      <td>4023.000000</td>\n",
       "    </tr>\n",
       "    <tr>\n",
       "      <th>mean</th>\n",
       "      <td>50217.926423</td>\n",
       "      <td>74.544370</td>\n",
       "      <td>0.279891</td>\n",
       "      <td>1.378850</td>\n",
       "      <td>0.534178</td>\n",
       "      <td>0.891872</td>\n",
       "      <td>0.276162</td>\n",
       "      <td>0.282376</td>\n",
       "      <td>0.121800</td>\n",
       "      <td>0.103157</td>\n",
       "      <td>...</td>\n",
       "      <td>16.138454</td>\n",
       "      <td>211311.210539</td>\n",
       "      <td>0.239125</td>\n",
       "      <td>0.103903</td>\n",
       "      <td>0.051454</td>\n",
       "      <td>0.160825</td>\n",
       "      <td>0.478747</td>\n",
       "      <td>0.52349</td>\n",
       "      <td>0.003231</td>\n",
       "      <td>0.037534</td>\n",
       "    </tr>\n",
       "    <tr>\n",
       "      <th>std</th>\n",
       "      <td>28973.357908</td>\n",
       "      <td>9.446673</td>\n",
       "      <td>0.450107</td>\n",
       "      <td>1.103054</td>\n",
       "      <td>1.715684</td>\n",
       "      <td>2.597763</td>\n",
       "      <td>1.623744</td>\n",
       "      <td>1.281706</td>\n",
       "      <td>1.220201</td>\n",
       "      <td>0.838558</td>\n",
       "      <td>...</td>\n",
       "      <td>17.629156</td>\n",
       "      <td>275881.935722</td>\n",
       "      <td>0.426602</td>\n",
       "      <td>0.305172</td>\n",
       "      <td>0.220950</td>\n",
       "      <td>0.367415</td>\n",
       "      <td>0.499610</td>\n",
       "      <td>0.49951</td>\n",
       "      <td>0.056761</td>\n",
       "      <td>0.190090</td>\n",
       "    </tr>\n",
       "    <tr>\n",
       "      <th>min</th>\n",
       "      <td>9.000000</td>\n",
       "      <td>40.000000</td>\n",
       "      <td>0.000000</td>\n",
       "      <td>0.000000</td>\n",
       "      <td>0.000000</td>\n",
       "      <td>0.000000</td>\n",
       "      <td>0.000000</td>\n",
       "      <td>0.000000</td>\n",
       "      <td>0.000000</td>\n",
       "      <td>0.000000</td>\n",
       "      <td>...</td>\n",
       "      <td>0.000000</td>\n",
       "      <td>-2500.000000</td>\n",
       "      <td>0.000000</td>\n",
       "      <td>0.000000</td>\n",
       "      <td>0.000000</td>\n",
       "      <td>0.000000</td>\n",
       "      <td>0.000000</td>\n",
       "      <td>0.00000</td>\n",
       "      <td>0.000000</td>\n",
       "      <td>0.000000</td>\n",
       "    </tr>\n",
       "    <tr>\n",
       "      <th>25%</th>\n",
       "      <td>24980.000000</td>\n",
       "      <td>69.000000</td>\n",
       "      <td>0.000000</td>\n",
       "      <td>0.631500</td>\n",
       "      <td>0.000000</td>\n",
       "      <td>0.000000</td>\n",
       "      <td>0.000000</td>\n",
       "      <td>0.000000</td>\n",
       "      <td>0.000000</td>\n",
       "      <td>0.000000</td>\n",
       "      <td>...</td>\n",
       "      <td>5.000000</td>\n",
       "      <td>2500.000000</td>\n",
       "      <td>0.000000</td>\n",
       "      <td>0.000000</td>\n",
       "      <td>0.000000</td>\n",
       "      <td>0.000000</td>\n",
       "      <td>0.000000</td>\n",
       "      <td>0.00000</td>\n",
       "      <td>0.000000</td>\n",
       "      <td>0.000000</td>\n",
       "    </tr>\n",
       "    <tr>\n",
       "      <th>50%</th>\n",
       "      <td>50330.000000</td>\n",
       "      <td>74.000000</td>\n",
       "      <td>0.000000</td>\n",
       "      <td>1.034000</td>\n",
       "      <td>0.000000</td>\n",
       "      <td>0.000000</td>\n",
       "      <td>0.000000</td>\n",
       "      <td>0.000000</td>\n",
       "      <td>0.000000</td>\n",
       "      <td>0.000000</td>\n",
       "      <td>...</td>\n",
       "      <td>13.000000</td>\n",
       "      <td>87500.000000</td>\n",
       "      <td>0.000000</td>\n",
       "      <td>0.000000</td>\n",
       "      <td>0.000000</td>\n",
       "      <td>0.000000</td>\n",
       "      <td>0.000000</td>\n",
       "      <td>1.00000</td>\n",
       "      <td>0.000000</td>\n",
       "      <td>0.000000</td>\n",
       "    </tr>\n",
       "    <tr>\n",
       "      <th>75%</th>\n",
       "      <td>75125.500000</td>\n",
       "      <td>81.000000</td>\n",
       "      <td>1.000000</td>\n",
       "      <td>1.759500</td>\n",
       "      <td>1.000000</td>\n",
       "      <td>1.000000</td>\n",
       "      <td>0.000000</td>\n",
       "      <td>0.000000</td>\n",
       "      <td>0.000000</td>\n",
       "      <td>0.000000</td>\n",
       "      <td>...</td>\n",
       "      <td>19.000000</td>\n",
       "      <td>312500.000000</td>\n",
       "      <td>0.000000</td>\n",
       "      <td>0.000000</td>\n",
       "      <td>0.000000</td>\n",
       "      <td>0.000000</td>\n",
       "      <td>1.000000</td>\n",
       "      <td>1.00000</td>\n",
       "      <td>0.000000</td>\n",
       "      <td>0.000000</td>\n",
       "    </tr>\n",
       "    <tr>\n",
       "      <th>max</th>\n",
       "      <td>99960.000000</td>\n",
       "      <td>95.000000</td>\n",
       "      <td>2.000000</td>\n",
       "      <td>8.295000</td>\n",
       "      <td>38.000000</td>\n",
       "      <td>34.000000</td>\n",
       "      <td>43.000000</td>\n",
       "      <td>21.000000</td>\n",
       "      <td>60.000000</td>\n",
       "      <td>27.000000</td>\n",
       "      <td>...</td>\n",
       "      <td>99.000000</td>\n",
       "      <td>1000000.000000</td>\n",
       "      <td>1.000000</td>\n",
       "      <td>1.000000</td>\n",
       "      <td>1.000000</td>\n",
       "      <td>1.000000</td>\n",
       "      <td>1.000000</td>\n",
       "      <td>1.00000</td>\n",
       "      <td>1.000000</td>\n",
       "      <td>1.000000</td>\n",
       "    </tr>\n",
       "  </tbody>\n",
       "</table>\n",
       "<p>8 rows × 109 columns</p>\n",
       "</div>"
      ],
      "text/plain": [
       "                 ID          AGE  ORIG_REAS_ENTITLE_CD  \\\n",
       "count   4023.000000  4023.000000           4023.000000   \n",
       "mean   50217.926423    74.544370              0.279891   \n",
       "std    28973.357908     9.446673              0.450107   \n",
       "min        9.000000    40.000000              0.000000   \n",
       "25%    24980.000000    69.000000              0.000000   \n",
       "50%    50330.000000    74.000000              0.000000   \n",
       "75%    75125.500000    81.000000              1.000000   \n",
       "max    99960.000000    95.000000              2.000000   \n",
       "\n",
       "       RECON_MA_RISK_SCORE_NBR  CON_VISIT_04_Q03  CON_VISIT_21_Q03  \\\n",
       "count              4023.000000       4023.000000       4023.000000   \n",
       "mean                  1.378850          0.534178          0.891872   \n",
       "std                   1.103054          1.715684          2.597763   \n",
       "min                   0.000000          0.000000          0.000000   \n",
       "25%                   0.631500          0.000000          0.000000   \n",
       "50%                   1.034000          0.000000          0.000000   \n",
       "75%                   1.759500          1.000000          1.000000   \n",
       "max                   8.295000         38.000000         34.000000   \n",
       "\n",
       "       CON_VISIT_03_Q02  CON_VISIT_03_Q04  CON_VISIT_30_Q02  CON_VISIT_30_Q04  \\\n",
       "count       4023.000000       4023.000000       4023.000000       4023.000000   \n",
       "mean           0.276162          0.282376          0.121800          0.103157   \n",
       "std            1.623744          1.281706          1.220201          0.838558   \n",
       "min            0.000000          0.000000          0.000000          0.000000   \n",
       "25%            0.000000          0.000000          0.000000          0.000000   \n",
       "50%            0.000000          0.000000          0.000000          0.000000   \n",
       "75%            0.000000          0.000000          0.000000          0.000000   \n",
       "max           43.000000         21.000000         60.000000         27.000000   \n",
       "\n",
       "                 ...              Length_residence   Est_Net_worth  \\\n",
       "count            ...                   4023.000000     4023.000000   \n",
       "mean             ...                     16.138454   211311.210539   \n",
       "std              ...                     17.629156   275881.935722   \n",
       "min              ...                      0.000000    -2500.000000   \n",
       "25%              ...                      5.000000     2500.000000   \n",
       "50%              ...                     13.000000    87500.000000   \n",
       "75%              ...                     19.000000   312500.000000   \n",
       "max              ...                     99.000000  1000000.000000   \n",
       "\n",
       "               CDC  CDC_EYE_GAP      BCS_GAP      COL_GAP  STATIN_ELIG  \\\n",
       "count  4023.000000  4023.000000  4023.000000  4023.000000  4023.000000   \n",
       "mean      0.239125     0.103903     0.051454     0.160825     0.478747   \n",
       "std       0.426602     0.305172     0.220950     0.367415     0.499610   \n",
       "min       0.000000     0.000000     0.000000     0.000000     0.000000   \n",
       "25%       0.000000     0.000000     0.000000     0.000000     0.000000   \n",
       "50%       0.000000     0.000000     0.000000     0.000000     0.000000   \n",
       "75%       0.000000     0.000000     0.000000     0.000000     1.000000   \n",
       "max       1.000000     1.000000     1.000000     1.000000     1.000000   \n",
       "\n",
       "         SEX_CD_F  HOSPICE_IND_Y  Diab_Type_Diabetes Type I  \n",
       "count  4023.00000    4023.000000                4023.000000  \n",
       "mean      0.52349       0.003231                   0.037534  \n",
       "std       0.49951       0.056761                   0.190090  \n",
       "min       0.00000       0.000000                   0.000000  \n",
       "25%       0.00000       0.000000                   0.000000  \n",
       "50%       1.00000       0.000000                   0.000000  \n",
       "75%       1.00000       0.000000                   0.000000  \n",
       "max       1.00000       1.000000                   1.000000  \n",
       "\n",
       "[8 rows x 109 columns]"
      ]
     },
     "execution_count": 58,
     "metadata": {},
     "output_type": "execute_result"
    }
   ],
   "source": [
    "newDF.describe()"
   ]
  },
  {
   "cell_type": "code",
   "execution_count": 59,
   "metadata": {},
   "outputs": [
    {
     "data": {
      "text/plain": [
       "(4023, 109)"
      ]
     },
     "execution_count": 59,
     "metadata": {},
     "output_type": "execute_result"
    }
   ],
   "source": [
    "newDF.shape"
   ]
  },
  {
   "cell_type": "code",
   "execution_count": 53,
   "metadata": {},
   "outputs": [
    {
     "data": {
      "text/plain": [
       "(4023, 469)"
      ]
     },
     "execution_count": 53,
     "metadata": {},
     "output_type": "execute_result"
    }
   ],
   "source": [
    "df.shape"
   ]
  },
  {
   "cell_type": "code",
   "execution_count": 44,
   "metadata": {},
   "outputs": [
    {
     "data": {
      "text/plain": [
       "4023"
      ]
     },
     "execution_count": 44,
     "metadata": {},
     "output_type": "execute_result"
    }
   ],
   "source": [
    "len(y)"
   ]
  },
  {
   "cell_type": "code",
   "execution_count": 60,
   "metadata": {},
   "outputs": [],
   "source": []
  },
  {
   "cell_type": "code",
   "execution_count": null,
   "metadata": {},
   "outputs": [],
   "source": []
  },
  {
   "cell_type": "code",
   "execution_count": 62,
   "metadata": {},
   "outputs": [
    {
     "name": "stdout",
     "output_type": "stream",
     "text": [
      "(4023, 110)\n",
      "(4023, 110)\n",
      "(4023, 109)\n",
      "(4023,)\n"
     ]
    }
   ],
   "source": [
    "\n",
    "\n",
    "newDF['AMI_FLAG'] = pd.Series(y, index=newDF.index)\n",
    "# use only the 107 features, retrain models\n",
    "df = newDF\n",
    "print(df.shape)\n",
    "df = df.dropna()\n",
    "print(df.shape)\n",
    "\n",
    "# define the target we would like to predict \n",
    "y = df['AMI_FLAG']\n",
    "\n",
    "X = df.loc[:, df.columns != 'AMI_FLAG']\n",
    "\n",
    "# sanity check on X, y dimensions \n",
    "print(X.shape)\n",
    "print(y.shape)\n",
    "\n",
    "# split training and testing data\n",
    "\n",
    "X_train, X_test, y_train, y_test = train_test_split(X, y, test_size = 0.33, random_state=42)"
   ]
  },
  {
   "cell_type": "code",
   "execution_count": 65,
   "metadata": {},
   "outputs": [
    {
     "data": {
      "text/plain": [
       "110"
      ]
     },
     "execution_count": 65,
     "metadata": {},
     "output_type": "execute_result"
    }
   ],
   "source": [
    "df.shape[1]"
   ]
  },
  {
   "cell_type": "code",
   "execution_count": 66,
   "metadata": {},
   "outputs": [
    {
     "name": "stdout",
     "output_type": "stream",
     "text": [
      "x:  Tensor(\"Placeholder_2:0\", shape=(?, 109), dtype=float32)\n",
      "logits:  Tensor(\"fully_connected_2/Softplus:0\", shape=(?, 50), dtype=float32)\n",
      "loss:  Tensor(\"Mean_2:0\", shape=(), dtype=float32)\n",
      "predicted_labels:  Tensor(\"ArgMax_1:0\", shape=(?,), dtype=int64)\n"
     ]
    }
   ],
   "source": [
    "# modeling \n",
    "\n",
    "x = tf.placeholder(dtype = tf.float32, shape = [None, (df.shape[1]-1)])\n",
    "y = tf.placeholder(dtype = tf.int32, shape = [None])\n",
    "\n",
    "\n",
    "# tanh, elu, selu, softplus, and softsign\n",
    "\n",
    "#logits = tf.contrib.layers.fully_connected(x, 50, tf.nn.elu)\n",
    "#logits = tf.contrib.layers.fully_connected(x, 128, tf.nn.tanh)\n",
    "#logits = tf.contrib.layers.fully_connected(x, 128, tf.nn.selu)\n",
    "\n",
    "\n",
    "# this two model has better accuracy -------------\n",
    "\n",
    "logits = tf.contrib.layers.fully_connected(x, 50, tf.nn.relu)\n",
    "logits = tf.contrib.layers.fully_connected(x, 50, tf.nn.softplus)\n",
    "\n",
    "\n",
    "\n",
    "loss = tf.reduce_mean(tf.nn.sparse_softmax_cross_entropy_with_logits(labels = y, logits = logits))\n",
    "train_op = tf.train.AdamOptimizer(learning_rate=0.001).minimize(loss)\n",
    "correct_pred = tf.argmax(logits, 1)\n",
    "accuracy = tf.reduce_mean(tf.cast(correct_pred, tf.float32))\n",
    "\n",
    "print(\"x: \", x)\n",
    "print(\"logits: \", logits)\n",
    "print(\"loss: \", loss)\n",
    "print(\"predicted_labels: \", correct_pred)"
   ]
  },
  {
   "cell_type": "code",
   "execution_count": 67,
   "metadata": {},
   "outputs": [
    {
     "name": "stdout",
     "output_type": "stream",
     "text": [
      "Loss:  Tensor(\"Mean_2:0\", shape=(), dtype=float32)\n",
      "Loss:  Tensor(\"Mean_2:0\", shape=(), dtype=float32)\n",
      "Loss:  Tensor(\"Mean_2:0\", shape=(), dtype=float32)\n",
      "Loss:  Tensor(\"Mean_2:0\", shape=(), dtype=float32)\n",
      "Loss:  Tensor(\"Mean_2:0\", shape=(), dtype=float32)\n"
     ]
    }
   ],
   "source": [
    "sess = tf.Session()\n",
    "\n",
    "sess.run(tf.global_variables_initializer())\n",
    "\n",
    "for i in range(201):\n",
    "        #print('EPOCH', i)\n",
    "        _, accuracy_val = sess.run([train_op, accuracy], feed_dict={x: X_train, y: y_train})\n",
    "        if i % 50 == 0:\n",
    "            print(\"Loss: \", loss)\n",
    "        #print('DONE WITH EPOCH')"
   ]
  },
  {
   "cell_type": "code",
   "execution_count": 68,
   "metadata": {},
   "outputs": [
    {
     "name": "stdout",
     "output_type": "stream",
     "text": [
      "Accuracy: 0.509\n"
     ]
    }
   ],
   "source": [
    "\n",
    "predicted = sess.run([correct_pred], feed_dict={x: X_train})[0]\n",
    "\n",
    "# Calculate correct matches \n",
    "match_count = sum([int(y == y_) for y, y_ in zip(y_train, predicted)])\n",
    "\n",
    "# Calculate the accuracy\n",
    "accuracy = match_count / len(X_train)\n",
    "\n",
    "# Print the accuracy\n",
    "print(\"Accuracy: {:.3f}\".format(accuracy))\n"
   ]
  },
  {
   "cell_type": "code",
   "execution_count": 69,
   "metadata": {},
   "outputs": [
    {
     "name": "stdout",
     "output_type": "stream",
     "text": [
      "Accuracy: 0.501\n"
     ]
    }
   ],
   "source": [
    "\n",
    "\n",
    "predicted = sess.run([correct_pred], feed_dict={x: X_test})[0]\n",
    "\n",
    "# Calculate correct matches \n",
    "match_count = sum([int(y == y_) for y, y_ in zip(y_test, predicted)])\n",
    "\n",
    "# Calculate the accuracy\n",
    "accuracy = match_count / len(y_test)\n",
    "\n",
    "# Print the accuracy\n",
    "print(\"Accuracy: {:.3f}\".format(accuracy))"
   ]
  },
  {
   "cell_type": "code",
   "execution_count": 70,
   "metadata": {},
   "outputs": [
    {
     "name": "stdout",
     "output_type": "stream",
     "text": [
      "1.0\n",
      "0.5662650602409639\n"
     ]
    }
   ],
   "source": [
    "\n",
    "\n",
    "\n",
    "clf = DecisionTreeClassifier(random_state=0)\n",
    "clf.fit(X_train, y_train)\n",
    "\n",
    "\n",
    "\n",
    "pred_train = clf.predict(X_train)\n",
    "pred_test = clf.predict(X_test)\n",
    "print(accuracy_score(y_train, pred_train))\n",
    "print(accuracy_score(y_test, pred_test))\n"
   ]
  },
  {
   "cell_type": "code",
   "execution_count": 71,
   "metadata": {},
   "outputs": [
    {
     "name": "stdout",
     "output_type": "stream",
     "text": [
      "finish fitting data\n",
      "1.0\n",
      "0.48268072289156627\n"
     ]
    }
   ],
   "source": [
    "clf = SVC(kernel='rbf', gamma='auto')\n",
    "clf.fit(X_train, y_train)\n",
    "\n",
    "print('finish fitting data')\n",
    "\n",
    "\n",
    "pred_train = clf.predict(X_train)\n",
    "\n",
    "pred_test = clf.predict(X_test)\n",
    "print(accuracy_score(y_train, pred_train))\n",
    "print(accuracy_score(y_test, pred_test))"
   ]
  },
  {
   "cell_type": "code",
   "execution_count": 72,
   "metadata": {},
   "outputs": [
    {
     "name": "stdout",
     "output_type": "stream",
     "text": [
      "[0.00238801 0.0543412  0.         0.09734659 0.         0.00043926\n",
      " 0.         0.00333447 0.         0.         0.0002895  0.00098941\n",
      " 0.         0.00385695 0.00616293 0.01821779 0.00362206 0.00901828\n",
      " 0.00144248 0.00059018 0.00079547 0.02541101 0.00031664 0.00029459\n",
      " 0.00248738 0.00193534 0.00514849 0.         0.00103364 0.\n",
      " 0.00071149 0.         0.00050426 0.         0.00083876 0.00170695\n",
      " 0.0077444  0.00071195 0.00908005 0.00132187 0.00832242 0.02381241\n",
      " 0.0071825  0.         0.         0.0192523  0.00179057 0.0009103\n",
      " 0.         0.         0.01058999 0.00081268 0.         0.\n",
      " 0.00037833 0.         0.         0.00060358 0.00233617 0.00061518\n",
      " 0.         0.0047635  0.00899555 0.02028387 0.         0.00156675\n",
      " 0.0014624  0.00067006 0.00081965 0.01857982 0.00284107 0.\n",
      " 0.00062783 0.         0.00081742 0.02008973 0.00054156 0.\n",
      " 0.00025157 0.         0.         0.         0.         0.16118625\n",
      " 0.06384068 0.09157049 0.02218334 0.05616918 0.04684235 0.\n",
      " 0.04143103 0.00297697 0.02590653 0.         0.         0.00734349\n",
      " 0.01709053 0.         0.00318396 0.00089014 0.00635551 0.00487451\n",
      " 0.         0.         0.         0.         0.0191217  0.\n",
      " 0.00803475]\n",
      "0.6957328385899815\n",
      "0.6498493975903614\n"
     ]
    }
   ],
   "source": [
    "\n",
    "clf = RandomForestClassifier(n_estimators=100, max_depth=2, criterion='entropy', random_state=0)\n",
    "clf.fit(X_train, y_train)\n",
    "\n",
    "\n",
    "\n",
    "print(clf.feature_importances_)\n",
    "\n",
    "\n",
    "pred_train = clf.predict(X_train)\n",
    "pred_test = clf.predict(X_test)\n",
    "print(accuracy_score(y_train, pred_train))\n",
    "print(accuracy_score(y_test, pred_test))"
   ]
  },
  {
   "cell_type": "code",
   "execution_count": 78,
   "metadata": {},
   "outputs": [],
   "source": [
    "y_data = df['AMI_FLAG']"
   ]
  },
  {
   "cell_type": "code",
   "execution_count": 80,
   "metadata": {},
   "outputs": [
    {
     "data": {
      "text/plain": [
       "4023"
      ]
     },
     "execution_count": 80,
     "metadata": {},
     "output_type": "execute_result"
    }
   ],
   "source": [
    "len(y_data)"
   ]
  },
  {
   "cell_type": "code",
   "execution_count": 83,
   "metadata": {},
   "outputs": [],
   "source": [
    "from sklearn.model_selection import cross_val_score\n",
    "\n",
    "scores = cross_val_score(clf, X, y_data, cv = 5)"
   ]
  },
  {
   "cell_type": "code",
   "execution_count": 84,
   "metadata": {},
   "outputs": [
    {
     "data": {
      "text/plain": [
       "array([0.43796526, 0.66583851, 0.6641791 , 0.66169154, 0.39552239])"
      ]
     },
     "execution_count": 84,
     "metadata": {},
     "output_type": "execute_result"
    }
   ],
   "source": [
    "scores"
   ]
  },
  {
   "cell_type": "code",
   "execution_count": 105,
   "metadata": {},
   "outputs": [
    {
     "name": "stdout",
     "output_type": "stream",
     "text": [
      "{'n_estimators': [200, 300, 400, 500, 600], 'max_features': ['auto', 'sqrt', 'log2'], 'max_depth': [10, 20, 30, None], 'min_samples_split': [2, 5, 10], 'min_samples_leaf': [1, 2, 4], 'criterion': ['gini', 'entropy']}\n"
     ]
    }
   ],
   "source": [
    "from sklearn.model_selection import GridSearchCV\n",
    "from sklearn.model_selection import RandomizedSearchCV\n",
    "\n",
    "# Number of trees in random forest\n",
    "n_estimators = [200, 300, 400, 500, 600]\n",
    "# Number of features to consider at every split\n",
    "max_features = ['auto', 'sqrt', 'log2']\n",
    "# Maximum number of levels in tree\n",
    "max_depth = [10, 20, 30]\n",
    "max_depth.append(None)\n",
    "# Minimum number of samples required to split a node\n",
    "min_samples_split = [2, 5, 10]\n",
    "# Minimum number of samples required at each leaf node\n",
    "min_samples_leaf = [1, 2, 4]\n",
    "\n",
    "\n",
    "\n",
    "# crterion selecton\n",
    "criterion = ['gini', 'entropy']\n",
    "\n",
    "# Create the random grid\n",
    "random_grid = {'n_estimators': n_estimators,\n",
    "               'max_features': max_features,\n",
    "               'max_depth': max_depth,\n",
    "               'min_samples_split': min_samples_split,\n",
    "               'min_samples_leaf': min_samples_leaf,\n",
    "               'criterion': criterion}\n",
    "\n",
    "print(random_grid)"
   ]
  },
  {
   "cell_type": "code",
   "execution_count": 106,
   "metadata": {},
   "outputs": [],
   "source": [
    "clf = RandomForestClassifier()\n",
    "\n",
    "# Random search of parameters, using 3 fold cross validation, \n",
    "# search across 100 different combinations, and use all available cores\n",
    "rf_random = RandomizedSearchCV(estimator = clf, \n",
    "                               param_distributions = random_grid, \n",
    "                               n_iter = 100, cv = 3, verbose=2, \n",
    "                               random_state=42, n_jobs = -1)"
   ]
  },
  {
   "cell_type": "code",
   "execution_count": 107,
   "metadata": {},
   "outputs": [
    {
     "data": {
      "text/plain": [
       "<bound method BaseEstimator.get_params of RandomizedSearchCV(cv=3, error_score='raise',\n",
       "          estimator=RandomForestClassifier(bootstrap=True, class_weight=None, criterion='gini',\n",
       "            max_depth=None, max_features='auto', max_leaf_nodes=None,\n",
       "            min_impurity_decrease=0.0, min_impurity_split=None,\n",
       "            min_samples_leaf=1, min_samples_split=2,\n",
       "            min_weight_fraction_leaf=0.0, n_estimators=10, n_jobs=1,\n",
       "            oob_score=False, random_state=None, verbose=0,\n",
       "            warm_start=False),\n",
       "          fit_params=None, iid=True, n_iter=100, n_jobs=-1,\n",
       "          param_distributions={'n_estimators': [200, 300, 400, 500, 600], 'max_features': ['auto', 'sqrt', 'log2'], 'max_depth': [10, 20, 30, None], 'min_samples_split': [2, 5, 10], 'min_samples_leaf': [1, 2, 4], 'criterion': ['gini', 'entropy']},\n",
       "          pre_dispatch='2*n_jobs', random_state=42, refit=True,\n",
       "          return_train_score='warn', scoring=None, verbose=2)>"
      ]
     },
     "execution_count": 107,
     "metadata": {},
     "output_type": "execute_result"
    }
   ],
   "source": [
    "rf_random.get_params"
   ]
  },
  {
   "cell_type": "code",
   "execution_count": 108,
   "metadata": {},
   "outputs": [
    {
     "name": "stdout",
     "output_type": "stream",
     "text": [
      "Fitting 3 folds for each of 100 candidates, totalling 300 fits\n",
      "[CV] n_estimators=500, min_samples_split=2, min_samples_leaf=2, max_features=auto, max_depth=None, criterion=gini \n",
      "[CV] n_estimators=500, min_samples_split=2, min_samples_leaf=2, max_features=auto, max_depth=None, criterion=gini \n",
      "[CV] n_estimators=500, min_samples_split=2, min_samples_leaf=2, max_features=auto, max_depth=None, criterion=gini \n",
      "[CV] n_estimators=500, min_samples_split=5, min_samples_leaf=1, max_features=auto, max_depth=10, criterion=entropy \n",
      "[CV] n_estimators=500, min_samples_split=5, min_samples_leaf=1, max_features=auto, max_depth=10, criterion=entropy \n",
      "[CV] n_estimators=500, min_samples_split=5, min_samples_leaf=1, max_features=auto, max_depth=10, criterion=entropy \n",
      "[CV] n_estimators=300, min_samples_split=10, min_samples_leaf=1, max_features=sqrt, max_depth=20, criterion=entropy \n",
      "[CV] n_estimators=300, min_samples_split=10, min_samples_leaf=1, max_features=sqrt, max_depth=20, criterion=entropy \n",
      "[CV]  n_estimators=300, min_samples_split=10, min_samples_leaf=1, max_features=sqrt, max_depth=20, criterion=entropy, total=   1.9s\n",
      "[CV] n_estimators=300, min_samples_split=10, min_samples_leaf=1, max_features=sqrt, max_depth=20, criterion=entropy \n",
      "[CV]  n_estimators=300, min_samples_split=10, min_samples_leaf=1, max_features=sqrt, max_depth=20, criterion=entropy, total=   2.0s\n",
      "[CV] n_estimators=500, min_samples_split=2, min_samples_leaf=1, max_features=sqrt, max_depth=10, criterion=entropy \n",
      "[CV]  n_estimators=500, min_samples_split=5, min_samples_leaf=1, max_features=auto, max_depth=10, criterion=entropy, total=   2.6s\n",
      "[CV] n_estimators=500, min_samples_split=2, min_samples_leaf=1, max_features=sqrt, max_depth=10, criterion=entropy \n",
      "[CV]  n_estimators=500, min_samples_split=5, min_samples_leaf=1, max_features=auto, max_depth=10, criterion=entropy, total=   2.6s\n",
      "[CV] n_estimators=500, min_samples_split=2, min_samples_leaf=1, max_features=sqrt, max_depth=10, criterion=entropy \n",
      "[CV]  n_estimators=500, min_samples_split=5, min_samples_leaf=1, max_features=auto, max_depth=10, criterion=entropy, total=   2.6s\n",
      "[CV] n_estimators=300, min_samples_split=2, min_samples_leaf=2, max_features=log2, max_depth=None, criterion=entropy \n",
      "[CV]  n_estimators=500, min_samples_split=2, min_samples_leaf=2, max_features=auto, max_depth=None, criterion=gini, total=   3.0s\n",
      "[CV] n_estimators=300, min_samples_split=2, min_samples_leaf=2, max_features=log2, max_depth=None, criterion=entropy \n",
      "[CV]  n_estimators=500, min_samples_split=2, min_samples_leaf=2, max_features=auto, max_depth=None, criterion=gini, total=   2.9s\n",
      "[CV]  n_estimators=500, min_samples_split=2, min_samples_leaf=2, max_features=auto, max_depth=None, criterion=gini, total=   3.0s\n",
      "[CV] n_estimators=300, min_samples_split=2, min_samples_leaf=2, max_features=log2, max_depth=None, criterion=entropy \n",
      "[CV] n_estimators=300, min_samples_split=2, min_samples_leaf=4, max_features=sqrt, max_depth=10, criterion=entropy \n",
      "[CV]  n_estimators=300, min_samples_split=10, min_samples_leaf=1, max_features=sqrt, max_depth=20, criterion=entropy, total=   2.2s\n",
      "[CV] n_estimators=300, min_samples_split=2, min_samples_leaf=4, max_features=sqrt, max_depth=10, criterion=entropy \n",
      "[CV]  n_estimators=300, min_samples_split=2, min_samples_leaf=2, max_features=log2, max_depth=None, criterion=entropy, total=   2.0s\n",
      "[CV] n_estimators=300, min_samples_split=2, min_samples_leaf=4, max_features=sqrt, max_depth=10, criterion=entropy \n",
      "[CV]  n_estimators=300, min_samples_split=2, min_samples_leaf=4, max_features=sqrt, max_depth=10, criterion=entropy, total=   1.8s\n",
      "[CV] n_estimators=300, min_samples_split=2, min_samples_leaf=1, max_features=sqrt, max_depth=None, criterion=entropy \n",
      "[CV]  n_estimators=300, min_samples_split=2, min_samples_leaf=2, max_features=log2, max_depth=None, criterion=entropy, total=   2.0s\n",
      "[CV]  n_estimators=300, min_samples_split=2, min_samples_leaf=2, max_features=log2, max_depth=None, criterion=entropy, total=   2.1s\n",
      "[CV] n_estimators=300, min_samples_split=2, min_samples_leaf=1, max_features=sqrt, max_depth=None, criterion=entropy \n",
      "[CV] n_estimators=300, min_samples_split=2, min_samples_leaf=1, max_features=sqrt, max_depth=None, criterion=entropy \n",
      "[CV]  n_estimators=500, min_samples_split=2, min_samples_leaf=1, max_features=sqrt, max_depth=10, criterion=entropy, total=   3.1s\n",
      "[CV] n_estimators=500, min_samples_split=2, min_samples_leaf=1, max_features=sqrt, max_depth=None, criterion=entropy \n",
      "[CV]  n_estimators=500, min_samples_split=2, min_samples_leaf=1, max_features=sqrt, max_depth=10, criterion=entropy, total=   3.2s\n",
      "[CV] n_estimators=500, min_samples_split=2, min_samples_leaf=1, max_features=sqrt, max_depth=None, criterion=entropy \n",
      "[CV]  n_estimators=500, min_samples_split=2, min_samples_leaf=1, max_features=sqrt, max_depth=10, criterion=entropy, total=   3.2s\n",
      "[CV] n_estimators=500, min_samples_split=2, min_samples_leaf=1, max_features=sqrt, max_depth=None, criterion=entropy \n",
      "[CV]  n_estimators=300, min_samples_split=2, min_samples_leaf=4, max_features=sqrt, max_depth=10, criterion=entropy, total=   1.9s\n",
      "[CV] n_estimators=300, min_samples_split=5, min_samples_leaf=4, max_features=log2, max_depth=None, criterion=entropy \n",
      "[CV]  n_estimators=300, min_samples_split=2, min_samples_leaf=4, max_features=sqrt, max_depth=10, criterion=entropy, total=   1.8s\n",
      "[CV] n_estimators=300, min_samples_split=5, min_samples_leaf=4, max_features=log2, max_depth=None, criterion=entropy \n",
      "[CV]  n_estimators=300, min_samples_split=2, min_samples_leaf=1, max_features=sqrt, max_depth=None, criterion=entropy, total=   2.7s\n",
      "[CV] n_estimators=300, min_samples_split=5, min_samples_leaf=4, max_features=log2, max_depth=None, criterion=entropy \n",
      "[CV]  n_estimators=300, min_samples_split=2, min_samples_leaf=1, max_features=sqrt, max_depth=None, criterion=entropy, total=   2.5s\n",
      "[CV]  n_estimators=300, min_samples_split=2, min_samples_leaf=1, max_features=sqrt, max_depth=None, criterion=entropy, total=   2.5s\n",
      "[CV] n_estimators=500, min_samples_split=5, min_samples_leaf=2, max_features=log2, max_depth=30, criterion=entropy \n",
      "[CV] n_estimators=500, min_samples_split=5, min_samples_leaf=2, max_features=log2, max_depth=30, criterion=entropy \n",
      "[CV]  n_estimators=300, min_samples_split=5, min_samples_leaf=4, max_features=log2, max_depth=None, criterion=entropy, total=   1.7s\n",
      "[CV] n_estimators=500, min_samples_split=5, min_samples_leaf=2, max_features=log2, max_depth=30, criterion=entropy \n",
      "[CV]  n_estimators=300, min_samples_split=5, min_samples_leaf=4, max_features=log2, max_depth=None, criterion=entropy, total=   1.7s\n",
      "[CV] n_estimators=500, min_samples_split=10, min_samples_leaf=1, max_features=log2, max_depth=None, criterion=entropy \n",
      "[CV]  n_estimators=300, min_samples_split=5, min_samples_leaf=4, max_features=log2, max_depth=None, criterion=entropy, total=   1.7s\n",
      "[CV] n_estimators=500, min_samples_split=10, min_samples_leaf=1, max_features=log2, max_depth=None, criterion=entropy \n",
      "[CV]  n_estimators=500, min_samples_split=2, min_samples_leaf=1, max_features=sqrt, max_depth=None, criterion=entropy, total=   4.4s\n",
      "[CV] n_estimators=500, min_samples_split=10, min_samples_leaf=1, max_features=log2, max_depth=None, criterion=entropy \n"
     ]
    },
    {
     "name": "stderr",
     "output_type": "stream",
     "text": [
      "[Parallel(n_jobs=-1)]: Done  25 tasks      | elapsed:   10.6s\n"
     ]
    },
    {
     "name": "stdout",
     "output_type": "stream",
     "text": [
      "[CV]  n_estimators=500, min_samples_split=2, min_samples_leaf=1, max_features=sqrt, max_depth=None, criterion=entropy, total=   4.3s\n",
      "[CV] n_estimators=300, min_samples_split=10, min_samples_leaf=4, max_features=auto, max_depth=10, criterion=entropy \n",
      "[CV]  n_estimators=500, min_samples_split=2, min_samples_leaf=1, max_features=sqrt, max_depth=None, criterion=entropy, total=   4.3s\n",
      "[CV] n_estimators=300, min_samples_split=10, min_samples_leaf=4, max_features=auto, max_depth=10, criterion=entropy \n",
      "[CV]  n_estimators=500, min_samples_split=5, min_samples_leaf=2, max_features=log2, max_depth=30, criterion=entropy, total=   3.1s\n",
      "[CV] n_estimators=300, min_samples_split=10, min_samples_leaf=4, max_features=auto, max_depth=10, criterion=entropy \n",
      "[CV]  n_estimators=500, min_samples_split=5, min_samples_leaf=2, max_features=log2, max_depth=30, criterion=entropy, total=   3.2s\n",
      "[CV] n_estimators=600, min_samples_split=2, min_samples_leaf=1, max_features=log2, max_depth=10, criterion=entropy \n",
      "[CV]  n_estimators=500, min_samples_split=5, min_samples_leaf=2, max_features=log2, max_depth=30, criterion=entropy, total=   3.2s\n",
      "[CV] n_estimators=600, min_samples_split=2, min_samples_leaf=1, max_features=log2, max_depth=10, criterion=entropy \n",
      "[CV]  n_estimators=500, min_samples_split=10, min_samples_leaf=1, max_features=log2, max_depth=None, criterion=entropy, total=   3.5s\n",
      "[CV] n_estimators=600, min_samples_split=2, min_samples_leaf=1, max_features=log2, max_depth=10, criterion=entropy \n",
      "[CV]  n_estimators=300, min_samples_split=10, min_samples_leaf=4, max_features=auto, max_depth=10, criterion=entropy, total=   1.9s\n",
      "[CV] n_estimators=500, min_samples_split=5, min_samples_leaf=2, max_features=auto, max_depth=20, criterion=gini \n",
      "[CV]  n_estimators=300, min_samples_split=10, min_samples_leaf=4, max_features=auto, max_depth=10, criterion=entropy, total=   1.9s\n",
      "[CV] n_estimators=500, min_samples_split=5, min_samples_leaf=2, max_features=auto, max_depth=20, criterion=gini \n",
      "[CV]  n_estimators=500, min_samples_split=10, min_samples_leaf=1, max_features=log2, max_depth=None, criterion=entropy, total=   3.4s\n",
      "[CV] n_estimators=500, min_samples_split=5, min_samples_leaf=2, max_features=auto, max_depth=20, criterion=gini \n",
      "[CV]  n_estimators=300, min_samples_split=10, min_samples_leaf=4, max_features=auto, max_depth=10, criterion=entropy, total=   2.0s\n",
      "[CV] n_estimators=200, min_samples_split=5, min_samples_leaf=1, max_features=log2, max_depth=30, criterion=gini \n",
      "[CV]  n_estimators=500, min_samples_split=10, min_samples_leaf=1, max_features=log2, max_depth=None, criterion=entropy, total=   3.5s\n",
      "[CV] n_estimators=200, min_samples_split=5, min_samples_leaf=1, max_features=log2, max_depth=30, criterion=gini \n",
      "[CV]  n_estimators=200, min_samples_split=5, min_samples_leaf=1, max_features=log2, max_depth=30, criterion=gini, total=   1.2s\n",
      "[CV] n_estimators=200, min_samples_split=5, min_samples_leaf=1, max_features=log2, max_depth=30, criterion=gini \n",
      "[CV]  n_estimators=600, min_samples_split=2, min_samples_leaf=1, max_features=log2, max_depth=10, criterion=entropy, total=   3.3s\n",
      "[CV] n_estimators=500, min_samples_split=10, min_samples_leaf=4, max_features=auto, max_depth=None, criterion=gini \n",
      "[CV]  n_estimators=600, min_samples_split=2, min_samples_leaf=1, max_features=log2, max_depth=10, criterion=entropy, total=   3.1s\n",
      "[CV]  n_estimators=200, min_samples_split=5, min_samples_leaf=1, max_features=log2, max_depth=30, criterion=gini, total=   1.2s\n",
      "[CV] n_estimators=500, min_samples_split=10, min_samples_leaf=4, max_features=auto, max_depth=None, criterion=gini \n",
      "[CV] n_estimators=500, min_samples_split=10, min_samples_leaf=4, max_features=auto, max_depth=None, criterion=gini \n",
      "[CV]  n_estimators=600, min_samples_split=2, min_samples_leaf=1, max_features=log2, max_depth=10, criterion=entropy, total=   3.1s\n",
      "[CV] n_estimators=500, min_samples_split=2, min_samples_leaf=2, max_features=sqrt, max_depth=30, criterion=gini \n",
      "[CV]  n_estimators=500, min_samples_split=5, min_samples_leaf=2, max_features=auto, max_depth=20, criterion=gini, total=   3.5s\n",
      "[CV]  n_estimators=200, min_samples_split=5, min_samples_leaf=1, max_features=log2, max_depth=30, criterion=gini, total=   1.4s\n",
      "[CV] n_estimators=500, min_samples_split=2, min_samples_leaf=2, max_features=sqrt, max_depth=30, criterion=gini \n",
      "[CV] n_estimators=500, min_samples_split=2, min_samples_leaf=2, max_features=sqrt, max_depth=30, criterion=gini \n",
      "[CV]  n_estimators=500, min_samples_split=5, min_samples_leaf=2, max_features=auto, max_depth=20, criterion=gini, total=   3.5s\n",
      "[CV] n_estimators=200, min_samples_split=2, min_samples_leaf=1, max_features=log2, max_depth=None, criterion=gini \n",
      "[CV]  n_estimators=500, min_samples_split=5, min_samples_leaf=2, max_features=auto, max_depth=20, criterion=gini, total=   3.6s\n",
      "[CV] n_estimators=200, min_samples_split=2, min_samples_leaf=1, max_features=log2, max_depth=None, criterion=gini \n",
      "[CV]  n_estimators=200, min_samples_split=2, min_samples_leaf=1, max_features=log2, max_depth=None, criterion=gini, total=   1.3s\n",
      "[CV] n_estimators=200, min_samples_split=2, min_samples_leaf=1, max_features=log2, max_depth=None, criterion=gini \n",
      "[CV]  n_estimators=500, min_samples_split=10, min_samples_leaf=4, max_features=auto, max_depth=None, criterion=gini, total=   3.3s\n",
      "[CV] n_estimators=400, min_samples_split=10, min_samples_leaf=1, max_features=log2, max_depth=30, criterion=entropy \n",
      "[CV]  n_estimators=500, min_samples_split=10, min_samples_leaf=4, max_features=auto, max_depth=None, criterion=gini, total=   3.2s\n",
      "[CV]  n_estimators=200, min_samples_split=2, min_samples_leaf=1, max_features=log2, max_depth=None, criterion=gini, total=   1.2s\n",
      "[CV] n_estimators=400, min_samples_split=10, min_samples_leaf=1, max_features=log2, max_depth=30, criterion=entropy \n",
      "[CV] n_estimators=400, min_samples_split=10, min_samples_leaf=1, max_features=log2, max_depth=30, criterion=entropy \n",
      "[CV]  n_estimators=500, min_samples_split=10, min_samples_leaf=4, max_features=auto, max_depth=None, criterion=gini, total=   3.3s\n",
      "[CV] n_estimators=500, min_samples_split=5, min_samples_leaf=4, max_features=sqrt, max_depth=30, criterion=entropy \n",
      "[CV]  n_estimators=200, min_samples_split=2, min_samples_leaf=1, max_features=log2, max_depth=None, criterion=gini, total=   1.2s\n",
      "[CV] n_estimators=500, min_samples_split=5, min_samples_leaf=4, max_features=sqrt, max_depth=30, criterion=entropy \n",
      "[CV]  n_estimators=500, min_samples_split=2, min_samples_leaf=2, max_features=sqrt, max_depth=30, criterion=gini, total=   3.7s\n",
      "[CV] n_estimators=500, min_samples_split=5, min_samples_leaf=4, max_features=sqrt, max_depth=30, criterion=entropy \n",
      "[CV]  n_estimators=500, min_samples_split=2, min_samples_leaf=2, max_features=sqrt, max_depth=30, criterion=gini, total=   3.6s\n",
      "[CV] n_estimators=300, min_samples_split=10, min_samples_leaf=1, max_features=sqrt, max_depth=10, criterion=gini \n",
      "[CV]  n_estimators=500, min_samples_split=2, min_samples_leaf=2, max_features=sqrt, max_depth=30, criterion=gini, total=   3.6s\n",
      "[CV] n_estimators=300, min_samples_split=10, min_samples_leaf=1, max_features=sqrt, max_depth=10, criterion=gini \n",
      "[CV]  n_estimators=400, min_samples_split=10, min_samples_leaf=1, max_features=log2, max_depth=30, criterion=entropy, total=   2.5s\n",
      "[CV] n_estimators=300, min_samples_split=10, min_samples_leaf=1, max_features=sqrt, max_depth=10, criterion=gini \n",
      "[CV]  n_estimators=400, min_samples_split=10, min_samples_leaf=1, max_features=log2, max_depth=30, criterion=entropy, total=   2.4s\n",
      "[CV]  n_estimators=400, min_samples_split=10, min_samples_leaf=1, max_features=log2, max_depth=30, criterion=entropy, total=   2.4s\n",
      "[CV] n_estimators=200, min_samples_split=10, min_samples_leaf=2, max_features=sqrt, max_depth=10, criterion=gini \n",
      "[CV] n_estimators=200, min_samples_split=10, min_samples_leaf=2, max_features=sqrt, max_depth=10, criterion=gini \n",
      "[CV]  n_estimators=300, min_samples_split=10, min_samples_leaf=1, max_features=sqrt, max_depth=10, criterion=gini, total=   1.6s\n",
      "[CV] n_estimators=200, min_samples_split=10, min_samples_leaf=2, max_features=sqrt, max_depth=10, criterion=gini \n",
      "[CV]  n_estimators=300, min_samples_split=10, min_samples_leaf=1, max_features=sqrt, max_depth=10, criterion=gini, total=   1.7s\n"
     ]
    },
    {
     "name": "stdout",
     "output_type": "stream",
     "text": [
      "[CV] n_estimators=200, min_samples_split=5, min_samples_leaf=4, max_features=sqrt, max_depth=None, criterion=gini \n",
      "[CV]  n_estimators=500, min_samples_split=5, min_samples_leaf=4, max_features=sqrt, max_depth=30, criterion=entropy, total=   3.3s\n",
      "[CV] n_estimators=200, min_samples_split=5, min_samples_leaf=4, max_features=sqrt, max_depth=None, criterion=gini \n",
      "[CV]  n_estimators=200, min_samples_split=10, min_samples_leaf=2, max_features=sqrt, max_depth=10, criterion=gini, total=   1.2s\n",
      "[CV] n_estimators=200, min_samples_split=5, min_samples_leaf=4, max_features=sqrt, max_depth=None, criterion=gini \n",
      "[CV]  n_estimators=200, min_samples_split=10, min_samples_leaf=2, max_features=sqrt, max_depth=10, criterion=gini, total=   1.2s\n",
      "[CV] n_estimators=500, min_samples_split=10, min_samples_leaf=2, max_features=log2, max_depth=30, criterion=gini \n",
      "[CV]  n_estimators=500, min_samples_split=5, min_samples_leaf=4, max_features=sqrt, max_depth=30, criterion=entropy, total=   3.5s\n",
      "[CV] n_estimators=500, min_samples_split=10, min_samples_leaf=2, max_features=log2, max_depth=30, criterion=gini \n",
      "[CV]  n_estimators=300, min_samples_split=10, min_samples_leaf=1, max_features=sqrt, max_depth=10, criterion=gini, total=   1.7s\n",
      "[CV] n_estimators=500, min_samples_split=10, min_samples_leaf=2, max_features=log2, max_depth=30, criterion=gini \n",
      "[CV]  n_estimators=200, min_samples_split=10, min_samples_leaf=2, max_features=sqrt, max_depth=10, criterion=gini, total=   1.2s\n",
      "[CV] n_estimators=500, min_samples_split=2, min_samples_leaf=4, max_features=log2, max_depth=None, criterion=gini \n",
      "[CV]  n_estimators=500, min_samples_split=5, min_samples_leaf=4, max_features=sqrt, max_depth=30, criterion=entropy, total=   3.5s\n",
      "[CV] n_estimators=500, min_samples_split=2, min_samples_leaf=4, max_features=log2, max_depth=None, criterion=gini \n",
      "[CV]  n_estimators=200, min_samples_split=5, min_samples_leaf=4, max_features=sqrt, max_depth=None, criterion=gini, total=   1.3s\n",
      "[CV] n_estimators=500, min_samples_split=2, min_samples_leaf=4, max_features=log2, max_depth=None, criterion=gini \n",
      "[CV]  n_estimators=200, min_samples_split=5, min_samples_leaf=4, max_features=sqrt, max_depth=None, criterion=gini, total=   1.3s\n",
      "[CV] n_estimators=400, min_samples_split=10, min_samples_leaf=4, max_features=auto, max_depth=None, criterion=entropy \n",
      "[CV]  n_estimators=200, min_samples_split=5, min_samples_leaf=4, max_features=sqrt, max_depth=None, criterion=gini, total=   1.4s\n",
      "[CV] n_estimators=400, min_samples_split=10, min_samples_leaf=4, max_features=auto, max_depth=None, criterion=entropy \n",
      "[CV]  n_estimators=500, min_samples_split=10, min_samples_leaf=2, max_features=log2, max_depth=30, criterion=gini, total=   2.6s\n",
      "[CV] n_estimators=400, min_samples_split=10, min_samples_leaf=4, max_features=auto, max_depth=None, criterion=entropy \n",
      "[CV]  n_estimators=500, min_samples_split=2, min_samples_leaf=4, max_features=log2, max_depth=None, criterion=gini, total=   2.6s\n",
      "[CV] n_estimators=400, min_samples_split=10, min_samples_leaf=2, max_features=auto, max_depth=30, criterion=entropy \n",
      "[CV]  n_estimators=500, min_samples_split=10, min_samples_leaf=2, max_features=log2, max_depth=30, criterion=gini, total=   2.7s\n",
      "[CV]  n_estimators=500, min_samples_split=10, min_samples_leaf=2, max_features=log2, max_depth=30, criterion=gini, total=   2.8s\n",
      "[CV] n_estimators=400, min_samples_split=10, min_samples_leaf=2, max_features=auto, max_depth=30, criterion=entropy \n",
      "[CV] n_estimators=400, min_samples_split=10, min_samples_leaf=2, max_features=auto, max_depth=30, criterion=entropy \n",
      "[CV]  n_estimators=500, min_samples_split=2, min_samples_leaf=4, max_features=log2, max_depth=None, criterion=gini, total=   2.5s\n",
      "[CV] n_estimators=300, min_samples_split=10, min_samples_leaf=1, max_features=log2, max_depth=30, criterion=gini \n",
      "[CV]  n_estimators=500, min_samples_split=2, min_samples_leaf=4, max_features=log2, max_depth=None, criterion=gini, total=   2.4s\n",
      "[CV] n_estimators=300, min_samples_split=10, min_samples_leaf=1, max_features=log2, max_depth=30, criterion=gini \n",
      "[CV]  n_estimators=400, min_samples_split=10, min_samples_leaf=4, max_features=auto, max_depth=None, criterion=entropy, total=   2.6s\n",
      "[CV] n_estimators=300, min_samples_split=10, min_samples_leaf=1, max_features=log2, max_depth=30, criterion=gini \n",
      "[CV]  n_estimators=400, min_samples_split=10, min_samples_leaf=4, max_features=auto, max_depth=None, criterion=entropy, total=   2.7s\n",
      "[CV] n_estimators=600, min_samples_split=5, min_samples_leaf=4, max_features=sqrt, max_depth=None, criterion=entropy \n",
      "[CV]  n_estimators=300, min_samples_split=10, min_samples_leaf=1, max_features=log2, max_depth=30, criterion=gini, total=   1.6s\n",
      "[CV] n_estimators=600, min_samples_split=5, min_samples_leaf=4, max_features=sqrt, max_depth=None, criterion=entropy \n",
      "[CV]  n_estimators=300, min_samples_split=10, min_samples_leaf=1, max_features=log2, max_depth=30, criterion=gini, total=   1.6s\n",
      "[CV] n_estimators=600, min_samples_split=5, min_samples_leaf=4, max_features=sqrt, max_depth=None, criterion=entropy \n",
      "[CV]  n_estimators=300, min_samples_split=10, min_samples_leaf=1, max_features=log2, max_depth=30, criterion=gini, total=   1.6s\n",
      "[CV] n_estimators=200, min_samples_split=10, min_samples_leaf=4, max_features=sqrt, max_depth=20, criterion=entropy \n",
      "[CV]  n_estimators=400, min_samples_split=10, min_samples_leaf=4, max_features=auto, max_depth=None, criterion=entropy, total=   2.7s\n",
      "[CV] n_estimators=200, min_samples_split=10, min_samples_leaf=4, max_features=sqrt, max_depth=20, criterion=entropy \n",
      "[CV]  n_estimators=400, min_samples_split=10, min_samples_leaf=2, max_features=auto, max_depth=30, criterion=entropy, total=   2.9s\n",
      "[CV] n_estimators=200, min_samples_split=10, min_samples_leaf=4, max_features=sqrt, max_depth=20, criterion=entropy \n",
      "[CV]  n_estimators=400, min_samples_split=10, min_samples_leaf=2, max_features=auto, max_depth=30, criterion=entropy, total=   2.9s\n",
      "[CV] n_estimators=300, min_samples_split=10, min_samples_leaf=2, max_features=log2, max_depth=10, criterion=entropy \n",
      "[CV]  n_estimators=400, min_samples_split=10, min_samples_leaf=2, max_features=auto, max_depth=30, criterion=entropy, total=   2.9s\n",
      "[CV] n_estimators=300, min_samples_split=10, min_samples_leaf=2, max_features=log2, max_depth=10, criterion=entropy \n",
      "[CV]  n_estimators=200, min_samples_split=10, min_samples_leaf=4, max_features=sqrt, max_depth=20, criterion=entropy, total=   1.3s\n",
      "[CV] n_estimators=300, min_samples_split=10, min_samples_leaf=2, max_features=log2, max_depth=10, criterion=entropy \n",
      "[CV]  n_estimators=200, min_samples_split=10, min_samples_leaf=4, max_features=sqrt, max_depth=20, criterion=entropy, total=   1.3s\n",
      "[CV] n_estimators=600, min_samples_split=2, min_samples_leaf=1, max_features=auto, max_depth=20, criterion=entropy \n",
      "[CV]  n_estimators=200, min_samples_split=10, min_samples_leaf=4, max_features=sqrt, max_depth=20, criterion=entropy, total=   1.5s\n",
      "[CV] n_estimators=600, min_samples_split=2, min_samples_leaf=1, max_features=auto, max_depth=20, criterion=entropy \n",
      "[CV]  n_estimators=300, min_samples_split=10, min_samples_leaf=2, max_features=log2, max_depth=10, criterion=entropy, total=   1.5s\n",
      "[CV] n_estimators=600, min_samples_split=2, min_samples_leaf=1, max_features=auto, max_depth=20, criterion=entropy \n",
      "[CV]  n_estimators=300, min_samples_split=10, min_samples_leaf=2, max_features=log2, max_depth=10, criterion=entropy, total=   1.5s\n",
      "[CV] n_estimators=300, min_samples_split=5, min_samples_leaf=1, max_features=sqrt, max_depth=10, criterion=gini \n",
      "[CV]  n_estimators=600, min_samples_split=5, min_samples_leaf=4, max_features=sqrt, max_depth=None, criterion=entropy, total=   4.1s\n",
      "[CV] n_estimators=300, min_samples_split=5, min_samples_leaf=1, max_features=sqrt, max_depth=10, criterion=gini \n",
      "[CV]  n_estimators=300, min_samples_split=10, min_samples_leaf=2, max_features=log2, max_depth=10, criterion=entropy, total=   1.6s\n",
      "[CV] n_estimators=300, min_samples_split=5, min_samples_leaf=1, max_features=sqrt, max_depth=10, criterion=gini \n",
      "[CV]  n_estimators=600, min_samples_split=5, min_samples_leaf=4, max_features=sqrt, max_depth=None, criterion=entropy, total=   4.2s\n",
      "[CV] n_estimators=400, min_samples_split=5, min_samples_leaf=1, max_features=auto, max_depth=30, criterion=gini \n"
     ]
    },
    {
     "name": "stdout",
     "output_type": "stream",
     "text": [
      "[CV]  n_estimators=600, min_samples_split=5, min_samples_leaf=4, max_features=sqrt, max_depth=None, criterion=entropy, total=   4.2s\n",
      "[CV]  n_estimators=300, min_samples_split=5, min_samples_leaf=1, max_features=sqrt, max_depth=10, criterion=gini, total=   1.5s\n",
      "[CV] n_estimators=400, min_samples_split=5, min_samples_leaf=1, max_features=auto, max_depth=30, criterion=gini \n",
      "[CV] n_estimators=400, min_samples_split=5, min_samples_leaf=1, max_features=auto, max_depth=30, criterion=gini \n",
      "[CV]  n_estimators=300, min_samples_split=5, min_samples_leaf=1, max_features=sqrt, max_depth=10, criterion=gini, total=   1.5s\n",
      "[CV] n_estimators=600, min_samples_split=5, min_samples_leaf=4, max_features=auto, max_depth=20, criterion=gini \n",
      "[CV]  n_estimators=300, min_samples_split=5, min_samples_leaf=1, max_features=sqrt, max_depth=10, criterion=gini, total=   1.5s\n",
      "[CV] n_estimators=600, min_samples_split=5, min_samples_leaf=4, max_features=auto, max_depth=20, criterion=gini \n",
      "[CV]  n_estimators=600, min_samples_split=2, min_samples_leaf=1, max_features=auto, max_depth=20, criterion=entropy, total=   4.6s\n",
      "[CV] n_estimators=600, min_samples_split=5, min_samples_leaf=4, max_features=auto, max_depth=20, criterion=gini \n",
      "[CV]  n_estimators=400, min_samples_split=5, min_samples_leaf=1, max_features=auto, max_depth=30, criterion=gini, total=   2.6s\n",
      "[CV] n_estimators=400, min_samples_split=2, min_samples_leaf=4, max_features=sqrt, max_depth=10, criterion=entropy \n",
      "[CV]  n_estimators=400, min_samples_split=5, min_samples_leaf=1, max_features=auto, max_depth=30, criterion=gini, total=   2.6s\n",
      "[CV]  n_estimators=400, min_samples_split=5, min_samples_leaf=1, max_features=auto, max_depth=30, criterion=gini, total=   2.6s\n",
      "[CV]  n_estimators=600, min_samples_split=2, min_samples_leaf=1, max_features=auto, max_depth=20, criterion=entropy, total=   4.4s\n",
      "[CV] n_estimators=400, min_samples_split=2, min_samples_leaf=4, max_features=sqrt, max_depth=10, criterion=entropy \n",
      "[CV] n_estimators=400, min_samples_split=2, min_samples_leaf=4, max_features=sqrt, max_depth=10, criterion=entropy \n",
      "[CV] n_estimators=300, min_samples_split=10, min_samples_leaf=4, max_features=sqrt, max_depth=20, criterion=entropy \n",
      "[CV]  n_estimators=600, min_samples_split=2, min_samples_leaf=1, max_features=auto, max_depth=20, criterion=entropy, total=   4.4s\n",
      "[CV] n_estimators=300, min_samples_split=10, min_samples_leaf=4, max_features=sqrt, max_depth=20, criterion=entropy \n",
      "[CV]  n_estimators=600, min_samples_split=5, min_samples_leaf=4, max_features=auto, max_depth=20, criterion=gini, total=   3.4s\n",
      "[CV] n_estimators=300, min_samples_split=10, min_samples_leaf=4, max_features=sqrt, max_depth=20, criterion=entropy \n",
      "[CV]  n_estimators=600, min_samples_split=5, min_samples_leaf=4, max_features=auto, max_depth=20, criterion=gini, total=   3.4s\n",
      "[CV] n_estimators=300, min_samples_split=10, min_samples_leaf=4, max_features=sqrt, max_depth=10, criterion=gini \n",
      "[CV]  n_estimators=300, min_samples_split=10, min_samples_leaf=4, max_features=sqrt, max_depth=20, criterion=entropy, total=   1.9s\n",
      "[CV] n_estimators=300, min_samples_split=10, min_samples_leaf=4, max_features=sqrt, max_depth=10, criterion=gini \n",
      "[CV]  n_estimators=300, min_samples_split=10, min_samples_leaf=4, max_features=sqrt, max_depth=20, criterion=entropy, total=   1.8s\n",
      "[CV] n_estimators=300, min_samples_split=10, min_samples_leaf=4, max_features=sqrt, max_depth=10, criterion=gini \n",
      "[CV]  n_estimators=400, min_samples_split=2, min_samples_leaf=4, max_features=sqrt, max_depth=10, criterion=entropy, total=   2.2s\n",
      "[CV] n_estimators=600, min_samples_split=5, min_samples_leaf=4, max_features=auto, max_depth=30, criterion=gini \n",
      "[CV]  n_estimators=400, min_samples_split=2, min_samples_leaf=4, max_features=sqrt, max_depth=10, criterion=entropy, total=   2.2s\n",
      "[CV] n_estimators=600, min_samples_split=5, min_samples_leaf=4, max_features=auto, max_depth=30, criterion=gini \n",
      "[CV]  n_estimators=400, min_samples_split=2, min_samples_leaf=4, max_features=sqrt, max_depth=10, criterion=entropy, total=   2.3s\n",
      "[CV] n_estimators=600, min_samples_split=5, min_samples_leaf=4, max_features=auto, max_depth=30, criterion=gini \n",
      "[CV]  n_estimators=300, min_samples_split=10, min_samples_leaf=4, max_features=sqrt, max_depth=10, criterion=gini, total=   1.8s\n",
      "[CV] n_estimators=300, min_samples_split=10, min_samples_leaf=4, max_features=log2, max_depth=None, criterion=entropy \n",
      "[CV]  n_estimators=600, min_samples_split=5, min_samples_leaf=4, max_features=auto, max_depth=20, criterion=gini, total=   3.8s\n",
      "[CV] n_estimators=300, min_samples_split=10, min_samples_leaf=4, max_features=log2, max_depth=None, criterion=entropy \n",
      "[CV]  n_estimators=300, min_samples_split=10, min_samples_leaf=4, max_features=sqrt, max_depth=20, criterion=entropy, total=   2.2s\n",
      "[CV] n_estimators=300, min_samples_split=10, min_samples_leaf=4, max_features=log2, max_depth=None, criterion=entropy \n",
      "[CV]  n_estimators=300, min_samples_split=10, min_samples_leaf=4, max_features=sqrt, max_depth=10, criterion=gini, total=   2.0s\n",
      "[CV] n_estimators=600, min_samples_split=10, min_samples_leaf=2, max_features=log2, max_depth=30, criterion=gini \n",
      "[CV]  n_estimators=300, min_samples_split=10, min_samples_leaf=4, max_features=sqrt, max_depth=10, criterion=gini, total=   2.0s\n",
      "[CV] n_estimators=600, min_samples_split=10, min_samples_leaf=2, max_features=log2, max_depth=30, criterion=gini \n",
      "[CV]  n_estimators=300, min_samples_split=10, min_samples_leaf=4, max_features=log2, max_depth=None, criterion=entropy, total=   2.3s\n",
      "[CV] n_estimators=600, min_samples_split=10, min_samples_leaf=2, max_features=log2, max_depth=30, criterion=gini \n",
      "[CV]  n_estimators=300, min_samples_split=10, min_samples_leaf=4, max_features=log2, max_depth=None, criterion=entropy, total=   2.3s\n",
      "[CV] n_estimators=300, min_samples_split=2, min_samples_leaf=4, max_features=auto, max_depth=20, criterion=entropy \n",
      "[CV]  n_estimators=300, min_samples_split=10, min_samples_leaf=4, max_features=log2, max_depth=None, criterion=entropy, total=   2.3s\n",
      "[CV] n_estimators=300, min_samples_split=2, min_samples_leaf=4, max_features=auto, max_depth=20, criterion=entropy \n",
      "[CV]  n_estimators=600, min_samples_split=5, min_samples_leaf=4, max_features=auto, max_depth=30, criterion=gini, total=   4.6s\n",
      "[CV] n_estimators=300, min_samples_split=2, min_samples_leaf=4, max_features=auto, max_depth=20, criterion=entropy \n",
      "[CV]  n_estimators=600, min_samples_split=5, min_samples_leaf=4, max_features=auto, max_depth=30, criterion=gini, total=   4.6s\n",
      "[CV]  n_estimators=600, min_samples_split=5, min_samples_leaf=4, max_features=auto, max_depth=30, criterion=gini, total=   4.6s\n",
      "[CV] n_estimators=400, min_samples_split=2, min_samples_leaf=1, max_features=auto, max_depth=20, criterion=entropy \n",
      "[CV] n_estimators=400, min_samples_split=2, min_samples_leaf=1, max_features=auto, max_depth=20, criterion=entropy \n",
      "[CV]  n_estimators=300, min_samples_split=2, min_samples_leaf=4, max_features=auto, max_depth=20, criterion=entropy, total=   2.1s\n",
      "[CV] n_estimators=400, min_samples_split=2, min_samples_leaf=1, max_features=auto, max_depth=20, criterion=entropy \n",
      "[CV]  n_estimators=300, min_samples_split=2, min_samples_leaf=4, max_features=auto, max_depth=20, criterion=entropy, total=   2.1s\n",
      "[CV] n_estimators=600, min_samples_split=5, min_samples_leaf=1, max_features=auto, max_depth=None, criterion=entropy \n",
      "[CV]  n_estimators=600, min_samples_split=10, min_samples_leaf=2, max_features=log2, max_depth=30, criterion=gini, total=   3.9s\n",
      "[CV] n_estimators=600, min_samples_split=5, min_samples_leaf=1, max_features=auto, max_depth=None, criterion=entropy \n",
      "[CV]  n_estimators=600, min_samples_split=10, min_samples_leaf=2, max_features=log2, max_depth=30, criterion=gini, total=   3.8s\n",
      "[CV] n_estimators=600, min_samples_split=5, min_samples_leaf=1, max_features=auto, max_depth=None, criterion=entropy \n",
      "[CV]  n_estimators=300, min_samples_split=2, min_samples_leaf=4, max_features=auto, max_depth=20, criterion=entropy, total=   2.3s\n",
      "[CV] n_estimators=400, min_samples_split=2, min_samples_leaf=1, max_features=sqrt, max_depth=None, criterion=entropy \n",
      "[CV]  n_estimators=600, min_samples_split=10, min_samples_leaf=2, max_features=log2, max_depth=30, criterion=gini, total=   3.6s\n"
     ]
    },
    {
     "name": "stdout",
     "output_type": "stream",
     "text": [
      "[CV] n_estimators=400, min_samples_split=2, min_samples_leaf=1, max_features=sqrt, max_depth=None, criterion=entropy \n",
      "[CV]  n_estimators=400, min_samples_split=2, min_samples_leaf=1, max_features=auto, max_depth=20, criterion=entropy, total=   3.4s\n",
      "[CV] n_estimators=400, min_samples_split=2, min_samples_leaf=1, max_features=sqrt, max_depth=None, criterion=entropy \n",
      "[CV]  n_estimators=400, min_samples_split=2, min_samples_leaf=1, max_features=auto, max_depth=20, criterion=entropy, total=   3.5s\n",
      "[CV] n_estimators=600, min_samples_split=2, min_samples_leaf=2, max_features=log2, max_depth=10, criterion=gini \n",
      "[CV]  n_estimators=400, min_samples_split=2, min_samples_leaf=1, max_features=auto, max_depth=20, criterion=entropy, total=   3.6s\n",
      "[CV] n_estimators=600, min_samples_split=2, min_samples_leaf=2, max_features=log2, max_depth=10, criterion=gini \n",
      "[CV]  n_estimators=400, min_samples_split=2, min_samples_leaf=1, max_features=sqrt, max_depth=None, criterion=entropy, total=   3.7s\n",
      "[CV] n_estimators=600, min_samples_split=2, min_samples_leaf=2, max_features=log2, max_depth=10, criterion=gini \n",
      "[CV]  n_estimators=400, min_samples_split=2, min_samples_leaf=1, max_features=sqrt, max_depth=None, criterion=entropy, total=   3.7s\n",
      "[CV] n_estimators=500, min_samples_split=10, min_samples_leaf=4, max_features=sqrt, max_depth=10, criterion=gini \n",
      "[CV]  n_estimators=600, min_samples_split=5, min_samples_leaf=1, max_features=auto, max_depth=None, criterion=entropy, total=   5.3s\n",
      "[CV] n_estimators=500, min_samples_split=10, min_samples_leaf=4, max_features=sqrt, max_depth=10, criterion=gini \n",
      "[CV]  n_estimators=600, min_samples_split=5, min_samples_leaf=1, max_features=auto, max_depth=None, criterion=entropy, total=   5.5s\n",
      "[CV] n_estimators=500, min_samples_split=10, min_samples_leaf=4, max_features=sqrt, max_depth=10, criterion=gini \n",
      "[CV]  n_estimators=600, min_samples_split=5, min_samples_leaf=1, max_features=auto, max_depth=None, criterion=entropy, total=   5.3s\n",
      "[CV] n_estimators=300, min_samples_split=2, min_samples_leaf=4, max_features=auto, max_depth=10, criterion=gini \n",
      "[CV]  n_estimators=600, min_samples_split=2, min_samples_leaf=2, max_features=log2, max_depth=10, criterion=gini, total=   3.2s\n",
      "[CV] n_estimators=300, min_samples_split=2, min_samples_leaf=4, max_features=auto, max_depth=10, criterion=gini \n",
      "[CV]  n_estimators=400, min_samples_split=2, min_samples_leaf=1, max_features=sqrt, max_depth=None, criterion=entropy, total=   3.7s\n",
      "[CV] n_estimators=300, min_samples_split=2, min_samples_leaf=4, max_features=auto, max_depth=10, criterion=gini \n",
      "[CV]  n_estimators=600, min_samples_split=2, min_samples_leaf=2, max_features=log2, max_depth=10, criterion=gini, total=   3.0s\n",
      "[CV] n_estimators=400, min_samples_split=5, min_samples_leaf=2, max_features=log2, max_depth=20, criterion=entropy \n",
      "[CV]  n_estimators=300, min_samples_split=2, min_samples_leaf=4, max_features=auto, max_depth=10, criterion=gini, total=   1.6s\n",
      "[CV] n_estimators=400, min_samples_split=5, min_samples_leaf=2, max_features=log2, max_depth=20, criterion=entropy \n",
      "[CV]  n_estimators=300, min_samples_split=2, min_samples_leaf=4, max_features=auto, max_depth=10, criterion=gini, total=   1.8s\n",
      "[CV] n_estimators=400, min_samples_split=5, min_samples_leaf=2, max_features=log2, max_depth=20, criterion=entropy \n",
      "[CV]  n_estimators=600, min_samples_split=2, min_samples_leaf=2, max_features=log2, max_depth=10, criterion=gini, total=   3.1s\n",
      "[CV] n_estimators=500, min_samples_split=2, min_samples_leaf=1, max_features=auto, max_depth=10, criterion=entropy \n",
      "[CV]  n_estimators=500, min_samples_split=10, min_samples_leaf=4, max_features=sqrt, max_depth=10, criterion=gini, total=   3.0s\n",
      "[CV] n_estimators=500, min_samples_split=2, min_samples_leaf=1, max_features=auto, max_depth=10, criterion=entropy \n",
      "[CV]  n_estimators=300, min_samples_split=2, min_samples_leaf=4, max_features=auto, max_depth=10, criterion=gini, total=   1.8s\n",
      "[CV] n_estimators=500, min_samples_split=2, min_samples_leaf=1, max_features=auto, max_depth=10, criterion=entropy \n",
      "[CV]  n_estimators=500, min_samples_split=10, min_samples_leaf=4, max_features=sqrt, max_depth=10, criterion=gini, total=   3.0s\n",
      "[CV] n_estimators=400, min_samples_split=10, min_samples_leaf=1, max_features=sqrt, max_depth=20, criterion=gini \n",
      "[CV]  n_estimators=500, min_samples_split=10, min_samples_leaf=4, max_features=sqrt, max_depth=10, criterion=gini, total=   2.9s\n",
      "[CV] n_estimators=400, min_samples_split=10, min_samples_leaf=1, max_features=sqrt, max_depth=20, criterion=gini \n",
      "[CV]  n_estimators=400, min_samples_split=5, min_samples_leaf=2, max_features=log2, max_depth=20, criterion=entropy, total=   2.5s\n",
      "[CV] n_estimators=400, min_samples_split=10, min_samples_leaf=1, max_features=sqrt, max_depth=20, criterion=gini \n",
      "[CV]  n_estimators=400, min_samples_split=5, min_samples_leaf=2, max_features=log2, max_depth=20, criterion=entropy, total=   2.5s\n",
      "[CV] n_estimators=500, min_samples_split=10, min_samples_leaf=4, max_features=sqrt, max_depth=None, criterion=gini \n"
     ]
    },
    {
     "name": "stderr",
     "output_type": "stream",
     "text": [
      "[Parallel(n_jobs=-1)]: Done 146 tasks      | elapsed:   56.1s\n"
     ]
    },
    {
     "name": "stdout",
     "output_type": "stream",
     "text": [
      "[CV]  n_estimators=400, min_samples_split=5, min_samples_leaf=2, max_features=log2, max_depth=20, criterion=entropy, total=   2.4s\n",
      "[CV] n_estimators=500, min_samples_split=10, min_samples_leaf=4, max_features=sqrt, max_depth=None, criterion=gini \n",
      "[CV]  n_estimators=400, min_samples_split=10, min_samples_leaf=1, max_features=sqrt, max_depth=20, criterion=gini, total=   2.6s\n",
      "[CV]  n_estimators=500, min_samples_split=2, min_samples_leaf=1, max_features=auto, max_depth=10, criterion=entropy, total=   2.9s\n",
      "[CV] n_estimators=500, min_samples_split=10, min_samples_leaf=4, max_features=sqrt, max_depth=None, criterion=gini \n",
      "[CV] n_estimators=300, min_samples_split=5, min_samples_leaf=2, max_features=log2, max_depth=30, criterion=gini \n",
      "[CV]  n_estimators=500, min_samples_split=2, min_samples_leaf=1, max_features=auto, max_depth=10, criterion=entropy, total=   3.0s\n",
      "[CV] n_estimators=300, min_samples_split=5, min_samples_leaf=2, max_features=log2, max_depth=30, criterion=gini \n",
      "[CV]  n_estimators=500, min_samples_split=2, min_samples_leaf=1, max_features=auto, max_depth=10, criterion=entropy, total=   3.0s\n",
      "[CV] n_estimators=300, min_samples_split=5, min_samples_leaf=2, max_features=log2, max_depth=30, criterion=gini \n",
      "[CV]  n_estimators=400, min_samples_split=10, min_samples_leaf=1, max_features=sqrt, max_depth=20, criterion=gini, total=   2.7s\n",
      "[CV] n_estimators=600, min_samples_split=2, min_samples_leaf=2, max_features=sqrt, max_depth=20, criterion=gini \n",
      "[CV]  n_estimators=400, min_samples_split=10, min_samples_leaf=1, max_features=sqrt, max_depth=20, criterion=gini, total=   3.0s\n",
      "[CV] n_estimators=600, min_samples_split=2, min_samples_leaf=2, max_features=sqrt, max_depth=20, criterion=gini \n",
      "[CV]  n_estimators=300, min_samples_split=5, min_samples_leaf=2, max_features=log2, max_depth=30, criterion=gini, total=   1.8s\n",
      "[CV] n_estimators=600, min_samples_split=2, min_samples_leaf=2, max_features=sqrt, max_depth=20, criterion=gini \n",
      "[CV]  n_estimators=300, min_samples_split=5, min_samples_leaf=2, max_features=log2, max_depth=30, criterion=gini, total=   1.7s\n",
      "[CV] n_estimators=300, min_samples_split=5, min_samples_leaf=4, max_features=sqrt, max_depth=10, criterion=entropy \n",
      "[CV]  n_estimators=300, min_samples_split=5, min_samples_leaf=2, max_features=log2, max_depth=30, criterion=gini, total=   1.7s\n",
      "[CV] n_estimators=300, min_samples_split=5, min_samples_leaf=4, max_features=sqrt, max_depth=10, criterion=entropy \n",
      "[CV]  n_estimators=500, min_samples_split=10, min_samples_leaf=4, max_features=sqrt, max_depth=None, criterion=gini, total=   3.2s\n",
      "[CV] n_estimators=300, min_samples_split=5, min_samples_leaf=4, max_features=sqrt, max_depth=10, criterion=entropy \n",
      "[CV]  n_estimators=500, min_samples_split=10, min_samples_leaf=4, max_features=sqrt, max_depth=None, criterion=gini, total=   3.3s\n",
      "[CV] n_estimators=600, min_samples_split=2, min_samples_leaf=4, max_features=auto, max_depth=30, criterion=entropy \n",
      "[CV]  n_estimators=500, min_samples_split=10, min_samples_leaf=4, max_features=sqrt, max_depth=None, criterion=gini, total=   3.2s\n",
      "[CV] n_estimators=600, min_samples_split=2, min_samples_leaf=4, max_features=auto, max_depth=30, criterion=entropy \n",
      "[CV]  n_estimators=300, min_samples_split=5, min_samples_leaf=4, max_features=sqrt, max_depth=10, criterion=entropy, total=   1.7s\n",
      "[CV] n_estimators=600, min_samples_split=2, min_samples_leaf=4, max_features=auto, max_depth=30, criterion=entropy \n",
      "[CV]  n_estimators=300, min_samples_split=5, min_samples_leaf=4, max_features=sqrt, max_depth=10, criterion=entropy, total=   1.7s\n",
      "[CV] n_estimators=500, min_samples_split=2, min_samples_leaf=4, max_features=log2, max_depth=30, criterion=entropy \n",
      "[CV]  n_estimators=300, min_samples_split=5, min_samples_leaf=4, max_features=sqrt, max_depth=10, criterion=entropy, total=   1.7s\n",
      "[CV] n_estimators=500, min_samples_split=2, min_samples_leaf=4, max_features=log2, max_depth=30, criterion=entropy \n",
      "[CV]  n_estimators=600, min_samples_split=2, min_samples_leaf=2, max_features=sqrt, max_depth=20, criterion=gini, total=   4.2s\n",
      "[CV] n_estimators=500, min_samples_split=2, min_samples_leaf=4, max_features=log2, max_depth=30, criterion=entropy \n",
      "[CV]  n_estimators=600, min_samples_split=2, min_samples_leaf=2, max_features=sqrt, max_depth=20, criterion=gini, total=   4.1s\n",
      "[CV] n_estimators=200, min_samples_split=2, min_samples_leaf=4, max_features=log2, max_depth=10, criterion=entropy \n",
      "[CV]  n_estimators=600, min_samples_split=2, min_samples_leaf=2, max_features=sqrt, max_depth=20, criterion=gini, total=   4.0s\n",
      "[CV] n_estimators=200, min_samples_split=2, min_samples_leaf=4, max_features=log2, max_depth=10, criterion=entropy \n",
      "[CV]  n_estimators=200, min_samples_split=2, min_samples_leaf=4, max_features=log2, max_depth=10, criterion=entropy, total=   0.9s\n",
      "[CV] n_estimators=200, min_samples_split=2, min_samples_leaf=4, max_features=log2, max_depth=10, criterion=entropy \n",
      "[CV]  n_estimators=600, min_samples_split=2, min_samples_leaf=4, max_features=auto, max_depth=30, criterion=entropy, total=   3.9s\n",
      "[CV] n_estimators=500, min_samples_split=2, min_samples_leaf=1, max_features=sqrt, max_depth=None, criterion=gini \n",
      "[CV]  n_estimators=500, min_samples_split=2, min_samples_leaf=4, max_features=log2, max_depth=30, criterion=entropy, total=   2.6s\n",
      "[CV] n_estimators=500, min_samples_split=2, min_samples_leaf=1, max_features=sqrt, max_depth=None, criterion=gini \n",
      "[CV]  n_estimators=500, min_samples_split=2, min_samples_leaf=4, max_features=log2, max_depth=30, criterion=entropy, total=   2.6s\n",
      "[CV] n_estimators=500, min_samples_split=2, min_samples_leaf=1, max_features=sqrt, max_depth=None, criterion=gini \n",
      "[CV]  n_estimators=200, min_samples_split=2, min_samples_leaf=4, max_features=log2, max_depth=10, criterion=entropy, total=   1.0s\n",
      "[CV] n_estimators=400, min_samples_split=10, min_samples_leaf=2, max_features=sqrt, max_depth=30, criterion=entropy \n",
      "[CV]  n_estimators=200, min_samples_split=2, min_samples_leaf=4, max_features=log2, max_depth=10, criterion=entropy, total=   1.0s\n",
      "[CV]  n_estimators=500, min_samples_split=2, min_samples_leaf=4, max_features=log2, max_depth=30, criterion=entropy, total=   2.7s\n",
      "[CV] n_estimators=400, min_samples_split=10, min_samples_leaf=2, max_features=sqrt, max_depth=30, criterion=entropy \n",
      "[CV] n_estimators=400, min_samples_split=10, min_samples_leaf=2, max_features=sqrt, max_depth=30, criterion=entropy \n",
      "[CV]  n_estimators=600, min_samples_split=2, min_samples_leaf=4, max_features=auto, max_depth=30, criterion=entropy, total=   4.0s\n",
      "[CV] n_estimators=200, min_samples_split=5, min_samples_leaf=4, max_features=auto, max_depth=None, criterion=gini \n",
      "[CV]  n_estimators=600, min_samples_split=2, min_samples_leaf=4, max_features=auto, max_depth=30, criterion=entropy, total=   3.9s\n",
      "[CV] n_estimators=200, min_samples_split=5, min_samples_leaf=4, max_features=auto, max_depth=None, criterion=gini \n",
      "[CV]  n_estimators=200, min_samples_split=5, min_samples_leaf=4, max_features=auto, max_depth=None, criterion=gini, total=   1.2s\n",
      "[CV] n_estimators=200, min_samples_split=5, min_samples_leaf=4, max_features=auto, max_depth=None, criterion=gini \n",
      "[CV]  n_estimators=200, min_samples_split=5, min_samples_leaf=4, max_features=auto, max_depth=None, criterion=gini, total=   1.3s\n",
      "[CV] n_estimators=400, min_samples_split=10, min_samples_leaf=2, max_features=log2, max_depth=None, criterion=entropy \n",
      "[CV]  n_estimators=200, min_samples_split=5, min_samples_leaf=4, max_features=auto, max_depth=None, criterion=gini, total=   1.1s\n",
      "[CV]  n_estimators=400, min_samples_split=10, min_samples_leaf=2, max_features=sqrt, max_depth=30, criterion=entropy, total=   2.7s\n",
      "[CV] n_estimators=400, min_samples_split=10, min_samples_leaf=2, max_features=log2, max_depth=None, criterion=entropy \n",
      "[CV] n_estimators=400, min_samples_split=10, min_samples_leaf=2, max_features=log2, max_depth=None, criterion=entropy \n",
      "[CV]  n_estimators=400, min_samples_split=10, min_samples_leaf=2, max_features=sqrt, max_depth=30, criterion=entropy, total=   2.7s\n",
      "[CV] n_estimators=400, min_samples_split=2, min_samples_leaf=2, max_features=auto, max_depth=20, criterion=entropy \n",
      "[CV]  n_estimators=400, min_samples_split=10, min_samples_leaf=2, max_features=sqrt, max_depth=30, criterion=entropy, total=   2.7s\n"
     ]
    },
    {
     "name": "stdout",
     "output_type": "stream",
     "text": [
      "[CV] n_estimators=400, min_samples_split=2, min_samples_leaf=2, max_features=auto, max_depth=20, criterion=entropy \n",
      "[CV]  n_estimators=500, min_samples_split=2, min_samples_leaf=1, max_features=sqrt, max_depth=None, criterion=gini, total=   3.5s\n",
      "[CV] n_estimators=400, min_samples_split=2, min_samples_leaf=2, max_features=auto, max_depth=20, criterion=entropy \n",
      "[CV]  n_estimators=500, min_samples_split=2, min_samples_leaf=1, max_features=sqrt, max_depth=None, criterion=gini, total=   3.6s\n",
      "[CV]  n_estimators=500, min_samples_split=2, min_samples_leaf=1, max_features=sqrt, max_depth=None, criterion=gini, total=   3.4s\n",
      "[CV] n_estimators=600, min_samples_split=2, min_samples_leaf=2, max_features=auto, max_depth=30, criterion=gini \n",
      "[CV] n_estimators=600, min_samples_split=2, min_samples_leaf=2, max_features=auto, max_depth=30, criterion=gini \n",
      "[CV]  n_estimators=400, min_samples_split=10, min_samples_leaf=2, max_features=log2, max_depth=None, criterion=entropy, total=   2.2s\n",
      "[CV] n_estimators=600, min_samples_split=2, min_samples_leaf=2, max_features=auto, max_depth=30, criterion=gini \n",
      "[CV]  n_estimators=400, min_samples_split=10, min_samples_leaf=2, max_features=log2, max_depth=None, criterion=entropy, total=   2.2s\n",
      "[CV] n_estimators=600, min_samples_split=10, min_samples_leaf=4, max_features=auto, max_depth=30, criterion=entropy \n",
      "[CV]  n_estimators=400, min_samples_split=10, min_samples_leaf=2, max_features=log2, max_depth=None, criterion=entropy, total=   2.2s\n",
      "[CV] n_estimators=600, min_samples_split=10, min_samples_leaf=4, max_features=auto, max_depth=30, criterion=entropy \n",
      "[CV]  n_estimators=400, min_samples_split=2, min_samples_leaf=2, max_features=auto, max_depth=20, criterion=entropy, total=   2.7s\n",
      "[CV] n_estimators=600, min_samples_split=10, min_samples_leaf=4, max_features=auto, max_depth=30, criterion=entropy \n",
      "[CV]  n_estimators=400, min_samples_split=2, min_samples_leaf=2, max_features=auto, max_depth=20, criterion=entropy, total=   2.8s\n",
      "[CV] n_estimators=600, min_samples_split=5, min_samples_leaf=1, max_features=auto, max_depth=30, criterion=entropy \n",
      "[CV]  n_estimators=400, min_samples_split=2, min_samples_leaf=2, max_features=auto, max_depth=20, criterion=entropy, total=   2.9s\n",
      "[CV] n_estimators=600, min_samples_split=5, min_samples_leaf=1, max_features=auto, max_depth=30, criterion=entropy \n",
      "[CV]  n_estimators=600, min_samples_split=2, min_samples_leaf=2, max_features=auto, max_depth=30, criterion=gini, total=   4.2s\n",
      "[CV] n_estimators=600, min_samples_split=5, min_samples_leaf=1, max_features=auto, max_depth=30, criterion=entropy \n",
      "[CV]  n_estimators=600, min_samples_split=2, min_samples_leaf=2, max_features=auto, max_depth=30, criterion=gini, total=   4.2s\n",
      "[CV] n_estimators=300, min_samples_split=5, min_samples_leaf=2, max_features=sqrt, max_depth=30, criterion=entropy \n",
      "[CV]  n_estimators=600, min_samples_split=2, min_samples_leaf=2, max_features=auto, max_depth=30, criterion=gini, total=   4.4s\n",
      "[CV] n_estimators=300, min_samples_split=5, min_samples_leaf=2, max_features=sqrt, max_depth=30, criterion=entropy \n",
      "[CV]  n_estimators=600, min_samples_split=10, min_samples_leaf=4, max_features=auto, max_depth=30, criterion=entropy, total=   4.2s\n",
      "[CV] n_estimators=300, min_samples_split=5, min_samples_leaf=2, max_features=sqrt, max_depth=30, criterion=entropy \n",
      "[CV]  n_estimators=600, min_samples_split=10, min_samples_leaf=4, max_features=auto, max_depth=30, criterion=entropy, total=   4.3s\n",
      "[CV] n_estimators=400, min_samples_split=10, min_samples_leaf=2, max_features=sqrt, max_depth=None, criterion=gini \n",
      "[CV]  n_estimators=300, min_samples_split=5, min_samples_leaf=2, max_features=sqrt, max_depth=30, criterion=entropy, total=   2.2s\n",
      "[CV] n_estimators=400, min_samples_split=10, min_samples_leaf=2, max_features=sqrt, max_depth=None, criterion=gini \n",
      "[CV]  n_estimators=600, min_samples_split=10, min_samples_leaf=4, max_features=auto, max_depth=30, criterion=entropy, total=   4.1s\n",
      "[CV] n_estimators=400, min_samples_split=10, min_samples_leaf=2, max_features=sqrt, max_depth=None, criterion=gini \n",
      "[CV]  n_estimators=300, min_samples_split=5, min_samples_leaf=2, max_features=sqrt, max_depth=30, criterion=entropy, total=   2.0s\n",
      "[CV] n_estimators=300, min_samples_split=5, min_samples_leaf=4, max_features=log2, max_depth=None, criterion=gini \n",
      "[CV]  n_estimators=600, min_samples_split=5, min_samples_leaf=1, max_features=auto, max_depth=30, criterion=entropy, total=   4.8s\n",
      "[CV] n_estimators=300, min_samples_split=5, min_samples_leaf=4, max_features=log2, max_depth=None, criterion=gini \n",
      "[CV]  n_estimators=600, min_samples_split=5, min_samples_leaf=1, max_features=auto, max_depth=30, criterion=entropy, total=   4.8s\n",
      "[CV] n_estimators=300, min_samples_split=5, min_samples_leaf=4, max_features=log2, max_depth=None, criterion=gini \n",
      "[CV]  n_estimators=300, min_samples_split=5, min_samples_leaf=2, max_features=sqrt, max_depth=30, criterion=entropy, total=   2.0s\n",
      "[CV] n_estimators=200, min_samples_split=2, min_samples_leaf=2, max_features=auto, max_depth=30, criterion=entropy \n",
      "[CV]  n_estimators=400, min_samples_split=10, min_samples_leaf=2, max_features=sqrt, max_depth=None, criterion=gini, total=   2.4s\n",
      "[CV] n_estimators=200, min_samples_split=2, min_samples_leaf=2, max_features=auto, max_depth=30, criterion=entropy \n",
      "[CV]  n_estimators=600, min_samples_split=5, min_samples_leaf=1, max_features=auto, max_depth=30, criterion=entropy, total=   4.5s\n",
      "[CV] n_estimators=200, min_samples_split=2, min_samples_leaf=2, max_features=auto, max_depth=30, criterion=entropy \n",
      "[CV]  n_estimators=300, min_samples_split=5, min_samples_leaf=4, max_features=log2, max_depth=None, criterion=gini, total=   1.5s\n",
      "[CV] n_estimators=200, min_samples_split=5, min_samples_leaf=2, max_features=auto, max_depth=10, criterion=entropy \n",
      "[CV]  n_estimators=300, min_samples_split=5, min_samples_leaf=4, max_features=log2, max_depth=None, criterion=gini, total=   1.5s\n",
      "[CV] n_estimators=200, min_samples_split=5, min_samples_leaf=2, max_features=auto, max_depth=10, criterion=entropy \n",
      "[CV]  n_estimators=400, min_samples_split=10, min_samples_leaf=2, max_features=sqrt, max_depth=None, criterion=gini, total=   2.5s\n",
      "[CV] n_estimators=200, min_samples_split=5, min_samples_leaf=2, max_features=auto, max_depth=10, criterion=entropy \n",
      "[CV]  n_estimators=400, min_samples_split=10, min_samples_leaf=2, max_features=sqrt, max_depth=None, criterion=gini, total=   2.4s\n",
      "[CV] n_estimators=600, min_samples_split=5, min_samples_leaf=2, max_features=sqrt, max_depth=None, criterion=entropy \n",
      "[CV]  n_estimators=300, min_samples_split=5, min_samples_leaf=4, max_features=log2, max_depth=None, criterion=gini, total=   1.6s\n",
      "[CV] n_estimators=600, min_samples_split=5, min_samples_leaf=2, max_features=sqrt, max_depth=None, criterion=entropy \n",
      "[CV]  n_estimators=200, min_samples_split=2, min_samples_leaf=2, max_features=auto, max_depth=30, criterion=entropy, total=   1.7s\n",
      "[CV] n_estimators=600, min_samples_split=5, min_samples_leaf=2, max_features=sqrt, max_depth=None, criterion=entropy \n",
      "[CV]  n_estimators=200, min_samples_split=2, min_samples_leaf=2, max_features=auto, max_depth=30, criterion=entropy, total=   1.7s\n",
      "[CV] n_estimators=300, min_samples_split=10, min_samples_leaf=1, max_features=sqrt, max_depth=10, criterion=entropy \n",
      "[CV]  n_estimators=200, min_samples_split=5, min_samples_leaf=2, max_features=auto, max_depth=10, criterion=entropy, total=   1.3s\n",
      "[CV] n_estimators=300, min_samples_split=10, min_samples_leaf=1, max_features=sqrt, max_depth=10, criterion=entropy \n",
      "[CV]  n_estimators=200, min_samples_split=5, min_samples_leaf=2, max_features=auto, max_depth=10, criterion=entropy, total=   1.3s\n",
      "[CV] n_estimators=300, min_samples_split=10, min_samples_leaf=1, max_features=sqrt, max_depth=10, criterion=entropy \n",
      "[CV]  n_estimators=200, min_samples_split=5, min_samples_leaf=2, max_features=auto, max_depth=10, criterion=entropy, total=   1.3s\n",
      "[CV] n_estimators=400, min_samples_split=2, min_samples_leaf=2, max_features=log2, max_depth=30, criterion=gini \n",
      "[CV]  n_estimators=200, min_samples_split=2, min_samples_leaf=2, max_features=auto, max_depth=30, criterion=entropy, total=   1.7s\n",
      "[CV] n_estimators=400, min_samples_split=2, min_samples_leaf=2, max_features=log2, max_depth=30, criterion=gini \n"
     ]
    },
    {
     "name": "stdout",
     "output_type": "stream",
     "text": [
      "[CV]  n_estimators=300, min_samples_split=10, min_samples_leaf=1, max_features=sqrt, max_depth=10, criterion=entropy, total=   1.5s\n",
      "[CV] n_estimators=400, min_samples_split=2, min_samples_leaf=2, max_features=log2, max_depth=30, criterion=gini \n",
      "[CV]  n_estimators=300, min_samples_split=10, min_samples_leaf=1, max_features=sqrt, max_depth=10, criterion=entropy, total=   1.5s\n",
      "[CV] n_estimators=500, min_samples_split=5, min_samples_leaf=2, max_features=log2, max_depth=10, criterion=gini \n",
      "[CV]  n_estimators=300, min_samples_split=10, min_samples_leaf=1, max_features=sqrt, max_depth=10, criterion=entropy, total=   1.5s\n",
      "[CV] n_estimators=500, min_samples_split=5, min_samples_leaf=2, max_features=log2, max_depth=10, criterion=gini \n",
      "[CV]  n_estimators=400, min_samples_split=2, min_samples_leaf=2, max_features=log2, max_depth=30, criterion=gini, total=   2.0s\n",
      "[CV] n_estimators=500, min_samples_split=5, min_samples_leaf=2, max_features=log2, max_depth=10, criterion=gini \n",
      "[CV]  n_estimators=400, min_samples_split=2, min_samples_leaf=2, max_features=log2, max_depth=30, criterion=gini, total=   2.1s\n",
      "[CV] n_estimators=500, min_samples_split=5, min_samples_leaf=4, max_features=auto, max_depth=10, criterion=entropy \n",
      "[CV]  n_estimators=600, min_samples_split=5, min_samples_leaf=2, max_features=sqrt, max_depth=None, criterion=entropy, total=   4.9s\n",
      "[CV] n_estimators=500, min_samples_split=5, min_samples_leaf=4, max_features=auto, max_depth=10, criterion=entropy \n",
      "[CV]  n_estimators=600, min_samples_split=5, min_samples_leaf=2, max_features=sqrt, max_depth=None, criterion=entropy, total=   4.9s\n",
      "[CV] n_estimators=500, min_samples_split=5, min_samples_leaf=4, max_features=auto, max_depth=10, criterion=entropy \n",
      "[CV]  n_estimators=400, min_samples_split=2, min_samples_leaf=2, max_features=log2, max_depth=30, criterion=gini, total=   2.9s\n",
      "[CV] n_estimators=600, min_samples_split=5, min_samples_leaf=4, max_features=log2, max_depth=None, criterion=entropy \n",
      "[CV]  n_estimators=600, min_samples_split=5, min_samples_leaf=2, max_features=sqrt, max_depth=None, criterion=entropy, total=   5.0s\n",
      "[CV]  n_estimators=500, min_samples_split=5, min_samples_leaf=2, max_features=log2, max_depth=10, criterion=gini, total=   3.0s\n",
      "[CV] n_estimators=600, min_samples_split=5, min_samples_leaf=4, max_features=log2, max_depth=None, criterion=entropy \n",
      "[CV] n_estimators=600, min_samples_split=5, min_samples_leaf=4, max_features=log2, max_depth=None, criterion=entropy \n",
      "[CV]  n_estimators=500, min_samples_split=5, min_samples_leaf=2, max_features=log2, max_depth=10, criterion=gini, total=   2.9s\n",
      "[CV] n_estimators=600, min_samples_split=2, min_samples_leaf=1, max_features=auto, max_depth=None, criterion=entropy \n",
      "[CV]  n_estimators=500, min_samples_split=5, min_samples_leaf=2, max_features=log2, max_depth=10, criterion=gini, total=   3.2s\n",
      "[CV] n_estimators=600, min_samples_split=2, min_samples_leaf=1, max_features=auto, max_depth=None, criterion=entropy \n",
      "[CV]  n_estimators=500, min_samples_split=5, min_samples_leaf=4, max_features=auto, max_depth=10, criterion=entropy, total=   3.9s\n",
      "[CV] n_estimators=600, min_samples_split=2, min_samples_leaf=1, max_features=auto, max_depth=None, criterion=entropy \n",
      "[CV]  n_estimators=500, min_samples_split=5, min_samples_leaf=4, max_features=auto, max_depth=10, criterion=entropy, total=   3.5s\n",
      "[CV] n_estimators=300, min_samples_split=10, min_samples_leaf=2, max_features=sqrt, max_depth=30, criterion=entropy \n",
      "[CV]  n_estimators=500, min_samples_split=5, min_samples_leaf=4, max_features=auto, max_depth=10, criterion=entropy, total=   3.4s\n",
      "[CV] n_estimators=300, min_samples_split=10, min_samples_leaf=2, max_features=sqrt, max_depth=30, criterion=entropy \n",
      "[CV]  n_estimators=600, min_samples_split=5, min_samples_leaf=4, max_features=log2, max_depth=None, criterion=entropy, total=   3.8s\n",
      "[CV] n_estimators=300, min_samples_split=10, min_samples_leaf=2, max_features=sqrt, max_depth=30, criterion=entropy \n",
      "[CV]  n_estimators=600, min_samples_split=5, min_samples_leaf=4, max_features=log2, max_depth=None, criterion=entropy, total=   3.8s\n",
      "[CV] n_estimators=200, min_samples_split=2, min_samples_leaf=1, max_features=auto, max_depth=None, criterion=entropy \n",
      "[CV]  n_estimators=600, min_samples_split=5, min_samples_leaf=4, max_features=log2, max_depth=None, criterion=entropy, total=   3.9s\n",
      "[CV] n_estimators=200, min_samples_split=2, min_samples_leaf=1, max_features=auto, max_depth=None, criterion=entropy \n",
      "[CV]  n_estimators=300, min_samples_split=10, min_samples_leaf=2, max_features=sqrt, max_depth=30, criterion=entropy, total=   2.5s\n",
      "[CV] n_estimators=200, min_samples_split=2, min_samples_leaf=1, max_features=auto, max_depth=None, criterion=entropy \n",
      "[CV]  n_estimators=300, min_samples_split=10, min_samples_leaf=2, max_features=sqrt, max_depth=30, criterion=entropy, total=   2.4s\n",
      "[CV] n_estimators=300, min_samples_split=2, min_samples_leaf=4, max_features=log2, max_depth=20, criterion=gini \n",
      "[CV]  n_estimators=200, min_samples_split=2, min_samples_leaf=1, max_features=auto, max_depth=None, criterion=entropy, total=   1.8s\n",
      "[CV] n_estimators=300, min_samples_split=2, min_samples_leaf=4, max_features=log2, max_depth=20, criterion=gini \n",
      "[CV]  n_estimators=200, min_samples_split=2, min_samples_leaf=1, max_features=auto, max_depth=None, criterion=entropy, total=   1.8s\n",
      "[CV] n_estimators=300, min_samples_split=2, min_samples_leaf=4, max_features=log2, max_depth=20, criterion=gini \n",
      "[CV]  n_estimators=600, min_samples_split=2, min_samples_leaf=1, max_features=auto, max_depth=None, criterion=entropy, total=   5.9s\n",
      "[CV] n_estimators=300, min_samples_split=10, min_samples_leaf=2, max_features=sqrt, max_depth=10, criterion=entropy \n",
      "[CV]  n_estimators=300, min_samples_split=10, min_samples_leaf=2, max_features=sqrt, max_depth=30, criterion=entropy, total=   2.5s\n",
      "[CV] n_estimators=300, min_samples_split=10, min_samples_leaf=2, max_features=sqrt, max_depth=10, criterion=entropy \n",
      "[CV]  n_estimators=600, min_samples_split=2, min_samples_leaf=1, max_features=auto, max_depth=None, criterion=entropy, total=   5.8s\n",
      "[CV] n_estimators=300, min_samples_split=10, min_samples_leaf=2, max_features=sqrt, max_depth=10, criterion=entropy \n",
      "[CV]  n_estimators=200, min_samples_split=2, min_samples_leaf=1, max_features=auto, max_depth=None, criterion=entropy, total=   2.0s\n",
      "[CV] n_estimators=400, min_samples_split=2, min_samples_leaf=2, max_features=log2, max_depth=10, criterion=gini \n",
      "[CV]  n_estimators=300, min_samples_split=2, min_samples_leaf=4, max_features=log2, max_depth=20, criterion=gini, total=   1.9s\n",
      "[CV]  n_estimators=600, min_samples_split=2, min_samples_leaf=1, max_features=auto, max_depth=None, criterion=entropy, total=   5.7s\n",
      "[CV] n_estimators=400, min_samples_split=2, min_samples_leaf=2, max_features=log2, max_depth=10, criterion=gini \n",
      "[CV] n_estimators=400, min_samples_split=2, min_samples_leaf=2, max_features=log2, max_depth=10, criterion=gini \n",
      "[CV]  n_estimators=300, min_samples_split=2, min_samples_leaf=4, max_features=log2, max_depth=20, criterion=gini, total=   1.8s\n",
      "[CV] n_estimators=600, min_samples_split=10, min_samples_leaf=1, max_features=sqrt, max_depth=10, criterion=gini \n",
      "[CV]  n_estimators=300, min_samples_split=2, min_samples_leaf=4, max_features=log2, max_depth=20, criterion=gini, total=   1.8s\n",
      "[CV] n_estimators=600, min_samples_split=10, min_samples_leaf=1, max_features=sqrt, max_depth=10, criterion=gini \n",
      "[CV]  n_estimators=300, min_samples_split=10, min_samples_leaf=2, max_features=sqrt, max_depth=10, criterion=entropy, total=   2.0s\n",
      "[CV] n_estimators=600, min_samples_split=10, min_samples_leaf=1, max_features=sqrt, max_depth=10, criterion=gini \n",
      "[CV]  n_estimators=300, min_samples_split=10, min_samples_leaf=2, max_features=sqrt, max_depth=10, criterion=entropy, total=   2.3s\n",
      "[CV] n_estimators=300, min_samples_split=10, min_samples_leaf=2, max_features=sqrt, max_depth=20, criterion=entropy \n",
      "[CV]  n_estimators=300, min_samples_split=10, min_samples_leaf=2, max_features=sqrt, max_depth=10, criterion=entropy, total=   2.3s\n",
      "[CV] n_estimators=300, min_samples_split=10, min_samples_leaf=2, max_features=sqrt, max_depth=20, criterion=entropy \n",
      "[CV]  n_estimators=400, min_samples_split=2, min_samples_leaf=2, max_features=log2, max_depth=10, criterion=gini, total=   2.4s\n"
     ]
    },
    {
     "name": "stdout",
     "output_type": "stream",
     "text": [
      "[CV] n_estimators=300, min_samples_split=10, min_samples_leaf=2, max_features=sqrt, max_depth=20, criterion=entropy \n",
      "[CV]  n_estimators=400, min_samples_split=2, min_samples_leaf=2, max_features=log2, max_depth=10, criterion=gini, total=   2.3s\n",
      "[CV] n_estimators=300, min_samples_split=5, min_samples_leaf=4, max_features=sqrt, max_depth=30, criterion=gini \n",
      "[CV]  n_estimators=400, min_samples_split=2, min_samples_leaf=2, max_features=log2, max_depth=10, criterion=gini, total=   2.4s\n",
      "[CV] n_estimators=300, min_samples_split=5, min_samples_leaf=4, max_features=sqrt, max_depth=30, criterion=gini \n",
      "[CV]  n_estimators=300, min_samples_split=10, min_samples_leaf=2, max_features=sqrt, max_depth=20, criterion=entropy, total=   2.9s\n",
      "[CV] n_estimators=300, min_samples_split=5, min_samples_leaf=4, max_features=sqrt, max_depth=30, criterion=gini \n",
      "[CV]  n_estimators=300, min_samples_split=10, min_samples_leaf=2, max_features=sqrt, max_depth=20, criterion=entropy, total=   2.8s\n",
      "[CV] n_estimators=500, min_samples_split=10, min_samples_leaf=4, max_features=auto, max_depth=20, criterion=entropy \n",
      "[CV]  n_estimators=600, min_samples_split=10, min_samples_leaf=1, max_features=sqrt, max_depth=10, criterion=gini, total=   4.2s\n",
      "[CV] n_estimators=500, min_samples_split=10, min_samples_leaf=4, max_features=auto, max_depth=20, criterion=entropy \n",
      "[CV]  n_estimators=600, min_samples_split=10, min_samples_leaf=1, max_features=sqrt, max_depth=10, criterion=gini, total=   4.3s\n",
      "[CV] n_estimators=500, min_samples_split=10, min_samples_leaf=4, max_features=auto, max_depth=20, criterion=entropy \n",
      "[CV]  n_estimators=600, min_samples_split=10, min_samples_leaf=1, max_features=sqrt, max_depth=10, criterion=gini, total=   4.1s\n",
      "[CV] n_estimators=600, min_samples_split=10, min_samples_leaf=4, max_features=log2, max_depth=30, criterion=gini \n",
      "[CV]  n_estimators=300, min_samples_split=5, min_samples_leaf=4, max_features=sqrt, max_depth=30, criterion=gini, total=   2.0s\n",
      "[CV] n_estimators=600, min_samples_split=10, min_samples_leaf=4, max_features=log2, max_depth=30, criterion=gini \n",
      "[CV]  n_estimators=300, min_samples_split=5, min_samples_leaf=4, max_features=sqrt, max_depth=30, criterion=gini, total=   2.0s\n",
      "[CV] n_estimators=600, min_samples_split=10, min_samples_leaf=4, max_features=log2, max_depth=30, criterion=gini \n",
      "[CV]  n_estimators=300, min_samples_split=10, min_samples_leaf=2, max_features=sqrt, max_depth=20, criterion=entropy, total=   2.5s\n",
      "[CV] n_estimators=600, min_samples_split=2, min_samples_leaf=4, max_features=log2, max_depth=None, criterion=entropy \n",
      "[CV]  n_estimators=300, min_samples_split=5, min_samples_leaf=4, max_features=sqrt, max_depth=30, criterion=gini, total=   1.8s\n",
      "[CV] n_estimators=600, min_samples_split=2, min_samples_leaf=4, max_features=log2, max_depth=None, criterion=entropy \n",
      "[CV]  n_estimators=500, min_samples_split=10, min_samples_leaf=4, max_features=auto, max_depth=20, criterion=entropy, total=   3.1s\n",
      "[CV] n_estimators=600, min_samples_split=2, min_samples_leaf=4, max_features=log2, max_depth=None, criterion=entropy \n",
      "[CV]  n_estimators=600, min_samples_split=10, min_samples_leaf=4, max_features=log2, max_depth=30, criterion=gini, total=   2.7s\n",
      "[CV] n_estimators=500, min_samples_split=5, min_samples_leaf=2, max_features=auto, max_depth=10, criterion=gini \n",
      "[CV]  n_estimators=500, min_samples_split=10, min_samples_leaf=4, max_features=auto, max_depth=20, criterion=entropy, total=   3.0s\n",
      "[CV] n_estimators=500, min_samples_split=5, min_samples_leaf=2, max_features=auto, max_depth=10, criterion=gini \n",
      "[CV]  n_estimators=600, min_samples_split=10, min_samples_leaf=4, max_features=log2, max_depth=30, criterion=gini, total=   2.8s\n",
      "[CV] n_estimators=500, min_samples_split=5, min_samples_leaf=2, max_features=auto, max_depth=10, criterion=gini \n",
      "[CV]  n_estimators=600, min_samples_split=10, min_samples_leaf=4, max_features=log2, max_depth=30, criterion=gini, total=   2.8s\n",
      "[CV] n_estimators=600, min_samples_split=2, min_samples_leaf=1, max_features=log2, max_depth=30, criterion=entropy \n",
      "[CV]  n_estimators=500, min_samples_split=10, min_samples_leaf=4, max_features=auto, max_depth=20, criterion=entropy, total=   3.1s\n",
      "[CV] n_estimators=600, min_samples_split=2, min_samples_leaf=1, max_features=log2, max_depth=30, criterion=entropy \n",
      "[CV]  n_estimators=600, min_samples_split=2, min_samples_leaf=4, max_features=log2, max_depth=None, criterion=entropy, total=   3.1s\n",
      "[CV] n_estimators=600, min_samples_split=2, min_samples_leaf=1, max_features=log2, max_depth=30, criterion=entropy \n",
      "[CV]  n_estimators=600, min_samples_split=2, min_samples_leaf=4, max_features=log2, max_depth=None, criterion=entropy, total=   3.4s\n",
      "[CV] n_estimators=300, min_samples_split=5, min_samples_leaf=1, max_features=auto, max_depth=20, criterion=gini \n",
      "[CV]  n_estimators=500, min_samples_split=5, min_samples_leaf=2, max_features=auto, max_depth=10, criterion=gini, total=   2.5s\n",
      "[CV] n_estimators=300, min_samples_split=5, min_samples_leaf=1, max_features=auto, max_depth=20, criterion=gini \n",
      "[CV]  n_estimators=500, min_samples_split=5, min_samples_leaf=2, max_features=auto, max_depth=10, criterion=gini, total=   2.5s\n",
      "[CV] n_estimators=300, min_samples_split=5, min_samples_leaf=1, max_features=auto, max_depth=20, criterion=gini \n",
      "[CV]  n_estimators=500, min_samples_split=5, min_samples_leaf=2, max_features=auto, max_depth=10, criterion=gini, total=   2.5s\n",
      "[CV] n_estimators=300, min_samples_split=5, min_samples_leaf=1, max_features=log2, max_depth=None, criterion=gini \n",
      "[CV]  n_estimators=600, min_samples_split=2, min_samples_leaf=4, max_features=log2, max_depth=None, criterion=entropy, total=   3.1s\n",
      "[CV] n_estimators=300, min_samples_split=5, min_samples_leaf=1, max_features=log2, max_depth=None, criterion=gini \n",
      "[CV]  n_estimators=300, min_samples_split=5, min_samples_leaf=1, max_features=auto, max_depth=20, criterion=gini, total=   1.9s\n",
      "[CV] n_estimators=300, min_samples_split=5, min_samples_leaf=1, max_features=log2, max_depth=None, criterion=gini \n",
      "[CV]  n_estimators=600, min_samples_split=2, min_samples_leaf=1, max_features=log2, max_depth=30, criterion=entropy, total=   3.8s\n",
      "[CV]  n_estimators=600, min_samples_split=2, min_samples_leaf=1, max_features=log2, max_depth=30, criterion=entropy, total=   3.8s\n",
      "[CV] n_estimators=600, min_samples_split=2, min_samples_leaf=4, max_features=auto, max_depth=None, criterion=gini \n",
      "[CV] n_estimators=600, min_samples_split=2, min_samples_leaf=4, max_features=auto, max_depth=None, criterion=gini \n",
      "[CV]  n_estimators=300, min_samples_split=5, min_samples_leaf=1, max_features=log2, max_depth=None, criterion=gini, total=   1.7s\n",
      "[CV]  n_estimators=600, min_samples_split=2, min_samples_leaf=1, max_features=log2, max_depth=30, criterion=entropy, total=   3.7s\n",
      "[CV] n_estimators=600, min_samples_split=2, min_samples_leaf=4, max_features=auto, max_depth=None, criterion=gini \n",
      "[CV] n_estimators=200, min_samples_split=10, min_samples_leaf=4, max_features=sqrt, max_depth=30, criterion=gini \n",
      "[CV]  n_estimators=300, min_samples_split=5, min_samples_leaf=1, max_features=auto, max_depth=20, criterion=gini, total=   2.0s\n",
      "[CV] n_estimators=200, min_samples_split=10, min_samples_leaf=4, max_features=sqrt, max_depth=30, criterion=gini \n",
      "[CV]  n_estimators=300, min_samples_split=5, min_samples_leaf=1, max_features=auto, max_depth=20, criterion=gini, total=   2.0s\n",
      "[CV] n_estimators=200, min_samples_split=10, min_samples_leaf=4, max_features=sqrt, max_depth=30, criterion=gini \n",
      "[CV]  n_estimators=300, min_samples_split=5, min_samples_leaf=1, max_features=log2, max_depth=None, criterion=gini, total=   1.7s\n",
      "[CV] n_estimators=600, min_samples_split=2, min_samples_leaf=1, max_features=log2, max_depth=None, criterion=entropy \n",
      "[CV]  n_estimators=300, min_samples_split=5, min_samples_leaf=1, max_features=log2, max_depth=None, criterion=gini, total=   1.7s\n",
      "[CV] n_estimators=600, min_samples_split=2, min_samples_leaf=1, max_features=log2, max_depth=None, criterion=entropy \n",
      "[CV]  n_estimators=200, min_samples_split=10, min_samples_leaf=4, max_features=sqrt, max_depth=30, criterion=gini, total=   1.1s\n",
      "[CV] n_estimators=600, min_samples_split=2, min_samples_leaf=1, max_features=log2, max_depth=None, criterion=entropy \n"
     ]
    },
    {
     "name": "stdout",
     "output_type": "stream",
     "text": [
      "[CV]  n_estimators=200, min_samples_split=10, min_samples_leaf=4, max_features=sqrt, max_depth=30, criterion=gini, total=   1.1s\n",
      "[CV] n_estimators=400, min_samples_split=2, min_samples_leaf=4, max_features=sqrt, max_depth=30, criterion=entropy \n",
      "[CV]  n_estimators=200, min_samples_split=10, min_samples_leaf=4, max_features=sqrt, max_depth=30, criterion=gini, total=   1.1s\n",
      "[CV] n_estimators=400, min_samples_split=2, min_samples_leaf=4, max_features=sqrt, max_depth=30, criterion=entropy \n",
      "[CV]  n_estimators=600, min_samples_split=2, min_samples_leaf=4, max_features=auto, max_depth=None, criterion=gini, total=   3.5s\n",
      "[CV] n_estimators=400, min_samples_split=2, min_samples_leaf=4, max_features=sqrt, max_depth=30, criterion=entropy \n",
      "[CV]  n_estimators=600, min_samples_split=2, min_samples_leaf=4, max_features=auto, max_depth=None, criterion=gini, total=   3.5s\n",
      "[CV] n_estimators=600, min_samples_split=10, min_samples_leaf=1, max_features=sqrt, max_depth=None, criterion=gini \n",
      "[CV]  n_estimators=600, min_samples_split=2, min_samples_leaf=4, max_features=auto, max_depth=None, criterion=gini, total=   3.4s\n",
      "[CV] n_estimators=600, min_samples_split=10, min_samples_leaf=1, max_features=sqrt, max_depth=None, criterion=gini \n",
      "[CV]  n_estimators=400, min_samples_split=2, min_samples_leaf=4, max_features=sqrt, max_depth=30, criterion=entropy, total=   2.6s\n",
      "[CV]  n_estimators=400, min_samples_split=2, min_samples_leaf=4, max_features=sqrt, max_depth=30, criterion=entropy, total=   2.6s\n",
      "[CV] n_estimators=600, min_samples_split=10, min_samples_leaf=1, max_features=sqrt, max_depth=None, criterion=gini \n",
      "[CV] n_estimators=300, min_samples_split=10, min_samples_leaf=1, max_features=log2, max_depth=10, criterion=gini \n",
      "[CV]  n_estimators=600, min_samples_split=2, min_samples_leaf=1, max_features=log2, max_depth=None, criterion=entropy, total=   4.0s\n",
      "[CV] n_estimators=300, min_samples_split=10, min_samples_leaf=1, max_features=log2, max_depth=10, criterion=gini \n",
      "[CV]  n_estimators=600, min_samples_split=2, min_samples_leaf=1, max_features=log2, max_depth=None, criterion=entropy, total=   3.9s\n",
      "[CV] n_estimators=300, min_samples_split=10, min_samples_leaf=1, max_features=log2, max_depth=10, criterion=gini \n",
      "[CV]  n_estimators=300, min_samples_split=10, min_samples_leaf=1, max_features=log2, max_depth=10, criterion=gini, total=   1.3s\n",
      "[CV] n_estimators=500, min_samples_split=10, min_samples_leaf=4, max_features=auto, max_depth=20, criterion=gini \n",
      "[CV]  n_estimators=600, min_samples_split=2, min_samples_leaf=1, max_features=log2, max_depth=None, criterion=entropy, total=   3.9s\n",
      "[CV] n_estimators=500, min_samples_split=10, min_samples_leaf=4, max_features=auto, max_depth=20, criterion=gini \n",
      "[CV]  n_estimators=300, min_samples_split=10, min_samples_leaf=1, max_features=log2, max_depth=10, criterion=gini, total=   1.4s\n",
      "[CV] n_estimators=500, min_samples_split=10, min_samples_leaf=4, max_features=auto, max_depth=20, criterion=gini \n",
      "[CV]  n_estimators=400, min_samples_split=2, min_samples_leaf=4, max_features=sqrt, max_depth=30, criterion=entropy, total=   2.6s\n",
      "[CV]  n_estimators=300, min_samples_split=10, min_samples_leaf=1, max_features=log2, max_depth=10, criterion=gini, total=   1.3s\n",
      "[CV]  n_estimators=600, min_samples_split=10, min_samples_leaf=1, max_features=sqrt, max_depth=None, criterion=gini, total=   3.7s\n",
      "[CV]  n_estimators=600, min_samples_split=10, min_samples_leaf=1, max_features=sqrt, max_depth=None, criterion=gini, total=   3.6s\n",
      "[CV]  n_estimators=600, min_samples_split=10, min_samples_leaf=1, max_features=sqrt, max_depth=None, criterion=gini, total=   3.5s\n",
      "[CV]  n_estimators=500, min_samples_split=10, min_samples_leaf=4, max_features=auto, max_depth=20, criterion=gini, total=   2.4s\n",
      "[CV]  n_estimators=500, min_samples_split=10, min_samples_leaf=4, max_features=auto, max_depth=20, criterion=gini, total=   2.4s\n",
      "[CV]  n_estimators=500, min_samples_split=10, min_samples_leaf=4, max_features=auto, max_depth=20, criterion=gini, total=   2.1s\n"
     ]
    },
    {
     "name": "stderr",
     "output_type": "stream",
     "text": [
      "[Parallel(n_jobs=-1)]: Done 300 out of 300 | elapsed:  1.9min finished\n"
     ]
    },
    {
     "data": {
      "text/plain": [
       "RandomizedSearchCV(cv=3, error_score='raise',\n",
       "          estimator=RandomForestClassifier(bootstrap=True, class_weight=None, criterion='gini',\n",
       "            max_depth=None, max_features='auto', max_leaf_nodes=None,\n",
       "            min_impurity_decrease=0.0, min_impurity_split=None,\n",
       "            min_samples_leaf=1, min_samples_split=2,\n",
       "            min_weight_fraction_leaf=0.0, n_estimators=10, n_jobs=1,\n",
       "            oob_score=False, random_state=None, verbose=0,\n",
       "            warm_start=False),\n",
       "          fit_params=None, iid=True, n_iter=100, n_jobs=-1,\n",
       "          param_distributions={'n_estimators': [200, 300, 400, 500, 600], 'max_features': ['auto', 'sqrt', 'log2'], 'max_depth': [10, 20, 30, None], 'min_samples_split': [2, 5, 10], 'min_samples_leaf': [1, 2, 4], 'criterion': ['gini', 'entropy']},\n",
       "          pre_dispatch='2*n_jobs', random_state=42, refit=True,\n",
       "          return_train_score='warn', scoring=None, verbose=2)"
      ]
     },
     "execution_count": 108,
     "metadata": {},
     "output_type": "execute_result"
    }
   ],
   "source": [
    "rf_random.fit(X_train, y_train)"
   ]
  },
  {
   "cell_type": "code",
   "execution_count": 109,
   "metadata": {},
   "outputs": [
    {
     "data": {
      "text/plain": [
       "{'n_estimators': 300,\n",
       " 'min_samples_split': 10,\n",
       " 'min_samples_leaf': 2,\n",
       " 'max_features': 'log2',\n",
       " 'max_depth': 10,\n",
       " 'criterion': 'entropy'}"
      ]
     },
     "execution_count": 109,
     "metadata": {},
     "output_type": "execute_result"
    }
   ],
   "source": [
    "rf_random.best_params_"
   ]
  },
  {
   "cell_type": "code",
   "execution_count": 110,
   "metadata": {},
   "outputs": [
    {
     "data": {
      "text/plain": [
       "300"
      ]
     },
     "execution_count": 110,
     "metadata": {},
     "output_type": "execute_result"
    }
   ],
   "source": [
    "rf_random.best_params_['n_estimators']"
   ]
  },
  {
   "cell_type": "code",
   "execution_count": 94,
   "metadata": {},
   "outputs": [
    {
     "data": {
      "text/plain": [
       "{'n_estimators': 400,\n",
       " 'min_samples_split': 2,\n",
       " 'min_samples_leaf': 4,\n",
       " 'max_features': 'sqrt',\n",
       " 'max_depth': 10,\n",
       " 'bootstrap': True}"
      ]
     },
     "execution_count": 94,
     "metadata": {},
     "output_type": "execute_result"
    }
   ],
   "source": [
    "rf_random.best_params_"
   ]
  },
  {
   "cell_type": "code",
   "execution_count": 95,
   "metadata": {},
   "outputs": [],
   "source": [
    "def evaluate(model, test_features, test_labels):\n",
    "    predictions = model.predict(test_features)\n",
    "    errors = abs(predictions - test_labels)\n",
    "    mape = 100 * np.mean(errors / test_labels)\n",
    "    accuracy = 100 - mape\n",
    "    print('Model Performance')\n",
    "    print('Average Error: {:0.4f} degrees.'.format(np.mean(errors)))\n",
    "    print('Accuracy = {:0.2f}%.'.format(accuracy))\n",
    "\n",
    "    return accuracy"
   ]
  },
  {
   "cell_type": "code",
   "execution_count": 111,
   "metadata": {},
   "outputs": [],
   "source": [
    "clf = RandomForestClassifier(n_estimators = rf_random.best_params_['n_estimators'], \n",
    "                                    min_samples_leaf= rf_random.best_params_['min_samples_leaf'], \n",
    "                                    min_samples_split= rf_random.best_params_['min_samples_split'], \n",
    "                                    max_depth = rf_random.best_params_['max_depth'], \n",
    "                                    max_features = rf_random.best_params_['max_features'],\n",
    "                                    criterion = rf_random.best_params_['criterion'],\n",
    "                                    bootstrap = True,\n",
    "                                    random_state = 42)"
   ]
  },
  {
   "cell_type": "code",
   "execution_count": 113,
   "metadata": {},
   "outputs": [
    {
     "data": {
      "text/plain": [
       "RandomForestClassifier(bootstrap=True, class_weight=None, criterion='entropy',\n",
       "            max_depth=10, max_features='log2', max_leaf_nodes=None,\n",
       "            min_impurity_decrease=0.0, min_impurity_split=None,\n",
       "            min_samples_leaf=2, min_samples_split=10,\n",
       "            min_weight_fraction_leaf=0.0, n_estimators=300, n_jobs=1,\n",
       "            oob_score=False, random_state=42, verbose=0, warm_start=False)"
      ]
     },
     "execution_count": 113,
     "metadata": {},
     "output_type": "execute_result"
    }
   ],
   "source": [
    "clf.fit(X_train, y_train)"
   ]
  },
  {
   "cell_type": "code",
   "execution_count": 114,
   "metadata": {
    "scrolled": true
   },
   "outputs": [
    {
     "name": "stdout",
     "output_type": "stream",
     "text": [
      "0.7974025974025974\n",
      "0.6521084337349398\n"
     ]
    }
   ],
   "source": [
    "pred_train = clf.predict(X_train)\n",
    "pred_test = clf.predict(X_test)\n",
    "print(accuracy_score(y_train, pred_train))\n",
    "print(accuracy_score(y_test, pred_test))"
   ]
  },
  {
   "cell_type": "code",
   "execution_count": null,
   "metadata": {},
   "outputs": [],
   "source": []
  },
  {
   "cell_type": "markdown",
   "metadata": {},
   "source": [
    "Compare two training sets result:"
   ]
  },
  {
   "cell_type": "code",
   "execution_count": 166,
   "metadata": {},
   "outputs": [
    {
     "name": "stdout",
     "output_type": "stream",
     "text": [
      "(2726, 469)\n",
      "(2726, 469)\n",
      "\n",
      "(5452, 469)\n",
      "(4006, 469)\n",
      "(4006, 468)\n",
      "(4006,)\n"
     ]
    }
   ],
   "source": [
    "\n",
    "# only select the numeric data\n",
    "df = data_file.select_dtypes(include=['float64','int64'])\n",
    "categorical_data = data_file.select_dtypes(exclude=['float64','int64'])\n",
    "categorical_df = pd.DataFrame()\n",
    "for column in categorical_data.columns:\n",
    "    dummies = pd.get_dummies(categorical_data[column], prefix=column)\n",
    "    categorical_df = pd.concat([categorical_df, dummies], axis=1)\n",
    "#df = pd.concat([df['AMI_FLAG'], categorical_df], axis=1)\n",
    "df = pd.concat([df, categorical_df], axis=1)\n",
    "\n",
    "sum(df['AMI_FLAG'] == 1)\n",
    "df_AMI = df[df['AMI_FLAG'] == 1]\n",
    "df_NOAMI = df[df['AMI_FLAG'] == 0]\n",
    "df_NOAMI_sample = df_NOAMI.sample(2726)\n",
    "print(df_AMI.shape)\n",
    "print(df_NOAMI_sample.shape)\n",
    "\n",
    "print()\n",
    "df = pd.concat([df_AMI, df_NOAMI_sample], axis = 0)\n",
    "# drop the null value \n",
    "\n",
    "print(df.shape)\n",
    "df = df.dropna()\n",
    "print(df.shape)\n",
    "\n",
    "# define the target we would like to predict \n",
    "y = df['AMI_FLAG']\n",
    "\n",
    "X = df.loc[:, df.columns != 'AMI_FLAG']\n",
    "\n",
    "# sanity check on X, y dimensions \n",
    "print(X.shape)\n",
    "print(y.shape)\n",
    "\n",
    "# split training and testing data\n",
    "\n",
    "X_train, X_test, y_train, y_test = train_test_split(X, y, test_size = 0.33, random_state=42)"
   ]
  },
  {
   "cell_type": "code",
   "execution_count": 167,
   "metadata": {},
   "outputs": [
    {
     "name": "stdout",
     "output_type": "stream",
     "text": [
      "109\n"
     ]
    }
   ],
   "source": [
    "print(len(extracted_name[0]))\n",
    "lst = list(extracted_name[0])\n",
    "newDF = df[lst].copy()"
   ]
  },
  {
   "cell_type": "code",
   "execution_count": 168,
   "metadata": {},
   "outputs": [
    {
     "name": "stdout",
     "output_type": "stream",
     "text": [
      "(4006, 110)\n",
      "(4006, 110)\n",
      "(4006, 109)\n",
      "(4006,)\n"
     ]
    }
   ],
   "source": [
    "newDF['AMI_FLAG'] = pd.Series(y, index=newDF.index)\n",
    "# use only the 107 features, retrain models\n",
    "df = newDF\n",
    "print(df.shape)\n",
    "df = df.dropna()\n",
    "print(df.shape)\n",
    "\n",
    "# define the target we would like to predict \n",
    "y = df['AMI_FLAG']\n",
    "\n",
    "X = df.loc[:, df.columns != 'AMI_FLAG']\n",
    "\n",
    "# sanity check on X, y dimensions \n",
    "print(X.shape)\n",
    "print(y.shape)\n",
    "\n",
    "# split training and testing data\n",
    "\n",
    "X_train, X_test, y_train, y_test = train_test_split(X, y, test_size = 0.33, random_state=42)"
   ]
  },
  {
   "cell_type": "code",
   "execution_count": 169,
   "metadata": {},
   "outputs": [],
   "source": [
    "half_clf = RandomForestClassifier(n_estimators = rf_random.best_params_['n_estimators'], \n",
    "                                    min_samples_leaf= rf_random.best_params_['min_samples_leaf'], \n",
    "                                    min_samples_split= rf_random.best_params_['min_samples_split'], \n",
    "                                    max_depth = rf_random.best_params_['max_depth'], \n",
    "                                    max_features = rf_random.best_params_['max_features'],\n",
    "                                    criterion = rf_random.best_params_['criterion'],\n",
    "                                    bootstrap = True,\n",
    "                                    random_state = 42)"
   ]
  },
  {
   "cell_type": "code",
   "execution_count": 170,
   "metadata": {},
   "outputs": [
    {
     "data": {
      "text/plain": [
       "RandomForestClassifier(bootstrap=True, class_weight=None, criterion='entropy',\n",
       "            max_depth=10, max_features='log2', max_leaf_nodes=None,\n",
       "            min_impurity_decrease=0.0, min_impurity_split=None,\n",
       "            min_samples_leaf=2, min_samples_split=10,\n",
       "            min_weight_fraction_leaf=0.0, n_estimators=300, n_jobs=1,\n",
       "            oob_score=False, random_state=42, verbose=0, warm_start=False)"
      ]
     },
     "execution_count": 170,
     "metadata": {},
     "output_type": "execute_result"
    }
   ],
   "source": [
    "half_clf.fit(X_train, y_train)"
   ]
  },
  {
   "cell_type": "code",
   "execution_count": 171,
   "metadata": {},
   "outputs": [
    {
     "name": "stdout",
     "output_type": "stream",
     "text": [
      "0.7999254843517138\n",
      "0.6580937972768532\n"
     ]
    }
   ],
   "source": [
    "pred_train = half_clf.predict(X_train)\n",
    "pred_test = half_clf.predict(X_test)\n",
    "print(accuracy_score(y_train, pred_train))\n",
    "print(accuracy_score(y_test, pred_test))"
   ]
  },
  {
   "cell_type": "code",
   "execution_count": null,
   "metadata": {},
   "outputs": [],
   "source": []
  },
  {
   "cell_type": "code",
   "execution_count": null,
   "metadata": {},
   "outputs": [],
   "source": []
  },
  {
   "cell_type": "code",
   "execution_count": 193,
   "metadata": {},
   "outputs": [],
   "source": [
    "# test on the whole dataset\n",
    "\n",
    "origDF = data_file.select_dtypes(include=['float64','int64'])\n",
    "categorical_data = data_file.select_dtypes(exclude=['float64','int64'])\n",
    "categorical_df = pd.DataFrame()\n",
    "for column in categorical_data.columns:\n",
    "    dummies = pd.get_dummies(categorical_data[column], prefix=column)\n",
    "    categorical_df = pd.concat([categorical_df, dummies], axis=1)\n",
    "#df = pd.concat([df['AMI_FLAG'], categorical_df], axis=1)\n",
    "origDF = pd.concat([origDF, categorical_df], axis=1)"
   ]
  },
  {
   "cell_type": "code",
   "execution_count": 194,
   "metadata": {},
   "outputs": [
    {
     "data": {
      "text/plain": [
       "(74762, 469)"
      ]
     },
     "execution_count": 194,
     "metadata": {},
     "output_type": "execute_result"
    }
   ],
   "source": [
    "origDF = origDF.dropna()\n",
    "\n",
    "origDF.shape"
   ]
  },
  {
   "cell_type": "code",
   "execution_count": 195,
   "metadata": {},
   "outputs": [
    {
     "name": "stdout",
     "output_type": "stream",
     "text": [
      "ID\n",
      "109\n"
     ]
    }
   ],
   "source": [
    "# define the target we would like to predict \n",
    "orig_y = origDF['AMI_FLAG']\n",
    "orig_X = origDF.loc[:, df.columns != 'AMI_FLAG']\n",
    "\n",
    "print(origDF.columns[0])\n",
    "print(len(extracted_name[0]))\n",
    "lst = list(extracted_name[0])\n",
    "origDF = origDF[lst].copy()"
   ]
  },
  {
   "cell_type": "code",
   "execution_count": 196,
   "metadata": {},
   "outputs": [
    {
     "data": {
      "text/plain": [
       "(74762, 109)"
      ]
     },
     "execution_count": 196,
     "metadata": {},
     "output_type": "execute_result"
    }
   ],
   "source": [
    "origDF.shape"
   ]
  },
  {
   "cell_type": "code",
   "execution_count": 197,
   "metadata": {},
   "outputs": [
    {
     "data": {
      "text/plain": [
       "(74762,)"
      ]
     },
     "execution_count": 197,
     "metadata": {},
     "output_type": "execute_result"
    }
   ],
   "source": [
    "orig_y.shape"
   ]
  },
  {
   "cell_type": "code",
   "execution_count": 198,
   "metadata": {},
   "outputs": [
    {
     "data": {
      "text/plain": [
       "(74762, 109)"
      ]
     },
     "execution_count": 198,
     "metadata": {},
     "output_type": "execute_result"
    }
   ],
   "source": [
    "orig_X.shape"
   ]
  },
  {
   "cell_type": "code",
   "execution_count": 199,
   "metadata": {},
   "outputs": [],
   "source": [
    "whole_X_train, whole_X_test, whole_y_train, whole_y_test = train_test_split(orig_X, orig_y, test_size = 0.33, random_state=42)"
   ]
  },
  {
   "cell_type": "code",
   "execution_count": 200,
   "metadata": {},
   "outputs": [
    {
     "data": {
      "text/plain": [
       "<bound method BaseEstimator.get_params of RandomForestClassifier(bootstrap=True, class_weight=None, criterion='entropy',\n",
       "            max_depth=10, max_features='log2', max_leaf_nodes=None,\n",
       "            min_impurity_decrease=0.0, min_impurity_split=None,\n",
       "            min_samples_leaf=2, min_samples_split=10,\n",
       "            min_weight_fraction_leaf=0.0, n_estimators=300, n_jobs=1,\n",
       "            oob_score=False, random_state=42, verbose=0, warm_start=False)>"
      ]
     },
     "execution_count": 200,
     "metadata": {},
     "output_type": "execute_result"
    }
   ],
   "source": [
    "clf = RandomForestClassifier(n_estimators = rf_random.best_params_['n_estimators'], \n",
    "                                    min_samples_leaf= rf_random.best_params_['min_samples_leaf'], \n",
    "                                    min_samples_split= rf_random.best_params_['min_samples_split'], \n",
    "                                    max_depth = rf_random.best_params_['max_depth'], \n",
    "                                    max_features = rf_random.best_params_['max_features'],\n",
    "                                    criterion = rf_random.best_params_['criterion'],\n",
    "                                    bootstrap = True,\n",
    "                                    random_state = 42)\n",
    "\n",
    "clf.get_params"
   ]
  },
  {
   "cell_type": "code",
   "execution_count": 201,
   "metadata": {},
   "outputs": [
    {
     "data": {
      "text/plain": [
       "RandomForestClassifier(bootstrap=True, class_weight=None, criterion='entropy',\n",
       "            max_depth=10, max_features='log2', max_leaf_nodes=None,\n",
       "            min_impurity_decrease=0.0, min_impurity_split=None,\n",
       "            min_samples_leaf=2, min_samples_split=10,\n",
       "            min_weight_fraction_leaf=0.0, n_estimators=300, n_jobs=1,\n",
       "            oob_score=False, random_state=42, verbose=0, warm_start=False)"
      ]
     },
     "execution_count": 201,
     "metadata": {},
     "output_type": "execute_result"
    }
   ],
   "source": [
    "clf.fit(whole_X_train, whole_y_train)"
   ]
  },
  {
   "cell_type": "code",
   "execution_count": 186,
   "metadata": {},
   "outputs": [
    {
     "name": "stdout",
     "output_type": "stream",
     "text": [
      "0.9740067877819925\n",
      "0.9720330739299611\n"
     ]
    }
   ],
   "source": [
    "pred_train = clf.predict(whole_X_train)\n",
    "pred_test = clf.predict(whole_X_test)\n",
    "print(accuracy_score(whole_y_train, pred_train))\n",
    "print(accuracy_score(whole_y_test, pred_test))"
   ]
  },
  {
   "cell_type": "code",
   "execution_count": null,
   "metadata": {},
   "outputs": [],
   "source": []
  },
  {
   "cell_type": "code",
   "execution_count": 202,
   "metadata": {},
   "outputs": [
    {
     "name": "stdout",
     "output_type": "stream",
     "text": [
      "0.7999254843517138\n",
      "0.6580937972768532\n",
      "0.9771411459373128\n",
      "0.9722357328145266\n"
     ]
    }
   ],
   "source": [
    "half_pred_train = half_clf.predict(X_train)\n",
    "half_pred_test = half_clf.predict(X_test)\n",
    "\n",
    "whole_pred_train = clf.predict(whole_X_train)\n",
    "whole_pred_test = clf.predict(whole_X_test)\n",
    "\n",
    "print(accuracy_score(y_train, half_pred_train))\n",
    "print(accuracy_score(y_test, half_pred_test))\n",
    "\n",
    "print(accuracy_score(whole_y_train, whole_pred_train))\n",
    "print(accuracy_score(whole_y_test, whole_pred_test))\n"
   ]
  },
  {
   "cell_type": "code",
   "execution_count": 203,
   "metadata": {},
   "outputs": [
    {
     "name": "stdout",
     "output_type": "stream",
     "text": [
      "0.9001597125174685\n",
      "0.8982247081712063\n"
     ]
    }
   ],
   "source": [
    "half_pred_train = half_clf.predict(whole_X_train)\n",
    "half_pred_test = half_clf.predict(whole_X_test)\n",
    "\n",
    "print(accuracy_score(whole_y_train, half_pred_train))\n",
    "print(accuracy_score(whole_y_test, half_pred_test))"
   ]
  },
  {
   "cell_type": "code",
   "execution_count": null,
   "metadata": {},
   "outputs": [],
   "source": []
  }
 ],
 "metadata": {
  "kernelspec": {
   "display_name": "Python 3",
   "language": "python",
   "name": "python3"
  },
  "language_info": {
   "codemirror_mode": {
    "name": "ipython",
    "version": 3
   },
   "file_extension": ".py",
   "mimetype": "text/x-python",
   "name": "python",
   "nbconvert_exporter": "python",
   "pygments_lexer": "ipython3",
   "version": "3.6.5"
  }
 },
 "nbformat": 4,
 "nbformat_minor": 2
}
