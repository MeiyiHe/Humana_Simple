{
 "cells": [
  {
   "cell_type": "code",
   "execution_count": 1,
   "metadata": {},
   "outputs": [
    {
     "name": "stderr",
     "output_type": "stream",
     "text": [
      "/anaconda3/lib/python3.6/site-packages/h5py/__init__.py:36: FutureWarning: Conversion of the second argument of issubdtype from `float` to `np.floating` is deprecated. In future, it will be treated as `np.float64 == np.dtype(float).type`.\n",
      "  from ._conv import register_converters as _register_converters\n"
     ]
    }
   ],
   "source": [
    "from sklearn.linear_model import *\n",
    "from sklearn.model_selection import train_test_split\n",
    "from sklearn.metrics import accuracy_score\n",
    "\n",
    "import numpy as np\n",
    "import pandas as pd\n",
    "\n",
    "\n",
    "import tensorflow as tf"
   ]
  },
  {
   "cell_type": "code",
   "execution_count": 21,
   "metadata": {},
   "outputs": [],
   "source": [
    "\n",
    "from sklearn.tree import DecisionTreeClassifier\n",
    "\n",
    "from sklearn.ensemble import RandomForestClassifier\n",
    "from sklearn.datasets import make_classification"
   ]
  },
  {
   "cell_type": "code",
   "execution_count": 2,
   "metadata": {},
   "outputs": [],
   "source": [
    "data_file = pd.read_csv(\"../TAMU_FINAL_DATASET_2018.csv\")"
   ]
  },
  {
   "cell_type": "code",
   "execution_count": 4,
   "metadata": {},
   "outputs": [],
   "source": [
    "# only select the numeric data\n",
    "df = data_file.select_dtypes(include=['float64','int64'])\n",
    "categorical_data = data_file.select_dtypes(exclude=['float64','int64'])\n",
    "categorical_df = pd.DataFrame()\n",
    "for column in categorical_data.columns:\n",
    "    dummies = pd.get_dummies(categorical_data[column], prefix=column)\n",
    "    categorical_df = pd.concat([categorical_df, dummies], axis=1)\n",
    "#df = pd.concat([df['AMI_FLAG'], categorical_df], axis=1)\n",
    "df = pd.concat([df, categorical_df], axis=1)"
   ]
  },
  {
   "cell_type": "code",
   "execution_count": 5,
   "metadata": {},
   "outputs": [
    {
     "data": {
      "text/plain": [
       "(100000, 469)"
      ]
     },
     "execution_count": 5,
     "metadata": {},
     "output_type": "execute_result"
    }
   ],
   "source": [
    "df.shape"
   ]
  },
  {
   "cell_type": "code",
   "execution_count": 6,
   "metadata": {},
   "outputs": [
    {
     "name": "stdout",
     "output_type": "stream",
     "text": [
      "(2726, 469)\n",
      "(2726, 469)\n",
      "\n",
      "(5452, 469)\n",
      "(4049, 469)\n",
      "(4049, 468)\n",
      "(4049,)\n"
     ]
    }
   ],
   "source": [
    "sum(df['AMI_FLAG'] == 1)\n",
    "df_AMI = df[df['AMI_FLAG'] == 1]\n",
    "df_NOAMI = df[df['AMI_FLAG'] == 0]\n",
    "df_NOAMI_sample = df_NOAMI.sample(2726)\n",
    "print(df_AMI.shape)\n",
    "print(df_NOAMI_sample.shape)\n",
    "\n",
    "print()\n",
    "df = pd.concat([df_AMI, df_NOAMI_sample], axis = 0)\n",
    "# drop the null value \n",
    "\n",
    "print(df.shape)\n",
    "df = df.dropna()\n",
    "print(df.shape)\n",
    "\n",
    "# define the target we would like to predict \n",
    "y = df['AMI_FLAG']\n",
    "\n",
    "X = df.loc[:, df.columns != 'AMI_FLAG']\n",
    "\n",
    "# sanity check on X, y dimensions \n",
    "print(X.shape)\n",
    "print(y.shape)\n",
    "\n",
    "# split training and testing data\n",
    "\n",
    "X_train, X_test, y_train, y_test = train_test_split(X, y, test_size = 0.33, random_state=42)"
   ]
  },
  {
   "cell_type": "code",
   "execution_count": 6,
   "metadata": {},
   "outputs": [
    {
     "name": "stdout",
     "output_type": "stream",
     "text": [
      "x:  Tensor(\"Placeholder:0\", shape=(?, 468), dtype=float32)\n",
      "logits:  Tensor(\"fully_connected/Elu:0\", shape=(?, 128), dtype=float32)\n",
      "loss:  Tensor(\"Mean:0\", shape=(), dtype=float32)\n",
      "predicted_labels:  Tensor(\"ArgMax:0\", shape=(?,), dtype=int64)\n"
     ]
    }
   ],
   "source": [
    "# modeling \n",
    "\n",
    "x = tf.placeholder(dtype = tf.float32, shape = [None, 468])\n",
    "y = tf.placeholder(dtype = tf.int32, shape = [None])\n",
    "\n",
    "\n",
    "# tanh, elu, selu, softplus, and softsign\n",
    "\n",
    "#logits = tf.contrib.layers.fully_connected(x, 128, tf.nn.relu)\n",
    "#logits = tf.contrib.layers.fully_connected(x, 128, tf.nn.tanh)\n",
    "#logits = tf.contrib.layers.fully_connected(x, 128, tf.nn.selu)\n",
    "\n",
    "\n",
    "#logits = tf.contrib.layers.fully_connected(x, 128, tf.nn.softplus)\n",
    "logits = tf.contrib.layers.fully_connected(x, 128, tf.nn.elu)\n",
    "\n",
    "\n",
    "loss = tf.reduce_mean(tf.nn.sparse_softmax_cross_entropy_with_logits(labels = y, logits = logits))\n",
    "train_op = tf.train.AdamOptimizer(learning_rate=0.001).minimize(loss)\n",
    "correct_pred = tf.argmax(logits, 1)\n",
    "accuracy = tf.reduce_mean(tf.cast(correct_pred, tf.float32))\n",
    "\n",
    "print(\"x: \", x)\n",
    "print(\"logits: \", logits)\n",
    "print(\"loss: \", loss)\n",
    "print(\"predicted_labels: \", correct_pred)"
   ]
  },
  {
   "cell_type": "code",
   "execution_count": 7,
   "metadata": {},
   "outputs": [
    {
     "name": "stdout",
     "output_type": "stream",
     "text": [
      "Loss:  Tensor(\"Mean:0\", shape=(), dtype=float32)\n",
      "Loss:  Tensor(\"Mean:0\", shape=(), dtype=float32)\n",
      "Loss:  Tensor(\"Mean:0\", shape=(), dtype=float32)\n",
      "Loss:  Tensor(\"Mean:0\", shape=(), dtype=float32)\n",
      "Loss:  Tensor(\"Mean:0\", shape=(), dtype=float32)\n"
     ]
    }
   ],
   "source": [
    "sess = tf.Session()\n",
    "\n",
    "sess.run(tf.global_variables_initializer())\n",
    "\n",
    "for i in range(201):\n",
    "        #print('EPOCH', i)\n",
    "        _, accuracy_val = sess.run([train_op, accuracy], feed_dict={x: X_train, y: y_train})\n",
    "        if i % 50 == 0:\n",
    "            print(\"Loss: \", loss)\n",
    "        #print('DONE WITH EPOCH')"
   ]
  },
  {
   "cell_type": "code",
   "execution_count": 8,
   "metadata": {},
   "outputs": [
    {
     "name": "stdout",
     "output_type": "stream",
     "text": [
      "Accuracy: 0.485\n"
     ]
    }
   ],
   "source": [
    "\n",
    "predicted = sess.run([correct_pred], feed_dict={x: X_train})[0]\n",
    "\n",
    "# Calculate correct matches \n",
    "match_count = sum([int(y == y_) for y, y_ in zip(y_train, predicted)])\n",
    "\n",
    "# Calculate the accuracy\n",
    "accuracy = match_count / len(X_train)\n",
    "\n",
    "# Print the accuracy\n",
    "print(\"Accuracy: {:.3f}\".format(accuracy))\n"
   ]
  },
  {
   "cell_type": "code",
   "execution_count": 9,
   "metadata": {},
   "outputs": [
    {
     "name": "stdout",
     "output_type": "stream",
     "text": [
      "Accuracy: 0.515\n"
     ]
    }
   ],
   "source": [
    "\n",
    "\n",
    "predicted = sess.run([correct_pred], feed_dict={x: X_test})[0]\n",
    "\n",
    "# Calculate correct matches \n",
    "match_count = sum([int(y == y_) for y, y_ in zip(y_test, predicted)])\n",
    "\n",
    "# Calculate the accuracy\n",
    "accuracy = match_count / len(y_test)\n",
    "\n",
    "# Print the accuracy\n",
    "print(\"Accuracy: {:.3f}\".format(accuracy))"
   ]
  },
  {
   "cell_type": "code",
   "execution_count": 10,
   "metadata": {},
   "outputs": [
    {
     "name": "stdout",
     "output_type": "stream",
     "text": [
      "1.0\n",
      "0.5834586466165413\n"
     ]
    }
   ],
   "source": [
    "# try some other sklearn model here\n",
    "\n",
    "from sklearn.tree import DecisionTreeClassifier\n",
    "\n",
    "clf = DecisionTreeClassifier(random_state=0)\n",
    "clf.fit(X_train, y_train)\n",
    "\n",
    "\n",
    "\n",
    "pred_train = clf.predict(X_train)\n",
    "pred_test = clf.predict(X_test)\n",
    "print(accuracy_score(y_train, pred_train))\n",
    "print(accuracy_score(y_test, pred_test))\n"
   ]
  },
  {
   "cell_type": "code",
   "execution_count": null,
   "metadata": {},
   "outputs": [],
   "source": []
  },
  {
   "cell_type": "code",
   "execution_count": 11,
   "metadata": {},
   "outputs": [
    {
     "name": "stdout",
     "output_type": "stream",
     "text": [
      "finish fitting data\n",
      "1.0\n",
      "0.4857142857142857\n"
     ]
    }
   ],
   "source": [
    "\n",
    "from sklearn.svm import SVC\n",
    "\n",
    "clf = SVC(kernel='rbf', gamma='auto')\n",
    "clf.fit(X_train, y_train)\n",
    "\n",
    "print('finish fitting data')\n",
    "\n",
    "\n",
    "pred_train = clf.predict(X_train)\n",
    "\n",
    "pred_test = clf.predict(X_test)\n",
    "print(accuracy_score(y_train, pred_train))\n",
    "print(accuracy_score(y_test, pred_test))\n",
    "\n"
   ]
  },
  {
   "cell_type": "code",
   "execution_count": 10,
   "metadata": {},
   "outputs": [
    {
     "name": "stdout",
     "output_type": "stream",
     "text": [
      "[0.00061026 0.04471592 0.         0.04994351 0.05721379 0.00276385\n",
      " 0.         0.002607   0.00482703 0.         0.         0.\n",
      " 0.         0.00913151 0.         0.         0.         0.\n",
      " 0.         0.         0.         0.00381836 0.00194719 0.\n",
      " 0.         0.         0.00053705 0.         0.         0.\n",
      " 0.00113192 0.         0.00111787 0.         0.00108165 0.00092652\n",
      " 0.01792456 0.00106769 0.00630082 0.00263703 0.00125216 0.\n",
      " 0.00026842 0.         0.00090228 0.         0.         0.\n",
      " 0.00162783 0.00122255 0.00083549 0.00660314 0.         0.\n",
      " 0.         0.0021903  0.         0.00441369 0.00264926 0.\n",
      " 0.         0.         0.         0.00162199 0.00365885 0.00348728\n",
      " 0.00199376 0.00125249 0.01379803 0.         0.         0.\n",
      " 0.         0.         0.         0.         0.         0.00144695\n",
      " 0.         0.00473379 0.         0.         0.         0.\n",
      " 0.00085023 0.         0.         0.         0.         0.\n",
      " 0.         0.         0.         0.         0.         0.\n",
      " 0.         0.         0.00185989 0.         0.         0.\n",
      " 0.         0.         0.         0.00906931 0.         0.\n",
      " 0.         0.         0.         0.00080336 0.         0.\n",
      " 0.         0.         0.         0.         0.         0.\n",
      " 0.         0.         0.         0.         0.         0.\n",
      " 0.         0.         0.         0.         0.         0.\n",
      " 0.         0.         0.         0.00122725 0.00435128 0.\n",
      " 0.00337704 0.00843396 0.00090005 0.         0.00092273 0.0147635\n",
      " 0.         0.00019614 0.00353475 0.         0.         0.00781839\n",
      " 0.         0.00732848 0.00346592 0.         0.01363216 0.\n",
      " 0.00107609 0.         0.0173437  0.         0.         0.\n",
      " 0.         0.         0.         0.0006021  0.         0.\n",
      " 0.         0.         0.         0.         0.         0.\n",
      " 0.00055559 0.         0.         0.         0.         0.\n",
      " 0.         0.         0.         0.         0.         0.\n",
      " 0.         0.         0.         0.         0.         0.\n",
      " 0.         0.         0.         0.         0.         0.\n",
      " 0.         0.         0.         0.         0.         0.\n",
      " 0.         0.         0.         0.         0.         0.\n",
      " 0.         0.         0.         0.         0.         0.\n",
      " 0.         0.         0.         0.         0.00111839 0.\n",
      " 0.         0.00221694 0.         0.         0.         0.\n",
      " 0.         0.         0.         0.         0.         0.\n",
      " 0.         0.         0.         0.         0.         0.\n",
      " 0.         0.         0.         0.         0.         0.\n",
      " 0.         0.         0.         0.         0.         0.\n",
      " 0.         0.         0.         0.         0.         0.\n",
      " 0.         0.         0.         0.         0.         0.\n",
      " 0.         0.         0.         0.         0.         0.\n",
      " 0.         0.         0.         0.         0.         0.\n",
      " 0.         0.         0.         0.         0.         0.\n",
      " 0.         0.         0.         0.         0.         0.\n",
      " 0.         0.         0.         0.00164783 0.00167892 0.\n",
      " 0.         0.         0.00972248 0.         0.00918074 0.\n",
      " 0.         0.         0.00057473 0.         0.         0.00762258\n",
      " 0.         0.00645258 0.00060904 0.00045841 0.         0.\n",
      " 0.01307482 0.         0.00378397 0.         0.         0.\n",
      " 0.00196123 0.00376775 0.         0.         0.01405475 0.04766945\n",
      " 0.         0.         0.         0.00063718 0.         0.\n",
      " 0.         0.         0.02128396 0.         0.         0.\n",
      " 0.         0.         0.         0.         0.         0.\n",
      " 0.         0.         0.         0.         0.         0.\n",
      " 0.00122532 0.00121354 0.         0.         0.         0.\n",
      " 0.         0.         0.0009292  0.         0.         0.\n",
      " 0.         0.         0.         0.         0.         0.\n",
      " 0.         0.         0.         0.         0.         0.\n",
      " 0.         0.         0.         0.         0.         0.\n",
      " 0.07561262 0.06989361 0.03668515 0.00914299 0.05509788 0.06739725\n",
      " 0.01474825 0.         0.         0.02006469 0.0036736  0.00717207\n",
      " 0.00562775 0.03889061 0.         0.00860762 0.         0.01644056\n",
      " 0.00635403 0.         0.         0.         0.         0.\n",
      " 0.         0.00056476 0.         0.00132225 0.00234127 0.\n",
      " 0.         0.         0.00104965 0.         0.00089433 0.\n",
      " 0.00722393 0.         0.00414217 0.00080261 0.         0.00340237\n",
      " 0.         0.00181623 0.         0.         0.00714196 0.\n",
      " 0.005357   0.         0.         0.         0.         0.\n",
      " 0.         0.         0.         0.         0.         0.00659106\n",
      " 0.0004154  0.         0.00073042 0.         0.         0.\n",
      " 0.         0.         0.         0.         0.         0.\n",
      " 0.         0.         0.         0.         0.         0.\n",
      " 0.         0.         0.00353843 0.         0.         0.\n",
      " 0.         0.         0.         0.         0.         0.        ]\n",
      "0.6884218289085545\n",
      "0.6507105459985041\n"
     ]
    }
   ],
   "source": [
    "from sklearn.ensemble import RandomForestClassifier\n",
    "from sklearn.datasets import make_classification\n",
    "\n",
    "\n",
    "clf = RandomForestClassifier(n_estimators=100, max_depth=2, criterion='entropy', random_state=0)\n",
    "clf.fit(X_train, y_train)\n",
    "\n",
    "\n",
    "\n",
    "print(clf.feature_importances_)\n",
    "\n",
    "\n",
    "pred_train = clf.predict(X_train)\n",
    "pred_test = clf.predict(X_test)\n",
    "print(accuracy_score(y_train, pred_train))\n",
    "print(accuracy_score(y_test, pred_test))"
   ]
  },
  {
   "cell_type": "code",
   "execution_count": 11,
   "metadata": {},
   "outputs": [],
   "source": [
    "important = clf.feature_importances_\n",
    "extractedIdx = np.nonzero(important)"
   ]
  },
  {
   "cell_type": "code",
   "execution_count": 12,
   "metadata": {},
   "outputs": [
    {
     "name": "stdout",
     "output_type": "stream",
     "text": [
      "111\n"
     ]
    },
    {
     "data": {
      "text/plain": [
       "(array([  0,   1,   3,   4,   5,   7,   8,  13,  21,  22,  26,  30,  32,\n",
       "         34,  35,  36,  37,  38,  39,  40,  42,  44,  48,  49,  50,  51,\n",
       "         55,  57,  58,  63,  64,  65,  66,  67,  68,  77,  79,  84,  98,\n",
       "        105, 111, 135, 136, 138, 139, 140, 142, 143, 145, 146, 149, 151,\n",
       "        152, 154, 156, 158, 165, 174, 220, 223, 291, 292, 296, 298, 302,\n",
       "        305, 307, 308, 309, 312, 314, 318, 319, 322, 323, 327, 332, 348,\n",
       "        349, 356, 378, 379, 380, 381, 382, 383, 384, 387, 388, 389, 390,\n",
       "        391, 393, 395, 396, 403, 405, 406, 410, 412, 414, 416, 417, 419,\n",
       "        421, 424, 426, 437, 438, 440, 458]),)"
      ]
     },
     "execution_count": 12,
     "metadata": {},
     "output_type": "execute_result"
    }
   ],
   "source": [
    "print(len(extractedIdx[0]))\n",
    "extractedIdx"
   ]
  },
  {
   "cell_type": "code",
   "execution_count": 21,
   "metadata": {},
   "outputs": [
    {
     "name": "stdout",
     "output_type": "stream",
     "text": [
      "107\n"
     ]
    },
    {
     "data": {
      "text/plain": [
       "(array([  0,   1,   2,   3,   4,   7,   8,  10,  12,  15,  25,  26,  35,\n",
       "         36,  37,  39,  40,  46,  55,  56,  57,  58,  62,  63,  64,  65,\n",
       "         66,  67,  68,  69,  79,  82,  93,  97,  98, 100, 105, 118, 134,\n",
       "        139, 142, 143, 145, 146, 148, 149, 151, 152, 154, 158, 159, 161,\n",
       "        170, 174, 175, 219, 221, 291, 296, 297, 298, 299, 300, 301, 304,\n",
       "        305, 306, 307, 310, 312, 313, 319, 322, 323, 332, 334, 336, 346,\n",
       "        378, 379, 380, 381, 382, 383, 387, 388, 390, 391, 393, 395, 396,\n",
       "        397, 403, 409, 410, 412, 414, 416, 417, 419, 423, 424, 426, 434,\n",
       "        436, 437, 458]),)"
      ]
     },
     "execution_count": 21,
     "metadata": {},
     "output_type": "execute_result"
    }
   ],
   "source": [
    "# previously\n",
    "print(len(extractedIdx[0]))\n",
    "extractedIdx"
   ]
  },
  {
   "cell_type": "code",
   "execution_count": 13,
   "metadata": {},
   "outputs": [
    {
     "name": "stdout",
     "output_type": "stream",
     "text": [
      "ID\n",
      "111\n"
     ]
    }
   ],
   "source": [
    "print(df.columns[0])\n",
    "extracted_name = []\n",
    "for idx in extractedIdx:\n",
    "    extracted_name.append(df.columns[idx])\n",
    "\n",
    "print(len(extracted_name[0]))\n",
    "lst = list(extracted_name[0])\n",
    "newDF = df[lst].copy()"
   ]
  },
  {
   "cell_type": "code",
   "execution_count": 14,
   "metadata": {},
   "outputs": [
    {
     "name": "stdout",
     "output_type": "stream",
     "text": [
      "Index(['ID', 'AGE', 'ORIG_REAS_ENTITLE_CD', 'RECON_MA_RISK_SCORE_NBR',\n",
      "       'RECON_RX_RISK_SCORE_NBR', 'CON_VISIT_04_Q02', 'CON_VISIT_04_Q03',\n",
      "       'CON_VISIT_03_Q02', 'CON_VISIT_23_Q02', 'CON_VISIT_24_Q02',\n",
      "       ...\n",
      "       'Index_Health_ins_engage', 'Index_Health_ins_influence',\n",
      "       'Population_density_centile_US', 'CDC_HBATEST_GAP', 'CDC_EYE_GAP',\n",
      "       'BCS_GAP', 'SEX_CD_F', 'SEX_CD_M', 'ESRD_IND_Y',\n",
      "       'Diab_Type_Diabetes Type I'],\n",
      "      dtype='object', length=111)\n"
     ]
    }
   ],
   "source": [
    "print(newDF.columns)"
   ]
  },
  {
   "cell_type": "code",
   "execution_count": null,
   "metadata": {},
   "outputs": [],
   "source": [
    "# CON_VISIT 11, 22; POT_VISIT_65_Q02 - Q03; \n",
    "# Population_density_centile_US; RENAL; Diab_Type_Diabetes Type I; \n",
    "# DIABETES\n",
    "newDF['']"
   ]
  },
  {
   "cell_type": "code",
   "execution_count": null,
   "metadata": {},
   "outputs": [],
   "source": []
  },
  {
   "cell_type": "code",
   "execution_count": 58,
   "metadata": {},
   "outputs": [
    {
     "data": {
      "text/html": [
       "<div>\n",
       "<style scoped>\n",
       "    .dataframe tbody tr th:only-of-type {\n",
       "        vertical-align: middle;\n",
       "    }\n",
       "\n",
       "    .dataframe tbody tr th {\n",
       "        vertical-align: top;\n",
       "    }\n",
       "\n",
       "    .dataframe thead th {\n",
       "        text-align: right;\n",
       "    }\n",
       "</style>\n",
       "<table border=\"1\" class=\"dataframe\">\n",
       "  <thead>\n",
       "    <tr style=\"text-align: right;\">\n",
       "      <th></th>\n",
       "      <th>ID</th>\n",
       "      <th>AGE</th>\n",
       "      <th>ORIG_REAS_ENTITLE_CD</th>\n",
       "      <th>RECON_MA_RISK_SCORE_NBR</th>\n",
       "      <th>CON_VISIT_04_Q03</th>\n",
       "      <th>CON_VISIT_21_Q03</th>\n",
       "      <th>CON_VISIT_03_Q02</th>\n",
       "      <th>CON_VISIT_03_Q04</th>\n",
       "      <th>CON_VISIT_30_Q02</th>\n",
       "      <th>CON_VISIT_30_Q04</th>\n",
       "      <th>...</th>\n",
       "      <th>Length_residence</th>\n",
       "      <th>Est_Net_worth</th>\n",
       "      <th>CDC</th>\n",
       "      <th>CDC_EYE_GAP</th>\n",
       "      <th>BCS_GAP</th>\n",
       "      <th>COL_GAP</th>\n",
       "      <th>STATIN_ELIG</th>\n",
       "      <th>SEX_CD_F</th>\n",
       "      <th>HOSPICE_IND_Y</th>\n",
       "      <th>Diab_Type_Diabetes Type I</th>\n",
       "    </tr>\n",
       "  </thead>\n",
       "  <tbody>\n",
       "    <tr>\n",
       "      <th>count</th>\n",
       "      <td>4023.000000</td>\n",
       "      <td>4023.000000</td>\n",
       "      <td>4023.000000</td>\n",
       "      <td>4023.000000</td>\n",
       "      <td>4023.000000</td>\n",
       "      <td>4023.000000</td>\n",
       "      <td>4023.000000</td>\n",
       "      <td>4023.000000</td>\n",
       "      <td>4023.000000</td>\n",
       "      <td>4023.000000</td>\n",
       "      <td>...</td>\n",
       "      <td>4023.000000</td>\n",
       "      <td>4023.000000</td>\n",
       "      <td>4023.000000</td>\n",
       "      <td>4023.000000</td>\n",
       "      <td>4023.000000</td>\n",
       "      <td>4023.000000</td>\n",
       "      <td>4023.000000</td>\n",
       "      <td>4023.00000</td>\n",
       "      <td>4023.000000</td>\n",
       "      <td>4023.000000</td>\n",
       "    </tr>\n",
       "    <tr>\n",
       "      <th>mean</th>\n",
       "      <td>50217.926423</td>\n",
       "      <td>74.544370</td>\n",
       "      <td>0.279891</td>\n",
       "      <td>1.378850</td>\n",
       "      <td>0.534178</td>\n",
       "      <td>0.891872</td>\n",
       "      <td>0.276162</td>\n",
       "      <td>0.282376</td>\n",
       "      <td>0.121800</td>\n",
       "      <td>0.103157</td>\n",
       "      <td>...</td>\n",
       "      <td>16.138454</td>\n",
       "      <td>211311.210539</td>\n",
       "      <td>0.239125</td>\n",
       "      <td>0.103903</td>\n",
       "      <td>0.051454</td>\n",
       "      <td>0.160825</td>\n",
       "      <td>0.478747</td>\n",
       "      <td>0.52349</td>\n",
       "      <td>0.003231</td>\n",
       "      <td>0.037534</td>\n",
       "    </tr>\n",
       "    <tr>\n",
       "      <th>std</th>\n",
       "      <td>28973.357908</td>\n",
       "      <td>9.446673</td>\n",
       "      <td>0.450107</td>\n",
       "      <td>1.103054</td>\n",
       "      <td>1.715684</td>\n",
       "      <td>2.597763</td>\n",
       "      <td>1.623744</td>\n",
       "      <td>1.281706</td>\n",
       "      <td>1.220201</td>\n",
       "      <td>0.838558</td>\n",
       "      <td>...</td>\n",
       "      <td>17.629156</td>\n",
       "      <td>275881.935722</td>\n",
       "      <td>0.426602</td>\n",
       "      <td>0.305172</td>\n",
       "      <td>0.220950</td>\n",
       "      <td>0.367415</td>\n",
       "      <td>0.499610</td>\n",
       "      <td>0.49951</td>\n",
       "      <td>0.056761</td>\n",
       "      <td>0.190090</td>\n",
       "    </tr>\n",
       "    <tr>\n",
       "      <th>min</th>\n",
       "      <td>9.000000</td>\n",
       "      <td>40.000000</td>\n",
       "      <td>0.000000</td>\n",
       "      <td>0.000000</td>\n",
       "      <td>0.000000</td>\n",
       "      <td>0.000000</td>\n",
       "      <td>0.000000</td>\n",
       "      <td>0.000000</td>\n",
       "      <td>0.000000</td>\n",
       "      <td>0.000000</td>\n",
       "      <td>...</td>\n",
       "      <td>0.000000</td>\n",
       "      <td>-2500.000000</td>\n",
       "      <td>0.000000</td>\n",
       "      <td>0.000000</td>\n",
       "      <td>0.000000</td>\n",
       "      <td>0.000000</td>\n",
       "      <td>0.000000</td>\n",
       "      <td>0.00000</td>\n",
       "      <td>0.000000</td>\n",
       "      <td>0.000000</td>\n",
       "    </tr>\n",
       "    <tr>\n",
       "      <th>25%</th>\n",
       "      <td>24980.000000</td>\n",
       "      <td>69.000000</td>\n",
       "      <td>0.000000</td>\n",
       "      <td>0.631500</td>\n",
       "      <td>0.000000</td>\n",
       "      <td>0.000000</td>\n",
       "      <td>0.000000</td>\n",
       "      <td>0.000000</td>\n",
       "      <td>0.000000</td>\n",
       "      <td>0.000000</td>\n",
       "      <td>...</td>\n",
       "      <td>5.000000</td>\n",
       "      <td>2500.000000</td>\n",
       "      <td>0.000000</td>\n",
       "      <td>0.000000</td>\n",
       "      <td>0.000000</td>\n",
       "      <td>0.000000</td>\n",
       "      <td>0.000000</td>\n",
       "      <td>0.00000</td>\n",
       "      <td>0.000000</td>\n",
       "      <td>0.000000</td>\n",
       "    </tr>\n",
       "    <tr>\n",
       "      <th>50%</th>\n",
       "      <td>50330.000000</td>\n",
       "      <td>74.000000</td>\n",
       "      <td>0.000000</td>\n",
       "      <td>1.034000</td>\n",
       "      <td>0.000000</td>\n",
       "      <td>0.000000</td>\n",
       "      <td>0.000000</td>\n",
       "      <td>0.000000</td>\n",
       "      <td>0.000000</td>\n",
       "      <td>0.000000</td>\n",
       "      <td>...</td>\n",
       "      <td>13.000000</td>\n",
       "      <td>87500.000000</td>\n",
       "      <td>0.000000</td>\n",
       "      <td>0.000000</td>\n",
       "      <td>0.000000</td>\n",
       "      <td>0.000000</td>\n",
       "      <td>0.000000</td>\n",
       "      <td>1.00000</td>\n",
       "      <td>0.000000</td>\n",
       "      <td>0.000000</td>\n",
       "    </tr>\n",
       "    <tr>\n",
       "      <th>75%</th>\n",
       "      <td>75125.500000</td>\n",
       "      <td>81.000000</td>\n",
       "      <td>1.000000</td>\n",
       "      <td>1.759500</td>\n",
       "      <td>1.000000</td>\n",
       "      <td>1.000000</td>\n",
       "      <td>0.000000</td>\n",
       "      <td>0.000000</td>\n",
       "      <td>0.000000</td>\n",
       "      <td>0.000000</td>\n",
       "      <td>...</td>\n",
       "      <td>19.000000</td>\n",
       "      <td>312500.000000</td>\n",
       "      <td>0.000000</td>\n",
       "      <td>0.000000</td>\n",
       "      <td>0.000000</td>\n",
       "      <td>0.000000</td>\n",
       "      <td>1.000000</td>\n",
       "      <td>1.00000</td>\n",
       "      <td>0.000000</td>\n",
       "      <td>0.000000</td>\n",
       "    </tr>\n",
       "    <tr>\n",
       "      <th>max</th>\n",
       "      <td>99960.000000</td>\n",
       "      <td>95.000000</td>\n",
       "      <td>2.000000</td>\n",
       "      <td>8.295000</td>\n",
       "      <td>38.000000</td>\n",
       "      <td>34.000000</td>\n",
       "      <td>43.000000</td>\n",
       "      <td>21.000000</td>\n",
       "      <td>60.000000</td>\n",
       "      <td>27.000000</td>\n",
       "      <td>...</td>\n",
       "      <td>99.000000</td>\n",
       "      <td>1000000.000000</td>\n",
       "      <td>1.000000</td>\n",
       "      <td>1.000000</td>\n",
       "      <td>1.000000</td>\n",
       "      <td>1.000000</td>\n",
       "      <td>1.000000</td>\n",
       "      <td>1.00000</td>\n",
       "      <td>1.000000</td>\n",
       "      <td>1.000000</td>\n",
       "    </tr>\n",
       "  </tbody>\n",
       "</table>\n",
       "<p>8 rows × 109 columns</p>\n",
       "</div>"
      ],
      "text/plain": [
       "                 ID          AGE  ORIG_REAS_ENTITLE_CD  \\\n",
       "count   4023.000000  4023.000000           4023.000000   \n",
       "mean   50217.926423    74.544370              0.279891   \n",
       "std    28973.357908     9.446673              0.450107   \n",
       "min        9.000000    40.000000              0.000000   \n",
       "25%    24980.000000    69.000000              0.000000   \n",
       "50%    50330.000000    74.000000              0.000000   \n",
       "75%    75125.500000    81.000000              1.000000   \n",
       "max    99960.000000    95.000000              2.000000   \n",
       "\n",
       "       RECON_MA_RISK_SCORE_NBR  CON_VISIT_04_Q03  CON_VISIT_21_Q03  \\\n",
       "count              4023.000000       4023.000000       4023.000000   \n",
       "mean                  1.378850          0.534178          0.891872   \n",
       "std                   1.103054          1.715684          2.597763   \n",
       "min                   0.000000          0.000000          0.000000   \n",
       "25%                   0.631500          0.000000          0.000000   \n",
       "50%                   1.034000          0.000000          0.000000   \n",
       "75%                   1.759500          1.000000          1.000000   \n",
       "max                   8.295000         38.000000         34.000000   \n",
       "\n",
       "       CON_VISIT_03_Q02  CON_VISIT_03_Q04  CON_VISIT_30_Q02  CON_VISIT_30_Q04  \\\n",
       "count       4023.000000       4023.000000       4023.000000       4023.000000   \n",
       "mean           0.276162          0.282376          0.121800          0.103157   \n",
       "std            1.623744          1.281706          1.220201          0.838558   \n",
       "min            0.000000          0.000000          0.000000          0.000000   \n",
       "25%            0.000000          0.000000          0.000000          0.000000   \n",
       "50%            0.000000          0.000000          0.000000          0.000000   \n",
       "75%            0.000000          0.000000          0.000000          0.000000   \n",
       "max           43.000000         21.000000         60.000000         27.000000   \n",
       "\n",
       "                 ...              Length_residence   Est_Net_worth  \\\n",
       "count            ...                   4023.000000     4023.000000   \n",
       "mean             ...                     16.138454   211311.210539   \n",
       "std              ...                     17.629156   275881.935722   \n",
       "min              ...                      0.000000    -2500.000000   \n",
       "25%              ...                      5.000000     2500.000000   \n",
       "50%              ...                     13.000000    87500.000000   \n",
       "75%              ...                     19.000000   312500.000000   \n",
       "max              ...                     99.000000  1000000.000000   \n",
       "\n",
       "               CDC  CDC_EYE_GAP      BCS_GAP      COL_GAP  STATIN_ELIG  \\\n",
       "count  4023.000000  4023.000000  4023.000000  4023.000000  4023.000000   \n",
       "mean      0.239125     0.103903     0.051454     0.160825     0.478747   \n",
       "std       0.426602     0.305172     0.220950     0.367415     0.499610   \n",
       "min       0.000000     0.000000     0.000000     0.000000     0.000000   \n",
       "25%       0.000000     0.000000     0.000000     0.000000     0.000000   \n",
       "50%       0.000000     0.000000     0.000000     0.000000     0.000000   \n",
       "75%       0.000000     0.000000     0.000000     0.000000     1.000000   \n",
       "max       1.000000     1.000000     1.000000     1.000000     1.000000   \n",
       "\n",
       "         SEX_CD_F  HOSPICE_IND_Y  Diab_Type_Diabetes Type I  \n",
       "count  4023.00000    4023.000000                4023.000000  \n",
       "mean      0.52349       0.003231                   0.037534  \n",
       "std       0.49951       0.056761                   0.190090  \n",
       "min       0.00000       0.000000                   0.000000  \n",
       "25%       0.00000       0.000000                   0.000000  \n",
       "50%       1.00000       0.000000                   0.000000  \n",
       "75%       1.00000       0.000000                   0.000000  \n",
       "max       1.00000       1.000000                   1.000000  \n",
       "\n",
       "[8 rows x 109 columns]"
      ]
     },
     "execution_count": 58,
     "metadata": {},
     "output_type": "execute_result"
    }
   ],
   "source": [
    "newDF.describe()"
   ]
  },
  {
   "cell_type": "code",
   "execution_count": 15,
   "metadata": {},
   "outputs": [
    {
     "data": {
      "text/plain": [
       "(4049, 111)"
      ]
     },
     "execution_count": 15,
     "metadata": {},
     "output_type": "execute_result"
    }
   ],
   "source": [
    "newDF.shape"
   ]
  },
  {
   "cell_type": "code",
   "execution_count": 16,
   "metadata": {},
   "outputs": [
    {
     "data": {
      "text/plain": [
       "(4049, 469)"
      ]
     },
     "execution_count": 16,
     "metadata": {},
     "output_type": "execute_result"
    }
   ],
   "source": [
    "df.shape"
   ]
  },
  {
   "cell_type": "code",
   "execution_count": 17,
   "metadata": {},
   "outputs": [
    {
     "data": {
      "text/plain": [
       "4049"
      ]
     },
     "execution_count": 17,
     "metadata": {},
     "output_type": "execute_result"
    }
   ],
   "source": [
    "len(y)"
   ]
  },
  {
   "cell_type": "code",
   "execution_count": 60,
   "metadata": {},
   "outputs": [],
   "source": []
  },
  {
   "cell_type": "code",
   "execution_count": null,
   "metadata": {},
   "outputs": [],
   "source": []
  },
  {
   "cell_type": "code",
   "execution_count": 18,
   "metadata": {},
   "outputs": [
    {
     "name": "stdout",
     "output_type": "stream",
     "text": [
      "(4049, 112)\n",
      "(4049, 112)\n",
      "(4049, 111)\n",
      "(4049,)\n"
     ]
    }
   ],
   "source": [
    "\n",
    "\n",
    "newDF['AMI_FLAG'] = pd.Series(y, index=newDF.index)\n",
    "# use only the 107 features, retrain models\n",
    "df = newDF\n",
    "print(df.shape)\n",
    "df = df.dropna()\n",
    "print(df.shape)\n",
    "\n",
    "# define the target we would like to predict \n",
    "y = df['AMI_FLAG']\n",
    "\n",
    "X = df.loc[:, df.columns != 'AMI_FLAG']\n",
    "\n",
    "# sanity check on X, y dimensions \n",
    "print(X.shape)\n",
    "print(y.shape)\n",
    "\n",
    "# split training and testing data\n",
    "\n",
    "X_train, X_test, y_train, y_test = train_test_split(X, y, test_size = 0.33, random_state=42)"
   ]
  },
  {
   "cell_type": "code",
   "execution_count": 19,
   "metadata": {},
   "outputs": [
    {
     "data": {
      "text/plain": [
       "112"
      ]
     },
     "execution_count": 19,
     "metadata": {},
     "output_type": "execute_result"
    }
   ],
   "source": [
    "df.shape[1]"
   ]
  },
  {
   "cell_type": "code",
   "execution_count": 66,
   "metadata": {},
   "outputs": [
    {
     "name": "stdout",
     "output_type": "stream",
     "text": [
      "x:  Tensor(\"Placeholder_2:0\", shape=(?, 109), dtype=float32)\n",
      "logits:  Tensor(\"fully_connected_2/Softplus:0\", shape=(?, 50), dtype=float32)\n",
      "loss:  Tensor(\"Mean_2:0\", shape=(), dtype=float32)\n",
      "predicted_labels:  Tensor(\"ArgMax_1:0\", shape=(?,), dtype=int64)\n"
     ]
    }
   ],
   "source": [
    "# modeling \n",
    "\n",
    "x = tf.placeholder(dtype = tf.float32, shape = [None, (df.shape[1]-1)])\n",
    "y = tf.placeholder(dtype = tf.int32, shape = [None])\n",
    "\n",
    "\n",
    "# tanh, elu, selu, softplus, and softsign\n",
    "\n",
    "#logits = tf.contrib.layers.fully_connected(x, 50, tf.nn.elu)\n",
    "#logits = tf.contrib.layers.fully_connected(x, 128, tf.nn.tanh)\n",
    "#logits = tf.contrib.layers.fully_connected(x, 128, tf.nn.selu)\n",
    "\n",
    "\n",
    "# this two model has better accuracy -------------\n",
    "\n",
    "logits = tf.contrib.layers.fully_connected(x, 50, tf.nn.relu)\n",
    "logits = tf.contrib.layers.fully_connected(x, 50, tf.nn.softplus)\n",
    "\n",
    "\n",
    "\n",
    "loss = tf.reduce_mean(tf.nn.sparse_softmax_cross_entropy_with_logits(labels = y, logits = logits))\n",
    "train_op = tf.train.AdamOptimizer(learning_rate=0.001).minimize(loss)\n",
    "correct_pred = tf.argmax(logits, 1)\n",
    "accuracy = tf.reduce_mean(tf.cast(correct_pred, tf.float32))\n",
    "\n",
    "print(\"x: \", x)\n",
    "print(\"logits: \", logits)\n",
    "print(\"loss: \", loss)\n",
    "print(\"predicted_labels: \", correct_pred)"
   ]
  },
  {
   "cell_type": "code",
   "execution_count": 67,
   "metadata": {},
   "outputs": [
    {
     "name": "stdout",
     "output_type": "stream",
     "text": [
      "Loss:  Tensor(\"Mean_2:0\", shape=(), dtype=float32)\n",
      "Loss:  Tensor(\"Mean_2:0\", shape=(), dtype=float32)\n",
      "Loss:  Tensor(\"Mean_2:0\", shape=(), dtype=float32)\n",
      "Loss:  Tensor(\"Mean_2:0\", shape=(), dtype=float32)\n",
      "Loss:  Tensor(\"Mean_2:0\", shape=(), dtype=float32)\n"
     ]
    }
   ],
   "source": [
    "sess = tf.Session()\n",
    "\n",
    "sess.run(tf.global_variables_initializer())\n",
    "\n",
    "for i in range(201):\n",
    "        #print('EPOCH', i)\n",
    "        _, accuracy_val = sess.run([train_op, accuracy], feed_dict={x: X_train, y: y_train})\n",
    "        if i % 50 == 0:\n",
    "            print(\"Loss: \", loss)\n",
    "        #print('DONE WITH EPOCH')"
   ]
  },
  {
   "cell_type": "code",
   "execution_count": 68,
   "metadata": {},
   "outputs": [
    {
     "name": "stdout",
     "output_type": "stream",
     "text": [
      "Accuracy: 0.509\n"
     ]
    }
   ],
   "source": [
    "\n",
    "predicted = sess.run([correct_pred], feed_dict={x: X_train})[0]\n",
    "\n",
    "# Calculate correct matches \n",
    "match_count = sum([int(y == y_) for y, y_ in zip(y_train, predicted)])\n",
    "\n",
    "# Calculate the accuracy\n",
    "accuracy = match_count / len(X_train)\n",
    "\n",
    "# Print the accuracy\n",
    "print(\"Accuracy: {:.3f}\".format(accuracy))\n"
   ]
  },
  {
   "cell_type": "code",
   "execution_count": 69,
   "metadata": {},
   "outputs": [
    {
     "name": "stdout",
     "output_type": "stream",
     "text": [
      "Accuracy: 0.501\n"
     ]
    }
   ],
   "source": [
    "\n",
    "\n",
    "predicted = sess.run([correct_pred], feed_dict={x: X_test})[0]\n",
    "\n",
    "# Calculate correct matches \n",
    "match_count = sum([int(y == y_) for y, y_ in zip(y_test, predicted)])\n",
    "\n",
    "# Calculate the accuracy\n",
    "accuracy = match_count / len(y_test)\n",
    "\n",
    "# Print the accuracy\n",
    "print(\"Accuracy: {:.3f}\".format(accuracy))"
   ]
  },
  {
   "cell_type": "code",
   "execution_count": 22,
   "metadata": {},
   "outputs": [
    {
     "name": "stdout",
     "output_type": "stream",
     "text": [
      "1.0\n",
      "0.5706806282722513\n"
     ]
    }
   ],
   "source": [
    "\n",
    "\n",
    "\n",
    "clf = DecisionTreeClassifier(random_state=0)\n",
    "clf.fit(X_train, y_train)\n",
    "\n",
    "\n",
    "\n",
    "pred_train = clf.predict(X_train)\n",
    "pred_test = clf.predict(X_test)\n",
    "print(accuracy_score(y_train, pred_train))\n",
    "print(accuracy_score(y_test, pred_test))\n"
   ]
  },
  {
   "cell_type": "code",
   "execution_count": 219,
   "metadata": {},
   "outputs": [
    {
     "name": "stdout",
     "output_type": "stream",
     "text": [
      "{'max_features': ['auto', 'sqrt', 'log2'], 'max_depth': [10, 20, 30, None], 'min_samples_leaf': [1, 2, 4], 'criterion': ['gini', 'entropy']}\n"
     ]
    }
   ],
   "source": [
    "# Here: testing decision tree with grid search \n",
    "\n",
    "\n",
    "# Number of features to consider at every split\n",
    "max_features = ['auto', 'sqrt', 'log2']\n",
    "# Maximum number of levels in tree\n",
    "max_depth = [10, 20, 30]\n",
    "max_depth.append(None)\n",
    "# Minimum number of samples required to split a node\n",
    "\n",
    "# Minimum number of samples required at each leaf node\n",
    "min_samples_leaf = [1, 2, 4]\n",
    "# crterion selecton\n",
    "criterion = ['gini', 'entropy']\n",
    "\n",
    "# Create the random grid\n",
    "random_grid = {'max_features': max_features,\n",
    "               'max_depth': max_depth,\n",
    "               'min_samples_leaf': min_samples_leaf,\n",
    "               'criterion': criterion}\n",
    "\n",
    "print(random_grid)\n"
   ]
  },
  {
   "cell_type": "code",
   "execution_count": 220,
   "metadata": {},
   "outputs": [],
   "source": [
    "clf = RandomForestClassifier()\n",
    "\n",
    "# Random search of parameters, using 3 fold cross validation, \n",
    "# search across 100 different combinations, and use all available cores\n",
    "rf_random = RandomizedSearchCV(estimator = clf, \n",
    "                               param_distributions = random_grid, \n",
    "                               n_iter = 72, cv = 3, verbose=2, \n",
    "                               random_state=42, n_jobs = -1)"
   ]
  },
  {
   "cell_type": "code",
   "execution_count": 221,
   "metadata": {},
   "outputs": [
    {
     "name": "stdout",
     "output_type": "stream",
     "text": [
      "Fitting 3 folds for each of 72 candidates, totalling 216 fits\n",
      "[CV] min_samples_leaf=1, max_features=auto, max_depth=10, criterion=gini \n",
      "[CV] min_samples_leaf=1, max_features=auto, max_depth=10, criterion=gini \n",
      "[CV] min_samples_leaf=1, max_features=auto, max_depth=10, criterion=gini \n",
      "[CV]  min_samples_leaf=1, max_features=auto, max_depth=10, criterion=gini, total=   0.1s\n",
      "[CV] min_samples_leaf=2, max_features=auto, max_depth=10, criterion=gini \n",
      "[CV]  min_samples_leaf=1, max_features=auto, max_depth=10, criterion=gini, total=   0.1s\n",
      "[CV] min_samples_leaf=2, max_features=auto, max_depth=10, criterion=gini \n",
      "[CV] min_samples_leaf=2, max_features=auto, max_depth=10, criterion=gini \n",
      "[CV]  min_samples_leaf=1, max_features=auto, max_depth=10, criterion=gini, total=   0.1s\n",
      "[CV] min_samples_leaf=4, max_features=auto, max_depth=10, criterion=gini \n",
      "[CV]  min_samples_leaf=2, max_features=auto, max_depth=10, criterion=gini, total=   0.1s\n",
      "[CV] min_samples_leaf=4, max_features=auto, max_depth=10, criterion=gini \n",
      "[CV] min_samples_leaf=4, max_features=auto, max_depth=10, criterion=gini \n",
      "[CV]  min_samples_leaf=2, max_features=auto, max_depth=10, criterion=gini, total=   0.1s\n",
      "[CV] min_samples_leaf=1, max_features=sqrt, max_depth=10, criterion=gini \n",
      "[CV]  min_samples_leaf=2, max_features=auto, max_depth=10, criterion=gini, total=   0.1s\n",
      "[CV] min_samples_leaf=1, max_features=sqrt, max_depth=10, criterion=gini \n",
      "[CV] min_samples_leaf=1, max_features=sqrt, max_depth=10, criterion=gini \n",
      "[CV]  min_samples_leaf=4, max_features=auto, max_depth=10, criterion=gini, total=   0.1s\n",
      "[CV] min_samples_leaf=2, max_features=sqrt, max_depth=10, criterion=gini \n",
      "[CV] min_samples_leaf=2, max_features=sqrt, max_depth=10, criterion=gini \n",
      "[CV]  min_samples_leaf=4, max_features=auto, max_depth=10, criterion=gini, total=   0.1s\n",
      "[CV]  min_samples_leaf=1, max_features=sqrt, max_depth=10, criterion=gini, total=   0.1s\n",
      "[CV]  min_samples_leaf=4, max_features=auto, max_depth=10, criterion=gini, total=   0.1s\n",
      "[CV]  min_samples_leaf=1, max_features=sqrt, max_depth=10, criterion=gini, total=   0.1s\n",
      "[CV] min_samples_leaf=2, max_features=sqrt, max_depth=10, criterion=gini \n",
      "[CV] min_samples_leaf=4, max_features=sqrt, max_depth=10, criterion=gini \n",
      "[CV]  min_samples_leaf=1, max_features=sqrt, max_depth=10, criterion=gini, total=   0.1s\n",
      "[CV] min_samples_leaf=4, max_features=sqrt, max_depth=10, criterion=gini \n",
      "[CV]  min_samples_leaf=2, max_features=sqrt, max_depth=10, criterion=gini, total=   0.1s\n",
      "[CV] min_samples_leaf=1, max_features=log2, max_depth=10, criterion=gini \n",
      "[CV]  min_samples_leaf=2, max_features=sqrt, max_depth=10, criterion=gini, total=   0.1s\n",
      "[CV] min_samples_leaf=1, max_features=log2, max_depth=10, criterion=gini \n",
      "[CV]  min_samples_leaf=2, max_features=sqrt, max_depth=10, criterion=gini, total=   0.1s\n",
      "[CV] min_samples_leaf=2, max_features=log2, max_depth=10, criterion=gini \n",
      "[CV]  min_samples_leaf=4, max_features=sqrt, max_depth=10, criterion=gini, total=   0.1s\n",
      "[CV] min_samples_leaf=4, max_features=log2, max_depth=10, criterion=gini \n",
      "[CV]  min_samples_leaf=4, max_features=sqrt, max_depth=10, criterion=gini, total=   0.1s\n",
      "[CV] min_samples_leaf=4, max_features=sqrt, max_depth=10, criterion=gini \n",
      "[CV] min_samples_leaf=4, max_features=log2, max_depth=10, criterion=gini \n",
      "[CV]  min_samples_leaf=1, max_features=log2, max_depth=10, criterion=gini, total=   0.1s\n",
      "[CV] min_samples_leaf=1, max_features=log2, max_depth=10, criterion=gini \n",
      "[CV]  min_samples_leaf=1, max_features=log2, max_depth=10, criterion=gini, total=   0.0s\n",
      "[CV] min_samples_leaf=1, max_features=auto, max_depth=20, criterion=gini \n",
      "[CV] min_samples_leaf=2, max_features=log2, max_depth=10, criterion=gini \n",
      "[CV] min_samples_leaf=2, max_features=auto, max_depth=20, criterion=gini \n",
      "[CV]  min_samples_leaf=2, max_features=log2, max_depth=10, criterion=gini, total=   0.1s\n",
      "[CV] min_samples_leaf=2, max_features=log2, max_depth=10, criterion=gini \n",
      "[CV]  min_samples_leaf=4, max_features=log2, max_depth=10, criterion=gini, total=   0.0s\n",
      "[CV]  min_samples_leaf=4, max_features=log2, max_depth=10, criterion=gini, total=   0.1s\n",
      "[CV] min_samples_leaf=4, max_features=log2, max_depth=10, criterion=gini \n",
      "[CV] min_samples_leaf=1, max_features=auto, max_depth=20, criterion=gini \n",
      "[CV]  min_samples_leaf=4, max_features=sqrt, max_depth=10, criterion=gini, total=   0.1s\n",
      "[CV]  min_samples_leaf=1, max_features=log2, max_depth=10, criterion=gini, total=   0.1s\n",
      "[CV]  min_samples_leaf=2, max_features=log2, max_depth=10, criterion=gini, total=   0.1s\n",
      "[CV] min_samples_leaf=2, max_features=auto, max_depth=20, criterion=gini \n",
      "[CV] min_samples_leaf=4, max_features=auto, max_depth=20, criterion=gini \n",
      "[CV]  min_samples_leaf=2, max_features=auto, max_depth=20, criterion=gini, total=   0.1s\n",
      "[CV]  min_samples_leaf=1, max_features=auto, max_depth=20, criterion=gini, total=   0.1s\n",
      "[CV]  min_samples_leaf=2, max_features=log2, max_depth=10, criterion=gini, total=   0.1s\n",
      "[CV] min_samples_leaf=2, max_features=auto, max_depth=20, criterion=gini \n",
      "[CV] min_samples_leaf=1, max_features=auto, max_depth=20, criterion=gini \n",
      "[CV] min_samples_leaf=1, max_features=sqrt, max_depth=20, criterion=gini \n",
      "[CV]  min_samples_leaf=4, max_features=log2, max_depth=10, criterion=gini, total=   0.1s\n",
      "[CV] min_samples_leaf=1, max_features=sqrt, max_depth=20, criterion=gini \n",
      "[CV] min_samples_leaf=2, max_features=sqrt, max_depth=20, criterion=gini \n",
      "[CV]  min_samples_leaf=1, max_features=auto, max_depth=20, criterion=gini, total=   0.1s\n",
      "[CV]  min_samples_leaf=2, max_features=auto, max_depth=20, criterion=gini, total=   0.1s\n",
      "[CV] min_samples_leaf=4, max_features=auto, max_depth=20, criterion=gini \n",
      "[CV]  min_samples_leaf=4, max_features=auto, max_depth=20, criterion=gini, total=   0.1s\n",
      "[CV] min_samples_leaf=4, max_features=auto, max_depth=20, criterion=gini \n",
      "[CV] min_samples_leaf=4, max_features=sqrt, max_depth=20, criterion=gini \n",
      "[CV]  min_samples_leaf=1, max_features=sqrt, max_depth=20, criterion=gini, total=   0.1s\n",
      "[CV] min_samples_leaf=1, max_features=sqrt, max_depth=20, criterion=gini \n",
      "[CV]  min_samples_leaf=2, max_features=auto, max_depth=20, criterion=gini, total=   0.1s\n",
      "[CV]  min_samples_leaf=1, max_features=auto, max_depth=20, criterion=gini, total=   0.1s\n",
      "[CV] min_samples_leaf=4, max_features=sqrt, max_depth=20, criterion=gini \n",
      "[CV]  min_samples_leaf=1, max_features=sqrt, max_depth=20, criterion=gini, total=   0.1s\n",
      "[CV] min_samples_leaf=2, max_features=sqrt, max_depth=20, criterion=gini \n",
      "[CV]  min_samples_leaf=2, max_features=sqrt, max_depth=20, criterion=gini, total=   0.1s\n",
      "[CV] min_samples_leaf=1, max_features=log2, max_depth=20, criterion=gini \n",
      "[CV] min_samples_leaf=2, max_features=sqrt, max_depth=20, criterion=gini \n",
      "[CV]  min_samples_leaf=4, max_features=sqrt, max_depth=20, criterion=gini, total=   0.1s\n",
      "[CV] min_samples_leaf=4, max_features=sqrt, max_depth=20, criterion=gini \n",
      "[CV]  min_samples_leaf=4, max_features=auto, max_depth=20, criterion=gini, total=   0.1s\n",
      "[CV]  min_samples_leaf=4, max_features=auto, max_depth=20, criterion=gini, total=   0.1s\n",
      "[CV] min_samples_leaf=2, max_features=log2, max_depth=20, criterion=gini \n",
      "[CV]  min_samples_leaf=4, max_features=sqrt, max_depth=20, criterion=gini, total=   0.1s\n",
      "[CV]  min_samples_leaf=1, max_features=sqrt, max_depth=20, criterion=gini, total=   0.1s\n",
      "[CV] min_samples_leaf=1, max_features=log2, max_depth=20, criterion=gini \n",
      "[CV] min_samples_leaf=2, max_features=log2, max_depth=20, criterion=gini \n",
      "[CV]  min_samples_leaf=1, max_features=log2, max_depth=20, criterion=gini, total=   0.1s\n",
      "[CV] min_samples_leaf=1, max_features=log2, max_depth=20, criterion=gini \n",
      "[CV]  min_samples_leaf=2, max_features=sqrt, max_depth=20, criterion=gini, total=   0.1s\n",
      "[CV] min_samples_leaf=4, max_features=log2, max_depth=20, criterion=gini \n",
      "[CV]  min_samples_leaf=2, max_features=sqrt, max_depth=20, criterion=gini, total=   0.1s\n",
      "[CV] min_samples_leaf=1, max_features=auto, max_depth=30, criterion=gini \n",
      "[CV]  min_samples_leaf=4, max_features=sqrt, max_depth=20, criterion=gini, total=   0.1s\n",
      "[CV] min_samples_leaf=1, max_features=auto, max_depth=30, criterion=gini \n",
      "[CV] min_samples_leaf=2, max_features=auto, max_depth=30, criterion=gini \n",
      "[CV]  min_samples_leaf=2, max_features=log2, max_depth=20, criterion=gini, total=   0.1s\n"
     ]
    },
    {
     "name": "stdout",
     "output_type": "stream",
     "text": [
      "[CV] min_samples_leaf=2, max_features=log2, max_depth=20, criterion=gini \n",
      "[CV]  min_samples_leaf=2, max_features=log2, max_depth=20, criterion=gini, total=   0.1s\n",
      "[CV] min_samples_leaf=4, max_features=log2, max_depth=20, criterion=gini \n",
      "[CV]  min_samples_leaf=1, max_features=log2, max_depth=20, criterion=gini, total=   0.1s\n",
      "[CV]  min_samples_leaf=4, max_features=log2, max_depth=20, criterion=gini, total=   0.1s\n",
      "[CV]  min_samples_leaf=1, max_features=log2, max_depth=20, criterion=gini, total=   0.1s\n",
      "[CV] min_samples_leaf=4, max_features=log2, max_depth=20, criterion=gini \n",
      "[CV] min_samples_leaf=4, max_features=auto, max_depth=30, criterion=gini \n",
      "[CV] min_samples_leaf=4, max_features=auto, max_depth=30, criterion=gini \n",
      "[CV]  min_samples_leaf=1, max_features=auto, max_depth=30, criterion=gini, total=   0.1s\n",
      "[CV]  min_samples_leaf=1, max_features=auto, max_depth=30, criterion=gini, total=   0.1s\n",
      "[CV] min_samples_leaf=1, max_features=auto, max_depth=30, criterion=gini \n",
      "[CV] min_samples_leaf=2, max_features=auto, max_depth=30, criterion=gini \n",
      "[CV]  min_samples_leaf=2, max_features=log2, max_depth=20, criterion=gini, total=   0.1s\n"
     ]
    },
    {
     "name": "stderr",
     "output_type": "stream",
     "text": [
      "[Parallel(n_jobs=-1)]: Done  34 tasks      | elapsed:    0.7s\n"
     ]
    },
    {
     "name": "stdout",
     "output_type": "stream",
     "text": [
      "[CV]  min_samples_leaf=2, max_features=auto, max_depth=30, criterion=gini, total=   0.1s\n",
      "[CV]  min_samples_leaf=4, max_features=log2, max_depth=20, criterion=gini, total=   0.1s\n",
      "[CV] min_samples_leaf=2, max_features=auto, max_depth=30, criterion=gini \n",
      "[CV] min_samples_leaf=1, max_features=sqrt, max_depth=30, criterion=gini \n",
      "[CV]  min_samples_leaf=4, max_features=log2, max_depth=20, criterion=gini, total=   0.1s\n",
      "[CV] min_samples_leaf=2, max_features=sqrt, max_depth=30, criterion=gini \n",
      "[CV]  min_samples_leaf=4, max_features=auto, max_depth=30, criterion=gini, total=   0.1s\n",
      "[CV] min_samples_leaf=4, max_features=auto, max_depth=30, criterion=gini \n",
      "[CV]  min_samples_leaf=4, max_features=auto, max_depth=30, criterion=gini, total=   0.1s\n",
      "[CV] min_samples_leaf=2, max_features=sqrt, max_depth=30, criterion=gini \n",
      "[CV] min_samples_leaf=1, max_features=sqrt, max_depth=30, criterion=gini \n",
      "[CV]  min_samples_leaf=1, max_features=auto, max_depth=30, criterion=gini, total=   0.1s\n",
      "[CV]  min_samples_leaf=2, max_features=auto, max_depth=30, criterion=gini, total=   0.1s\n",
      "[CV]  min_samples_leaf=1, max_features=sqrt, max_depth=30, criterion=gini, total=   0.1s\n",
      "[CV] min_samples_leaf=4, max_features=sqrt, max_depth=30, criterion=gini \n",
      "[CV]  min_samples_leaf=2, max_features=auto, max_depth=30, criterion=gini, total=   0.1s\n",
      "[CV] min_samples_leaf=1, max_features=sqrt, max_depth=30, criterion=gini \n",
      "[CV]  min_samples_leaf=2, max_features=sqrt, max_depth=30, criterion=gini, total=   0.1s\n",
      "[CV] min_samples_leaf=2, max_features=sqrt, max_depth=30, criterion=gini \n",
      "[CV] min_samples_leaf=1, max_features=log2, max_depth=30, criterion=gini \n",
      "[CV]  min_samples_leaf=4, max_features=auto, max_depth=30, criterion=gini, total=   0.1s\n",
      "[CV] min_samples_leaf=1, max_features=log2, max_depth=30, criterion=gini \n",
      "[CV]  min_samples_leaf=2, max_features=sqrt, max_depth=30, criterion=gini, total=   0.1s\n",
      "[CV] min_samples_leaf=4, max_features=sqrt, max_depth=30, criterion=gini \n",
      "[CV] min_samples_leaf=2, max_features=log2, max_depth=30, criterion=gini \n",
      "[CV]  min_samples_leaf=1, max_features=sqrt, max_depth=30, criterion=gini, total=   0.1s\n",
      "[CV] min_samples_leaf=4, max_features=log2, max_depth=30, criterion=gini \n",
      "[CV]  min_samples_leaf=4, max_features=sqrt, max_depth=30, criterion=gini, total=   0.1s\n",
      "[CV]  min_samples_leaf=1, max_features=log2, max_depth=30, criterion=gini, total=   0.1s\n",
      "[CV] min_samples_leaf=1, max_features=log2, max_depth=30, criterion=gini \n",
      "[CV] min_samples_leaf=4, max_features=sqrt, max_depth=30, criterion=gini \n",
      "[CV]  min_samples_leaf=2, max_features=sqrt, max_depth=30, criterion=gini, total=   0.1s\n",
      "[CV]  min_samples_leaf=1, max_features=log2, max_depth=30, criterion=gini, total=   0.1s\n",
      "[CV]  min_samples_leaf=1, max_features=sqrt, max_depth=30, criterion=gini, total=   0.1s\n",
      "[CV] min_samples_leaf=2, max_features=log2, max_depth=30, criterion=gini \n",
      "[CV]  min_samples_leaf=4, max_features=sqrt, max_depth=30, criterion=gini, total=   0.1s\n",
      "[CV]  min_samples_leaf=2, max_features=log2, max_depth=30, criterion=gini, total=   0.1s\n",
      "[CV] min_samples_leaf=2, max_features=log2, max_depth=30, criterion=gini \n",
      "[CV] min_samples_leaf=4, max_features=log2, max_depth=30, criterion=gini \n",
      "[CV]  min_samples_leaf=4, max_features=log2, max_depth=30, criterion=gini, total=   0.1s\n",
      "[CV] min_samples_leaf=1, max_features=auto, max_depth=None, criterion=gini \n",
      "[CV] min_samples_leaf=4, max_features=log2, max_depth=30, criterion=gini \n",
      "[CV] min_samples_leaf=2, max_features=auto, max_depth=None, criterion=gini \n",
      "[CV]  min_samples_leaf=4, max_features=sqrt, max_depth=30, criterion=gini, total=   0.1s\n",
      "[CV]  min_samples_leaf=1, max_features=log2, max_depth=30, criterion=gini, total=   0.1s\n",
      "[CV]  min_samples_leaf=2, max_features=log2, max_depth=30, criterion=gini, total=   0.1s\n",
      "[CV] min_samples_leaf=2, max_features=auto, max_depth=None, criterion=gini \n",
      "[CV]  min_samples_leaf=4, max_features=log2, max_depth=30, criterion=gini, total=   0.1s\n",
      "[CV] min_samples_leaf=1, max_features=auto, max_depth=None, criterion=gini \n",
      "[CV] min_samples_leaf=4, max_features=auto, max_depth=None, criterion=gini \n",
      "[CV]  min_samples_leaf=2, max_features=log2, max_depth=30, criterion=gini, total=   0.1s\n",
      "[CV]  min_samples_leaf=4, max_features=log2, max_depth=30, criterion=gini, total=   0.1s\n",
      "[CV] min_samples_leaf=1, max_features=sqrt, max_depth=None, criterion=gini \n",
      "[CV]  min_samples_leaf=1, max_features=auto, max_depth=None, criterion=gini, total=   0.1s\n",
      "[CV] min_samples_leaf=1, max_features=auto, max_depth=None, criterion=gini \n",
      "[CV] min_samples_leaf=1, max_features=sqrt, max_depth=None, criterion=gini \n",
      "[CV]  min_samples_leaf=2, max_features=auto, max_depth=None, criterion=gini, total=   0.1s\n",
      "[CV] min_samples_leaf=2, max_features=auto, max_depth=None, criterion=gini \n",
      "[CV] min_samples_leaf=2, max_features=sqrt, max_depth=None, criterion=gini \n",
      "[CV]  min_samples_leaf=4, max_features=auto, max_depth=None, criterion=gini, total=   0.1s\n",
      "[CV] min_samples_leaf=4, max_features=auto, max_depth=None, criterion=gini \n",
      "[CV]  min_samples_leaf=2, max_features=auto, max_depth=None, criterion=gini, total=   0.1s\n",
      "[CV] min_samples_leaf=4, max_features=auto, max_depth=None, criterion=gini \n",
      "[CV]  min_samples_leaf=1, max_features=sqrt, max_depth=None, criterion=gini, total=   0.1s\n",
      "[CV]  min_samples_leaf=1, max_features=auto, max_depth=None, criterion=gini, total=   0.1s\n",
      "[CV] min_samples_leaf=1, max_features=sqrt, max_depth=None, criterion=gini \n",
      "[CV]  min_samples_leaf=1, max_features=sqrt, max_depth=None, criterion=gini, total=   0.1s\n",
      "[CV] min_samples_leaf=2, max_features=sqrt, max_depth=None, criterion=gini \n",
      "[CV] min_samples_leaf=4, max_features=sqrt, max_depth=None, criterion=gini \n",
      "[CV]  min_samples_leaf=2, max_features=sqrt, max_depth=None, criterion=gini, total=   0.1s\n",
      "[CV]  min_samples_leaf=2, max_features=auto, max_depth=None, criterion=gini, total=   0.1s\n",
      "[CV] min_samples_leaf=2, max_features=sqrt, max_depth=None, criterion=gini \n",
      "[CV]  min_samples_leaf=1, max_features=auto, max_depth=None, criterion=gini, total=   0.1s\n",
      "[CV] min_samples_leaf=4, max_features=sqrt, max_depth=None, criterion=gini \n",
      "[CV] min_samples_leaf=1, max_features=log2, max_depth=None, criterion=gini \n",
      "[CV]  min_samples_leaf=4, max_features=auto, max_depth=None, criterion=gini, total=   0.1s\n",
      "[CV] min_samples_leaf=2, max_features=log2, max_depth=None, criterion=gini \n",
      "[CV]  min_samples_leaf=4, max_features=auto, max_depth=None, criterion=gini, total=   0.1s\n",
      "[CV]  min_samples_leaf=4, max_features=sqrt, max_depth=None, criterion=gini, total=   0.1s\n",
      "[CV] min_samples_leaf=4, max_features=sqrt, max_depth=None, criterion=gini \n",
      "[CV]  min_samples_leaf=2, max_features=sqrt, max_depth=None, criterion=gini, total=   0.1s\n",
      "[CV]  min_samples_leaf=2, max_features=sqrt, max_depth=None, criterion=gini, total=   0.1s\n",
      "[CV]  min_samples_leaf=4, max_features=sqrt, max_depth=None, criterion=gini, total=   0.1s\n",
      "[CV] min_samples_leaf=1, max_features=log2, max_depth=None, criterion=gini \n",
      "[CV] min_samples_leaf=2, max_features=log2, max_depth=None, criterion=gini \n",
      "[CV]  min_samples_leaf=1, max_features=log2, max_depth=None, criterion=gini, total=   0.1s\n",
      "[CV] min_samples_leaf=1, max_features=log2, max_depth=None, criterion=gini \n",
      "[CV]  min_samples_leaf=1, max_features=sqrt, max_depth=None, criterion=gini, total=   0.1s\n",
      "[CV] min_samples_leaf=4, max_features=log2, max_depth=None, criterion=gini \n",
      "[CV]  min_samples_leaf=2, max_features=log2, max_depth=None, criterion=gini, total=   0.1s\n",
      "[CV] min_samples_leaf=2, max_features=log2, max_depth=None, criterion=gini \n",
      "[CV] min_samples_leaf=1, max_features=auto, max_depth=10, criterion=entropy \n",
      "[CV]  min_samples_leaf=4, max_features=sqrt, max_depth=None, criterion=gini, total=   0.1s\n",
      "[CV] min_samples_leaf=1, max_features=auto, max_depth=10, criterion=entropy \n",
      "[CV]  min_samples_leaf=1, max_features=log2, max_depth=None, criterion=gini, total=   0.1s\n",
      "[CV] min_samples_leaf=2, max_features=auto, max_depth=10, criterion=entropy \n",
      "[CV]  min_samples_leaf=2, max_features=log2, max_depth=None, criterion=gini, total=   0.1s\n",
      "[CV]  min_samples_leaf=1, max_features=log2, max_depth=None, criterion=gini, total=   0.1s\n",
      "[CV] min_samples_leaf=4, max_features=auto, max_depth=10, criterion=entropy \n",
      "[CV] min_samples_leaf=4, max_features=log2, max_depth=None, criterion=gini \n"
     ]
    },
    {
     "name": "stdout",
     "output_type": "stream",
     "text": [
      "[CV]  min_samples_leaf=4, max_features=log2, max_depth=None, criterion=gini, total=   0.1s\n",
      "[CV] min_samples_leaf=4, max_features=auto, max_depth=10, criterion=entropy \n",
      "[CV] min_samples_leaf=4, max_features=log2, max_depth=None, criterion=gini \n",
      "[CV]  min_samples_leaf=2, max_features=log2, max_depth=None, criterion=gini, total=   0.1s\n",
      "[CV]  min_samples_leaf=1, max_features=auto, max_depth=10, criterion=entropy, total=   0.1s\n",
      "[CV] min_samples_leaf=1, max_features=auto, max_depth=10, criterion=entropy \n",
      "[CV] min_samples_leaf=1, max_features=sqrt, max_depth=10, criterion=entropy \n",
      "[CV]  min_samples_leaf=2, max_features=auto, max_depth=10, criterion=entropy, total=   0.1s\n",
      "[CV] min_samples_leaf=2, max_features=auto, max_depth=10, criterion=entropy \n",
      "[CV]  min_samples_leaf=4, max_features=auto, max_depth=10, criterion=entropy, total=   0.1s\n",
      "[CV] min_samples_leaf=4, max_features=auto, max_depth=10, criterion=entropy \n",
      "[CV]  min_samples_leaf=4, max_features=log2, max_depth=None, criterion=gini, total=   0.1s\n",
      "[CV]  min_samples_leaf=1, max_features=auto, max_depth=10, criterion=entropy, total=   0.1s\n",
      "[CV]  min_samples_leaf=4, max_features=auto, max_depth=10, criterion=entropy, total=   0.1s\n",
      "[CV] min_samples_leaf=2, max_features=auto, max_depth=10, criterion=entropy \n",
      "[CV] min_samples_leaf=2, max_features=sqrt, max_depth=10, criterion=entropy \n",
      "[CV] min_samples_leaf=1, max_features=sqrt, max_depth=10, criterion=entropy \n",
      "[CV]  min_samples_leaf=4, max_features=log2, max_depth=None, criterion=gini, total=   0.1s\n",
      "[CV] min_samples_leaf=2, max_features=sqrt, max_depth=10, criterion=entropy \n",
      "[CV]  min_samples_leaf=2, max_features=auto, max_depth=10, criterion=entropy, total=   0.1s\n",
      "[CV]  min_samples_leaf=1, max_features=auto, max_depth=10, criterion=entropy, total=   0.1s\n",
      "[CV]  min_samples_leaf=1, max_features=sqrt, max_depth=10, criterion=entropy, total=   0.1s\n",
      "[CV]  min_samples_leaf=4, max_features=auto, max_depth=10, criterion=entropy, total=   0.1s\n",
      "[CV] min_samples_leaf=1, max_features=sqrt, max_depth=10, criterion=entropy \n",
      "[CV] min_samples_leaf=4, max_features=sqrt, max_depth=10, criterion=entropy \n",
      "[CV] min_samples_leaf=1, max_features=log2, max_depth=10, criterion=entropy \n",
      "[CV]  min_samples_leaf=2, max_features=auto, max_depth=10, criterion=entropy, total=   0.1s\n",
      "[CV] min_samples_leaf=1, max_features=log2, max_depth=10, criterion=entropy \n",
      "[CV]  min_samples_leaf=1, max_features=sqrt, max_depth=10, criterion=entropy, total=   0.1s\n",
      "[CV]  min_samples_leaf=2, max_features=sqrt, max_depth=10, criterion=entropy, total=   0.1s\n",
      "[CV] min_samples_leaf=2, max_features=sqrt, max_depth=10, criterion=entropy \n",
      "[CV]  min_samples_leaf=2, max_features=sqrt, max_depth=10, criterion=entropy, total=   0.1s\n",
      "[CV] min_samples_leaf=2, max_features=log2, max_depth=10, criterion=entropy \n",
      "[CV] min_samples_leaf=4, max_features=sqrt, max_depth=10, criterion=entropy \n",
      "[CV] min_samples_leaf=4, max_features=log2, max_depth=10, criterion=entropy \n",
      "[CV]  min_samples_leaf=1, max_features=log2, max_depth=10, criterion=entropy, total=   0.1s\n",
      "[CV]  min_samples_leaf=4, max_features=sqrt, max_depth=10, criterion=entropy, total=   0.1s\n",
      "[CV] min_samples_leaf=1, max_features=log2, max_depth=10, criterion=entropy \n",
      "[CV] min_samples_leaf=4, max_features=sqrt, max_depth=10, criterion=entropy \n",
      "[CV]  min_samples_leaf=1, max_features=log2, max_depth=10, criterion=entropy, total=   0.1s\n",
      "[CV] min_samples_leaf=2, max_features=log2, max_depth=10, criterion=entropy \n",
      "[CV]  min_samples_leaf=1, max_features=sqrt, max_depth=10, criterion=entropy, total=   0.1s\n",
      "[CV]  min_samples_leaf=2, max_features=log2, max_depth=10, criterion=entropy, total=   0.1s\n",
      "[CV] min_samples_leaf=2, max_features=log2, max_depth=10, criterion=entropy \n",
      "[CV]  min_samples_leaf=4, max_features=log2, max_depth=10, criterion=entropy, total=   0.1s\n",
      "[CV] min_samples_leaf=4, max_features=log2, max_depth=10, criterion=entropy \n",
      "[CV] min_samples_leaf=4, max_features=log2, max_depth=10, criterion=entropy \n",
      "[CV]  min_samples_leaf=2, max_features=sqrt, max_depth=10, criterion=entropy, total=   0.1s\n",
      "[CV]  min_samples_leaf=4, max_features=sqrt, max_depth=10, criterion=entropy, total=   0.1s\n",
      "[CV] min_samples_leaf=1, max_features=auto, max_depth=20, criterion=entropy \n",
      "[CV] min_samples_leaf=2, max_features=auto, max_depth=20, criterion=entropy \n",
      "[CV]  min_samples_leaf=1, max_features=log2, max_depth=10, criterion=entropy, total=   0.1s\n",
      "[CV]  min_samples_leaf=4, max_features=sqrt, max_depth=10, criterion=entropy, total=   0.1s\n",
      "[CV]  min_samples_leaf=2, max_features=log2, max_depth=10, criterion=entropy, total=   0.1s\n",
      "[CV] min_samples_leaf=2, max_features=auto, max_depth=20, criterion=entropy \n",
      "[CV]  min_samples_leaf=2, max_features=log2, max_depth=10, criterion=entropy, total=   0.1s\n",
      "[CV]  min_samples_leaf=4, max_features=log2, max_depth=10, criterion=entropy, total=   0.1s\n",
      "[CV]  min_samples_leaf=4, max_features=log2, max_depth=10, criterion=entropy, total=   0.1s\n",
      "[CV] min_samples_leaf=1, max_features=auto, max_depth=20, criterion=entropy \n",
      "[CV] min_samples_leaf=4, max_features=auto, max_depth=20, criterion=entropy \n",
      "[CV] min_samples_leaf=1, max_features=sqrt, max_depth=20, criterion=entropy \n",
      "[CV] min_samples_leaf=1, max_features=sqrt, max_depth=20, criterion=entropy \n",
      "[CV] min_samples_leaf=2, max_features=sqrt, max_depth=20, criterion=entropy \n",
      "[CV]  min_samples_leaf=1, max_features=auto, max_depth=20, criterion=entropy, total=   0.1s\n",
      "[CV]  min_samples_leaf=2, max_features=auto, max_depth=20, criterion=entropy, total=   0.1s\n",
      "[CV] min_samples_leaf=1, max_features=auto, max_depth=20, criterion=entropy \n",
      "[CV] min_samples_leaf=2, max_features=auto, max_depth=20, criterion=entropy \n",
      "[CV]  min_samples_leaf=2, max_features=auto, max_depth=20, criterion=entropy, total=   0.1s\n",
      "[CV] min_samples_leaf=4, max_features=auto, max_depth=20, criterion=entropy \n",
      "[CV]  min_samples_leaf=4, max_features=auto, max_depth=20, criterion=entropy, total=   0.1s\n",
      "[CV] min_samples_leaf=4, max_features=auto, max_depth=20, criterion=entropy \n",
      "[CV]  min_samples_leaf=1, max_features=auto, max_depth=20, criterion=entropy, total=   0.1s\n",
      "[CV]  min_samples_leaf=1, max_features=sqrt, max_depth=20, criterion=entropy, total=   0.1s\n",
      "[CV] min_samples_leaf=1, max_features=sqrt, max_depth=20, criterion=entropy \n",
      "[CV] min_samples_leaf=4, max_features=sqrt, max_depth=20, criterion=entropy \n",
      "[CV]  min_samples_leaf=1, max_features=sqrt, max_depth=20, criterion=entropy, total=   0.1s\n",
      "[CV] min_samples_leaf=2, max_features=sqrt, max_depth=20, criterion=entropy \n",
      "[CV]  min_samples_leaf=2, max_features=sqrt, max_depth=20, criterion=entropy, total=   0.1s\n",
      "[CV] min_samples_leaf=2, max_features=sqrt, max_depth=20, criterion=entropy \n",
      "[CV]  min_samples_leaf=2, max_features=auto, max_depth=20, criterion=entropy, total=   0.1s\n",
      "[CV]  min_samples_leaf=1, max_features=auto, max_depth=20, criterion=entropy, total=   0.1s\n",
      "[CV] min_samples_leaf=4, max_features=sqrt, max_depth=20, criterion=entropy \n",
      "[CV]  min_samples_leaf=4, max_features=auto, max_depth=20, criterion=entropy, total=   0.1s\n",
      "[CV]  min_samples_leaf=4, max_features=auto, max_depth=20, criterion=entropy, total=   0.1s\n",
      "[CV] min_samples_leaf=1, max_features=log2, max_depth=20, criterion=entropy \n",
      "[CV]  min_samples_leaf=4, max_features=sqrt, max_depth=20, criterion=entropy, total=   0.1s\n",
      "[CV] min_samples_leaf=2, max_features=log2, max_depth=20, criterion=entropy \n",
      "[CV] min_samples_leaf=4, max_features=sqrt, max_depth=20, criterion=entropy \n",
      "[CV]  min_samples_leaf=1, max_features=sqrt, max_depth=20, criterion=entropy, total=   0.1s\n",
      "[CV] min_samples_leaf=2, max_features=log2, max_depth=20, criterion=entropy \n",
      "[CV]  min_samples_leaf=2, max_features=sqrt, max_depth=20, criterion=entropy, total=   0.1s\n",
      "[CV] min_samples_leaf=4, max_features=log2, max_depth=20, criterion=entropy \n",
      "[CV]  min_samples_leaf=2, max_features=sqrt, max_depth=20, criterion=entropy, total=   0.1s\n",
      "[CV] min_samples_leaf=1, max_features=auto, max_depth=30, criterion=entropy \n",
      "[CV]  min_samples_leaf=4, max_features=sqrt, max_depth=20, criterion=entropy, total=   0.1s\n",
      "[CV] min_samples_leaf=1, max_features=log2, max_depth=20, criterion=entropy \n",
      "[CV]  min_samples_leaf=1, max_features=log2, max_depth=20, criterion=entropy, total=   0.1s\n"
     ]
    },
    {
     "name": "stdout",
     "output_type": "stream",
     "text": [
      "[CV] min_samples_leaf=1, max_features=auto, max_depth=30, criterion=entropy \n",
      "[CV] min_samples_leaf=1, max_features=log2, max_depth=20, criterion=entropy \n",
      "[CV]  min_samples_leaf=2, max_features=log2, max_depth=20, criterion=entropy, total=   0.1s\n",
      "[CV] min_samples_leaf=2, max_features=log2, max_depth=20, criterion=entropy \n",
      "[CV]  min_samples_leaf=2, max_features=log2, max_depth=20, criterion=entropy, total=   0.1s\n",
      "[CV] min_samples_leaf=4, max_features=log2, max_depth=20, criterion=entropy \n",
      "[CV]  min_samples_leaf=4, max_features=sqrt, max_depth=20, criterion=entropy, total=   0.1s\n",
      "[CV]  min_samples_leaf=4, max_features=log2, max_depth=20, criterion=entropy, total=   0.1s\n",
      "[CV] min_samples_leaf=4, max_features=log2, max_depth=20, criterion=entropy \n",
      "[CV] min_samples_leaf=2, max_features=auto, max_depth=30, criterion=entropy \n",
      "[CV]  min_samples_leaf=1, max_features=auto, max_depth=30, criterion=entropy, total=   0.1s\n",
      "[CV]  min_samples_leaf=1, max_features=log2, max_depth=20, criterion=entropy, total=   0.1s\n",
      "[CV] min_samples_leaf=1, max_features=auto, max_depth=30, criterion=entropy \n",
      "[CV]  min_samples_leaf=1, max_features=log2, max_depth=20, criterion=entropy, total=   0.1s\n",
      "[CV]  min_samples_leaf=4, max_features=log2, max_depth=20, criterion=entropy, total=   0.1s\n",
      "[CV]  min_samples_leaf=2, max_features=log2, max_depth=20, criterion=entropy, total=   0.1s\n",
      "[CV]  min_samples_leaf=1, max_features=auto, max_depth=30, criterion=entropy, total=   0.1s\n",
      "[CV] min_samples_leaf=4, max_features=auto, max_depth=30, criterion=entropy \n",
      "[CV] min_samples_leaf=2, max_features=auto, max_depth=30, criterion=entropy \n",
      "[CV]  min_samples_leaf=4, max_features=log2, max_depth=20, criterion=entropy, total=   0.1s\n",
      "[CV] min_samples_leaf=4, max_features=auto, max_depth=30, criterion=entropy \n",
      "[CV] min_samples_leaf=1, max_features=sqrt, max_depth=30, criterion=entropy \n",
      "[CV]  min_samples_leaf=2, max_features=auto, max_depth=30, criterion=entropy, total=   0.1s\n",
      "[CV] min_samples_leaf=2, max_features=sqrt, max_depth=30, criterion=entropy \n",
      "[CV] min_samples_leaf=2, max_features=auto, max_depth=30, criterion=entropy \n",
      "[CV] min_samples_leaf=2, max_features=sqrt, max_depth=30, criterion=entropy \n",
      "[CV]  min_samples_leaf=4, max_features=auto, max_depth=30, criterion=entropy, total=   0.1s\n",
      "[CV] min_samples_leaf=4, max_features=auto, max_depth=30, criterion=entropy \n",
      "[CV]  min_samples_leaf=2, max_features=auto, max_depth=30, criterion=entropy, total=   0.1s\n",
      "[CV]  min_samples_leaf=1, max_features=auto, max_depth=30, criterion=entropy, total=   0.1s\n",
      "[CV]  min_samples_leaf=4, max_features=auto, max_depth=30, criterion=entropy, total=   0.1s\n",
      "[CV] min_samples_leaf=1, max_features=sqrt, max_depth=30, criterion=entropy \n",
      "[CV] min_samples_leaf=4, max_features=sqrt, max_depth=30, criterion=entropy \n",
      "[CV]  min_samples_leaf=1, max_features=sqrt, max_depth=30, criterion=entropy, total=   0.1s\n",
      "[CV] min_samples_leaf=1, max_features=log2, max_depth=30, criterion=entropy \n",
      "[CV]  min_samples_leaf=2, max_features=sqrt, max_depth=30, criterion=entropy, total=   0.1s\n",
      "[CV] min_samples_leaf=1, max_features=sqrt, max_depth=30, criterion=entropy \n",
      "[CV] min_samples_leaf=2, max_features=sqrt, max_depth=30, criterion=entropy \n",
      "[CV]  min_samples_leaf=2, max_features=sqrt, max_depth=30, criterion=entropy, total=   0.1s\n",
      "[CV]  min_samples_leaf=2, max_features=auto, max_depth=30, criterion=entropy, total=   0.1s\n",
      "[CV] min_samples_leaf=4, max_features=sqrt, max_depth=30, criterion=entropy \n",
      "[CV] min_samples_leaf=1, max_features=log2, max_depth=30, criterion=entropy \n",
      "[CV]  min_samples_leaf=4, max_features=auto, max_depth=30, criterion=entropy, total=   0.1s\n",
      "[CV]  min_samples_leaf=4, max_features=sqrt, max_depth=30, criterion=entropy, total=   0.1s\n",
      "[CV] min_samples_leaf=2, max_features=log2, max_depth=30, criterion=entropy \n",
      "[CV] min_samples_leaf=4, max_features=sqrt, max_depth=30, criterion=entropy \n",
      "[CV]  min_samples_leaf=1, max_features=log2, max_depth=30, criterion=entropy, total=   0.1s\n",
      "[CV]  min_samples_leaf=1, max_features=sqrt, max_depth=30, criterion=entropy, total=   0.1s\n",
      "[CV] min_samples_leaf=1, max_features=log2, max_depth=30, criterion=entropy \n",
      "[CV] min_samples_leaf=4, max_features=log2, max_depth=30, criterion=entropy \n",
      "[CV]  min_samples_leaf=2, max_features=sqrt, max_depth=30, criterion=entropy, total=   0.1s\n",
      "[CV]  min_samples_leaf=1, max_features=sqrt, max_depth=30, criterion=entropy, total=   0.1s\n",
      "[CV]  min_samples_leaf=4, max_features=sqrt, max_depth=30, criterion=entropy, total=   0.1s\n",
      "[CV] min_samples_leaf=4, max_features=log2, max_depth=30, criterion=entropy \n",
      "[CV]  min_samples_leaf=1, max_features=log2, max_depth=30, criterion=entropy, total=   0.1s\n",
      "[CV] min_samples_leaf=1, max_features=auto, max_depth=None, criterion=entropy \n",
      "[CV] min_samples_leaf=2, max_features=log2, max_depth=30, criterion=entropy \n",
      "[CV] min_samples_leaf=2, max_features=auto, max_depth=None, criterion=entropy \n",
      "[CV]  min_samples_leaf=2, max_features=log2, max_depth=30, criterion=entropy, total=   0.1s\n",
      "[CV] min_samples_leaf=2, max_features=log2, max_depth=30, criterion=entropy \n",
      "[CV]  min_samples_leaf=4, max_features=sqrt, max_depth=30, criterion=entropy, total=   0.1s\n",
      "[CV]  min_samples_leaf=4, max_features=log2, max_depth=30, criterion=entropy, total=   0.1s\n",
      "[CV]  min_samples_leaf=1, max_features=log2, max_depth=30, criterion=entropy, total=   0.1s\n",
      "[CV] min_samples_leaf=4, max_features=log2, max_depth=30, criterion=entropy \n",
      "[CV]  min_samples_leaf=4, max_features=log2, max_depth=30, criterion=entropy, total=   0.1s\n",
      "[CV] min_samples_leaf=1, max_features=auto, max_depth=None, criterion=entropy \n",
      "[CV] min_samples_leaf=2, max_features=auto, max_depth=None, criterion=entropy \n",
      "[CV] min_samples_leaf=4, max_features=auto, max_depth=None, criterion=entropy \n",
      "[CV]  min_samples_leaf=2, max_features=log2, max_depth=30, criterion=entropy, total=   0.1s\n",
      "[CV]  min_samples_leaf=1, max_features=auto, max_depth=None, criterion=entropy, total=   0.1s\n",
      "[CV]  min_samples_leaf=2, max_features=auto, max_depth=None, criterion=entropy, total=   0.1s\n",
      "[CV] min_samples_leaf=2, max_features=auto, max_depth=None, criterion=entropy \n",
      "[CV] min_samples_leaf=1, max_features=auto, max_depth=None, criterion=entropy \n",
      "[CV]  min_samples_leaf=2, max_features=log2, max_depth=30, criterion=entropy, total=   0.1s\n",
      "[CV] min_samples_leaf=1, max_features=sqrt, max_depth=None, criterion=entropy \n",
      "[CV]  min_samples_leaf=4, max_features=log2, max_depth=30, criterion=entropy, total=   0.1s\n",
      "[CV] min_samples_leaf=1, max_features=sqrt, max_depth=None, criterion=entropy \n",
      "[CV]  min_samples_leaf=2, max_features=auto, max_depth=None, criterion=entropy, total=   0.1s\n",
      "[CV] min_samples_leaf=4, max_features=auto, max_depth=None, criterion=entropy \n",
      "[CV]  min_samples_leaf=4, max_features=auto, max_depth=None, criterion=entropy, total=   0.1s\n",
      "[CV] min_samples_leaf=4, max_features=auto, max_depth=None, criterion=entropy \n",
      "[CV]  min_samples_leaf=1, max_features=auto, max_depth=None, criterion=entropy, total=   0.1s\n",
      "[CV] min_samples_leaf=2, max_features=sqrt, max_depth=None, criterion=entropy \n",
      "[CV] min_samples_leaf=4, max_features=sqrt, max_depth=None, criterion=entropy \n",
      "[CV]  min_samples_leaf=2, max_features=auto, max_depth=None, criterion=entropy, total=   0.1s\n",
      "[CV]  min_samples_leaf=1, max_features=auto, max_depth=None, criterion=entropy, total=   0.1s\n",
      "[CV] min_samples_leaf=4, max_features=sqrt, max_depth=None, criterion=entropy \n",
      "[CV]  min_samples_leaf=1, max_features=sqrt, max_depth=None, criterion=entropy, total=   0.1s\n",
      "[CV] min_samples_leaf=1, max_features=log2, max_depth=None, criterion=entropy \n",
      "[CV] min_samples_leaf=1, max_features=sqrt, max_depth=None, criterion=entropy \n",
      "[CV]  min_samples_leaf=4, max_features=auto, max_depth=None, criterion=entropy, total=   0.1s\n",
      "[CV]  min_samples_leaf=4, max_features=auto, max_depth=None, criterion=entropy, total=   0.1s\n",
      "[CV]  min_samples_leaf=1, max_features=sqrt, max_depth=None, criterion=entropy, total=   0.1s\n",
      "[CV] min_samples_leaf=2, max_features=log2, max_depth=None, criterion=entropy \n",
      "[CV] min_samples_leaf=2, max_features=sqrt, max_depth=None, criterion=entropy \n",
      "[CV] min_samples_leaf=2, max_features=log2, max_depth=None, criterion=entropy \n",
      "[CV]  min_samples_leaf=2, max_features=sqrt, max_depth=None, criterion=entropy, total=   0.1s\n"
     ]
    },
    {
     "name": "stdout",
     "output_type": "stream",
     "text": [
      "[CV] min_samples_leaf=2, max_features=sqrt, max_depth=None, criterion=entropy \n",
      "[CV]  min_samples_leaf=4, max_features=sqrt, max_depth=None, criterion=entropy, total=   0.1s\n",
      "[CV] min_samples_leaf=4, max_features=sqrt, max_depth=None, criterion=entropy \n",
      "[CV]  min_samples_leaf=4, max_features=sqrt, max_depth=None, criterion=entropy, total=   0.1s\n",
      "[CV] min_samples_leaf=1, max_features=log2, max_depth=None, criterion=entropy \n",
      "[CV]  min_samples_leaf=1, max_features=log2, max_depth=None, criterion=entropy, total=   0.1s\n",
      "[CV] min_samples_leaf=1, max_features=log2, max_depth=None, criterion=entropy \n",
      "[CV]  min_samples_leaf=2, max_features=log2, max_depth=None, criterion=entropy, total=   0.1s\n",
      "[CV] min_samples_leaf=2, max_features=log2, max_depth=None, criterion=entropy \n",
      "[CV]  min_samples_leaf=2, max_features=log2, max_depth=None, criterion=entropy, total=   0.1s\n",
      "[CV]  min_samples_leaf=1, max_features=sqrt, max_depth=None, criterion=entropy, total=   0.1s\n",
      "[CV] min_samples_leaf=4, max_features=log2, max_depth=None, criterion=entropy \n",
      "[CV]  min_samples_leaf=2, max_features=sqrt, max_depth=None, criterion=entropy, total=   0.1s\n",
      "[CV] min_samples_leaf=4, max_features=log2, max_depth=None, criterion=entropy \n",
      "[CV]  min_samples_leaf=2, max_features=sqrt, max_depth=None, criterion=entropy, total=   0.1s\n",
      "[CV]  min_samples_leaf=4, max_features=sqrt, max_depth=None, criterion=entropy, total=   0.1s\n",
      "[CV]  min_samples_leaf=1, max_features=log2, max_depth=None, criterion=entropy, total=   0.1s\n",
      "[CV]  min_samples_leaf=1, max_features=log2, max_depth=None, criterion=entropy, total=   0.1s\n",
      "[CV]  min_samples_leaf=2, max_features=log2, max_depth=None, criterion=entropy, total=   0.1s\n",
      "[CV]  min_samples_leaf=4, max_features=log2, max_depth=None, criterion=entropy, total=   0.1s\n",
      "[CV]  min_samples_leaf=4, max_features=log2, max_depth=None, criterion=entropy, total=   0.1s\n",
      "[CV] min_samples_leaf=4, max_features=log2, max_depth=None, criterion=entropy \n",
      "[CV]  min_samples_leaf=4, max_features=log2, max_depth=None, criterion=entropy, total=   0.0s\n"
     ]
    },
    {
     "name": "stderr",
     "output_type": "stream",
     "text": [
      "[Parallel(n_jobs=-1)]: Done 216 out of 216 | elapsed:    3.2s finished\n"
     ]
    },
    {
     "data": {
      "text/plain": [
       "RandomizedSearchCV(cv=3, error_score='raise',\n",
       "          estimator=RandomForestClassifier(bootstrap=True, class_weight=None, criterion='gini',\n",
       "            max_depth=None, max_features='auto', max_leaf_nodes=None,\n",
       "            min_impurity_decrease=0.0, min_impurity_split=None,\n",
       "            min_samples_leaf=1, min_samples_split=2,\n",
       "            min_weight_fraction_leaf=0.0, n_estimators=10, n_jobs=1,\n",
       "            oob_score=False, random_state=None, verbose=0,\n",
       "            warm_start=False),\n",
       "          fit_params=None, iid=True, n_iter=72, n_jobs=-1,\n",
       "          param_distributions={'max_features': ['auto', 'sqrt', 'log2'], 'max_depth': [10, 20, 30, None], 'min_samples_leaf': [1, 2, 4], 'criterion': ['gini', 'entropy']},\n",
       "          pre_dispatch='2*n_jobs', random_state=42, refit=True,\n",
       "          return_train_score='warn', scoring=None, verbose=2)"
      ]
     },
     "execution_count": 221,
     "metadata": {},
     "output_type": "execute_result"
    }
   ],
   "source": [
    "rf_random.fit(X_train, y_train)"
   ]
  },
  {
   "cell_type": "code",
   "execution_count": 222,
   "metadata": {},
   "outputs": [
    {
     "data": {
      "text/plain": [
       "{'min_samples_leaf': 4,\n",
       " 'max_features': 'sqrt',\n",
       " 'max_depth': 10,\n",
       " 'criterion': 'gini'}"
      ]
     },
     "execution_count": 222,
     "metadata": {},
     "output_type": "execute_result"
    }
   ],
   "source": [
    "rf_random.best_params_"
   ]
  },
  {
   "cell_type": "code",
   "execution_count": 23,
   "metadata": {},
   "outputs": [],
   "source": [
    "clf = DecisionTreeClassifier(min_samples_leaf=4, max_features='sqrt', \n",
    "                             max_depth=10, random_state=42, criterion='gini')\n",
    "half_clf = DecisionTreeClassifier(min_samples_leaf=4, max_features='sqrt', \n",
    "                             max_depth=10, random_state=42, criterion='gini')"
   ]
  },
  {
   "cell_type": "code",
   "execution_count": null,
   "metadata": {},
   "outputs": [],
   "source": []
  },
  {
   "cell_type": "code",
   "execution_count": 242,
   "metadata": {},
   "outputs": [
    {
     "data": {
      "text/plain": [
       "DecisionTreeClassifier(class_weight=None, criterion='gini', max_depth=10,\n",
       "            max_features='sqrt', max_leaf_nodes=None,\n",
       "            min_impurity_decrease=0.0, min_impurity_split=None,\n",
       "            min_samples_leaf=4, min_samples_split=2,\n",
       "            min_weight_fraction_leaf=0.0, presort=False, random_state=42,\n",
       "            splitter='best')"
      ]
     },
     "execution_count": 242,
     "metadata": {},
     "output_type": "execute_result"
    }
   ],
   "source": [
    "half_clf.fit(X_train, y_train)"
   ]
  },
  {
   "cell_type": "code",
   "execution_count": 243,
   "metadata": {},
   "outputs": [
    {
     "data": {
      "text/plain": [
       "DecisionTreeClassifier(class_weight=None, criterion='gini', max_depth=10,\n",
       "            max_features='sqrt', max_leaf_nodes=None,\n",
       "            min_impurity_decrease=0.0, min_impurity_split=None,\n",
       "            min_samples_leaf=4, min_samples_split=2,\n",
       "            min_weight_fraction_leaf=0.0, presort=False, random_state=42,\n",
       "            splitter='best')"
      ]
     },
     "execution_count": 243,
     "metadata": {},
     "output_type": "execute_result"
    }
   ],
   "source": [
    "clf.fit(whole_X_train, whole_y_train)"
   ]
  },
  {
   "cell_type": "code",
   "execution_count": 244,
   "metadata": {},
   "outputs": [
    {
     "name": "stdout",
     "output_type": "stream",
     "text": [
      "0.9906168895987223\n",
      "0.9891374837872893\n"
     ]
    }
   ],
   "source": [
    "# unbalanced classifier, predict on unbalanced data set\n",
    "\n",
    "pred_train = clf.predict(whole_X_train)\n",
    "pred_test = clf.predict(whole_X_test)\n",
    "print(accuracy_score(whole_y_train, pred_train))\n",
    "print(accuracy_score(whole_y_test, pred_test))"
   ]
  },
  {
   "cell_type": "code",
   "execution_count": 245,
   "metadata": {},
   "outputs": [
    {
     "name": "stdout",
     "output_type": "stream",
     "text": [
      "0.7531089978054133\n",
      "0.6095025983667409\n",
      "0.9906168895987223\n",
      "0.9891374837872893\n"
     ]
    }
   ],
   "source": [
    "\n",
    "# balanced classifier, predict on balanced data set\n",
    "half_pred_train = half_clf.predict(X_train)\n",
    "half_pred_test = half_clf.predict(X_test)\n",
    "print(accuracy_score(y_train, half_pred_train))\n",
    "print(accuracy_score(y_test, half_pred_test))\n",
    "\n",
    "\n",
    "\n",
    "# unbalanced classifier, predict on unbalanced data set\n",
    "whole_pred_train = clf.predict(whole_X_train)\n",
    "whole_pred_test = clf.predict(whole_X_test)\n",
    "\n",
    "print(accuracy_score(whole_y_train, whole_pred_train))\n",
    "print(accuracy_score(whole_y_test, whole_pred_test))"
   ]
  },
  {
   "cell_type": "code",
   "execution_count": 246,
   "metadata": {},
   "outputs": [
    {
     "name": "stdout",
     "output_type": "stream",
     "text": [
      "0.8462367738071471\n",
      "0.8471952010376135\n"
     ]
    }
   ],
   "source": [
    "# balanced classifier, predict on unbalanced dataset\n",
    "\n",
    "half_pred_train = half_clf.predict(whole_X_train)\n",
    "half_pred_test = half_clf.predict(whole_X_test)\n",
    "\n",
    "print(accuracy_score(whole_y_train, half_pred_train))\n",
    "print(accuracy_score(whole_y_test, half_pred_test))"
   ]
  },
  {
   "cell_type": "code",
   "execution_count": 234,
   "metadata": {},
   "outputs": [
    {
     "name": "stdout",
     "output_type": "stream",
     "text": [
      "0.5307242136064374\n",
      "0.49443207126948774\n"
     ]
    }
   ],
   "source": [
    "# unbalanced classifier, predict on balanced dataset\n",
    "\n",
    "pred_train = clf.predict(X_train)\n",
    "pred_test = clf.predict(X_test)\n",
    "\n",
    "print(accuracy_score(y_train, pred_train))\n",
    "print(accuracy_score(y_test, pred_test))"
   ]
  },
  {
   "cell_type": "code",
   "execution_count": null,
   "metadata": {},
   "outputs": [],
   "source": []
  },
  {
   "cell_type": "code",
   "execution_count": null,
   "metadata": {},
   "outputs": [],
   "source": []
  },
  {
   "cell_type": "code",
   "execution_count": null,
   "metadata": {},
   "outputs": [],
   "source": []
  },
  {
   "cell_type": "code",
   "execution_count": null,
   "metadata": {},
   "outputs": [],
   "source": []
  },
  {
   "cell_type": "code",
   "execution_count": null,
   "metadata": {},
   "outputs": [],
   "source": []
  },
  {
   "cell_type": "code",
   "execution_count": null,
   "metadata": {},
   "outputs": [],
   "source": []
  },
  {
   "cell_type": "code",
   "execution_count": null,
   "metadata": {},
   "outputs": [],
   "source": []
  },
  {
   "cell_type": "code",
   "execution_count": null,
   "metadata": {},
   "outputs": [],
   "source": []
  },
  {
   "cell_type": "code",
   "execution_count": null,
   "metadata": {},
   "outputs": [],
   "source": []
  },
  {
   "cell_type": "code",
   "execution_count": 71,
   "metadata": {},
   "outputs": [
    {
     "name": "stdout",
     "output_type": "stream",
     "text": [
      "finish fitting data\n",
      "1.0\n",
      "0.48268072289156627\n"
     ]
    }
   ],
   "source": [
    "clf = SVC(kernel='rbf', gamma='auto')\n",
    "clf.fit(X_train, y_train)\n",
    "\n",
    "print('finish fitting data')\n",
    "\n",
    "\n",
    "pred_train = clf.predict(X_train)\n",
    "\n",
    "pred_test = clf.predict(X_test)\n",
    "print(accuracy_score(y_train, pred_train))\n",
    "print(accuracy_score(y_test, pred_test))"
   ]
  },
  {
   "cell_type": "code",
   "execution_count": 72,
   "metadata": {},
   "outputs": [
    {
     "name": "stdout",
     "output_type": "stream",
     "text": [
      "[0.00238801 0.0543412  0.         0.09734659 0.         0.00043926\n",
      " 0.         0.00333447 0.         0.         0.0002895  0.00098941\n",
      " 0.         0.00385695 0.00616293 0.01821779 0.00362206 0.00901828\n",
      " 0.00144248 0.00059018 0.00079547 0.02541101 0.00031664 0.00029459\n",
      " 0.00248738 0.00193534 0.00514849 0.         0.00103364 0.\n",
      " 0.00071149 0.         0.00050426 0.         0.00083876 0.00170695\n",
      " 0.0077444  0.00071195 0.00908005 0.00132187 0.00832242 0.02381241\n",
      " 0.0071825  0.         0.         0.0192523  0.00179057 0.0009103\n",
      " 0.         0.         0.01058999 0.00081268 0.         0.\n",
      " 0.00037833 0.         0.         0.00060358 0.00233617 0.00061518\n",
      " 0.         0.0047635  0.00899555 0.02028387 0.         0.00156675\n",
      " 0.0014624  0.00067006 0.00081965 0.01857982 0.00284107 0.\n",
      " 0.00062783 0.         0.00081742 0.02008973 0.00054156 0.\n",
      " 0.00025157 0.         0.         0.         0.         0.16118625\n",
      " 0.06384068 0.09157049 0.02218334 0.05616918 0.04684235 0.\n",
      " 0.04143103 0.00297697 0.02590653 0.         0.         0.00734349\n",
      " 0.01709053 0.         0.00318396 0.00089014 0.00635551 0.00487451\n",
      " 0.         0.         0.         0.         0.0191217  0.\n",
      " 0.00803475]\n",
      "0.6957328385899815\n",
      "0.6498493975903614\n"
     ]
    }
   ],
   "source": [
    "\n",
    "clf = RandomForestClassifier(n_estimators=100, max_depth=2, criterion='entropy', random_state=0)\n",
    "clf.fit(X_train, y_train)\n",
    "\n",
    "\n",
    "\n",
    "print(clf.feature_importances_)\n",
    "\n",
    "\n",
    "pred_train = clf.predict(X_train)\n",
    "pred_test = clf.predict(X_test)\n",
    "print(accuracy_score(y_train, pred_train))\n",
    "print(accuracy_score(y_test, pred_test))"
   ]
  },
  {
   "cell_type": "code",
   "execution_count": 78,
   "metadata": {},
   "outputs": [],
   "source": [
    "y_data = df['AMI_FLAG']"
   ]
  },
  {
   "cell_type": "code",
   "execution_count": 80,
   "metadata": {},
   "outputs": [
    {
     "data": {
      "text/plain": [
       "4023"
      ]
     },
     "execution_count": 80,
     "metadata": {},
     "output_type": "execute_result"
    }
   ],
   "source": [
    "len(y_data)"
   ]
  },
  {
   "cell_type": "code",
   "execution_count": 83,
   "metadata": {},
   "outputs": [],
   "source": [
    "from sklearn.model_selection import cross_val_score\n",
    "\n",
    "scores = cross_val_score(clf, X, y_data, cv = 5)"
   ]
  },
  {
   "cell_type": "code",
   "execution_count": 84,
   "metadata": {},
   "outputs": [
    {
     "data": {
      "text/plain": [
       "array([0.43796526, 0.66583851, 0.6641791 , 0.66169154, 0.39552239])"
      ]
     },
     "execution_count": 84,
     "metadata": {},
     "output_type": "execute_result"
    }
   ],
   "source": [
    "scores"
   ]
  },
  {
   "cell_type": "code",
   "execution_count": 29,
   "metadata": {},
   "outputs": [
    {
     "name": "stdout",
     "output_type": "stream",
     "text": [
      "{'n_estimators': [200, 300, 400, 500, 600], 'max_features': ['auto', 'sqrt', 'log2'], 'max_depth': [10, 20, 30, None], 'min_samples_split': [2, 5, 10], 'min_samples_leaf': [1, 2, 4], 'criterion': ['gini', 'entropy']}\n"
     ]
    }
   ],
   "source": [
    "from sklearn.model_selection import GridSearchCV\n",
    "from sklearn.model_selection import RandomizedSearchCV\n",
    "\n",
    "# Number of trees in random forest\n",
    "n_estimators = [200, 300, 400, 500, 600]\n",
    "# Number of features to consider at every split\n",
    "max_features = ['auto', 'sqrt', 'log2']\n",
    "# Maximum number of levels in tree\n",
    "max_depth = [10, 20, 30]\n",
    "max_depth.append(None)\n",
    "# Minimum number of samples required to split a node\n",
    "min_samples_split = [2, 5, 10]\n",
    "# Minimum number of samples required at each leaf node\n",
    "min_samples_leaf = [1, 2, 4]\n",
    "\n",
    "\n",
    "\n",
    "# crterion selecton\n",
    "criterion = ['gini', 'entropy']\n",
    "\n",
    "# Create the random grid\n",
    "random_grid = {'n_estimators': n_estimators,\n",
    "               'max_features': max_features,\n",
    "               'max_depth': max_depth,\n",
    "               'min_samples_split': min_samples_split,\n",
    "               'min_samples_leaf': min_samples_leaf,\n",
    "               'criterion': criterion}\n",
    "\n",
    "print(random_grid)"
   ]
  },
  {
   "cell_type": "code",
   "execution_count": 30,
   "metadata": {},
   "outputs": [],
   "source": [
    "clf = RandomForestClassifier()\n",
    "\n",
    "# Random search of parameters, using 3 fold cross validation, \n",
    "# search across 100 different combinations, and use all available cores\n",
    "rf_random = RandomizedSearchCV(estimator = clf, \n",
    "                               param_distributions = random_grid, \n",
    "                               n_iter = 100, cv = 3, verbose=2, \n",
    "                               random_state=42, n_jobs = -1)"
   ]
  },
  {
   "cell_type": "code",
   "execution_count": 31,
   "metadata": {},
   "outputs": [
    {
     "ename": "AttributeError",
     "evalue": "'RandomizedSearchCV' object has no attribute 'cv_results_'",
     "output_type": "error",
     "traceback": [
      "\u001b[0;31m---------------------------------------------------------------------------\u001b[0m",
      "\u001b[0;31mAttributeError\u001b[0m                            Traceback (most recent call last)",
      "\u001b[0;32m<ipython-input-31-6baea57b1af7>\u001b[0m in \u001b[0;36m<module>\u001b[0;34m()\u001b[0m\n\u001b[0;32m----> 1\u001b[0;31m \u001b[0mrf_random\u001b[0m\u001b[0;34m.\u001b[0m\u001b[0mcv_results_\u001b[0m\u001b[0;34m\u001b[0m\u001b[0m\n\u001b[0m",
      "\u001b[0;31mAttributeError\u001b[0m: 'RandomizedSearchCV' object has no attribute 'cv_results_'"
     ]
    }
   ],
   "source": [
    "rf_random.cv_results_"
   ]
  },
  {
   "cell_type": "code",
   "execution_count": 107,
   "metadata": {},
   "outputs": [
    {
     "data": {
      "text/plain": [
       "<bound method BaseEstimator.get_params of RandomizedSearchCV(cv=3, error_score='raise',\n",
       "          estimator=RandomForestClassifier(bootstrap=True, class_weight=None, criterion='gini',\n",
       "            max_depth=None, max_features='auto', max_leaf_nodes=None,\n",
       "            min_impurity_decrease=0.0, min_impurity_split=None,\n",
       "            min_samples_leaf=1, min_samples_split=2,\n",
       "            min_weight_fraction_leaf=0.0, n_estimators=10, n_jobs=1,\n",
       "            oob_score=False, random_state=None, verbose=0,\n",
       "            warm_start=False),\n",
       "          fit_params=None, iid=True, n_iter=100, n_jobs=-1,\n",
       "          param_distributions={'n_estimators': [200, 300, 400, 500, 600], 'max_features': ['auto', 'sqrt', 'log2'], 'max_depth': [10, 20, 30, None], 'min_samples_split': [2, 5, 10], 'min_samples_leaf': [1, 2, 4], 'criterion': ['gini', 'entropy']},\n",
       "          pre_dispatch='2*n_jobs', random_state=42, refit=True,\n",
       "          return_train_score='warn', scoring=None, verbose=2)>"
      ]
     },
     "execution_count": 107,
     "metadata": {},
     "output_type": "execute_result"
    }
   ],
   "source": [
    "rf_random.get_params"
   ]
  },
  {
   "cell_type": "code",
   "execution_count": 32,
   "metadata": {},
   "outputs": [
    {
     "name": "stdout",
     "output_type": "stream",
     "text": [
      "Fitting 3 folds for each of 100 candidates, totalling 300 fits\n",
      "[CV] n_estimators=500, min_samples_split=2, min_samples_leaf=2, max_features=auto, max_depth=None, criterion=gini \n",
      "[CV] n_estimators=500, min_samples_split=2, min_samples_leaf=2, max_features=auto, max_depth=None, criterion=gini \n",
      "[CV] n_estimators=500, min_samples_split=2, min_samples_leaf=2, max_features=auto, max_depth=None, criterion=gini \n",
      "[CV] n_estimators=500, min_samples_split=5, min_samples_leaf=1, max_features=auto, max_depth=10, criterion=entropy \n",
      "[CV] n_estimators=500, min_samples_split=5, min_samples_leaf=1, max_features=auto, max_depth=10, criterion=entropy \n",
      "[CV] n_estimators=500, min_samples_split=5, min_samples_leaf=1, max_features=auto, max_depth=10, criterion=entropy \n",
      "[CV] n_estimators=300, min_samples_split=10, min_samples_leaf=1, max_features=sqrt, max_depth=20, criterion=entropy \n",
      "[CV] n_estimators=300, min_samples_split=10, min_samples_leaf=1, max_features=sqrt, max_depth=20, criterion=entropy \n",
      "[CV]  n_estimators=300, min_samples_split=10, min_samples_leaf=1, max_features=sqrt, max_depth=20, criterion=entropy, total=   2.2s\n",
      "[CV]  n_estimators=300, min_samples_split=10, min_samples_leaf=1, max_features=sqrt, max_depth=20, criterion=entropy, total=   2.3s\n",
      "[CV] n_estimators=300, min_samples_split=10, min_samples_leaf=1, max_features=sqrt, max_depth=20, criterion=entropy \n",
      "[CV] n_estimators=500, min_samples_split=2, min_samples_leaf=1, max_features=sqrt, max_depth=10, criterion=entropy \n",
      "[CV]  n_estimators=500, min_samples_split=5, min_samples_leaf=1, max_features=auto, max_depth=10, criterion=entropy, total=   3.1s\n",
      "[CV] n_estimators=500, min_samples_split=2, min_samples_leaf=1, max_features=sqrt, max_depth=10, criterion=entropy \n",
      "[CV]  n_estimators=500, min_samples_split=5, min_samples_leaf=1, max_features=auto, max_depth=10, criterion=entropy, total=   3.1s\n",
      "[CV] n_estimators=500, min_samples_split=2, min_samples_leaf=1, max_features=sqrt, max_depth=10, criterion=entropy \n",
      "[CV]  n_estimators=500, min_samples_split=5, min_samples_leaf=1, max_features=auto, max_depth=10, criterion=entropy, total=   3.1s\n",
      "[CV] n_estimators=300, min_samples_split=2, min_samples_leaf=2, max_features=log2, max_depth=None, criterion=entropy \n",
      "[CV]  n_estimators=500, min_samples_split=2, min_samples_leaf=2, max_features=auto, max_depth=None, criterion=gini, total=   3.5s\n",
      "[CV]  n_estimators=500, min_samples_split=2, min_samples_leaf=2, max_features=auto, max_depth=None, criterion=gini, total=   3.4s\n",
      "[CV] n_estimators=300, min_samples_split=2, min_samples_leaf=2, max_features=log2, max_depth=None, criterion=entropy \n",
      "[CV]  n_estimators=500, min_samples_split=2, min_samples_leaf=2, max_features=auto, max_depth=None, criterion=gini, total=   3.5s\n",
      "[CV] n_estimators=300, min_samples_split=2, min_samples_leaf=2, max_features=log2, max_depth=None, criterion=entropy \n",
      "[CV] n_estimators=300, min_samples_split=2, min_samples_leaf=4, max_features=sqrt, max_depth=10, criterion=entropy \n",
      "[CV]  n_estimators=300, min_samples_split=10, min_samples_leaf=1, max_features=sqrt, max_depth=20, criterion=entropy, total=   2.2s\n",
      "[CV] n_estimators=300, min_samples_split=2, min_samples_leaf=4, max_features=sqrt, max_depth=10, criterion=entropy \n",
      "[CV]  n_estimators=300, min_samples_split=2, min_samples_leaf=2, max_features=log2, max_depth=None, criterion=entropy, total=   1.9s\n",
      "[CV] n_estimators=300, min_samples_split=2, min_samples_leaf=4, max_features=sqrt, max_depth=10, criterion=entropy \n",
      "[CV]  n_estimators=300, min_samples_split=2, min_samples_leaf=4, max_features=sqrt, max_depth=10, criterion=entropy, total=   1.7s\n",
      "[CV] n_estimators=300, min_samples_split=2, min_samples_leaf=1, max_features=sqrt, max_depth=None, criterion=entropy \n",
      "[CV]  n_estimators=300, min_samples_split=2, min_samples_leaf=2, max_features=log2, max_depth=None, criterion=entropy, total=   1.8s\n",
      "[CV] n_estimators=300, min_samples_split=2, min_samples_leaf=1, max_features=sqrt, max_depth=None, criterion=entropy \n",
      "[CV]  n_estimators=300, min_samples_split=2, min_samples_leaf=2, max_features=log2, max_depth=None, criterion=entropy, total=   1.9s\n",
      "[CV] n_estimators=300, min_samples_split=2, min_samples_leaf=1, max_features=sqrt, max_depth=None, criterion=entropy \n",
      "[CV]  n_estimators=500, min_samples_split=2, min_samples_leaf=1, max_features=sqrt, max_depth=10, criterion=entropy, total=   3.2s\n",
      "[CV] n_estimators=500, min_samples_split=2, min_samples_leaf=1, max_features=sqrt, max_depth=None, criterion=entropy \n",
      "[CV]  n_estimators=500, min_samples_split=2, min_samples_leaf=1, max_features=sqrt, max_depth=10, criterion=entropy, total=   3.3s\n",
      "[CV]  n_estimators=500, min_samples_split=2, min_samples_leaf=1, max_features=sqrt, max_depth=10, criterion=entropy, total=   3.3s\n",
      "[CV] n_estimators=500, min_samples_split=2, min_samples_leaf=1, max_features=sqrt, max_depth=None, criterion=entropy \n",
      "[CV] n_estimators=500, min_samples_split=2, min_samples_leaf=1, max_features=sqrt, max_depth=None, criterion=entropy \n",
      "[CV]  n_estimators=300, min_samples_split=2, min_samples_leaf=4, max_features=sqrt, max_depth=10, criterion=entropy, total=   2.2s\n",
      "[CV] n_estimators=300, min_samples_split=5, min_samples_leaf=4, max_features=log2, max_depth=None, criterion=entropy \n",
      "[CV]  n_estimators=300, min_samples_split=2, min_samples_leaf=4, max_features=sqrt, max_depth=10, criterion=entropy, total=   2.2s\n",
      "[CV] n_estimators=300, min_samples_split=5, min_samples_leaf=4, max_features=log2, max_depth=None, criterion=entropy \n",
      "[CV]  n_estimators=300, min_samples_split=2, min_samples_leaf=1, max_features=sqrt, max_depth=None, criterion=entropy, total=   3.0s\n",
      "[CV] n_estimators=300, min_samples_split=5, min_samples_leaf=4, max_features=log2, max_depth=None, criterion=entropy \n",
      "[CV]  n_estimators=300, min_samples_split=2, min_samples_leaf=1, max_features=sqrt, max_depth=None, criterion=entropy, total=   3.0s\n",
      "[CV] n_estimators=500, min_samples_split=5, min_samples_leaf=2, max_features=log2, max_depth=30, criterion=entropy \n",
      "[CV]  n_estimators=300, min_samples_split=2, min_samples_leaf=1, max_features=sqrt, max_depth=None, criterion=entropy, total=   2.9s\n",
      "[CV] n_estimators=500, min_samples_split=5, min_samples_leaf=2, max_features=log2, max_depth=30, criterion=entropy \n",
      "[CV]  n_estimators=300, min_samples_split=5, min_samples_leaf=4, max_features=log2, max_depth=None, criterion=entropy, total=   1.8s\n",
      "[CV] n_estimators=500, min_samples_split=5, min_samples_leaf=2, max_features=log2, max_depth=30, criterion=entropy \n",
      "[CV]  n_estimators=300, min_samples_split=5, min_samples_leaf=4, max_features=log2, max_depth=None, criterion=entropy, total=   1.8s\n",
      "[CV] n_estimators=500, min_samples_split=10, min_samples_leaf=1, max_features=log2, max_depth=None, criterion=entropy \n",
      "[CV]  n_estimators=300, min_samples_split=5, min_samples_leaf=4, max_features=log2, max_depth=None, criterion=entropy, total=   1.9s\n",
      "[CV] n_estimators=500, min_samples_split=10, min_samples_leaf=1, max_features=log2, max_depth=None, criterion=entropy \n",
      "[CV]  n_estimators=500, min_samples_split=2, min_samples_leaf=1, max_features=sqrt, max_depth=None, criterion=entropy, total=   5.0s\n",
      "[CV] n_estimators=500, min_samples_split=10, min_samples_leaf=1, max_features=log2, max_depth=None, criterion=entropy \n"
     ]
    },
    {
     "name": "stderr",
     "output_type": "stream",
     "text": [
      "[Parallel(n_jobs=-1)]: Done  25 tasks      | elapsed:   11.7s\n"
     ]
    },
    {
     "name": "stdout",
     "output_type": "stream",
     "text": [
      "[CV]  n_estimators=500, min_samples_split=2, min_samples_leaf=1, max_features=sqrt, max_depth=None, criterion=entropy, total=   5.1s\n",
      "[CV]  n_estimators=500, min_samples_split=2, min_samples_leaf=1, max_features=sqrt, max_depth=None, criterion=entropy, total=   5.1s\n",
      "[CV] n_estimators=300, min_samples_split=10, min_samples_leaf=4, max_features=auto, max_depth=10, criterion=entropy \n",
      "[CV] n_estimators=300, min_samples_split=10, min_samples_leaf=4, max_features=auto, max_depth=10, criterion=entropy \n",
      "[CV]  n_estimators=500, min_samples_split=5, min_samples_leaf=2, max_features=log2, max_depth=30, criterion=entropy, total=   3.8s\n",
      "[CV] n_estimators=300, min_samples_split=10, min_samples_leaf=4, max_features=auto, max_depth=10, criterion=entropy \n",
      "[CV]  n_estimators=500, min_samples_split=5, min_samples_leaf=2, max_features=log2, max_depth=30, criterion=entropy, total=   3.8s\n",
      "[CV] n_estimators=600, min_samples_split=2, min_samples_leaf=1, max_features=log2, max_depth=10, criterion=entropy \n",
      "[CV]  n_estimators=500, min_samples_split=5, min_samples_leaf=2, max_features=log2, max_depth=30, criterion=entropy, total=   3.8s\n",
      "[CV] n_estimators=600, min_samples_split=2, min_samples_leaf=1, max_features=log2, max_depth=10, criterion=entropy \n",
      "[CV]  n_estimators=500, min_samples_split=10, min_samples_leaf=1, max_features=log2, max_depth=None, criterion=entropy, total=   3.8s\n",
      "[CV] n_estimators=600, min_samples_split=2, min_samples_leaf=1, max_features=log2, max_depth=10, criterion=entropy \n",
      "[CV]  n_estimators=300, min_samples_split=10, min_samples_leaf=4, max_features=auto, max_depth=10, criterion=entropy, total=   2.0s\n",
      "[CV]  n_estimators=300, min_samples_split=10, min_samples_leaf=4, max_features=auto, max_depth=10, criterion=entropy, total=   1.9s\n",
      "[CV] n_estimators=500, min_samples_split=5, min_samples_leaf=2, max_features=auto, max_depth=20, criterion=gini \n",
      "[CV] n_estimators=500, min_samples_split=5, min_samples_leaf=2, max_features=auto, max_depth=20, criterion=gini \n",
      "[CV]  n_estimators=500, min_samples_split=10, min_samples_leaf=1, max_features=log2, max_depth=None, criterion=entropy, total=   3.7s\n",
      "[CV] n_estimators=500, min_samples_split=5, min_samples_leaf=2, max_features=auto, max_depth=20, criterion=gini \n",
      "[CV]  n_estimators=300, min_samples_split=10, min_samples_leaf=4, max_features=auto, max_depth=10, criterion=entropy, total=   1.9s\n",
      "[CV] n_estimators=200, min_samples_split=5, min_samples_leaf=1, max_features=log2, max_depth=30, criterion=gini \n",
      "[CV]  n_estimators=500, min_samples_split=10, min_samples_leaf=1, max_features=log2, max_depth=None, criterion=entropy, total=   3.7s\n",
      "[CV] n_estimators=200, min_samples_split=5, min_samples_leaf=1, max_features=log2, max_depth=30, criterion=gini \n",
      "[CV]  n_estimators=200, min_samples_split=5, min_samples_leaf=1, max_features=log2, max_depth=30, criterion=gini, total=   1.2s\n",
      "[CV] n_estimators=200, min_samples_split=5, min_samples_leaf=1, max_features=log2, max_depth=30, criterion=gini \n",
      "[CV]  n_estimators=600, min_samples_split=2, min_samples_leaf=1, max_features=log2, max_depth=10, criterion=entropy, total=   3.1s\n",
      "[CV] n_estimators=500, min_samples_split=10, min_samples_leaf=4, max_features=auto, max_depth=None, criterion=gini \n",
      "[CV]  n_estimators=200, min_samples_split=5, min_samples_leaf=1, max_features=log2, max_depth=30, criterion=gini, total=   1.2s\n",
      "[CV] n_estimators=500, min_samples_split=10, min_samples_leaf=4, max_features=auto, max_depth=None, criterion=gini \n",
      "[CV]  n_estimators=600, min_samples_split=2, min_samples_leaf=1, max_features=log2, max_depth=10, criterion=entropy, total=   3.1s\n",
      "[CV] n_estimators=500, min_samples_split=10, min_samples_leaf=4, max_features=auto, max_depth=None, criterion=gini \n",
      "[CV]  n_estimators=600, min_samples_split=2, min_samples_leaf=1, max_features=log2, max_depth=10, criterion=entropy, total=   3.2s\n",
      "[CV] n_estimators=500, min_samples_split=2, min_samples_leaf=2, max_features=sqrt, max_depth=30, criterion=gini \n",
      "[CV]  n_estimators=200, min_samples_split=5, min_samples_leaf=1, max_features=log2, max_depth=30, criterion=gini, total=   1.4s\n",
      "[CV] n_estimators=500, min_samples_split=2, min_samples_leaf=2, max_features=sqrt, max_depth=30, criterion=gini \n",
      "[CV]  n_estimators=500, min_samples_split=5, min_samples_leaf=2, max_features=auto, max_depth=20, criterion=gini, total=   3.6s\n",
      "[CV] n_estimators=500, min_samples_split=2, min_samples_leaf=2, max_features=sqrt, max_depth=30, criterion=gini \n",
      "[CV]  n_estimators=500, min_samples_split=5, min_samples_leaf=2, max_features=auto, max_depth=20, criterion=gini, total=   3.7s\n",
      "[CV] n_estimators=200, min_samples_split=2, min_samples_leaf=1, max_features=log2, max_depth=None, criterion=gini \n",
      "[CV]  n_estimators=500, min_samples_split=5, min_samples_leaf=2, max_features=auto, max_depth=20, criterion=gini, total=   3.8s\n",
      "[CV] n_estimators=200, min_samples_split=2, min_samples_leaf=1, max_features=log2, max_depth=None, criterion=gini \n",
      "[CV]  n_estimators=200, min_samples_split=2, min_samples_leaf=1, max_features=log2, max_depth=None, criterion=gini, total=   1.5s\n",
      "[CV] n_estimators=200, min_samples_split=2, min_samples_leaf=1, max_features=log2, max_depth=None, criterion=gini \n",
      "[CV]  n_estimators=500, min_samples_split=10, min_samples_leaf=4, max_features=auto, max_depth=None, criterion=gini, total=   3.6s\n",
      "[CV] n_estimators=400, min_samples_split=10, min_samples_leaf=1, max_features=log2, max_depth=30, criterion=entropy \n",
      "[CV]  n_estimators=200, min_samples_split=2, min_samples_leaf=1, max_features=log2, max_depth=None, criterion=gini, total=   1.5s\n",
      "[CV]  n_estimators=500, min_samples_split=10, min_samples_leaf=4, max_features=auto, max_depth=None, criterion=gini, total=   3.6s\n",
      "[CV] n_estimators=400, min_samples_split=10, min_samples_leaf=1, max_features=log2, max_depth=30, criterion=entropy \n",
      "[CV] n_estimators=400, min_samples_split=10, min_samples_leaf=1, max_features=log2, max_depth=30, criterion=entropy \n",
      "[CV]  n_estimators=500, min_samples_split=10, min_samples_leaf=4, max_features=auto, max_depth=None, criterion=gini, total=   3.7s\n",
      "[CV] n_estimators=500, min_samples_split=5, min_samples_leaf=4, max_features=sqrt, max_depth=30, criterion=entropy \n",
      "[CV]  n_estimators=200, min_samples_split=2, min_samples_leaf=1, max_features=log2, max_depth=None, criterion=gini, total=   1.8s\n",
      "[CV] n_estimators=500, min_samples_split=5, min_samples_leaf=4, max_features=sqrt, max_depth=30, criterion=entropy \n",
      "[CV]  n_estimators=500, min_samples_split=2, min_samples_leaf=2, max_features=sqrt, max_depth=30, criterion=gini, total=   4.5s\n",
      "[CV] n_estimators=500, min_samples_split=5, min_samples_leaf=4, max_features=sqrt, max_depth=30, criterion=entropy \n",
      "[CV]  n_estimators=500, min_samples_split=2, min_samples_leaf=2, max_features=sqrt, max_depth=30, criterion=gini, total=   4.5s\n",
      "[CV] n_estimators=300, min_samples_split=10, min_samples_leaf=1, max_features=sqrt, max_depth=10, criterion=gini \n",
      "[CV]  n_estimators=500, min_samples_split=2, min_samples_leaf=2, max_features=sqrt, max_depth=30, criterion=gini, total=   4.6s\n",
      "[CV] n_estimators=300, min_samples_split=10, min_samples_leaf=1, max_features=sqrt, max_depth=10, criterion=gini \n",
      "[CV]  n_estimators=400, min_samples_split=10, min_samples_leaf=1, max_features=log2, max_depth=30, criterion=entropy, total=   3.5s\n",
      "[CV] n_estimators=300, min_samples_split=10, min_samples_leaf=1, max_features=sqrt, max_depth=10, criterion=gini \n",
      "[CV]  n_estimators=400, min_samples_split=10, min_samples_leaf=1, max_features=log2, max_depth=30, criterion=entropy, total=   3.4s\n",
      "[CV]  n_estimators=400, min_samples_split=10, min_samples_leaf=1, max_features=log2, max_depth=30, criterion=entropy, total=   3.3s\n",
      "[CV] n_estimators=200, min_samples_split=10, min_samples_leaf=2, max_features=sqrt, max_depth=10, criterion=gini \n",
      "[CV] n_estimators=200, min_samples_split=10, min_samples_leaf=2, max_features=sqrt, max_depth=10, criterion=gini \n",
      "[CV]  n_estimators=300, min_samples_split=10, min_samples_leaf=1, max_features=sqrt, max_depth=10, criterion=gini, total=   2.3s\n",
      "[CV] n_estimators=200, min_samples_split=10, min_samples_leaf=2, max_features=sqrt, max_depth=10, criterion=gini \n",
      "[CV]  n_estimators=300, min_samples_split=10, min_samples_leaf=1, max_features=sqrt, max_depth=10, criterion=gini, total=   2.3s\n"
     ]
    },
    {
     "name": "stdout",
     "output_type": "stream",
     "text": [
      "[CV] n_estimators=200, min_samples_split=5, min_samples_leaf=4, max_features=sqrt, max_depth=None, criterion=gini \n",
      "[CV]  n_estimators=500, min_samples_split=5, min_samples_leaf=4, max_features=sqrt, max_depth=30, criterion=entropy, total=   4.7s\n",
      "[CV] n_estimators=200, min_samples_split=5, min_samples_leaf=4, max_features=sqrt, max_depth=None, criterion=gini \n",
      "[CV]  n_estimators=200, min_samples_split=10, min_samples_leaf=2, max_features=sqrt, max_depth=10, criterion=gini, total=   1.4s\n",
      "[CV]  n_estimators=200, min_samples_split=10, min_samples_leaf=2, max_features=sqrt, max_depth=10, criterion=gini, total=   1.4s\n",
      "[CV] n_estimators=200, min_samples_split=5, min_samples_leaf=4, max_features=sqrt, max_depth=None, criterion=gini \n",
      "[CV] n_estimators=500, min_samples_split=10, min_samples_leaf=2, max_features=log2, max_depth=30, criterion=gini \n",
      "[CV]  n_estimators=300, min_samples_split=10, min_samples_leaf=1, max_features=sqrt, max_depth=10, criterion=gini, total=   2.3s\n",
      "[CV] n_estimators=500, min_samples_split=10, min_samples_leaf=2, max_features=log2, max_depth=30, criterion=gini \n",
      "[CV]  n_estimators=200, min_samples_split=10, min_samples_leaf=2, max_features=sqrt, max_depth=10, criterion=gini, total=   1.4s\n",
      "[CV] n_estimators=500, min_samples_split=10, min_samples_leaf=2, max_features=log2, max_depth=30, criterion=gini \n",
      "[CV]  n_estimators=500, min_samples_split=5, min_samples_leaf=4, max_features=sqrt, max_depth=30, criterion=entropy, total=   4.7s\n",
      "[CV] n_estimators=500, min_samples_split=2, min_samples_leaf=4, max_features=log2, max_depth=None, criterion=gini \n",
      "[CV]  n_estimators=500, min_samples_split=5, min_samples_leaf=4, max_features=sqrt, max_depth=30, criterion=entropy, total=   4.6s\n",
      "[CV] n_estimators=500, min_samples_split=2, min_samples_leaf=4, max_features=log2, max_depth=None, criterion=gini \n",
      "[CV]  n_estimators=200, min_samples_split=5, min_samples_leaf=4, max_features=sqrt, max_depth=None, criterion=gini, total=   1.5s\n",
      "[CV] n_estimators=500, min_samples_split=2, min_samples_leaf=4, max_features=log2, max_depth=None, criterion=gini \n",
      "[CV]  n_estimators=200, min_samples_split=5, min_samples_leaf=4, max_features=sqrt, max_depth=None, criterion=gini, total=   1.4s\n",
      "[CV] n_estimators=400, min_samples_split=10, min_samples_leaf=4, max_features=auto, max_depth=None, criterion=entropy \n",
      "[CV]  n_estimators=200, min_samples_split=5, min_samples_leaf=4, max_features=sqrt, max_depth=None, criterion=gini, total=   1.4s\n",
      "[CV] n_estimators=400, min_samples_split=10, min_samples_leaf=4, max_features=auto, max_depth=None, criterion=entropy \n",
      "[CV]  n_estimators=500, min_samples_split=10, min_samples_leaf=2, max_features=log2, max_depth=30, criterion=gini, total=   3.3s\n",
      "[CV] n_estimators=400, min_samples_split=10, min_samples_leaf=4, max_features=auto, max_depth=None, criterion=entropy \n",
      "[CV]  n_estimators=500, min_samples_split=10, min_samples_leaf=2, max_features=log2, max_depth=30, criterion=gini, total=   3.3s\n",
      "[CV] n_estimators=400, min_samples_split=10, min_samples_leaf=2, max_features=auto, max_depth=30, criterion=entropy \n",
      "[CV]  n_estimators=500, min_samples_split=2, min_samples_leaf=4, max_features=log2, max_depth=None, criterion=gini, total=   3.1s\n",
      "[CV] n_estimators=400, min_samples_split=10, min_samples_leaf=2, max_features=auto, max_depth=30, criterion=entropy \n",
      "[CV]  n_estimators=500, min_samples_split=10, min_samples_leaf=2, max_features=log2, max_depth=30, criterion=gini, total=   3.3s\n",
      "[CV] n_estimators=400, min_samples_split=10, min_samples_leaf=2, max_features=auto, max_depth=30, criterion=entropy \n",
      "[CV]  n_estimators=500, min_samples_split=2, min_samples_leaf=4, max_features=log2, max_depth=None, criterion=gini, total=   3.1s\n",
      "[CV] n_estimators=300, min_samples_split=10, min_samples_leaf=1, max_features=log2, max_depth=30, criterion=gini \n",
      "[CV]  n_estimators=500, min_samples_split=2, min_samples_leaf=4, max_features=log2, max_depth=None, criterion=gini, total=   3.1s\n",
      "[CV] n_estimators=300, min_samples_split=10, min_samples_leaf=1, max_features=log2, max_depth=30, criterion=gini \n",
      "[CV]  n_estimators=400, min_samples_split=10, min_samples_leaf=4, max_features=auto, max_depth=None, criterion=entropy, total=   3.3s\n",
      "[CV] n_estimators=300, min_samples_split=10, min_samples_leaf=1, max_features=log2, max_depth=30, criterion=gini \n",
      "[CV]  n_estimators=400, min_samples_split=10, min_samples_leaf=4, max_features=auto, max_depth=None, criterion=entropy, total=   3.3s\n",
      "[CV] n_estimators=600, min_samples_split=5, min_samples_leaf=4, max_features=sqrt, max_depth=None, criterion=entropy \n",
      "[CV]  n_estimators=300, min_samples_split=10, min_samples_leaf=1, max_features=log2, max_depth=30, criterion=gini, total=   1.7s\n",
      "[CV] n_estimators=600, min_samples_split=5, min_samples_leaf=4, max_features=sqrt, max_depth=None, criterion=entropy \n",
      "[CV]  n_estimators=300, min_samples_split=10, min_samples_leaf=1, max_features=log2, max_depth=30, criterion=gini, total=   1.7s\n",
      "[CV] n_estimators=600, min_samples_split=5, min_samples_leaf=4, max_features=sqrt, max_depth=None, criterion=entropy \n",
      "[CV]  n_estimators=400, min_samples_split=10, min_samples_leaf=4, max_features=auto, max_depth=None, criterion=entropy, total=   3.0s\n",
      "[CV] n_estimators=200, min_samples_split=10, min_samples_leaf=4, max_features=sqrt, max_depth=20, criterion=entropy \n",
      "[CV]  n_estimators=300, min_samples_split=10, min_samples_leaf=1, max_features=log2, max_depth=30, criterion=gini, total=   1.8s\n",
      "[CV] n_estimators=200, min_samples_split=10, min_samples_leaf=4, max_features=sqrt, max_depth=20, criterion=entropy \n",
      "[CV]  n_estimators=400, min_samples_split=10, min_samples_leaf=2, max_features=auto, max_depth=30, criterion=entropy, total=   3.2s\n",
      "[CV]  n_estimators=400, min_samples_split=10, min_samples_leaf=2, max_features=auto, max_depth=30, criterion=entropy, total=   3.3s\n",
      "[CV] n_estimators=200, min_samples_split=10, min_samples_leaf=4, max_features=sqrt, max_depth=20, criterion=entropy \n",
      "[CV] n_estimators=300, min_samples_split=10, min_samples_leaf=2, max_features=log2, max_depth=10, criterion=entropy \n",
      "[CV]  n_estimators=400, min_samples_split=10, min_samples_leaf=2, max_features=auto, max_depth=30, criterion=entropy, total=   3.2s\n",
      "[CV] n_estimators=300, min_samples_split=10, min_samples_leaf=2, max_features=log2, max_depth=10, criterion=entropy \n",
      "[CV]  n_estimators=200, min_samples_split=10, min_samples_leaf=4, max_features=sqrt, max_depth=20, criterion=entropy, total=   1.4s\n",
      "[CV] n_estimators=300, min_samples_split=10, min_samples_leaf=2, max_features=log2, max_depth=10, criterion=entropy \n",
      "[CV]  n_estimators=200, min_samples_split=10, min_samples_leaf=4, max_features=sqrt, max_depth=20, criterion=entropy, total=   1.4s\n",
      "[CV] n_estimators=600, min_samples_split=2, min_samples_leaf=1, max_features=auto, max_depth=20, criterion=entropy \n",
      "[CV]  n_estimators=200, min_samples_split=10, min_samples_leaf=4, max_features=sqrt, max_depth=20, criterion=entropy, total=   1.4s\n",
      "[CV] n_estimators=600, min_samples_split=2, min_samples_leaf=1, max_features=auto, max_depth=20, criterion=entropy \n",
      "[CV]  n_estimators=300, min_samples_split=10, min_samples_leaf=2, max_features=log2, max_depth=10, criterion=entropy, total=   1.5s\n",
      "[CV] n_estimators=600, min_samples_split=2, min_samples_leaf=1, max_features=auto, max_depth=20, criterion=entropy \n",
      "[CV]  n_estimators=300, min_samples_split=10, min_samples_leaf=2, max_features=log2, max_depth=10, criterion=entropy, total=   1.6s\n",
      "[CV] n_estimators=300, min_samples_split=5, min_samples_leaf=1, max_features=sqrt, max_depth=10, criterion=gini \n",
      "[CV]  n_estimators=600, min_samples_split=5, min_samples_leaf=4, max_features=sqrt, max_depth=None, criterion=entropy, total=   4.5s\n",
      "[CV] n_estimators=300, min_samples_split=5, min_samples_leaf=1, max_features=sqrt, max_depth=10, criterion=gini \n",
      "[CV]  n_estimators=300, min_samples_split=10, min_samples_leaf=2, max_features=log2, max_depth=10, criterion=entropy, total=   1.7s\n",
      "[CV] n_estimators=300, min_samples_split=5, min_samples_leaf=1, max_features=sqrt, max_depth=10, criterion=gini \n",
      "[CV]  n_estimators=600, min_samples_split=5, min_samples_leaf=4, max_features=sqrt, max_depth=None, criterion=entropy, total=   4.9s\n",
      "[CV] n_estimators=400, min_samples_split=5, min_samples_leaf=1, max_features=auto, max_depth=30, criterion=gini \n"
     ]
    },
    {
     "name": "stdout",
     "output_type": "stream",
     "text": [
      "[CV]  n_estimators=600, min_samples_split=5, min_samples_leaf=4, max_features=sqrt, max_depth=None, criterion=entropy, total=   4.9s\n",
      "[CV] n_estimators=400, min_samples_split=5, min_samples_leaf=1, max_features=auto, max_depth=30, criterion=gini \n",
      "[CV]  n_estimators=300, min_samples_split=5, min_samples_leaf=1, max_features=sqrt, max_depth=10, criterion=gini, total=   2.2s\n",
      "[CV] n_estimators=400, min_samples_split=5, min_samples_leaf=1, max_features=auto, max_depth=30, criterion=gini \n",
      "[CV]  n_estimators=300, min_samples_split=5, min_samples_leaf=1, max_features=sqrt, max_depth=10, criterion=gini, total=   2.2s\n",
      "[CV] n_estimators=600, min_samples_split=5, min_samples_leaf=4, max_features=auto, max_depth=20, criterion=gini \n",
      "[CV]  n_estimators=300, min_samples_split=5, min_samples_leaf=1, max_features=sqrt, max_depth=10, criterion=gini, total=   2.1s\n",
      "[CV] n_estimators=600, min_samples_split=5, min_samples_leaf=4, max_features=auto, max_depth=20, criterion=gini \n",
      "[CV]  n_estimators=600, min_samples_split=2, min_samples_leaf=1, max_features=auto, max_depth=20, criterion=entropy, total=   5.9s\n",
      "[CV] n_estimators=600, min_samples_split=5, min_samples_leaf=4, max_features=auto, max_depth=20, criterion=gini \n",
      "[CV]  n_estimators=400, min_samples_split=5, min_samples_leaf=1, max_features=auto, max_depth=30, criterion=gini, total=   3.1s\n",
      "[CV] n_estimators=400, min_samples_split=2, min_samples_leaf=4, max_features=sqrt, max_depth=10, criterion=entropy \n",
      "[CV]  n_estimators=400, min_samples_split=5, min_samples_leaf=1, max_features=auto, max_depth=30, criterion=gini, total=   3.2s\n",
      "[CV] n_estimators=400, min_samples_split=2, min_samples_leaf=4, max_features=sqrt, max_depth=10, criterion=entropy \n",
      "[CV]  n_estimators=400, min_samples_split=5, min_samples_leaf=1, max_features=auto, max_depth=30, criterion=gini, total=   3.3s\n",
      "[CV]  n_estimators=600, min_samples_split=2, min_samples_leaf=1, max_features=auto, max_depth=20, criterion=entropy, total=   5.9s\n",
      "[CV] n_estimators=400, min_samples_split=2, min_samples_leaf=4, max_features=sqrt, max_depth=10, criterion=entropy \n",
      "[CV] n_estimators=300, min_samples_split=10, min_samples_leaf=4, max_features=sqrt, max_depth=20, criterion=entropy \n",
      "[CV]  n_estimators=600, min_samples_split=2, min_samples_leaf=1, max_features=auto, max_depth=20, criterion=entropy, total=   6.1s\n",
      "[CV] n_estimators=300, min_samples_split=10, min_samples_leaf=4, max_features=sqrt, max_depth=20, criterion=entropy \n",
      "[CV]  n_estimators=600, min_samples_split=5, min_samples_leaf=4, max_features=auto, max_depth=20, criterion=gini, total=   4.6s\n",
      "[CV] n_estimators=300, min_samples_split=10, min_samples_leaf=4, max_features=sqrt, max_depth=20, criterion=entropy \n",
      "[CV]  n_estimators=600, min_samples_split=5, min_samples_leaf=4, max_features=auto, max_depth=20, criterion=gini, total=   4.8s\n",
      "[CV] n_estimators=300, min_samples_split=10, min_samples_leaf=4, max_features=sqrt, max_depth=10, criterion=gini \n",
      "[CV]  n_estimators=400, min_samples_split=2, min_samples_leaf=4, max_features=sqrt, max_depth=10, criterion=entropy, total=   3.3s\n",
      "[CV] n_estimators=300, min_samples_split=10, min_samples_leaf=4, max_features=sqrt, max_depth=10, criterion=gini \n",
      "[CV]  n_estimators=300, min_samples_split=10, min_samples_leaf=4, max_features=sqrt, max_depth=20, criterion=entropy, total=   2.8s\n",
      "[CV] n_estimators=300, min_samples_split=10, min_samples_leaf=4, max_features=sqrt, max_depth=10, criterion=gini \n",
      "[CV]  n_estimators=400, min_samples_split=2, min_samples_leaf=4, max_features=sqrt, max_depth=10, criterion=entropy, total=   3.3s\n",
      "[CV]  n_estimators=300, min_samples_split=10, min_samples_leaf=4, max_features=sqrt, max_depth=20, criterion=entropy, total=   2.8s\n",
      "[CV] n_estimators=600, min_samples_split=5, min_samples_leaf=4, max_features=auto, max_depth=30, criterion=gini \n",
      "[CV] n_estimators=600, min_samples_split=5, min_samples_leaf=4, max_features=auto, max_depth=30, criterion=gini \n",
      "[CV]  n_estimators=400, min_samples_split=2, min_samples_leaf=4, max_features=sqrt, max_depth=10, criterion=entropy, total=   3.3s\n",
      "[CV] n_estimators=600, min_samples_split=5, min_samples_leaf=4, max_features=auto, max_depth=30, criterion=gini \n",
      "[CV]  n_estimators=300, min_samples_split=10, min_samples_leaf=4, max_features=sqrt, max_depth=10, criterion=gini, total=   2.1s\n",
      "[CV] n_estimators=300, min_samples_split=10, min_samples_leaf=4, max_features=log2, max_depth=None, criterion=entropy \n",
      "[CV]  n_estimators=300, min_samples_split=10, min_samples_leaf=4, max_features=sqrt, max_depth=20, criterion=entropy, total=   2.6s\n",
      "[CV] n_estimators=300, min_samples_split=10, min_samples_leaf=4, max_features=log2, max_depth=None, criterion=entropy \n",
      "[CV]  n_estimators=600, min_samples_split=5, min_samples_leaf=4, max_features=auto, max_depth=20, criterion=gini, total=   5.1s\n",
      "[CV] n_estimators=300, min_samples_split=10, min_samples_leaf=4, max_features=log2, max_depth=None, criterion=entropy \n",
      "[CV]  n_estimators=300, min_samples_split=10, min_samples_leaf=4, max_features=sqrt, max_depth=10, criterion=gini, total=   2.2s\n",
      "[CV] n_estimators=600, min_samples_split=10, min_samples_leaf=2, max_features=log2, max_depth=30, criterion=gini \n",
      "[CV]  n_estimators=300, min_samples_split=10, min_samples_leaf=4, max_features=sqrt, max_depth=10, criterion=gini, total=   2.1s\n",
      "[CV] n_estimators=600, min_samples_split=10, min_samples_leaf=2, max_features=log2, max_depth=30, criterion=gini \n",
      "[CV]  n_estimators=300, min_samples_split=10, min_samples_leaf=4, max_features=log2, max_depth=None, criterion=entropy, total=   2.3s\n",
      "[CV] n_estimators=600, min_samples_split=10, min_samples_leaf=2, max_features=log2, max_depth=30, criterion=gini \n",
      "[CV]  n_estimators=300, min_samples_split=10, min_samples_leaf=4, max_features=log2, max_depth=None, criterion=entropy, total=   2.3s\n",
      "[CV] n_estimators=300, min_samples_split=2, min_samples_leaf=4, max_features=auto, max_depth=20, criterion=entropy \n",
      "[CV]  n_estimators=300, min_samples_split=10, min_samples_leaf=4, max_features=log2, max_depth=None, criterion=entropy, total=   2.3s\n",
      "[CV] n_estimators=300, min_samples_split=2, min_samples_leaf=4, max_features=auto, max_depth=20, criterion=entropy \n",
      "[CV]  n_estimators=600, min_samples_split=5, min_samples_leaf=4, max_features=auto, max_depth=30, criterion=gini, total=   4.9s\n",
      "[CV]  n_estimators=600, min_samples_split=5, min_samples_leaf=4, max_features=auto, max_depth=30, criterion=gini, total=   4.8s\n",
      "[CV] n_estimators=300, min_samples_split=2, min_samples_leaf=4, max_features=auto, max_depth=20, criterion=entropy \n",
      "[CV] n_estimators=400, min_samples_split=2, min_samples_leaf=1, max_features=auto, max_depth=20, criterion=entropy \n",
      "[CV]  n_estimators=600, min_samples_split=5, min_samples_leaf=4, max_features=auto, max_depth=30, criterion=gini, total=   4.8s\n",
      "[CV] n_estimators=400, min_samples_split=2, min_samples_leaf=1, max_features=auto, max_depth=20, criterion=entropy \n",
      "[CV]  n_estimators=300, min_samples_split=2, min_samples_leaf=4, max_features=auto, max_depth=20, criterion=entropy, total=   2.2s\n",
      "[CV]  n_estimators=600, min_samples_split=10, min_samples_leaf=2, max_features=log2, max_depth=30, criterion=gini, total=   3.9s\n",
      "[CV] n_estimators=400, min_samples_split=2, min_samples_leaf=1, max_features=auto, max_depth=20, criterion=entropy \n",
      "[CV] n_estimators=600, min_samples_split=5, min_samples_leaf=1, max_features=auto, max_depth=None, criterion=entropy \n",
      "[CV]  n_estimators=300, min_samples_split=2, min_samples_leaf=4, max_features=auto, max_depth=20, criterion=entropy, total=   2.1s\n",
      "[CV] n_estimators=600, min_samples_split=5, min_samples_leaf=1, max_features=auto, max_depth=None, criterion=entropy \n",
      "[CV]  n_estimators=600, min_samples_split=10, min_samples_leaf=2, max_features=log2, max_depth=30, criterion=gini, total=   4.1s\n",
      "[CV] n_estimators=600, min_samples_split=5, min_samples_leaf=1, max_features=auto, max_depth=None, criterion=entropy \n",
      "[CV]  n_estimators=300, min_samples_split=2, min_samples_leaf=4, max_features=auto, max_depth=20, criterion=entropy, total=   2.3s\n",
      "[CV] n_estimators=400, min_samples_split=2, min_samples_leaf=1, max_features=sqrt, max_depth=None, criterion=entropy \n",
      "[CV]  n_estimators=600, min_samples_split=10, min_samples_leaf=2, max_features=log2, max_depth=30, criterion=gini, total=   3.6s\n"
     ]
    },
    {
     "name": "stdout",
     "output_type": "stream",
     "text": [
      "[CV] n_estimators=400, min_samples_split=2, min_samples_leaf=1, max_features=sqrt, max_depth=None, criterion=entropy \n",
      "[CV]  n_estimators=400, min_samples_split=2, min_samples_leaf=1, max_features=auto, max_depth=20, criterion=entropy, total=   3.7s\n",
      "[CV] n_estimators=400, min_samples_split=2, min_samples_leaf=1, max_features=sqrt, max_depth=None, criterion=entropy \n",
      "[CV]  n_estimators=400, min_samples_split=2, min_samples_leaf=1, max_features=auto, max_depth=20, criterion=entropy, total=   3.6s\n",
      "[CV] n_estimators=600, min_samples_split=2, min_samples_leaf=2, max_features=log2, max_depth=10, criterion=gini \n",
      "[CV]  n_estimators=400, min_samples_split=2, min_samples_leaf=1, max_features=auto, max_depth=20, criterion=entropy, total=   3.6s\n",
      "[CV] n_estimators=600, min_samples_split=2, min_samples_leaf=2, max_features=log2, max_depth=10, criterion=gini \n",
      "[CV]  n_estimators=400, min_samples_split=2, min_samples_leaf=1, max_features=sqrt, max_depth=None, criterion=entropy, total=   3.4s\n",
      "[CV] n_estimators=600, min_samples_split=2, min_samples_leaf=2, max_features=log2, max_depth=10, criterion=gini \n",
      "[CV]  n_estimators=400, min_samples_split=2, min_samples_leaf=1, max_features=sqrt, max_depth=None, criterion=entropy, total=   3.6s\n",
      "[CV] n_estimators=500, min_samples_split=10, min_samples_leaf=4, max_features=sqrt, max_depth=10, criterion=gini \n",
      "[CV]  n_estimators=600, min_samples_split=5, min_samples_leaf=1, max_features=auto, max_depth=None, criterion=entropy, total=   5.3s\n",
      "[CV] n_estimators=500, min_samples_split=10, min_samples_leaf=4, max_features=sqrt, max_depth=10, criterion=gini \n",
      "[CV]  n_estimators=600, min_samples_split=5, min_samples_leaf=1, max_features=auto, max_depth=None, criterion=entropy, total=   5.3s\n",
      "[CV] n_estimators=500, min_samples_split=10, min_samples_leaf=4, max_features=sqrt, max_depth=10, criterion=gini \n",
      "[CV]  n_estimators=600, min_samples_split=5, min_samples_leaf=1, max_features=auto, max_depth=None, criterion=entropy, total=   5.3s\n",
      "[CV] n_estimators=300, min_samples_split=2, min_samples_leaf=4, max_features=auto, max_depth=10, criterion=gini \n",
      "[CV]  n_estimators=600, min_samples_split=2, min_samples_leaf=2, max_features=log2, max_depth=10, criterion=gini, total=   2.8s\n",
      "[CV] n_estimators=300, min_samples_split=2, min_samples_leaf=4, max_features=auto, max_depth=10, criterion=gini \n",
      "[CV]  n_estimators=400, min_samples_split=2, min_samples_leaf=1, max_features=sqrt, max_depth=None, criterion=entropy, total=   3.5s\n",
      "[CV] n_estimators=300, min_samples_split=2, min_samples_leaf=4, max_features=auto, max_depth=10, criterion=gini \n",
      "[CV]  n_estimators=600, min_samples_split=2, min_samples_leaf=2, max_features=log2, max_depth=10, criterion=gini, total=   2.9s\n",
      "[CV] n_estimators=400, min_samples_split=5, min_samples_leaf=2, max_features=log2, max_depth=20, criterion=entropy \n",
      "[CV]  n_estimators=300, min_samples_split=2, min_samples_leaf=4, max_features=auto, max_depth=10, criterion=gini, total=   1.8s\n",
      "[CV] n_estimators=400, min_samples_split=5, min_samples_leaf=2, max_features=log2, max_depth=20, criterion=entropy \n",
      "[CV]  n_estimators=300, min_samples_split=2, min_samples_leaf=4, max_features=auto, max_depth=10, criterion=gini, total=   1.7s\n",
      "[CV] n_estimators=400, min_samples_split=5, min_samples_leaf=2, max_features=log2, max_depth=20, criterion=entropy \n",
      "[CV]  n_estimators=300, min_samples_split=2, min_samples_leaf=4, max_features=auto, max_depth=10, criterion=gini, total=   1.8s\n",
      "[CV]  n_estimators=500, min_samples_split=10, min_samples_leaf=4, max_features=sqrt, max_depth=10, criterion=gini, total=   3.0s\n",
      "[CV] n_estimators=500, min_samples_split=2, min_samples_leaf=1, max_features=auto, max_depth=10, criterion=entropy \n",
      "[CV] n_estimators=500, min_samples_split=2, min_samples_leaf=1, max_features=auto, max_depth=10, criterion=entropy \n",
      "[CV]  n_estimators=600, min_samples_split=2, min_samples_leaf=2, max_features=log2, max_depth=10, criterion=gini, total=   3.0s\n",
      "[CV] n_estimators=500, min_samples_split=2, min_samples_leaf=1, max_features=auto, max_depth=10, criterion=entropy \n",
      "[CV]  n_estimators=500, min_samples_split=10, min_samples_leaf=4, max_features=sqrt, max_depth=10, criterion=gini, total=   2.9s\n",
      "[CV] n_estimators=400, min_samples_split=10, min_samples_leaf=1, max_features=sqrt, max_depth=20, criterion=gini \n",
      "[CV]  n_estimators=500, min_samples_split=10, min_samples_leaf=4, max_features=sqrt, max_depth=10, criterion=gini, total=   2.9s\n",
      "[CV] n_estimators=400, min_samples_split=10, min_samples_leaf=1, max_features=sqrt, max_depth=20, criterion=gini \n",
      "[CV]  n_estimators=400, min_samples_split=5, min_samples_leaf=2, max_features=log2, max_depth=20, criterion=entropy, total=   2.5s\n",
      "[CV] n_estimators=400, min_samples_split=10, min_samples_leaf=1, max_features=sqrt, max_depth=20, criterion=gini \n",
      "[CV]  n_estimators=400, min_samples_split=5, min_samples_leaf=2, max_features=log2, max_depth=20, criterion=entropy, total=   2.6s\n",
      "[CV] n_estimators=500, min_samples_split=10, min_samples_leaf=4, max_features=sqrt, max_depth=None, criterion=gini \n",
      "[CV]  n_estimators=400, min_samples_split=5, min_samples_leaf=2, max_features=log2, max_depth=20, criterion=entropy, total=   2.5s\n",
      "[CV] n_estimators=500, min_samples_split=10, min_samples_leaf=4, max_features=sqrt, max_depth=None, criterion=gini \n"
     ]
    },
    {
     "name": "stderr",
     "output_type": "stream",
     "text": [
      "[Parallel(n_jobs=-1)]: Done 146 tasks      | elapsed:  1.1min\n"
     ]
    },
    {
     "name": "stdout",
     "output_type": "stream",
     "text": [
      "[CV]  n_estimators=500, min_samples_split=2, min_samples_leaf=1, max_features=auto, max_depth=10, criterion=entropy, total=   3.2s\n",
      "[CV] n_estimators=500, min_samples_split=10, min_samples_leaf=4, max_features=sqrt, max_depth=None, criterion=gini \n",
      "[CV]  n_estimators=400, min_samples_split=10, min_samples_leaf=1, max_features=sqrt, max_depth=20, criterion=gini, total=   2.7s\n",
      "[CV]  n_estimators=500, min_samples_split=2, min_samples_leaf=1, max_features=auto, max_depth=10, criterion=entropy, total=   3.2s\n",
      "[CV] n_estimators=300, min_samples_split=5, min_samples_leaf=2, max_features=log2, max_depth=30, criterion=gini \n",
      "[CV] n_estimators=300, min_samples_split=5, min_samples_leaf=2, max_features=log2, max_depth=30, criterion=gini \n",
      "[CV]  n_estimators=500, min_samples_split=2, min_samples_leaf=1, max_features=auto, max_depth=10, criterion=entropy, total=   3.2s\n",
      "[CV] n_estimators=300, min_samples_split=5, min_samples_leaf=2, max_features=log2, max_depth=30, criterion=gini \n",
      "[CV]  n_estimators=400, min_samples_split=10, min_samples_leaf=1, max_features=sqrt, max_depth=20, criterion=gini, total=   2.7s\n",
      "[CV] n_estimators=600, min_samples_split=2, min_samples_leaf=2, max_features=sqrt, max_depth=20, criterion=gini \n",
      "[CV]  n_estimators=400, min_samples_split=10, min_samples_leaf=1, max_features=sqrt, max_depth=20, criterion=gini, total=   2.9s\n",
      "[CV] n_estimators=600, min_samples_split=2, min_samples_leaf=2, max_features=sqrt, max_depth=20, criterion=gini \n",
      "[CV]  n_estimators=300, min_samples_split=5, min_samples_leaf=2, max_features=log2, max_depth=30, criterion=gini, total=   1.7s\n",
      "[CV]  n_estimators=300, min_samples_split=5, min_samples_leaf=2, max_features=log2, max_depth=30, criterion=gini, total=   1.7s\n",
      "[CV] n_estimators=600, min_samples_split=2, min_samples_leaf=2, max_features=sqrt, max_depth=20, criterion=gini \n",
      "[CV] n_estimators=300, min_samples_split=5, min_samples_leaf=4, max_features=sqrt, max_depth=10, criterion=entropy \n",
      "[CV]  n_estimators=300, min_samples_split=5, min_samples_leaf=2, max_features=log2, max_depth=30, criterion=gini, total=   1.7s\n",
      "[CV] n_estimators=300, min_samples_split=5, min_samples_leaf=4, max_features=sqrt, max_depth=10, criterion=entropy \n",
      "[CV]  n_estimators=500, min_samples_split=10, min_samples_leaf=4, max_features=sqrt, max_depth=None, criterion=gini, total=   3.2s\n",
      "[CV] n_estimators=300, min_samples_split=5, min_samples_leaf=4, max_features=sqrt, max_depth=10, criterion=entropy \n",
      "[CV]  n_estimators=500, min_samples_split=10, min_samples_leaf=4, max_features=sqrt, max_depth=None, criterion=gini, total=   3.2s\n",
      "[CV] n_estimators=600, min_samples_split=2, min_samples_leaf=4, max_features=auto, max_depth=30, criterion=entropy \n",
      "[CV]  n_estimators=500, min_samples_split=10, min_samples_leaf=4, max_features=sqrt, max_depth=None, criterion=gini, total=   3.3s\n",
      "[CV] n_estimators=600, min_samples_split=2, min_samples_leaf=4, max_features=auto, max_depth=30, criterion=entropy \n",
      "[CV]  n_estimators=300, min_samples_split=5, min_samples_leaf=4, max_features=sqrt, max_depth=10, criterion=entropy, total=   1.8s\n",
      "[CV]  n_estimators=300, min_samples_split=5, min_samples_leaf=4, max_features=sqrt, max_depth=10, criterion=entropy, total=   1.8s\n",
      "[CV] n_estimators=600, min_samples_split=2, min_samples_leaf=4, max_features=auto, max_depth=30, criterion=entropy \n",
      "[CV] n_estimators=500, min_samples_split=2, min_samples_leaf=4, max_features=log2, max_depth=30, criterion=entropy \n",
      "[CV]  n_estimators=300, min_samples_split=5, min_samples_leaf=4, max_features=sqrt, max_depth=10, criterion=entropy, total=   1.8s\n",
      "[CV] n_estimators=500, min_samples_split=2, min_samples_leaf=4, max_features=log2, max_depth=30, criterion=entropy \n",
      "[CV]  n_estimators=600, min_samples_split=2, min_samples_leaf=2, max_features=sqrt, max_depth=20, criterion=gini, total=   4.3s\n",
      "[CV] n_estimators=500, min_samples_split=2, min_samples_leaf=4, max_features=log2, max_depth=30, criterion=entropy \n",
      "[CV]  n_estimators=600, min_samples_split=2, min_samples_leaf=2, max_features=sqrt, max_depth=20, criterion=gini, total=   4.2s\n",
      "[CV] n_estimators=200, min_samples_split=2, min_samples_leaf=4, max_features=log2, max_depth=10, criterion=entropy \n",
      "[CV]  n_estimators=600, min_samples_split=2, min_samples_leaf=2, max_features=sqrt, max_depth=20, criterion=gini, total=   4.2s\n",
      "[CV] n_estimators=200, min_samples_split=2, min_samples_leaf=4, max_features=log2, max_depth=10, criterion=entropy \n",
      "[CV]  n_estimators=200, min_samples_split=2, min_samples_leaf=4, max_features=log2, max_depth=10, criterion=entropy, total=   1.0s\n",
      "[CV] n_estimators=200, min_samples_split=2, min_samples_leaf=4, max_features=log2, max_depth=10, criterion=entropy \n",
      "[CV]  n_estimators=600, min_samples_split=2, min_samples_leaf=4, max_features=auto, max_depth=30, criterion=entropy, total=   4.2s\n",
      "[CV] n_estimators=500, min_samples_split=2, min_samples_leaf=1, max_features=sqrt, max_depth=None, criterion=gini \n",
      "[CV]  n_estimators=500, min_samples_split=2, min_samples_leaf=4, max_features=log2, max_depth=30, criterion=entropy, total=   2.9s\n",
      "[CV] n_estimators=500, min_samples_split=2, min_samples_leaf=1, max_features=sqrt, max_depth=None, criterion=gini \n",
      "[CV]  n_estimators=500, min_samples_split=2, min_samples_leaf=4, max_features=log2, max_depth=30, criterion=entropy, total=   2.8s\n",
      "[CV] n_estimators=500, min_samples_split=2, min_samples_leaf=1, max_features=sqrt, max_depth=None, criterion=gini \n",
      "[CV]  n_estimators=200, min_samples_split=2, min_samples_leaf=4, max_features=log2, max_depth=10, criterion=entropy, total=   1.0s\n",
      "[CV] n_estimators=400, min_samples_split=10, min_samples_leaf=2, max_features=sqrt, max_depth=30, criterion=entropy \n",
      "[CV]  n_estimators=500, min_samples_split=2, min_samples_leaf=4, max_features=log2, max_depth=30, criterion=entropy, total=   2.8s\n",
      "[CV]  n_estimators=200, min_samples_split=2, min_samples_leaf=4, max_features=log2, max_depth=10, criterion=entropy, total=   0.9s\n",
      "[CV] n_estimators=400, min_samples_split=10, min_samples_leaf=2, max_features=sqrt, max_depth=30, criterion=entropy \n",
      "[CV] n_estimators=400, min_samples_split=10, min_samples_leaf=2, max_features=sqrt, max_depth=30, criterion=entropy \n",
      "[CV]  n_estimators=600, min_samples_split=2, min_samples_leaf=4, max_features=auto, max_depth=30, criterion=entropy, total=   4.3s\n",
      "[CV] n_estimators=200, min_samples_split=5, min_samples_leaf=4, max_features=auto, max_depth=None, criterion=gini \n",
      "[CV]  n_estimators=600, min_samples_split=2, min_samples_leaf=4, max_features=auto, max_depth=30, criterion=entropy, total=   4.3s\n",
      "[CV] n_estimators=200, min_samples_split=5, min_samples_leaf=4, max_features=auto, max_depth=None, criterion=gini \n",
      "[CV]  n_estimators=200, min_samples_split=5, min_samples_leaf=4, max_features=auto, max_depth=None, criterion=gini, total=   1.1s\n",
      "[CV] n_estimators=200, min_samples_split=5, min_samples_leaf=4, max_features=auto, max_depth=None, criterion=gini \n",
      "[CV]  n_estimators=200, min_samples_split=5, min_samples_leaf=4, max_features=auto, max_depth=None, criterion=gini, total=   1.1s\n",
      "[CV] n_estimators=400, min_samples_split=10, min_samples_leaf=2, max_features=log2, max_depth=None, criterion=entropy \n",
      "[CV]  n_estimators=400, min_samples_split=10, min_samples_leaf=2, max_features=sqrt, max_depth=30, criterion=entropy, total=   2.8s\n",
      "[CV] n_estimators=400, min_samples_split=10, min_samples_leaf=2, max_features=log2, max_depth=None, criterion=entropy \n",
      "[CV]  n_estimators=200, min_samples_split=5, min_samples_leaf=4, max_features=auto, max_depth=None, criterion=gini, total=   1.1s\n",
      "[CV] n_estimators=400, min_samples_split=10, min_samples_leaf=2, max_features=log2, max_depth=None, criterion=entropy \n",
      "[CV]  n_estimators=500, min_samples_split=2, min_samples_leaf=1, max_features=sqrt, max_depth=None, criterion=gini, total=   3.5s\n",
      "[CV] n_estimators=400, min_samples_split=2, min_samples_leaf=2, max_features=auto, max_depth=20, criterion=entropy \n",
      "[CV]  n_estimators=500, min_samples_split=2, min_samples_leaf=1, max_features=sqrt, max_depth=None, criterion=gini, total=   3.5s\n",
      "[CV] n_estimators=400, min_samples_split=2, min_samples_leaf=2, max_features=auto, max_depth=20, criterion=entropy \n",
      "[CV]  n_estimators=400, min_samples_split=10, min_samples_leaf=2, max_features=sqrt, max_depth=30, criterion=entropy, total=   2.8s\n"
     ]
    },
    {
     "name": "stdout",
     "output_type": "stream",
     "text": [
      "[CV]  n_estimators=400, min_samples_split=10, min_samples_leaf=2, max_features=sqrt, max_depth=30, criterion=entropy, total=   2.8s\n",
      "[CV] n_estimators=400, min_samples_split=2, min_samples_leaf=2, max_features=auto, max_depth=20, criterion=entropy \n",
      "[CV] n_estimators=600, min_samples_split=2, min_samples_leaf=2, max_features=auto, max_depth=30, criterion=gini \n",
      "[CV]  n_estimators=500, min_samples_split=2, min_samples_leaf=1, max_features=sqrt, max_depth=None, criterion=gini, total=   3.5s\n",
      "[CV] n_estimators=600, min_samples_split=2, min_samples_leaf=2, max_features=auto, max_depth=30, criterion=gini \n",
      "[CV]  n_estimators=400, min_samples_split=10, min_samples_leaf=2, max_features=log2, max_depth=None, criterion=entropy, total=   2.2s\n",
      "[CV] n_estimators=600, min_samples_split=2, min_samples_leaf=2, max_features=auto, max_depth=30, criterion=gini \n",
      "[CV]  n_estimators=400, min_samples_split=10, min_samples_leaf=2, max_features=log2, max_depth=None, criterion=entropy, total=   2.2s\n",
      "[CV] n_estimators=600, min_samples_split=10, min_samples_leaf=4, max_features=auto, max_depth=30, criterion=entropy \n",
      "[CV]  n_estimators=400, min_samples_split=10, min_samples_leaf=2, max_features=log2, max_depth=None, criterion=entropy, total=   2.2s\n",
      "[CV] n_estimators=600, min_samples_split=10, min_samples_leaf=4, max_features=auto, max_depth=30, criterion=entropy \n",
      "[CV]  n_estimators=400, min_samples_split=2, min_samples_leaf=2, max_features=auto, max_depth=20, criterion=entropy, total=   2.8s\n",
      "[CV]  n_estimators=400, min_samples_split=2, min_samples_leaf=2, max_features=auto, max_depth=20, criterion=entropy, total=   2.8s\n",
      "[CV] n_estimators=600, min_samples_split=10, min_samples_leaf=4, max_features=auto, max_depth=30, criterion=entropy \n",
      "[CV]  n_estimators=400, min_samples_split=2, min_samples_leaf=2, max_features=auto, max_depth=20, criterion=entropy, total=   2.8s\n",
      "[CV] n_estimators=600, min_samples_split=5, min_samples_leaf=1, max_features=auto, max_depth=30, criterion=entropy \n",
      "[CV] n_estimators=600, min_samples_split=5, min_samples_leaf=1, max_features=auto, max_depth=30, criterion=entropy \n",
      "[CV]  n_estimators=600, min_samples_split=2, min_samples_leaf=2, max_features=auto, max_depth=30, criterion=gini, total=   3.7s\n",
      "[CV] n_estimators=600, min_samples_split=5, min_samples_leaf=1, max_features=auto, max_depth=30, criterion=entropy \n",
      "[CV]  n_estimators=600, min_samples_split=2, min_samples_leaf=2, max_features=auto, max_depth=30, criterion=gini, total=   3.7s\n",
      "[CV] n_estimators=300, min_samples_split=5, min_samples_leaf=2, max_features=sqrt, max_depth=30, criterion=entropy \n",
      "[CV]  n_estimators=600, min_samples_split=2, min_samples_leaf=2, max_features=auto, max_depth=30, criterion=gini, total=   3.8s\n",
      "[CV] n_estimators=300, min_samples_split=5, min_samples_leaf=2, max_features=sqrt, max_depth=30, criterion=entropy \n",
      "[CV]  n_estimators=600, min_samples_split=10, min_samples_leaf=4, max_features=auto, max_depth=30, criterion=entropy, total=   3.6s\n",
      "[CV] n_estimators=300, min_samples_split=5, min_samples_leaf=2, max_features=sqrt, max_depth=30, criterion=entropy \n",
      "[CV]  n_estimators=600, min_samples_split=10, min_samples_leaf=4, max_features=auto, max_depth=30, criterion=entropy, total=   3.6s\n",
      "[CV] n_estimators=400, min_samples_split=10, min_samples_leaf=2, max_features=sqrt, max_depth=None, criterion=gini \n",
      "[CV]  n_estimators=300, min_samples_split=5, min_samples_leaf=2, max_features=sqrt, max_depth=30, criterion=entropy, total=   2.1s\n",
      "[CV] n_estimators=400, min_samples_split=10, min_samples_leaf=2, max_features=sqrt, max_depth=None, criterion=gini \n",
      "[CV]  n_estimators=600, min_samples_split=10, min_samples_leaf=4, max_features=auto, max_depth=30, criterion=entropy, total=   3.7s\n",
      "[CV] n_estimators=400, min_samples_split=10, min_samples_leaf=2, max_features=sqrt, max_depth=None, criterion=gini \n",
      "[CV]  n_estimators=300, min_samples_split=5, min_samples_leaf=2, max_features=sqrt, max_depth=30, criterion=entropy, total=   2.2s\n",
      "[CV] n_estimators=300, min_samples_split=5, min_samples_leaf=4, max_features=log2, max_depth=None, criterion=gini \n",
      "[CV]  n_estimators=600, min_samples_split=5, min_samples_leaf=1, max_features=auto, max_depth=30, criterion=entropy, total=   4.5s\n",
      "[CV] n_estimators=300, min_samples_split=5, min_samples_leaf=4, max_features=log2, max_depth=None, criterion=gini \n",
      "[CV]  n_estimators=600, min_samples_split=5, min_samples_leaf=1, max_features=auto, max_depth=30, criterion=entropy, total=   4.5s\n",
      "[CV] n_estimators=300, min_samples_split=5, min_samples_leaf=4, max_features=log2, max_depth=None, criterion=gini \n",
      "[CV]  n_estimators=300, min_samples_split=5, min_samples_leaf=2, max_features=sqrt, max_depth=30, criterion=entropy, total=   2.3s\n",
      "[CV] n_estimators=200, min_samples_split=2, min_samples_leaf=2, max_features=auto, max_depth=30, criterion=entropy \n",
      "[CV]  n_estimators=400, min_samples_split=10, min_samples_leaf=2, max_features=sqrt, max_depth=None, criterion=gini, total=   2.5s\n",
      "[CV] n_estimators=200, min_samples_split=2, min_samples_leaf=2, max_features=auto, max_depth=30, criterion=entropy \n",
      "[CV]  n_estimators=600, min_samples_split=5, min_samples_leaf=1, max_features=auto, max_depth=30, criterion=entropy, total=   4.6s\n",
      "[CV] n_estimators=200, min_samples_split=2, min_samples_leaf=2, max_features=auto, max_depth=30, criterion=entropy \n",
      "[CV]  n_estimators=400, min_samples_split=10, min_samples_leaf=2, max_features=sqrt, max_depth=None, criterion=gini, total=   2.4s\n",
      "[CV] n_estimators=200, min_samples_split=5, min_samples_leaf=2, max_features=auto, max_depth=10, criterion=entropy \n",
      "[CV]  n_estimators=300, min_samples_split=5, min_samples_leaf=4, max_features=log2, max_depth=None, criterion=gini, total=   1.5s\n",
      "[CV] n_estimators=200, min_samples_split=5, min_samples_leaf=2, max_features=auto, max_depth=10, criterion=entropy \n",
      "[CV]  n_estimators=300, min_samples_split=5, min_samples_leaf=4, max_features=log2, max_depth=None, criterion=gini, total=   1.5s\n",
      "[CV] n_estimators=200, min_samples_split=5, min_samples_leaf=2, max_features=auto, max_depth=10, criterion=entropy \n",
      "[CV]  n_estimators=300, min_samples_split=5, min_samples_leaf=4, max_features=log2, max_depth=None, criterion=gini, total=   1.5s\n",
      "[CV] n_estimators=600, min_samples_split=5, min_samples_leaf=2, max_features=sqrt, max_depth=None, criterion=entropy \n",
      "[CV]  n_estimators=400, min_samples_split=10, min_samples_leaf=2, max_features=sqrt, max_depth=None, criterion=gini, total=   2.6s\n",
      "[CV] n_estimators=600, min_samples_split=5, min_samples_leaf=2, max_features=sqrt, max_depth=None, criterion=entropy \n",
      "[CV]  n_estimators=200, min_samples_split=2, min_samples_leaf=2, max_features=auto, max_depth=30, criterion=entropy, total=   1.5s\n",
      "[CV] n_estimators=600, min_samples_split=5, min_samples_leaf=2, max_features=sqrt, max_depth=None, criterion=entropy \n",
      "[CV]  n_estimators=200, min_samples_split=5, min_samples_leaf=2, max_features=auto, max_depth=10, criterion=entropy, total=   1.2s\n",
      "[CV] n_estimators=300, min_samples_split=10, min_samples_leaf=1, max_features=sqrt, max_depth=10, criterion=entropy \n",
      "[CV]  n_estimators=200, min_samples_split=2, min_samples_leaf=2, max_features=auto, max_depth=30, criterion=entropy, total=   1.6s\n",
      "[CV] n_estimators=300, min_samples_split=10, min_samples_leaf=1, max_features=sqrt, max_depth=10, criterion=entropy \n",
      "[CV]  n_estimators=200, min_samples_split=2, min_samples_leaf=2, max_features=auto, max_depth=30, criterion=entropy, total=   1.6s\n",
      "[CV] n_estimators=300, min_samples_split=10, min_samples_leaf=1, max_features=sqrt, max_depth=10, criterion=entropy \n",
      "[CV]  n_estimators=200, min_samples_split=5, min_samples_leaf=2, max_features=auto, max_depth=10, criterion=entropy, total=   1.2s\n",
      "[CV] n_estimators=400, min_samples_split=2, min_samples_leaf=2, max_features=log2, max_depth=30, criterion=gini \n",
      "[CV]  n_estimators=200, min_samples_split=5, min_samples_leaf=2, max_features=auto, max_depth=10, criterion=entropy, total=   1.2s\n",
      "[CV] n_estimators=400, min_samples_split=2, min_samples_leaf=2, max_features=log2, max_depth=30, criterion=gini \n",
      "[CV]  n_estimators=300, min_samples_split=10, min_samples_leaf=1, max_features=sqrt, max_depth=10, criterion=entropy, total=   1.8s\n",
      "[CV] n_estimators=400, min_samples_split=2, min_samples_leaf=2, max_features=log2, max_depth=30, criterion=gini \n"
     ]
    },
    {
     "name": "stdout",
     "output_type": "stream",
     "text": [
      "[CV]  n_estimators=300, min_samples_split=10, min_samples_leaf=1, max_features=sqrt, max_depth=10, criterion=entropy, total=   1.8s\n",
      "[CV] n_estimators=500, min_samples_split=5, min_samples_leaf=2, max_features=log2, max_depth=10, criterion=gini \n",
      "[CV]  n_estimators=300, min_samples_split=10, min_samples_leaf=1, max_features=sqrt, max_depth=10, criterion=entropy, total=   1.8s\n",
      "[CV] n_estimators=500, min_samples_split=5, min_samples_leaf=2, max_features=log2, max_depth=10, criterion=gini \n",
      "[CV]  n_estimators=400, min_samples_split=2, min_samples_leaf=2, max_features=log2, max_depth=30, criterion=gini, total=   2.2s\n",
      "[CV] n_estimators=500, min_samples_split=5, min_samples_leaf=2, max_features=log2, max_depth=10, criterion=gini \n",
      "[CV]  n_estimators=400, min_samples_split=2, min_samples_leaf=2, max_features=log2, max_depth=30, criterion=gini, total=   2.2s\n",
      "[CV] n_estimators=500, min_samples_split=5, min_samples_leaf=4, max_features=auto, max_depth=10, criterion=entropy \n",
      "[CV]  n_estimators=600, min_samples_split=5, min_samples_leaf=2, max_features=sqrt, max_depth=None, criterion=entropy, total=   4.6s\n",
      "[CV] n_estimators=500, min_samples_split=5, min_samples_leaf=4, max_features=auto, max_depth=10, criterion=entropy \n",
      "[CV]  n_estimators=600, min_samples_split=5, min_samples_leaf=2, max_features=sqrt, max_depth=None, criterion=entropy, total=   4.6s\n",
      "[CV] n_estimators=500, min_samples_split=5, min_samples_leaf=4, max_features=auto, max_depth=10, criterion=entropy \n",
      "[CV]  n_estimators=400, min_samples_split=2, min_samples_leaf=2, max_features=log2, max_depth=30, criterion=gini, total=   2.2s\n",
      "[CV]  n_estimators=600, min_samples_split=5, min_samples_leaf=2, max_features=sqrt, max_depth=None, criterion=entropy, total=   4.5s\n",
      "[CV] n_estimators=600, min_samples_split=5, min_samples_leaf=4, max_features=log2, max_depth=None, criterion=entropy \n",
      "[CV] n_estimators=600, min_samples_split=5, min_samples_leaf=4, max_features=log2, max_depth=None, criterion=entropy \n",
      "[CV]  n_estimators=500, min_samples_split=5, min_samples_leaf=2, max_features=log2, max_depth=10, criterion=gini, total=   2.2s\n",
      "[CV] n_estimators=600, min_samples_split=5, min_samples_leaf=4, max_features=log2, max_depth=None, criterion=entropy \n",
      "[CV]  n_estimators=500, min_samples_split=5, min_samples_leaf=2, max_features=log2, max_depth=10, criterion=gini, total=   2.3s\n",
      "[CV] n_estimators=600, min_samples_split=2, min_samples_leaf=1, max_features=auto, max_depth=None, criterion=entropy \n",
      "[CV]  n_estimators=500, min_samples_split=5, min_samples_leaf=2, max_features=log2, max_depth=10, criterion=gini, total=   2.3s\n",
      "[CV] n_estimators=600, min_samples_split=2, min_samples_leaf=1, max_features=auto, max_depth=None, criterion=entropy \n",
      "[CV]  n_estimators=500, min_samples_split=5, min_samples_leaf=4, max_features=auto, max_depth=10, criterion=entropy, total=   2.8s\n",
      "[CV] n_estimators=600, min_samples_split=2, min_samples_leaf=1, max_features=auto, max_depth=None, criterion=entropy \n",
      "[CV]  n_estimators=500, min_samples_split=5, min_samples_leaf=4, max_features=auto, max_depth=10, criterion=entropy, total=   3.0s\n",
      "[CV] n_estimators=300, min_samples_split=10, min_samples_leaf=2, max_features=sqrt, max_depth=30, criterion=entropy \n",
      "[CV]  n_estimators=500, min_samples_split=5, min_samples_leaf=4, max_features=auto, max_depth=10, criterion=entropy, total=   2.9s\n",
      "[CV] n_estimators=300, min_samples_split=10, min_samples_leaf=2, max_features=sqrt, max_depth=30, criterion=entropy \n",
      "[CV]  n_estimators=600, min_samples_split=5, min_samples_leaf=4, max_features=log2, max_depth=None, criterion=entropy, total=   3.3s\n",
      "[CV] n_estimators=300, min_samples_split=10, min_samples_leaf=2, max_features=sqrt, max_depth=30, criterion=entropy \n",
      "[CV]  n_estimators=600, min_samples_split=5, min_samples_leaf=4, max_features=log2, max_depth=None, criterion=entropy, total=   3.4s\n",
      "[CV] n_estimators=200, min_samples_split=2, min_samples_leaf=1, max_features=auto, max_depth=None, criterion=entropy \n",
      "[CV]  n_estimators=600, min_samples_split=5, min_samples_leaf=4, max_features=log2, max_depth=None, criterion=entropy, total=   3.3s\n",
      "[CV] n_estimators=200, min_samples_split=2, min_samples_leaf=1, max_features=auto, max_depth=None, criterion=entropy \n",
      "[CV]  n_estimators=300, min_samples_split=10, min_samples_leaf=2, max_features=sqrt, max_depth=30, criterion=entropy, total=   2.3s\n",
      "[CV] n_estimators=200, min_samples_split=2, min_samples_leaf=1, max_features=auto, max_depth=None, criterion=entropy \n",
      "[CV]  n_estimators=300, min_samples_split=10, min_samples_leaf=2, max_features=sqrt, max_depth=30, criterion=entropy, total=   2.2s\n",
      "[CV] n_estimators=300, min_samples_split=2, min_samples_leaf=4, max_features=log2, max_depth=20, criterion=gini \n",
      "[CV]  n_estimators=200, min_samples_split=2, min_samples_leaf=1, max_features=auto, max_depth=None, criterion=entropy, total=   1.7s\n",
      "[CV] n_estimators=300, min_samples_split=2, min_samples_leaf=4, max_features=log2, max_depth=20, criterion=gini \n",
      "[CV]  n_estimators=200, min_samples_split=2, min_samples_leaf=1, max_features=auto, max_depth=None, criterion=entropy, total=   1.7s\n",
      "[CV] n_estimators=300, min_samples_split=2, min_samples_leaf=4, max_features=log2, max_depth=20, criterion=gini \n",
      "[CV]  n_estimators=600, min_samples_split=2, min_samples_leaf=1, max_features=auto, max_depth=None, criterion=entropy, total=   5.2s\n",
      "[CV] n_estimators=300, min_samples_split=10, min_samples_leaf=2, max_features=sqrt, max_depth=10, criterion=entropy \n",
      "[CV]  n_estimators=300, min_samples_split=10, min_samples_leaf=2, max_features=sqrt, max_depth=30, criterion=entropy, total=   2.3s\n",
      "[CV] n_estimators=300, min_samples_split=10, min_samples_leaf=2, max_features=sqrt, max_depth=10, criterion=entropy \n",
      "[CV]  n_estimators=600, min_samples_split=2, min_samples_leaf=1, max_features=auto, max_depth=None, criterion=entropy, total=   5.2s\n",
      "[CV] n_estimators=300, min_samples_split=10, min_samples_leaf=2, max_features=sqrt, max_depth=10, criterion=entropy \n",
      "[CV]  n_estimators=600, min_samples_split=2, min_samples_leaf=1, max_features=auto, max_depth=None, criterion=entropy, total=   5.1s\n",
      "[CV] n_estimators=400, min_samples_split=2, min_samples_leaf=2, max_features=log2, max_depth=10, criterion=gini \n",
      "[CV]  n_estimators=200, min_samples_split=2, min_samples_leaf=1, max_features=auto, max_depth=None, criterion=entropy, total=   1.8s\n",
      "[CV] n_estimators=400, min_samples_split=2, min_samples_leaf=2, max_features=log2, max_depth=10, criterion=gini \n",
      "[CV]  n_estimators=300, min_samples_split=2, min_samples_leaf=4, max_features=log2, max_depth=20, criterion=gini, total=   1.8s\n",
      "[CV] n_estimators=400, min_samples_split=2, min_samples_leaf=2, max_features=log2, max_depth=10, criterion=gini \n",
      "[CV]  n_estimators=300, min_samples_split=2, min_samples_leaf=4, max_features=log2, max_depth=20, criterion=gini, total=   1.6s\n",
      "[CV] n_estimators=600, min_samples_split=10, min_samples_leaf=1, max_features=sqrt, max_depth=10, criterion=gini \n",
      "[CV]  n_estimators=300, min_samples_split=2, min_samples_leaf=4, max_features=log2, max_depth=20, criterion=gini, total=   1.6s\n",
      "[CV] n_estimators=600, min_samples_split=10, min_samples_leaf=1, max_features=sqrt, max_depth=10, criterion=gini \n",
      "[CV]  n_estimators=300, min_samples_split=10, min_samples_leaf=2, max_features=sqrt, max_depth=10, criterion=entropy, total=   1.9s\n",
      "[CV] n_estimators=600, min_samples_split=10, min_samples_leaf=1, max_features=sqrt, max_depth=10, criterion=gini \n",
      "[CV]  n_estimators=300, min_samples_split=10, min_samples_leaf=2, max_features=sqrt, max_depth=10, criterion=entropy, total=   1.9s\n",
      "[CV] n_estimators=300, min_samples_split=10, min_samples_leaf=2, max_features=sqrt, max_depth=20, criterion=entropy \n",
      "[CV]  n_estimators=300, min_samples_split=10, min_samples_leaf=2, max_features=sqrt, max_depth=10, criterion=entropy, total=   1.9s\n",
      "[CV] n_estimators=300, min_samples_split=10, min_samples_leaf=2, max_features=sqrt, max_depth=20, criterion=entropy \n",
      "[CV]  n_estimators=400, min_samples_split=2, min_samples_leaf=2, max_features=log2, max_depth=10, criterion=gini, total=   2.0s\n",
      "[CV] n_estimators=300, min_samples_split=10, min_samples_leaf=2, max_features=sqrt, max_depth=20, criterion=entropy \n",
      "[CV]  n_estimators=400, min_samples_split=2, min_samples_leaf=2, max_features=log2, max_depth=10, criterion=gini, total=   1.9s\n"
     ]
    },
    {
     "name": "stdout",
     "output_type": "stream",
     "text": [
      "[CV] n_estimators=300, min_samples_split=5, min_samples_leaf=4, max_features=sqrt, max_depth=30, criterion=gini \n",
      "[CV]  n_estimators=400, min_samples_split=2, min_samples_leaf=2, max_features=log2, max_depth=10, criterion=gini, total=   1.9s\n",
      "[CV] n_estimators=300, min_samples_split=5, min_samples_leaf=4, max_features=sqrt, max_depth=30, criterion=gini \n",
      "[CV]  n_estimators=300, min_samples_split=10, min_samples_leaf=2, max_features=sqrt, max_depth=20, criterion=entropy, total=   2.3s\n",
      "[CV] n_estimators=300, min_samples_split=5, min_samples_leaf=4, max_features=sqrt, max_depth=30, criterion=gini \n",
      "[CV]  n_estimators=300, min_samples_split=10, min_samples_leaf=2, max_features=sqrt, max_depth=20, criterion=entropy, total=   2.3s\n",
      "[CV] n_estimators=500, min_samples_split=10, min_samples_leaf=4, max_features=auto, max_depth=20, criterion=entropy \n",
      "[CV]  n_estimators=600, min_samples_split=10, min_samples_leaf=1, max_features=sqrt, max_depth=10, criterion=gini, total=   3.5s\n",
      "[CV] n_estimators=500, min_samples_split=10, min_samples_leaf=4, max_features=auto, max_depth=20, criterion=entropy \n",
      "[CV]  n_estimators=600, min_samples_split=10, min_samples_leaf=1, max_features=sqrt, max_depth=10, criterion=gini, total=   3.4s\n",
      "[CV] n_estimators=500, min_samples_split=10, min_samples_leaf=4, max_features=auto, max_depth=20, criterion=entropy \n",
      "[CV]  n_estimators=300, min_samples_split=5, min_samples_leaf=4, max_features=sqrt, max_depth=30, criterion=gini, total=   1.9s\n",
      "[CV] n_estimators=600, min_samples_split=10, min_samples_leaf=4, max_features=log2, max_depth=30, criterion=gini \n",
      "[CV]  n_estimators=300, min_samples_split=5, min_samples_leaf=4, max_features=sqrt, max_depth=30, criterion=gini, total=   1.9s\n",
      "[CV] n_estimators=600, min_samples_split=10, min_samples_leaf=4, max_features=log2, max_depth=30, criterion=gini \n",
      "[CV]  n_estimators=300, min_samples_split=10, min_samples_leaf=2, max_features=sqrt, max_depth=20, criterion=entropy, total=   2.3s\n",
      "[CV] n_estimators=600, min_samples_split=10, min_samples_leaf=4, max_features=log2, max_depth=30, criterion=gini \n",
      "[CV]  n_estimators=600, min_samples_split=10, min_samples_leaf=1, max_features=sqrt, max_depth=10, criterion=gini, total=   3.5s\n",
      "[CV] n_estimators=600, min_samples_split=2, min_samples_leaf=4, max_features=log2, max_depth=None, criterion=entropy \n",
      "[CV]  n_estimators=300, min_samples_split=5, min_samples_leaf=4, max_features=sqrt, max_depth=30, criterion=gini, total=   1.9s\n",
      "[CV] n_estimators=600, min_samples_split=2, min_samples_leaf=4, max_features=log2, max_depth=None, criterion=entropy \n",
      "[CV]  n_estimators=500, min_samples_split=10, min_samples_leaf=4, max_features=auto, max_depth=20, criterion=entropy, total=   3.2s\n",
      "[CV] n_estimators=600, min_samples_split=2, min_samples_leaf=4, max_features=log2, max_depth=None, criterion=entropy \n",
      "[CV]  n_estimators=600, min_samples_split=10, min_samples_leaf=4, max_features=log2, max_depth=30, criterion=gini, total=   2.8s\n",
      "[CV] n_estimators=500, min_samples_split=5, min_samples_leaf=2, max_features=auto, max_depth=10, criterion=gini \n",
      "[CV]  n_estimators=600, min_samples_split=10, min_samples_leaf=4, max_features=log2, max_depth=30, criterion=gini, total=   2.7s\n",
      "[CV] n_estimators=500, min_samples_split=5, min_samples_leaf=2, max_features=auto, max_depth=10, criterion=gini \n",
      "[CV]  n_estimators=600, min_samples_split=10, min_samples_leaf=4, max_features=log2, max_depth=30, criterion=gini, total=   2.7s\n",
      "[CV] n_estimators=500, min_samples_split=5, min_samples_leaf=2, max_features=auto, max_depth=10, criterion=gini \n",
      "[CV]  n_estimators=500, min_samples_split=10, min_samples_leaf=4, max_features=auto, max_depth=20, criterion=entropy, total=   3.2s\n",
      "[CV] n_estimators=600, min_samples_split=2, min_samples_leaf=1, max_features=log2, max_depth=30, criterion=entropy \n",
      "[CV]  n_estimators=500, min_samples_split=10, min_samples_leaf=4, max_features=auto, max_depth=20, criterion=entropy, total=   3.2s\n",
      "[CV] n_estimators=600, min_samples_split=2, min_samples_leaf=1, max_features=log2, max_depth=30, criterion=entropy \n",
      "[CV]  n_estimators=600, min_samples_split=2, min_samples_leaf=4, max_features=log2, max_depth=None, criterion=entropy, total=   3.0s\n",
      "[CV] n_estimators=600, min_samples_split=2, min_samples_leaf=1, max_features=log2, max_depth=30, criterion=entropy \n",
      "[CV]  n_estimators=600, min_samples_split=2, min_samples_leaf=4, max_features=log2, max_depth=None, criterion=entropy, total=   3.0s\n",
      "[CV] n_estimators=300, min_samples_split=5, min_samples_leaf=1, max_features=auto, max_depth=20, criterion=gini \n",
      "[CV]  n_estimators=500, min_samples_split=5, min_samples_leaf=2, max_features=auto, max_depth=10, criterion=gini, total=   2.5s\n",
      "[CV]  n_estimators=500, min_samples_split=5, min_samples_leaf=2, max_features=auto, max_depth=10, criterion=gini, total=   2.5s\n",
      "[CV] n_estimators=300, min_samples_split=5, min_samples_leaf=1, max_features=auto, max_depth=20, criterion=gini \n",
      "[CV] n_estimators=300, min_samples_split=5, min_samples_leaf=1, max_features=auto, max_depth=20, criterion=gini \n",
      "[CV]  n_estimators=500, min_samples_split=5, min_samples_leaf=2, max_features=auto, max_depth=10, criterion=gini, total=   2.5s\n",
      "[CV] n_estimators=300, min_samples_split=5, min_samples_leaf=1, max_features=log2, max_depth=None, criterion=gini \n",
      "[CV]  n_estimators=600, min_samples_split=2, min_samples_leaf=4, max_features=log2, max_depth=None, criterion=entropy, total=   3.0s\n",
      "[CV] n_estimators=300, min_samples_split=5, min_samples_leaf=1, max_features=log2, max_depth=None, criterion=gini \n",
      "[CV]  n_estimators=300, min_samples_split=5, min_samples_leaf=1, max_features=auto, max_depth=20, criterion=gini, total=   1.9s\n",
      "[CV] n_estimators=300, min_samples_split=5, min_samples_leaf=1, max_features=log2, max_depth=None, criterion=gini \n",
      "[CV]  n_estimators=600, min_samples_split=2, min_samples_leaf=1, max_features=log2, max_depth=30, criterion=entropy, total=   3.8s\n",
      "[CV] n_estimators=600, min_samples_split=2, min_samples_leaf=4, max_features=auto, max_depth=None, criterion=gini \n",
      "[CV]  n_estimators=600, min_samples_split=2, min_samples_leaf=1, max_features=log2, max_depth=30, criterion=entropy, total=   3.7s\n",
      "[CV] n_estimators=600, min_samples_split=2, min_samples_leaf=4, max_features=auto, max_depth=None, criterion=gini \n",
      "[CV]  n_estimators=300, min_samples_split=5, min_samples_leaf=1, max_features=log2, max_depth=None, criterion=gini, total=   1.6s\n",
      "[CV]  n_estimators=600, min_samples_split=2, min_samples_leaf=1, max_features=log2, max_depth=30, criterion=entropy, total=   3.7s\n",
      "[CV] n_estimators=600, min_samples_split=2, min_samples_leaf=4, max_features=auto, max_depth=None, criterion=gini \n",
      "[CV] n_estimators=200, min_samples_split=10, min_samples_leaf=4, max_features=sqrt, max_depth=30, criterion=gini \n",
      "[CV]  n_estimators=300, min_samples_split=5, min_samples_leaf=1, max_features=auto, max_depth=20, criterion=gini, total=   1.9s\n",
      "[CV] n_estimators=200, min_samples_split=10, min_samples_leaf=4, max_features=sqrt, max_depth=30, criterion=gini \n",
      "[CV]  n_estimators=300, min_samples_split=5, min_samples_leaf=1, max_features=auto, max_depth=20, criterion=gini, total=   2.0s\n",
      "[CV] n_estimators=200, min_samples_split=10, min_samples_leaf=4, max_features=sqrt, max_depth=30, criterion=gini \n",
      "[CV]  n_estimators=300, min_samples_split=5, min_samples_leaf=1, max_features=log2, max_depth=None, criterion=gini, total=   1.6s\n",
      "[CV] n_estimators=600, min_samples_split=2, min_samples_leaf=1, max_features=log2, max_depth=None, criterion=entropy \n",
      "[CV]  n_estimators=300, min_samples_split=5, min_samples_leaf=1, max_features=log2, max_depth=None, criterion=gini, total=   1.7s\n",
      "[CV] n_estimators=600, min_samples_split=2, min_samples_leaf=1, max_features=log2, max_depth=None, criterion=entropy \n",
      "[CV]  n_estimators=200, min_samples_split=10, min_samples_leaf=4, max_features=sqrt, max_depth=30, criterion=gini, total=   1.1s\n",
      "[CV] n_estimators=600, min_samples_split=2, min_samples_leaf=1, max_features=log2, max_depth=None, criterion=entropy \n",
      "[CV]  n_estimators=200, min_samples_split=10, min_samples_leaf=4, max_features=sqrt, max_depth=30, criterion=gini, total=   1.1s\n",
      "[CV] n_estimators=400, min_samples_split=2, min_samples_leaf=4, max_features=sqrt, max_depth=30, criterion=entropy \n"
     ]
    },
    {
     "name": "stdout",
     "output_type": "stream",
     "text": [
      "[CV]  n_estimators=200, min_samples_split=10, min_samples_leaf=4, max_features=sqrt, max_depth=30, criterion=gini, total=   1.1s\n",
      "[CV] n_estimators=400, min_samples_split=2, min_samples_leaf=4, max_features=sqrt, max_depth=30, criterion=entropy \n",
      "[CV]  n_estimators=600, min_samples_split=2, min_samples_leaf=4, max_features=auto, max_depth=None, criterion=gini, total=   3.3s\n",
      "[CV] n_estimators=400, min_samples_split=2, min_samples_leaf=4, max_features=sqrt, max_depth=30, criterion=entropy \n",
      "[CV]  n_estimators=600, min_samples_split=2, min_samples_leaf=4, max_features=auto, max_depth=None, criterion=gini, total=   3.5s\n",
      "[CV] n_estimators=600, min_samples_split=10, min_samples_leaf=1, max_features=sqrt, max_depth=None, criterion=gini \n",
      "[CV]  n_estimators=600, min_samples_split=2, min_samples_leaf=4, max_features=auto, max_depth=None, criterion=gini, total=   3.3s\n",
      "[CV] n_estimators=600, min_samples_split=10, min_samples_leaf=1, max_features=sqrt, max_depth=None, criterion=gini \n",
      "[CV]  n_estimators=400, min_samples_split=2, min_samples_leaf=4, max_features=sqrt, max_depth=30, criterion=entropy, total=   2.5s\n",
      "[CV] n_estimators=600, min_samples_split=10, min_samples_leaf=1, max_features=sqrt, max_depth=None, criterion=gini \n",
      "[CV]  n_estimators=400, min_samples_split=2, min_samples_leaf=4, max_features=sqrt, max_depth=30, criterion=entropy, total=   2.4s\n",
      "[CV] n_estimators=300, min_samples_split=10, min_samples_leaf=1, max_features=log2, max_depth=10, criterion=gini \n",
      "[CV]  n_estimators=600, min_samples_split=2, min_samples_leaf=1, max_features=log2, max_depth=None, criterion=entropy, total=   3.8s\n",
      "[CV] n_estimators=300, min_samples_split=10, min_samples_leaf=1, max_features=log2, max_depth=10, criterion=gini \n",
      "[CV]  n_estimators=600, min_samples_split=2, min_samples_leaf=1, max_features=log2, max_depth=None, criterion=entropy, total=   3.7s\n",
      "[CV] n_estimators=300, min_samples_split=10, min_samples_leaf=1, max_features=log2, max_depth=10, criterion=gini \n",
      "[CV]  n_estimators=600, min_samples_split=2, min_samples_leaf=1, max_features=log2, max_depth=None, criterion=entropy, total=   3.8s\n",
      "[CV] n_estimators=500, min_samples_split=10, min_samples_leaf=4, max_features=auto, max_depth=20, criterion=gini \n",
      "[CV]  n_estimators=300, min_samples_split=10, min_samples_leaf=1, max_features=log2, max_depth=10, criterion=gini, total=   1.3s\n",
      "[CV] n_estimators=500, min_samples_split=10, min_samples_leaf=4, max_features=auto, max_depth=20, criterion=gini \n",
      "[CV]  n_estimators=300, min_samples_split=10, min_samples_leaf=1, max_features=log2, max_depth=10, criterion=gini, total=   1.3s\n",
      "[CV] n_estimators=500, min_samples_split=10, min_samples_leaf=4, max_features=auto, max_depth=20, criterion=gini \n",
      "[CV]  n_estimators=400, min_samples_split=2, min_samples_leaf=4, max_features=sqrt, max_depth=30, criterion=entropy, total=   2.7s\n",
      "[CV]  n_estimators=300, min_samples_split=10, min_samples_leaf=1, max_features=log2, max_depth=10, criterion=gini, total=   1.3s\n",
      "[CV]  n_estimators=600, min_samples_split=10, min_samples_leaf=1, max_features=sqrt, max_depth=None, criterion=gini, total=   3.6s\n",
      "[CV]  n_estimators=600, min_samples_split=10, min_samples_leaf=1, max_features=sqrt, max_depth=None, criterion=gini, total=   3.6s\n",
      "[CV]  n_estimators=600, min_samples_split=10, min_samples_leaf=1, max_features=sqrt, max_depth=None, criterion=gini, total=   3.5s\n",
      "[CV]  n_estimators=500, min_samples_split=10, min_samples_leaf=4, max_features=auto, max_depth=20, criterion=gini, total=   2.3s\n",
      "[CV]  n_estimators=500, min_samples_split=10, min_samples_leaf=4, max_features=auto, max_depth=20, criterion=gini, total=   2.3s\n",
      "[CV]  n_estimators=500, min_samples_split=10, min_samples_leaf=4, max_features=auto, max_depth=20, criterion=gini, total=   2.1s\n"
     ]
    },
    {
     "name": "stderr",
     "output_type": "stream",
     "text": [
      "[Parallel(n_jobs=-1)]: Done 300 out of 300 | elapsed:  2.0min finished\n"
     ]
    },
    {
     "data": {
      "text/plain": [
       "RandomizedSearchCV(cv=3, error_score='raise',\n",
       "          estimator=RandomForestClassifier(bootstrap=True, class_weight=None, criterion='gini',\n",
       "            max_depth=None, max_features='auto', max_leaf_nodes=None,\n",
       "            min_impurity_decrease=0.0, min_impurity_split=None,\n",
       "            min_samples_leaf=1, min_samples_split=2,\n",
       "            min_weight_fraction_leaf=0.0, n_estimators=10, n_jobs=1,\n",
       "            oob_score=False, random_state=None, verbose=0,\n",
       "            warm_start=False),\n",
       "          fit_params=None, iid=True, n_iter=100, n_jobs=-1,\n",
       "          param_distributions={'n_estimators': [200, 300, 400, 500, 600], 'max_features': ['auto', 'sqrt', 'log2'], 'max_depth': [10, 20, 30, None], 'min_samples_split': [2, 5, 10], 'min_samples_leaf': [1, 2, 4], 'criterion': ['gini', 'entropy']},\n",
       "          pre_dispatch='2*n_jobs', random_state=42, refit=True,\n",
       "          return_train_score='warn', scoring=None, verbose=2)"
      ]
     },
     "execution_count": 32,
     "metadata": {},
     "output_type": "execute_result"
    }
   ],
   "source": [
    "rf_random.fit(X_train, y_train)"
   ]
  },
  {
   "cell_type": "code",
   "execution_count": 33,
   "metadata": {},
   "outputs": [
    {
     "data": {
      "text/plain": [
       "{'n_estimators': 600,\n",
       " 'min_samples_split': 5,\n",
       " 'min_samples_leaf': 1,\n",
       " 'max_features': 'auto',\n",
       " 'max_depth': None,\n",
       " 'criterion': 'entropy'}"
      ]
     },
     "execution_count": 33,
     "metadata": {},
     "output_type": "execute_result"
    }
   ],
   "source": [
    "rf_random.best_params_"
   ]
  },
  {
   "cell_type": "code",
   "execution_count": 34,
   "metadata": {},
   "outputs": [
    {
     "data": {
      "text/plain": [
       "600"
      ]
     },
     "execution_count": 34,
     "metadata": {},
     "output_type": "execute_result"
    }
   ],
   "source": [
    "rf_random.best_params_['n_estimators']"
   ]
  },
  {
   "cell_type": "code",
   "execution_count": 72,
   "metadata": {},
   "outputs": [
    {
     "data": {
      "text/plain": [
       "{'n_estimators': 600,\n",
       " 'min_samples_split': 5,\n",
       " 'min_samples_leaf': 1,\n",
       " 'max_features': 'auto',\n",
       " 'max_depth': None,\n",
       " 'criterion': 'entropy'}"
      ]
     },
     "execution_count": 72,
     "metadata": {},
     "output_type": "execute_result"
    }
   ],
   "source": [
    "rf_random.best_params_"
   ]
  },
  {
   "cell_type": "code",
   "execution_count": 95,
   "metadata": {},
   "outputs": [],
   "source": [
    "def evaluate(model, test_features, test_labels):\n",
    "    predictions = model.predict(test_features)\n",
    "    errors = abs(predictions - test_labels)\n",
    "    mape = 100 * np.mean(errors / test_labels)\n",
    "    accuracy = 100 - mape\n",
    "    print('Model Performance')\n",
    "    print('Average Error: {:0.4f} degrees.'.format(np.mean(errors)))\n",
    "    print('Accuracy = {:0.2f}%.'.format(accuracy))\n",
    "\n",
    "    return accuracy"
   ]
  },
  {
   "cell_type": "code",
   "execution_count": 36,
   "metadata": {},
   "outputs": [],
   "source": [
    "clf = RandomForestClassifier(n_estimators = rf_random.best_params_['n_estimators'], \n",
    "                                    min_samples_leaf= rf_random.best_params_['min_samples_leaf'], \n",
    "                                    min_samples_split= rf_random.best_params_['min_samples_split'], \n",
    "                                    max_depth = rf_random.best_params_['max_depth'], \n",
    "                                    max_features = rf_random.best_params_['max_features'],\n",
    "                                    criterion = rf_random.best_params_['criterion'],\n",
    "                                    bootstrap = True,\n",
    "                                    random_state = 42)"
   ]
  },
  {
   "cell_type": "code",
   "execution_count": 37,
   "metadata": {},
   "outputs": [
    {
     "data": {
      "text/plain": [
       "RandomForestClassifier(bootstrap=True, class_weight=None, criterion='entropy',\n",
       "            max_depth=None, max_features='auto', max_leaf_nodes=None,\n",
       "            min_impurity_decrease=0.0, min_impurity_split=None,\n",
       "            min_samples_leaf=1, min_samples_split=5,\n",
       "            min_weight_fraction_leaf=0.0, n_estimators=600, n_jobs=1,\n",
       "            oob_score=False, random_state=42, verbose=0, warm_start=False)"
      ]
     },
     "execution_count": 37,
     "metadata": {},
     "output_type": "execute_result"
    }
   ],
   "source": [
    "clf.fit(X_train, y_train)"
   ]
  },
  {
   "cell_type": "code",
   "execution_count": 38,
   "metadata": {
    "scrolled": true
   },
   "outputs": [
    {
     "name": "stdout",
     "output_type": "stream",
     "text": [
      "0.9992641648270787\n",
      "0.6318147871545929\n"
     ]
    }
   ],
   "source": [
    "pred_train = clf.predict(X_train)\n",
    "pred_test = clf.predict(X_test)\n",
    "print(accuracy_score(y_train, pred_train))\n",
    "print(accuracy_score(y_test, pred_test))"
   ]
  },
  {
   "cell_type": "code",
   "execution_count": null,
   "metadata": {},
   "outputs": [],
   "source": []
  },
  {
   "cell_type": "markdown",
   "metadata": {},
   "source": [
    "Compare two training sets result:"
   ]
  },
  {
   "cell_type": "code",
   "execution_count": 39,
   "metadata": {},
   "outputs": [
    {
     "name": "stdout",
     "output_type": "stream",
     "text": [
      "(2726, 469)\n",
      "(2726, 469)\n",
      "\n",
      "(5452, 469)\n",
      "(4068, 469)\n",
      "(4068, 468)\n",
      "(4068,)\n"
     ]
    }
   ],
   "source": [
    "\n",
    "# only select the numeric data\n",
    "df = data_file.select_dtypes(include=['float64','int64'])\n",
    "categorical_data = data_file.select_dtypes(exclude=['float64','int64'])\n",
    "categorical_df = pd.DataFrame()\n",
    "for column in categorical_data.columns:\n",
    "    dummies = pd.get_dummies(categorical_data[column], prefix=column)\n",
    "    categorical_df = pd.concat([categorical_df, dummies], axis=1)\n",
    "#df = pd.concat([df['AMI_FLAG'], categorical_df], axis=1)\n",
    "df = pd.concat([df, categorical_df], axis=1)\n",
    "\n",
    "sum(df['AMI_FLAG'] == 1)\n",
    "df_AMI = df[df['AMI_FLAG'] == 1]\n",
    "df_NOAMI = df[df['AMI_FLAG'] == 0]\n",
    "df_NOAMI_sample = df_NOAMI.sample(2726)\n",
    "print(df_AMI.shape)\n",
    "print(df_NOAMI_sample.shape)\n",
    "\n",
    "print()\n",
    "df = pd.concat([df_AMI, df_NOAMI_sample], axis = 0)\n",
    "# drop the null value \n",
    "\n",
    "print(df.shape)\n",
    "df = df.dropna()\n",
    "print(df.shape)\n",
    "\n",
    "# define the target we would like to predict \n",
    "y = df['AMI_FLAG']\n",
    "\n",
    "X = df.loc[:, df.columns != 'AMI_FLAG']\n",
    "\n",
    "# sanity check on X, y dimensions \n",
    "print(X.shape)\n",
    "print(y.shape)\n",
    "\n",
    "# split training and testing data\n",
    "\n",
    "X_train, X_test, y_train, y_test = train_test_split(X, y, test_size = 0.33, random_state=42)"
   ]
  },
  {
   "cell_type": "code",
   "execution_count": 40,
   "metadata": {},
   "outputs": [
    {
     "name": "stdout",
     "output_type": "stream",
     "text": [
      "111\n"
     ]
    }
   ],
   "source": [
    "print(len(extracted_name[0]))\n",
    "lst = list(extracted_name[0])\n",
    "newDF = df[lst].copy()"
   ]
  },
  {
   "cell_type": "code",
   "execution_count": 41,
   "metadata": {},
   "outputs": [
    {
     "name": "stdout",
     "output_type": "stream",
     "text": [
      "(4068, 112)\n",
      "(4068, 112)\n",
      "(4068, 111)\n",
      "(4068,)\n"
     ]
    }
   ],
   "source": [
    "newDF['AMI_FLAG'] = pd.Series(y, index=newDF.index)\n",
    "# use only the 107 features, retrain models\n",
    "df = newDF\n",
    "print(df.shape)\n",
    "df = df.dropna()\n",
    "print(df.shape)\n",
    "\n",
    "# define the target we would like to predict \n",
    "y = df['AMI_FLAG']\n",
    "\n",
    "X = df.loc[:, df.columns != 'AMI_FLAG']\n",
    "\n",
    "# sanity check on X, y dimensions \n",
    "print(X.shape)\n",
    "print(y.shape)\n",
    "\n",
    "# split training and testing data\n",
    "\n",
    "X_train, X_test, y_train, y_test = train_test_split(X, y, test_size = 0.33, random_state=42)"
   ]
  },
  {
   "cell_type": "code",
   "execution_count": 60,
   "metadata": {},
   "outputs": [],
   "source": [
    "half_clf = RandomForestClassifier(n_estimators = rf_random.best_params_['n_estimators'], \n",
    "                                    min_samples_leaf= rf_random.best_params_['min_samples_leaf'], \n",
    "                                    min_samples_split= rf_random.best_params_['min_samples_split'], \n",
    "                                    max_depth = rf_random.best_params_['max_depth'], \n",
    "                                    max_features = rf_random.best_params_['max_features'],\n",
    "                                    criterion = rf_random.best_params_['criterion'],\n",
    "                                    bootstrap = True,\n",
    "                                    random_state = 42)"
   ]
  },
  {
   "cell_type": "code",
   "execution_count": 61,
   "metadata": {},
   "outputs": [
    {
     "data": {
      "text/plain": [
       "RandomForestClassifier(bootstrap=True, class_weight=None, criterion='entropy',\n",
       "            max_depth=None, max_features='auto', max_leaf_nodes=None,\n",
       "            min_impurity_decrease=0.0, min_impurity_split=None,\n",
       "            min_samples_leaf=1, min_samples_split=5,\n",
       "            min_weight_fraction_leaf=0.0, n_estimators=600, n_jobs=1,\n",
       "            oob_score=False, random_state=42, verbose=0, warm_start=False)"
      ]
     },
     "execution_count": 61,
     "metadata": {},
     "output_type": "execute_result"
    }
   ],
   "source": [
    "half_clf.fit(X_train, y_train)"
   ]
  },
  {
   "cell_type": "code",
   "execution_count": 62,
   "metadata": {},
   "outputs": [
    {
     "data": {
      "text/plain": [
       "(2725, 111)"
      ]
     },
     "execution_count": 62,
     "metadata": {},
     "output_type": "execute_result"
    }
   ],
   "source": [
    "X_train.shape"
   ]
  },
  {
   "cell_type": "code",
   "execution_count": 63,
   "metadata": {},
   "outputs": [
    {
     "name": "stdout",
     "output_type": "stream",
     "text": [
      "0.9992660550458715\n",
      "0.6582278481012658\n"
     ]
    }
   ],
   "source": [
    "pred_train = half_clf.predict(X_train)\n",
    "pred_test = half_clf.predict(X_test)\n",
    "print(accuracy_score(y_train, pred_train))\n",
    "print(accuracy_score(y_test, pred_test))"
   ]
  },
  {
   "cell_type": "code",
   "execution_count": null,
   "metadata": {},
   "outputs": [],
   "source": []
  },
  {
   "cell_type": "code",
   "execution_count": null,
   "metadata": {},
   "outputs": [],
   "source": []
  },
  {
   "cell_type": "code",
   "execution_count": 87,
   "metadata": {},
   "outputs": [],
   "source": [
    "# test on the whole dataset\n",
    "\n",
    "origDF = data_file.select_dtypes(include=['float64','int64'])\n",
    "categorical_data = data_file.select_dtypes(exclude=['float64','int64'])\n",
    "categorical_df = pd.DataFrame()\n",
    "for column in categorical_data.columns:\n",
    "    dummies = pd.get_dummies(categorical_data[column], prefix=column)\n",
    "    categorical_df = pd.concat([categorical_df, dummies], axis=1)\n",
    "#df = pd.concat([df['AMI_FLAG'], categorical_df], axis=1)\n",
    "origDF = pd.concat([origDF, categorical_df], axis=1)"
   ]
  },
  {
   "cell_type": "code",
   "execution_count": 90,
   "metadata": {},
   "outputs": [
    {
     "data": {
      "text/plain": [
       "(74762, 111)"
      ]
     },
     "execution_count": 90,
     "metadata": {},
     "output_type": "execute_result"
    }
   ],
   "source": [
    "origDF = origDF.dropna()\n",
    "\n",
    "origDF.shape"
   ]
  },
  {
   "cell_type": "code",
   "execution_count": 88,
   "metadata": {},
   "outputs": [
    {
     "name": "stdout",
     "output_type": "stream",
     "text": [
      "ID\n",
      "111\n"
     ]
    }
   ],
   "source": [
    "# define the target we would like to predict \n",
    "orig_y = origDF['AMI_FLAG']\n",
    "orig_X = origDF.loc[:, df.columns != 'AMI_FLAG']\n",
    "\n",
    "print(origDF.columns[0])\n",
    "print(len(extracted_name[0]))\n",
    "lst = list(extracted_name[0])\n",
    "origDF = origDF[lst].copy()"
   ]
  },
  {
   "cell_type": "code",
   "execution_count": 91,
   "metadata": {},
   "outputs": [
    {
     "data": {
      "text/plain": [
       "(74762, 111)"
      ]
     },
     "execution_count": 91,
     "metadata": {},
     "output_type": "execute_result"
    }
   ],
   "source": [
    "origDF.shape"
   ]
  },
  {
   "cell_type": "code",
   "execution_count": 68,
   "metadata": {},
   "outputs": [
    {
     "data": {
      "text/plain": [
       "(74762,)"
      ]
     },
     "execution_count": 68,
     "metadata": {},
     "output_type": "execute_result"
    }
   ],
   "source": [
    "orig_y.shape"
   ]
  },
  {
   "cell_type": "code",
   "execution_count": 51,
   "metadata": {},
   "outputs": [
    {
     "data": {
      "text/plain": [
       "(74762, 111)"
      ]
     },
     "execution_count": 51,
     "metadata": {},
     "output_type": "execute_result"
    }
   ],
   "source": [
    "orig_X.shape"
   ]
  },
  {
   "cell_type": "code",
   "execution_count": 69,
   "metadata": {},
   "outputs": [],
   "source": [
    "whole_X_train, whole_X_test, whole_y_train, whole_y_test = train_test_split(orig_X, orig_y, test_size = 0.33, random_state=42)"
   ]
  },
  {
   "cell_type": "code",
   "execution_count": 70,
   "metadata": {},
   "outputs": [
    {
     "data": {
      "text/plain": [
       "<bound method BaseEstimator.get_params of RandomForestClassifier(bootstrap=True, class_weight=None, criterion='entropy',\n",
       "            max_depth=None, max_features='auto', max_leaf_nodes=None,\n",
       "            min_impurity_decrease=0.0, min_impurity_split=None,\n",
       "            min_samples_leaf=1, min_samples_split=5,\n",
       "            min_weight_fraction_leaf=0.0, n_estimators=600, n_jobs=1,\n",
       "            oob_score=False, random_state=42, verbose=0, warm_start=False)>"
      ]
     },
     "execution_count": 70,
     "metadata": {},
     "output_type": "execute_result"
    }
   ],
   "source": [
    "clf = RandomForestClassifier(n_estimators = rf_random.best_params_['n_estimators'], \n",
    "                                    min_samples_leaf= rf_random.best_params_['min_samples_leaf'], \n",
    "                                    min_samples_split= rf_random.best_params_['min_samples_split'], \n",
    "                                    max_depth = rf_random.best_params_['max_depth'], \n",
    "                                    max_features = rf_random.best_params_['max_features'],\n",
    "                                    criterion = rf_random.best_params_['criterion'],\n",
    "                                    bootstrap = True,\n",
    "                                    random_state = 42)\n",
    "\n",
    "clf.get_params"
   ]
  },
  {
   "cell_type": "code",
   "execution_count": 71,
   "metadata": {},
   "outputs": [
    {
     "data": {
      "text/plain": [
       "RandomForestClassifier(bootstrap=True, class_weight=None, criterion='entropy',\n",
       "            max_depth=None, max_features='auto', max_leaf_nodes=None,\n",
       "            min_impurity_decrease=0.0, min_impurity_split=None,\n",
       "            min_samples_leaf=1, min_samples_split=5,\n",
       "            min_weight_fraction_leaf=0.0, n_estimators=600, n_jobs=1,\n",
       "            oob_score=False, random_state=42, verbose=0, warm_start=False)"
      ]
     },
     "execution_count": 71,
     "metadata": {},
     "output_type": "execute_result"
    }
   ],
   "source": [
    "clf.fit(whole_X_train, whole_y_train)"
   ]
  },
  {
   "cell_type": "code",
   "execution_count": 73,
   "metadata": {},
   "outputs": [
    {
     "name": "stdout",
     "output_type": "stream",
     "text": [
      "1.0\n",
      "1.0\n"
     ]
    }
   ],
   "source": [
    "pred_train = clf.predict(whole_X_train)\n",
    "pred_test = clf.predict(whole_X_test)\n",
    "print(accuracy_score(whole_y_train, pred_train))\n",
    "print(accuracy_score(whole_y_test, pred_test))"
   ]
  },
  {
   "cell_type": "code",
   "execution_count": null,
   "metadata": {},
   "outputs": [],
   "source": []
  },
  {
   "cell_type": "code",
   "execution_count": 74,
   "metadata": {},
   "outputs": [
    {
     "name": "stdout",
     "output_type": "stream",
     "text": [
      "0.9992660550458715\n",
      "0.6582278481012658\n",
      "1.0\n",
      "1.0\n"
     ]
    }
   ],
   "source": [
    "half_pred_train = half_clf.predict(X_train)\n",
    "half_pred_test = half_clf.predict(X_test)\n",
    "\n",
    "whole_pred_train = clf.predict(whole_X_train)\n",
    "whole_pred_test = clf.predict(whole_X_test)\n",
    "\n",
    "print(accuracy_score(y_train, half_pred_train))\n",
    "print(accuracy_score(y_test, half_pred_test))\n",
    "\n",
    "print(accuracy_score(whole_y_train, whole_pred_train))\n",
    "print(accuracy_score(whole_y_test, whole_pred_test))"
   ]
  },
  {
   "cell_type": "code",
   "execution_count": 75,
   "metadata": {},
   "outputs": [
    {
     "data": {
      "text/plain": [
       "(50090, 111)"
      ]
     },
     "execution_count": 75,
     "metadata": {},
     "output_type": "execute_result"
    }
   ],
   "source": [
    "whole_X_train.shape"
   ]
  },
  {
   "cell_type": "code",
   "execution_count": 77,
   "metadata": {},
   "outputs": [
    {
     "name": "stdout",
     "output_type": "stream",
     "text": [
      "0.9269315232581353\n",
      "0.9236381322957199\n"
     ]
    }
   ],
   "source": [
    "half_pred_train = half_clf.predict(whole_X_train)\n",
    "half_pred_test = half_clf.predict(whole_X_test)\n",
    "\n",
    "print(accuracy_score(whole_y_train, half_pred_train))\n",
    "print(accuracy_score(whole_y_test, half_pred_test))"
   ]
  },
  {
   "cell_type": "code",
   "execution_count": 211,
   "metadata": {},
   "outputs": [
    {
     "name": "stdout",
     "output_type": "stream",
     "text": [
      "0.9001597125174685\n",
      "0.8982247081712063\n"
     ]
    }
   ],
   "source": [
    "half_pred_train = half_clf.predict(whole_X_train)\n",
    "half_pred_test = half_clf.predict(whole_X_test)\n",
    "\n",
    "print(accuracy_score(whole_y_train, half_pred_train))\n",
    "print(accuracy_score(whole_y_test, half_pred_test))"
   ]
  },
  {
   "cell_type": "code",
   "execution_count": 78,
   "metadata": {},
   "outputs": [
    {
     "name": "stdout",
     "output_type": "stream",
     "text": [
      "0.531743119266055\n",
      "0.526433358153388\n"
     ]
    }
   ],
   "source": [
    "pred_train = clf.predict(X_train)\n",
    "pred_test = clf.predict(X_test)\n",
    "\n",
    "print(accuracy_score(y_train, pred_train))\n",
    "print(accuracy_score(y_test, pred_test))"
   ]
  },
  {
   "cell_type": "code",
   "execution_count": null,
   "metadata": {},
   "outputs": [],
   "source": []
  },
  {
   "cell_type": "code",
   "execution_count": null,
   "metadata": {},
   "outputs": [],
   "source": []
  }
 ],
 "metadata": {
  "kernelspec": {
   "display_name": "Python 3",
   "language": "python",
   "name": "python3"
  },
  "language_info": {
   "codemirror_mode": {
    "name": "ipython",
    "version": 3
   },
   "file_extension": ".py",
   "mimetype": "text/x-python",
   "name": "python",
   "nbconvert_exporter": "python",
   "pygments_lexer": "ipython3",
   "version": "3.6.5"
  }
 },
 "nbformat": 4,
 "nbformat_minor": 2
}
