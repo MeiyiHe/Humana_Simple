{
 "cells": [
  {
   "cell_type": "code",
   "execution_count": 1,
   "metadata": {},
   "outputs": [],
   "source": [
    "from sklearn.linear_model import *\n",
    "from sklearn.model_selection import train_test_split\n",
    "from sklearn.metrics import accuracy_score\n",
    "\n",
    "import numpy as np\n",
    "import pandas as pd"
   ]
  },
  {
   "cell_type": "code",
   "execution_count": 2,
   "metadata": {},
   "outputs": [],
   "source": [
    "data_file = pd.read_csv(\"../TAMU_FINAL_DATASET_2018.csv\")"
   ]
  },
  {
   "cell_type": "code",
   "execution_count": 4,
   "metadata": {},
   "outputs": [],
   "source": [
    "# only select the numeric data\n",
    "df = data_file.select_dtypes(include=['float64','int64'])\n",
    "categorical_data = data_file.select_dtypes(exclude=['float64','int64'])\n",
    "categorical_df = pd.DataFrame()\n",
    "for column in categorical_data.columns:\n",
    "    dummies = pd.get_dummies(categorical_data[column], prefix=column)\n",
    "    categorical_df = pd.concat([categorical_df, dummies], axis=1)\n",
    "#df = pd.concat([df['AMI_FLAG'], categorical_df], axis=1)\n",
    "df = pd.concat([df, categorical_df], axis=1)"
   ]
  },
  {
   "cell_type": "code",
   "execution_count": 5,
   "metadata": {},
   "outputs": [
    {
     "name": "stdout",
     "output_type": "stream",
     "text": [
      "(2726, 469)\n",
      "(2726, 469)\n"
     ]
    }
   ],
   "source": [
    "sum(df['AMI_FLAG'] == 1)\n",
    "df_AMI = df[df['AMI_FLAG'] == 1]\n",
    "df_NOAMI = df[df['AMI_FLAG'] == 0]\n",
    "df_NOAMI_sample = df_NOAMI.sample(2726)\n",
    "print(df_AMI.shape)\n",
    "print(df_NOAMI_sample.shape)"
   ]
  },
  {
   "cell_type": "code",
   "execution_count": 6,
   "metadata": {},
   "outputs": [
    {
     "name": "stdout",
     "output_type": "stream",
     "text": [
      "(5452, 469)\n",
      "(4062, 469)\n",
      "(4062, 468)\n",
      "(4062,)\n"
     ]
    }
   ],
   "source": [
    "df = pd.concat([df_AMI, df_NOAMI_sample], axis = 0)\n",
    "# drop the null value \n",
    "\n",
    "print(df.shape)\n",
    "df = df.dropna()\n",
    "print(df.shape)\n",
    "\n",
    "# define the target we would like to predict \n",
    "y = df['AMI_FLAG']\n",
    "\n",
    "X = df.loc[:, df.columns != 'AMI_FLAG']\n",
    "\n",
    "# sanity check on X, y dimensions \n",
    "print(X.shape)\n",
    "print(y.shape)\n",
    "\n",
    "# split training and testing data\n",
    "\n",
    "X_train, X_test, y_train, y_test = train_test_split(X, y, test_size = 0.33, random_state=42)"
   ]
  },
  {
   "cell_type": "code",
   "execution_count": 7,
   "metadata": {},
   "outputs": [],
   "source": [
    "# construct linear model using sklearn \n",
    "lm = LogisticRegression(penalty='l1')\n",
    "model = lm.fit(X_train, y_train)\n",
    "\n",
    "pred_train = lm.predict(X_train)\n",
    "pred_test = lm.predict(X_test)\n",
    "\n",
    "#print(pred_train[:10])\n",
    "#print(y_train[:10])\n",
    "\n",
    "#print(pred_test[:10])\n",
    "#print(y_test[:10])"
   ]
  },
  {
   "cell_type": "code",
   "execution_count": 8,
   "metadata": {},
   "outputs": [
    {
     "name": "stdout",
     "output_type": "stream",
     "text": [
      "1210\n",
      "1309\n",
      "570\n",
      "683\n",
      "0.7578096288129365\n",
      "0.639821029082774\n"
     ]
    }
   ],
   "source": [
    "# logistic regression result \n",
    "\n",
    "print(np.count_nonzero(pred_train))\n",
    "print(np.count_nonzero(y_train))\n",
    "\n",
    "print(np.count_nonzero(pred_test))\n",
    "print(np.count_nonzero(y_test))\n",
    "\n",
    "print(accuracy_score(y_train, pred_train))\n",
    "print(accuracy_score(y_test, pred_test))\n"
   ]
  },
  {
   "cell_type": "code",
   "execution_count": 9,
   "metadata": {},
   "outputs": [],
   "source": [
    "def eliminate_covariate(df):\n",
    "    for i in range(len(df.columns)):\n",
    "        for j in range(len(df.columns)):\n",
    "            if i != j:\n",
    "                if np.corrcoef(df.iloc[:,j], df.iloc[:,i])[1,0] > 0.8:\n",
    "                    print(df.columns[i], df.columns[j])"
   ]
  },
  {
   "cell_type": "code",
   "execution_count": 10,
   "metadata": {},
   "outputs": [
    {
     "name": "stderr",
     "output_type": "stream",
     "text": [
      "/anaconda3/lib/python3.6/site-packages/numpy/lib/function_base.py:3183: RuntimeWarning: invalid value encountered in true_divide\n",
      "  c /= stddev[:, None]\n",
      "/anaconda3/lib/python3.6/site-packages/numpy/lib/function_base.py:3184: RuntimeWarning: invalid value encountered in true_divide\n",
      "  c /= stddev[None, :]\n"
     ]
    },
    {
     "name": "stdout",
     "output_type": "stream",
     "text": [
      "CON_VISIT_11_Q04 CON_VISIT_11_Q03\n",
      "CON_VISIT_11_Q04 CON_VISIT_11_Q02\n",
      "CON_VISIT_11_Q01 CON_VISIT_11_Q03\n",
      "CON_VISIT_11_Q01 CON_VISIT_11_Q02\n",
      "CON_VISIT_11_Q03 CON_VISIT_11_Q04\n",
      "CON_VISIT_11_Q03 CON_VISIT_11_Q01\n",
      "CON_VISIT_11_Q03 CON_VISIT_11_Q02\n",
      "CON_VISIT_11_Q02 CON_VISIT_11_Q04\n",
      "CON_VISIT_11_Q02 CON_VISIT_11_Q01\n",
      "CON_VISIT_11_Q02 CON_VISIT_11_Q03\n",
      "CON_VISIT_28_Q03 CON_VISIT_28_Q04\n",
      "CON_VISIT_16_Q01 CON_VISIT_16_Q02\n",
      "CON_VISIT_16_Q02 CON_VISIT_16_Q01\n",
      "CON_VISIT_28_Q04 CON_VISIT_28_Q03\n",
      "CON_VISIT_12_Q01 POT_VISIT_51_Q01\n",
      "POT_VISIT_51_Q01 CON_VISIT_12_Q01\n",
      "POT_VISIT_53_Q02 POT_VISIT_53_Q04\n",
      "POT_VISIT_53_Q04 POT_VISIT_53_Q02\n",
      "POT_VISIT_99_Q03 POT_VISIT_99_Q01\n",
      "POT_VISIT_99_Q03 POT_VISIT_99_Q02\n",
      "POT_VISIT_99_Q01 POT_VISIT_99_Q03\n",
      "POT_VISIT_99_Q01 POT_VISIT_99_Q02\n",
      "POT_VISIT_99_Q02 POT_VISIT_99_Q03\n",
      "POT_VISIT_99_Q02 POT_VISIT_99_Q01\n",
      "POT_VISIT_65_Q02 POT_VISIT_65_Q03\n",
      "POT_VISIT_65_Q02 POT_VISIT_65_Q04\n",
      "POT_VISIT_65_Q02 POT_VISIT_65_Q01\n",
      "POT_VISIT_65_Q03 POT_VISIT_65_Q02\n",
      "POT_VISIT_65_Q03 POT_VISIT_65_Q04\n",
      "POT_VISIT_65_Q03 POT_VISIT_65_Q01\n",
      "POT_VISIT_65_Q04 POT_VISIT_65_Q02\n",
      "POT_VISIT_65_Q04 POT_VISIT_65_Q03\n",
      "POT_VISIT_65_Q01 POT_VISIT_65_Q02\n",
      "POT_VISIT_65_Q01 POT_VISIT_65_Q03\n",
      "DIABETES Diab_Type_Diabetes Type II\n",
      "RENAL CKD\n",
      "CKD RENAL\n",
      "ESRD ESRD_IND_Y\n",
      "Population_density_centile_ST Population_density_centile_US\n",
      "Population_density_centile_US Population_density_centile_ST\n",
      "DIAB_PASS DIAB_ELIG\n",
      "ACE_PASS ACE_ELIG\n",
      "ACE_ELIG ACE_PASS\n",
      "DIAB_ELIG DIAB_PASS\n",
      "ESRD_IND_Y ESRD\n",
      "Diab_Type_Diabetes Type II DIABETES\n"
     ]
    }
   ],
   "source": [
    "eliminate_covariate(df)"
   ]
  },
  {
   "cell_type": "code",
   "execution_count": null,
   "metadata": {},
   "outputs": [],
   "source": []
  }
 ],
 "metadata": {
  "kernelspec": {
   "display_name": "Python 3",
   "language": "python",
   "name": "python3"
  },
  "language_info": {
   "codemirror_mode": {
    "name": "ipython",
    "version": 3
   },
   "file_extension": ".py",
   "mimetype": "text/x-python",
   "name": "python",
   "nbconvert_exporter": "python",
   "pygments_lexer": "ipython3",
   "version": "3.6.5"
  }
 },
 "nbformat": 4,
 "nbformat_minor": 2
}
