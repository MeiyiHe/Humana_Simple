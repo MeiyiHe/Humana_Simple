{
 "cells": [
  {
   "cell_type": "code",
   "execution_count": 24,
   "metadata": {},
   "outputs": [],
   "source": [
    "from sklearn.linear_model import *\n",
    "from sklearn.model_selection import train_test_split\n",
    "from sklearn.metrics import accuracy_score\n",
    "\n",
    "import numpy as np\n",
    "import pandas as pd"
   ]
  },
  {
   "cell_type": "code",
   "execution_count": 25,
   "metadata": {},
   "outputs": [],
   "source": [
    "data_file = pd.read_csv(\"../TAMU_FINAL_DATASET_2018.csv\")"
   ]
  },
  {
   "cell_type": "code",
   "execution_count": 26,
   "metadata": {},
   "outputs": [],
   "source": [
    "# only select the numeric data\n",
    "df = data_file.select_dtypes(include=['float64','int64'])\n",
    "categorical_data = data_file.select_dtypes(exclude=['float64','int64'])\n",
    "categorical_df = pd.DataFrame()\n",
    "for column in categorical_data.columns:\n",
    "    dummies = pd.get_dummies(categorical_data[column], prefix=column)\n",
    "    categorical_df = pd.concat([categorical_df, dummies], axis=1)\n",
    "#df = pd.concat([df['AMI_FLAG'], categorical_df], axis=1)\n",
    "df = pd.concat([df, categorical_df], axis=1)"
   ]
  },
  {
   "cell_type": "code",
   "execution_count": 27,
   "metadata": {},
   "outputs": [
    {
     "name": "stdout",
     "output_type": "stream",
     "text": [
      "(2726, 469)\n",
      "(2726, 469)\n"
     ]
    }
   ],
   "source": [
    "sum(df['AMI_FLAG'] == 1)\n",
    "df_AMI = df[df['AMI_FLAG'] == 1]\n",
    "df_NOAMI = df[df['AMI_FLAG'] == 0]\n",
    "df_NOAMI_sample = df_NOAMI.sample(2726)\n",
    "print(df_AMI.shape)\n",
    "print(df_NOAMI_sample.shape)"
   ]
  },
  {
   "cell_type": "code",
   "execution_count": 28,
   "metadata": {},
   "outputs": [
    {
     "name": "stdout",
     "output_type": "stream",
     "text": [
      "(5452, 469)\n",
      "(4000, 469)\n",
      "(4000, 468)\n",
      "(4000,)\n"
     ]
    }
   ],
   "source": [
    "df = pd.concat([df_AMI, df_NOAMI_sample], axis = 0)\n",
    "# drop the null value \n",
    "\n",
    "print(df.shape)\n",
    "df = df.dropna()\n",
    "print(df.shape)\n",
    "\n",
    "# define the target we would like to predict \n",
    "y = df['AMI_FLAG']\n",
    "\n",
    "X = df.loc[:, df.columns != 'AMI_FLAG']\n",
    "\n",
    "# sanity check on X, y dimensions \n",
    "print(X.shape)\n",
    "print(y.shape)\n",
    "\n",
    "# split training and testing data\n",
    "\n",
    "X_train, X_test, y_train, y_test = train_test_split(X, y, test_size = 0.33, random_state=42)"
   ]
  },
  {
   "cell_type": "code",
   "execution_count": 29,
   "metadata": {},
   "outputs": [
    {
     "name": "stderr",
     "output_type": "stream",
     "text": [
      "/Users/Jimin/anaconda3/envs/NLP/lib/python3.7/site-packages/sklearn/linear_model/logistic.py:432: FutureWarning: Default solver will be changed to 'lbfgs' in 0.22. Specify a solver to silence this warning.\n",
      "  FutureWarning)\n"
     ]
    }
   ],
   "source": [
    "# construct linear model using sklearn \n",
    "lm = LogisticRegression(penalty='l1')\n",
    "model = lm.fit(X_train, y_train)\n",
    "\n",
    "pred_train = lm.predict(X_train)\n",
    "pred_test = lm.predict(X_test)\n",
    "\n",
    "#print(pred_train[:10])\n",
    "#print(y_train[:10])\n",
    "\n",
    "#print(pred_test[:10])\n",
    "#print(y_test[:10])"
   ]
  },
  {
   "cell_type": "code",
   "execution_count": 30,
   "metadata": {},
   "outputs": [
    {
     "name": "stdout",
     "output_type": "stream",
     "text": [
      "1231\n",
      "1307\n",
      "593\n",
      "685\n",
      "0.758955223880597\n",
      "0.6454545454545455\n"
     ]
    }
   ],
   "source": [
    "# logistic regression result \n",
    "\n",
    "print(np.count_nonzero(pred_train))\n",
    "print(np.count_nonzero(y_train))\n",
    "\n",
    "print(np.count_nonzero(pred_test))\n",
    "print(np.count_nonzero(y_test))\n",
    "\n",
    "print(accuracy_score(y_train, pred_train))\n",
    "print(accuracy_score(y_test, pred_test))\n"
   ]
  },
  {
   "cell_type": "code",
   "execution_count": null,
   "metadata": {},
   "outputs": [],
   "source": [
    "def eliminate_covariate(df):\n",
    "    for i in range(len(df.columns)):\n",
    "        for j in range(len(df.columns)):\n",
    "            if i != j:\n",
    "                if np.corrcoef(df.iloc[:,j], df.iloc[:,i])[1,0] > 0.8:\n",
    "                    print(df.columns[i], df.columns[j])"
   ]
  }
 ],
 "metadata": {
  "kernelspec": {
   "display_name": "Python [conda env:NLP]",
   "language": "python",
   "name": "conda-env-NLP-py"
  },
  "language_info": {
   "codemirror_mode": {
    "name": "ipython",
    "version": 3
   },
   "file_extension": ".py",
   "mimetype": "text/x-python",
   "name": "python",
   "nbconvert_exporter": "python",
   "pygments_lexer": "ipython3",
   "version": "3.7.0"
  }
 },
 "nbformat": 4,
 "nbformat_minor": 2
}
